{
 "cells": [
  {
   "cell_type": "markdown",
   "metadata": {},
   "source": [
    "# Imports"
   ]
  },
  {
   "cell_type": "code",
   "execution_count": 1,
   "metadata": {
    "colab": {
     "base_uri": "https://localhost:8080/"
    },
    "id": "BmnCYancGUuw",
    "outputId": "6f3a0233-89c2-4bc0-eea9-ca66213672f3"
   },
   "outputs": [
    {
     "data": {
      "text/plain": [
       "<torch._C.Generator at 0x104851228>"
      ]
     },
     "execution_count": 1,
     "metadata": {},
     "output_type": "execute_result"
    }
   ],
   "source": [
    "# Torch\n",
    "import torch\n",
    "import torch.nn as nn\n",
    "import torchvision.datasets as dsets\n",
    "import torchvision.transforms as transforms\n",
    "\n",
    "# Python\n",
    "import random as rand\n",
    "\n",
    "# Matplot\n",
    "import matplotlib.pyplot as plt\n",
    "%matplotlib inline\n",
    "\n",
    "# Seeding\n",
    "torch.manual_seed(24)"
   ]
  },
  {
   "cell_type": "markdown",
   "metadata": {},
   "source": [
    "# CPU/GPU device"
   ]
  },
  {
   "cell_type": "code",
   "execution_count": 29,
   "metadata": {},
   "outputs": [],
   "source": [
    "def to_device(data, device):\n",
    "    \"\"\"Move tensor(s) to chosen device\"\"\"\n",
    "    if isinstance(data, (list,tuple)):\n",
    "        return [to_device(x, device) for x in data]\n",
    "    return data.to(device, non_blocking=True)\n",
    "\n",
    "class DeviceDataLoader():\n",
    "    \"\"\"Wrap a dataloader to move data to a device\"\"\"\n",
    "    def __init__(self, dl, device):\n",
    "        self.dl = dl\n",
    "        self.device = device\n",
    "        \n",
    "    def __iter__(self):\n",
    "        \"\"\"Yield a batch of data after moving it to device\"\"\"\n",
    "        for b in self.dl: \n",
    "            yield to_device(b, self.device)\n",
    "            \n",
    "    def __len__(self):\n",
    "        \"\"\"Number of batches\"\"\"\n",
    "        return len(self.dl)"
   ]
  },
  {
   "cell_type": "code",
   "execution_count": 30,
   "metadata": {},
   "outputs": [],
   "source": [
    "# Choose device\n",
    "device = None\n",
    "if torch.cuda.is_available():\n",
    "    device = torch.device(\"cuda\")\n",
    "else:\n",
    "    device = torch.device(\"cpu\")"
   ]
  },
  {
   "cell_type": "code",
   "execution_count": 31,
   "metadata": {},
   "outputs": [
    {
     "name": "stdout",
     "output_type": "stream",
     "text": [
      "Device:  cpu\n"
     ]
    }
   ],
   "source": [
    "print(\"Device: \", device)"
   ]
  },
  {
   "cell_type": "markdown",
   "metadata": {},
   "source": [
    "# Datasets"
   ]
  },
  {
   "cell_type": "markdown",
   "metadata": {},
   "source": [
    "### Load"
   ]
  },
  {
   "cell_type": "code",
   "execution_count": 2,
   "metadata": {
    "colab": {
     "base_uri": "https://localhost:8080/"
    },
    "id": "PwA-Nbb2GUux",
    "outputId": "867a32a6-aaed-48b6-986b-c9d1196becdb"
   },
   "outputs": [
    {
     "name": "stdout",
     "output_type": "stream",
     "text": [
      "Downloading https://www.cs.toronto.edu/~kriz/cifar-10-python.tar.gz to ./data/cifar-10-python.tar.gz\n"
     ]
    },
    {
     "data": {
      "application/vnd.jupyter.widget-view+json": {
       "model_id": "d2948553fa604054b58198aa39453b93",
       "version_major": 2,
       "version_minor": 0
      },
      "text/plain": [
       "HBox(children=(HTML(value=''), FloatProgress(value=1.0, bar_style='info', layout=Layout(width='20px'), max=1.0…"
      ]
     },
     "metadata": {},
     "output_type": "display_data"
    },
    {
     "name": "stdout",
     "output_type": "stream",
     "text": [
      "Extracting ./data/cifar-10-python.tar.gz to ./data\n",
      "Files already downloaded and verified\n"
     ]
    }
   ],
   "source": [
    "# Load dataset\n",
    "dataset = dsets.CIFAR10('./data', train=True, download=True, transform=transforms.ToTensor())\n",
    "test_dataset = dsets.CIFAR10('./data', train=False, download=True, transform=transforms.ToTensor())"
   ]
  },
  {
   "cell_type": "code",
   "execution_count": null,
   "metadata": {},
   "outputs": [],
   "source": [
    "# Labels\n",
    "CLASSES = ('plane', 'car', 'bird', 'cat', 'deer', 'dog', 'frog', 'horse', 'ship', 'truck')"
   ]
  },
  {
   "cell_type": "markdown",
   "metadata": {},
   "source": [
    "### Parameters"
   ]
  },
  {
   "cell_type": "code",
   "execution_count": 9,
   "metadata": {},
   "outputs": [],
   "source": [
    "# Params\n",
    "batch_size=124\n",
    "val_size = 5000\n",
    "train_size = len(dataset) - val_size"
   ]
  },
  {
   "cell_type": "markdown",
   "metadata": {},
   "source": [
    "### Preparation"
   ]
  },
  {
   "cell_type": "code",
   "execution_count": 6,
   "metadata": {
    "colab": {
     "base_uri": "https://localhost:8080/"
    },
    "id": "UIRPaHvTGUux",
    "outputId": "81bb9618-22d4-40ec-f396-e3f3398f4ca0"
   },
   "outputs": [],
   "source": [
    "# Create train and validation\n",
    "train_dataset, val_dataset = torch.utils.data.random_split(dataset, [train_size, val_size])"
   ]
  },
  {
   "cell_type": "code",
   "execution_count": 8,
   "metadata": {},
   "outputs": [
    {
     "name": "stdout",
     "output_type": "stream",
     "text": [
      "Validation set lenght:  5000\n",
      "Train set length:  45000\n"
     ]
    }
   ],
   "source": [
    "print(\"Validation set lenght: \", len(val_dataset))\n",
    "print(\"Train set length: \", len(train_dataset))"
   ]
  },
  {
   "cell_type": "code",
   "execution_count": 11,
   "metadata": {
    "id": "7bGGAbsOGUux"
   },
   "outputs": [],
   "source": [
    "# Create dataloaders\n",
    "val_loader = torch.utils.data.DataLoader(val_dataset, batch_size*2, num_workers=4, pin_memory=True)\n",
    "test_loader = torch.utils.data.DataLoader(test_dataset, batch_size*2, num_workers=4, pin_memory=True)\n",
    "train_loader = torch.utils.data.DataLoader(train_dataset, batch_size, shuffle=True, num_workers=4, pin_memory=True)"
   ]
  },
  {
   "cell_type": "code",
   "execution_count": 28,
   "metadata": {},
   "outputs": [],
   "source": [
    "# Move dataloader to device\n",
    "train_loader = DeviceDataLoader(train_loader, device)\n",
    "val_loader = DeviceDataLoader(val_loader, device)\n",
    "test_loader = DeviceDataLoader(test_loader, device)"
   ]
  },
  {
   "cell_type": "markdown",
   "metadata": {},
   "source": [
    "# Model"
   ]
  },
  {
   "cell_type": "markdown",
   "metadata": {},
   "source": [
    "### Config Parameters"
   ]
  },
  {
   "cell_type": "code",
   "execution_count": 34,
   "metadata": {},
   "outputs": [],
   "source": [
    "input_size = 3*32*32\n",
    "output_size = 10"
   ]
  },
  {
   "cell_type": "markdown",
   "metadata": {},
   "source": [
    "### Helper Functions"
   ]
  },
  {
   "cell_type": "code",
   "execution_count": 35,
   "metadata": {
    "id": "8YqVaFruGUux"
   },
   "outputs": [],
   "source": [
    "def log_softmax(x):\n",
    "    return x - x.exp().sum(-1).log().unsqueeze(-1)\n",
    "    \n",
    "def my_cross_entropy(x, y):\n",
    "    prob = x.log_softmax(1)\n",
    "    log_prob = -1.0 * prob\n",
    "    loss = log_prob.gather(1, y.unsqueeze(1))\n",
    "    loss = loss.mean()\n",
    "    return loss\n",
    "\n",
    "# Accuracy\n",
    "def accuracy(outputs, labels):\n",
    "    _, preds = torch.max(outputs, dim=1)\n",
    "    return torch.tensor(torch.sum(preds == labels).item() / len(preds))\n",
    "\n",
    "# Evaluation\n",
    "def evaluate(model, val_loader):\n",
    "    outputs = [model.validation_step(batch) for batch in val_loader]\n",
    "    return model.validation_epoch_end(outputs)\n",
    "\n",
    "# Training\n",
    "def fit(epochs, lr, model, train_loader, val_loader, opt_func=torch.optim.SGD):\n",
    "    history = []\n",
    "    optimizer = opt_func(model.parameters(), lr)\n",
    "    \n",
    "    for epoch in range(epochs):\n",
    "        \n",
    "        # Training Phase \n",
    "        for batch_idx,batch in enumerate(train_loader):\n",
    "            loss = model.training_step(batch)\n",
    "            l2_regularization = 0\n",
    "            l1_regularization = 0\n",
    "            for param in model.parameters():\n",
    "                l2_regularization += torch.norm(param)**2\n",
    "                l1_regularization += torch.sum(torch.abs(param))\n",
    "\n",
    "            loss = loss + lambda2 * l2_regularization + lambda1 * l1_regularization\n",
    "\n",
    "            loss.backward()\n",
    "            optimizer.step()\n",
    "            optimizer.zero_grad()\n",
    "            \n",
    "            if batch_idx % log_interval == 0:\n",
    "                print('Train Epoch: {} [{}/{}]\\tLoss: {:.6f}'.format(epoch, \n",
    "                                                                     batch_idx * len(batch[0]),\n",
    "                                                                     len(train_dataset),\n",
    "                                                                     loss.item()))\n",
    "                \n",
    "        # Validation phase\n",
    "        result = evaluate(model, val_loader)\n",
    "        model.epoch_end(epoch, result)\n",
    "        history.append(result)\n",
    "    \n",
    "    return history"
   ]
  },
  {
   "cell_type": "markdown",
   "metadata": {},
   "source": [
    "### Model Class"
   ]
  },
  {
   "cell_type": "code",
   "execution_count": 111,
   "metadata": {},
   "outputs": [],
   "source": [
    "class CIFAR10Model(nn.Module):\n",
    "    def __init__(self, function):\n",
    "        # Init\n",
    "        super().__init__()\n",
    "        \n",
    "        # Set activation function\n",
    "        self.function = function\n",
    "        \n",
    "        # 1st hidden layer\n",
    "        self.linear1 = nn.Linear(input_size, 1536)\n",
    "        self.linear1_drop = nn.Dropout(0.2)\n",
    "        \n",
    "        # 2nd hidden layer\n",
    "        self.linear2 = nn.Linear(1536, 768)\n",
    "        self.linear2_drop = nn.Dropout(0.2)\n",
    "        \n",
    "        # 3rd hidden layer\n",
    "        self.linear3 = nn.Linear(768, 576)\n",
    "        self.linear3_drop = nn.Dropout(0.1)\n",
    "        \n",
    "        # Output layer\n",
    "        self.linear4 = nn.Linear(576, output_size)\n",
    "    \n",
    "    def activation(self, input_):\n",
    "        # Output after activation\n",
    "        output = None\n",
    "        \n",
    "        # Apply activation function\n",
    "        if self.function == \"relu\":\n",
    "            output = torch.nn.functional.relu(input_)\n",
    "        if self.function == \"tanh\":\n",
    "            output = torch.nn.functional.tanh(input_)\n",
    "        if self.function == \"sigmoid\":\n",
    "            output = torch.nn.functional.sigmoid(input_)\n",
    "        \n",
    "        return output        \n",
    "        \n",
    "    def forward(self, x):\n",
    "        # Flatten images into vectors\n",
    "        out = x.view(x.size(0), -1)\n",
    "                \n",
    "        # 1st layer propagation\n",
    "        out = self.activation(self.linear1(out))\n",
    "        out = self.linear1_drop(out)\n",
    "                \n",
    "        # 2nd layer propagation\n",
    "        out = self.activation(self.linear2(out))\n",
    "        out = self.linear2_drop(out)\n",
    "        \n",
    "        # 3rd layer propagation\n",
    "        out = self.activation(self.linear3(out))\n",
    "        out = self.linear3_drop(out)\n",
    "        \n",
    "        # Get predictions using output layer\n",
    "        out = self.linear4(out)\n",
    "        \n",
    "        return out\n",
    "    \n",
    "    def training_step(self, batch):\n",
    "        # Unpack batch\n",
    "        images, labels = batch\n",
    "        \n",
    "        # Run forward pass\n",
    "        out = self.forward(images)\n",
    "        \n",
    "        # Compute loss\n",
    "        loss = my_cross_entropy(out, labels)\n",
    "\n",
    "        return loss\n",
    "    \n",
    "    def validation_step(self, batch):\n",
    "        # Unpack batch\n",
    "        images, labels = batch\n",
    "        \n",
    "        # Run forward pass\n",
    "        out = self.forward(images)\n",
    "        #torch.nn.functional.cross_entropy (out, labels)\n",
    "        \n",
    "        # Compute loss\n",
    "        loss = my_cross_entropy(out, labels)\n",
    "        \n",
    "        # Compute accuracy\n",
    "        acc = accuracy(out, labels)\n",
    "        \n",
    "        return {'val_loss': loss, 'val_acc': acc}\n",
    "    \n",
    "    def validation_epoch_end(self, outputs):\n",
    "        batch_losses = [x['val_loss'] for x in outputs]\n",
    "        epoch_loss = torch.stack(batch_losses).mean()   # Combine losses\n",
    "        batch_accs = [x['val_acc'] for x in outputs]\n",
    "        epoch_acc = torch.stack(batch_accs).mean()      # Combine accuracies\n",
    "        return {'val_loss': epoch_loss.item(), 'val_acc': epoch_acc.item()}\n",
    "    \n",
    "    def epoch_end(self, epoch, result):\n",
    "        print(\"Epoch [{}], val_loss: {:.4f}, val_acc: {:.4f}\".format(epoch, result['val_loss'], result['val_acc']))"
   ]
  },
  {
   "cell_type": "markdown",
   "metadata": {},
   "source": [
    "# Plots"
   ]
  },
  {
   "cell_type": "code",
   "execution_count": 112,
   "metadata": {},
   "outputs": [],
   "source": [
    "def plot_accuracies(history):\n",
    "    accuracies = [x['val_acc'] for x in history]\n",
    "    plt.plot(accuracies, '-x')\n",
    "    plt.xlabel('epoch')\n",
    "    plt.ylabel('accuracy')\n",
    "    plt.title('Accuracy vs. No. of epochs')"
   ]
  },
  {
   "cell_type": "code",
   "execution_count": 113,
   "metadata": {},
   "outputs": [],
   "source": [
    "def plot_losses(history):\n",
    "    losses = [x['val_loss'] for x in history]\n",
    "    plt.plot(losses, '-x')\n",
    "    plt.xlabel('epoch')\n",
    "    plt.ylabel('loss')\n",
    "    plt.title('Loss vs. No. of epochs')"
   ]
  },
  {
   "cell_type": "markdown",
   "metadata": {},
   "source": [
    "# Training"
   ]
  },
  {
   "cell_type": "code",
   "execution_count": 114,
   "metadata": {},
   "outputs": [],
   "source": [
    "# Logging\n",
    "log_interval = 100"
   ]
  },
  {
   "cell_type": "code",
   "execution_count": 115,
   "metadata": {},
   "outputs": [],
   "source": [
    "# Regularization\n",
    "lambda1 = 0\n",
    "lambda2 = 0.001"
   ]
  },
  {
   "cell_type": "markdown",
   "metadata": {},
   "source": [
    "#### SGD + tanh"
   ]
  },
  {
   "cell_type": "code",
   "execution_count": 116,
   "metadata": {
    "colab": {
     "base_uri": "https://localhost:8080/",
     "height": 497
    },
    "id": "4X6aIEmhGUuy",
    "outputId": "ecff0568-f69a-4d86-a926-4d6037eeccf4"
   },
   "outputs": [
    {
     "name": "stderr",
     "output_type": "stream",
     "text": [
      "/Users/dailand10/opt/miniconda3/envs/cvl/lib/python3.6/site-packages/torch/nn/functional.py:1628: UserWarning: nn.functional.tanh is deprecated. Use torch.tanh instead.\n",
      "  warnings.warn(\"nn.functional.tanh is deprecated. Use torch.tanh instead.\")\n"
     ]
    },
    {
     "name": "stdout",
     "output_type": "stream",
     "text": [
      "Train Epoch: 0 [0/45000]\tLoss: 3.250338\n",
      "Train Epoch: 0 [12400/45000]\tLoss: 2.898279\n",
      "Train Epoch: 0 [24800/45000]\tLoss: 2.838905\n",
      "Train Epoch: 0 [37200/45000]\tLoss: 2.583334\n",
      "Epoch [0], val_loss: 1.8463, val_acc: 0.3476\n",
      "Train Epoch: 1 [0/45000]\tLoss: 2.647557\n",
      "Train Epoch: 1 [12400/45000]\tLoss: 2.811702\n",
      "Train Epoch: 1 [24800/45000]\tLoss: 2.777201\n",
      "Train Epoch: 1 [37200/45000]\tLoss: 2.781892\n",
      "Epoch [1], val_loss: 1.7857, val_acc: 0.3831\n",
      "Train Epoch: 2 [0/45000]\tLoss: 2.784484\n",
      "Train Epoch: 2 [12400/45000]\tLoss: 2.612975\n",
      "Train Epoch: 2 [24800/45000]\tLoss: 2.714663\n",
      "Train Epoch: 2 [37200/45000]\tLoss: 2.521603\n",
      "Epoch [2], val_loss: 1.9199, val_acc: 0.2876\n",
      "Train Epoch: 3 [0/45000]\tLoss: 2.706659\n",
      "Train Epoch: 3 [12400/45000]\tLoss: 2.521517\n",
      "Train Epoch: 3 [24800/45000]\tLoss: 2.645594\n",
      "Train Epoch: 3 [37200/45000]\tLoss: 2.512980\n",
      "Epoch [3], val_loss: 1.7971, val_acc: 0.3565\n",
      "Train Epoch: 4 [0/45000]\tLoss: 2.546398\n",
      "Train Epoch: 4 [12400/45000]\tLoss: 2.368983\n",
      "Train Epoch: 4 [24800/45000]\tLoss: 2.491840\n",
      "Train Epoch: 4 [37200/45000]\tLoss: 2.373120\n",
      "Epoch [4], val_loss: 1.7469, val_acc: 0.3810\n",
      "Train Epoch: 5 [0/45000]\tLoss: 2.416752\n",
      "Train Epoch: 5 [12400/45000]\tLoss: 2.512420\n",
      "Train Epoch: 5 [24800/45000]\tLoss: 2.404391\n",
      "Train Epoch: 5 [37200/45000]\tLoss: 2.364686\n",
      "Epoch [5], val_loss: 1.7258, val_acc: 0.4050\n",
      "Train Epoch: 6 [0/45000]\tLoss: 2.408072\n",
      "Train Epoch: 6 [12400/45000]\tLoss: 2.305818\n",
      "Train Epoch: 6 [24800/45000]\tLoss: 2.426570\n",
      "Train Epoch: 6 [37200/45000]\tLoss: 2.490578\n",
      "Epoch [6], val_loss: 1.7240, val_acc: 0.4027\n",
      "Train Epoch: 7 [0/45000]\tLoss: 2.444210\n",
      "Train Epoch: 7 [12400/45000]\tLoss: 2.215051\n",
      "Train Epoch: 7 [24800/45000]\tLoss: 2.271785\n",
      "Train Epoch: 7 [37200/45000]\tLoss: 2.329554\n",
      "Epoch [7], val_loss: 1.6826, val_acc: 0.3961\n",
      "Train Epoch: 8 [0/45000]\tLoss: 2.219366\n",
      "Train Epoch: 8 [12400/45000]\tLoss: 2.453827\n",
      "Train Epoch: 8 [24800/45000]\tLoss: 2.424700\n",
      "Train Epoch: 8 [37200/45000]\tLoss: 2.091232\n",
      "Epoch [8], val_loss: 1.7268, val_acc: 0.3741\n",
      "Train Epoch: 9 [0/45000]\tLoss: 2.077202\n",
      "Train Epoch: 9 [12400/45000]\tLoss: 1.980067\n",
      "Train Epoch: 9 [24800/45000]\tLoss: 2.044066\n",
      "Train Epoch: 9 [37200/45000]\tLoss: 2.156325\n",
      "Epoch [9], val_loss: 1.6457, val_acc: 0.4170\n",
      "Train Epoch: 10 [0/45000]\tLoss: 1.886919\n",
      "Train Epoch: 10 [12400/45000]\tLoss: 2.066556\n",
      "Train Epoch: 10 [24800/45000]\tLoss: 2.145214\n",
      "Train Epoch: 10 [37200/45000]\tLoss: 2.191427\n",
      "Epoch [10], val_loss: 1.6559, val_acc: 0.4106\n",
      "Train Epoch: 11 [0/45000]\tLoss: 2.142987\n",
      "Train Epoch: 11 [12400/45000]\tLoss: 2.127871\n",
      "Train Epoch: 11 [24800/45000]\tLoss: 2.084515\n",
      "Train Epoch: 11 [37200/45000]\tLoss: 2.139190\n",
      "Epoch [11], val_loss: 1.6325, val_acc: 0.4177\n",
      "Train Epoch: 12 [0/45000]\tLoss: 2.049896\n",
      "Train Epoch: 12 [12400/45000]\tLoss: 2.095333\n",
      "Train Epoch: 12 [24800/45000]\tLoss: 1.907633\n",
      "Train Epoch: 12 [37200/45000]\tLoss: 2.180578\n",
      "Epoch [12], val_loss: 1.6716, val_acc: 0.3965\n",
      "Train Epoch: 13 [0/45000]\tLoss: 1.946908\n",
      "Train Epoch: 13 [12400/45000]\tLoss: 2.130435\n",
      "Train Epoch: 13 [24800/45000]\tLoss: 1.949844\n",
      "Train Epoch: 13 [37200/45000]\tLoss: 1.984640\n",
      "Epoch [13], val_loss: 1.6096, val_acc: 0.4252\n",
      "Train Epoch: 14 [0/45000]\tLoss: 2.113230\n",
      "Train Epoch: 14 [12400/45000]\tLoss: 1.807895\n",
      "Train Epoch: 14 [24800/45000]\tLoss: 1.987042\n",
      "Train Epoch: 14 [37200/45000]\tLoss: 1.995784\n",
      "Epoch [14], val_loss: 1.5950, val_acc: 0.4308\n",
      "Train Epoch: 15 [0/45000]\tLoss: 2.039461\n",
      "Train Epoch: 15 [12400/45000]\tLoss: 1.843159\n",
      "Train Epoch: 15 [24800/45000]\tLoss: 2.044338\n",
      "Train Epoch: 15 [37200/45000]\tLoss: 1.902861\n",
      "Epoch [15], val_loss: 1.5932, val_acc: 0.4387\n",
      "Train Epoch: 16 [0/45000]\tLoss: 2.036091\n",
      "Train Epoch: 16 [12400/45000]\tLoss: 1.871552\n",
      "Train Epoch: 16 [24800/45000]\tLoss: 1.882273\n",
      "Train Epoch: 16 [37200/45000]\tLoss: 1.976525\n",
      "Epoch [16], val_loss: 1.5812, val_acc: 0.4449\n",
      "Train Epoch: 17 [0/45000]\tLoss: 1.906158\n",
      "Train Epoch: 17 [12400/45000]\tLoss: 1.947492\n",
      "Train Epoch: 17 [24800/45000]\tLoss: 1.753331\n",
      "Train Epoch: 17 [37200/45000]\tLoss: 1.929282\n",
      "Epoch [17], val_loss: 1.5649, val_acc: 0.4449\n",
      "Train Epoch: 18 [0/45000]\tLoss: 1.822005\n",
      "Train Epoch: 18 [12400/45000]\tLoss: 1.838326\n",
      "Train Epoch: 18 [24800/45000]\tLoss: 1.768088\n",
      "Train Epoch: 18 [37200/45000]\tLoss: 1.744312\n",
      "Epoch [18], val_loss: 1.5749, val_acc: 0.4424\n",
      "Train Epoch: 19 [0/45000]\tLoss: 1.841318\n",
      "Train Epoch: 19 [12400/45000]\tLoss: 1.871872\n",
      "Train Epoch: 19 [24800/45000]\tLoss: 1.807412\n",
      "Train Epoch: 19 [37200/45000]\tLoss: 2.028830\n",
      "Epoch [19], val_loss: 1.6134, val_acc: 0.4289\n",
      "Train Epoch: 20 [0/45000]\tLoss: 1.901281\n",
      "Train Epoch: 20 [12400/45000]\tLoss: 1.826505\n",
      "Train Epoch: 20 [24800/45000]\tLoss: 1.806197\n",
      "Train Epoch: 20 [37200/45000]\tLoss: 1.806742\n",
      "Epoch [20], val_loss: 1.6097, val_acc: 0.4267\n",
      "Train Epoch: 21 [0/45000]\tLoss: 1.824301\n",
      "Train Epoch: 21 [12400/45000]\tLoss: 1.685536\n",
      "Train Epoch: 21 [24800/45000]\tLoss: 2.053615\n",
      "Train Epoch: 21 [37200/45000]\tLoss: 1.947077\n",
      "Epoch [21], val_loss: 1.5538, val_acc: 0.4495\n",
      "Train Epoch: 22 [0/45000]\tLoss: 1.826792\n",
      "Train Epoch: 22 [12400/45000]\tLoss: 1.816886\n",
      "Train Epoch: 22 [24800/45000]\tLoss: 1.695413\n",
      "Train Epoch: 22 [37200/45000]\tLoss: 1.710973\n",
      "Epoch [22], val_loss: 1.5983, val_acc: 0.4378\n",
      "Train Epoch: 23 [0/45000]\tLoss: 1.968081\n",
      "Train Epoch: 23 [12400/45000]\tLoss: 1.690332\n",
      "Train Epoch: 23 [24800/45000]\tLoss: 1.835982\n",
      "Train Epoch: 23 [37200/45000]\tLoss: 1.794467\n",
      "Epoch [23], val_loss: 1.5708, val_acc: 0.4409\n",
      "Train Epoch: 24 [0/45000]\tLoss: 1.817204\n",
      "Train Epoch: 24 [12400/45000]\tLoss: 1.695049\n",
      "Train Epoch: 24 [24800/45000]\tLoss: 1.695708\n",
      "Train Epoch: 24 [37200/45000]\tLoss: 1.799294\n",
      "Epoch [24], val_loss: 1.6239, val_acc: 0.4222\n"
     ]
    },
    {
     "data": {
      "image/png": "[encoded data removed]",
      "text/plain": [
       "<Figure size 432x288 with 1 Axes>"
      ]
     },
     "metadata": {
      "needs_background": "light"
     },
     "output_type": "display_data"
    }
   ],
   "source": [
    "# Model\n",
    "model = CIFAR10Model(\"tanh\")\n",
    "model = to_device(model, device)\n",
    "\n",
    "# Train\n",
    "history_sgd_tanh = fit(25, 0.06, model, train_loader, val_loader, opt_func=torch.optim.SGD)\n",
    "\n",
    "# Save\n",
    "torch.save(model, \"sgd_tanh.th\")\n",
    "\n",
    "# Plot\n",
    "plot_losses(history_sgd_tanh)"
   ]
  },
  {
   "cell_type": "code",
   "execution_count": 118,
   "metadata": {
    "id": "V-0ixo5icY3P"
   },
   "outputs": [
    {
     "name": "stderr",
     "output_type": "stream",
     "text": [
      "/Users/dailand10/opt/miniconda3/envs/cvl/lib/python3.6/site-packages/torch/nn/functional.py:1628: UserWarning: nn.functional.tanh is deprecated. Use torch.tanh instead.\n",
      "  warnings.warn(\"nn.functional.tanh is deprecated. Use torch.tanh instead.\")\n"
     ]
    },
    {
     "data": {
      "text/plain": [
       "{'val_loss': 1.6628268957138062, 'val_acc': 0.405015766620636}"
      ]
     },
     "execution_count": 118,
     "metadata": {},
     "output_type": "execute_result"
    }
   ],
   "source": [
    "evaluate(model, test_loader)"
   ]
  },
  {
   "cell_type": "markdown",
   "metadata": {},
   "source": [
    "#### Adadelta + tanh"
   ]
  },
  {
   "cell_type": "code",
   "execution_count": 119,
   "metadata": {
    "id": "25JXZZ0JGUuy"
   },
   "outputs": [
    {
     "name": "stderr",
     "output_type": "stream",
     "text": [
      "/Users/dailand10/opt/miniconda3/envs/cvl/lib/python3.6/site-packages/torch/nn/functional.py:1628: UserWarning: nn.functional.tanh is deprecated. Use torch.tanh instead.\n",
      "  warnings.warn(\"nn.functional.tanh is deprecated. Use torch.tanh instead.\")\n"
     ]
    },
    {
     "name": "stdout",
     "output_type": "stream",
     "text": [
      "Train Epoch: 0 [0/45000]\tLoss: 3.271164\n",
      "Train Epoch: 0 [12400/45000]\tLoss: 2.993495\n",
      "Train Epoch: 0 [24800/45000]\tLoss: 2.806086\n"
     ]
    },
    {
     "ename": "KeyboardInterrupt",
     "evalue": "",
     "output_type": "error",
     "traceback": [
      "\u001b[0;31m---------------------------------------------------------------------------\u001b[0m",
      "\u001b[0;31mKeyboardInterrupt\u001b[0m                         Traceback (most recent call last)",
      "\u001b[0;32m<ipython-input-119-4abe8612e7c0>\u001b[0m in \u001b[0;36m<module>\u001b[0;34m()\u001b[0m\n\u001b[1;32m      9\u001b[0m \u001b[0;34m\u001b[0m\u001b[0m\n\u001b[1;32m     10\u001b[0m \u001b[0;31m# Train\u001b[0m\u001b[0;34m\u001b[0m\u001b[0;34m\u001b[0m\u001b[0;34m\u001b[0m\u001b[0m\n\u001b[0;32m---> 11\u001b[0;31m \u001b[0mhistory_adadelta_tanh\u001b[0m \u001b[0;34m=\u001b[0m \u001b[0mfit\u001b[0m\u001b[0;34m(\u001b[0m\u001b[0;36m25\u001b[0m\u001b[0;34m,\u001b[0m \u001b[0;36m0.06\u001b[0m\u001b[0;34m,\u001b[0m \u001b[0mmodel\u001b[0m\u001b[0;34m,\u001b[0m \u001b[0mtrain_loader\u001b[0m\u001b[0;34m,\u001b[0m \u001b[0mval_loader\u001b[0m\u001b[0;34m,\u001b[0m\u001b[0mopt_func\u001b[0m\u001b[0;34m=\u001b[0m\u001b[0mtorch\u001b[0m\u001b[0;34m.\u001b[0m\u001b[0moptim\u001b[0m\u001b[0;34m.\u001b[0m\u001b[0mAdadelta\u001b[0m\u001b[0;34m)\u001b[0m\u001b[0;34m\u001b[0m\u001b[0;34m\u001b[0m\u001b[0m\n\u001b[0m\u001b[1;32m     12\u001b[0m \u001b[0;34m\u001b[0m\u001b[0m\n\u001b[1;32m     13\u001b[0m \u001b[0;31m# Save\u001b[0m\u001b[0;34m\u001b[0m\u001b[0;34m\u001b[0m\u001b[0;34m\u001b[0m\u001b[0m\n",
      "\u001b[0;32m<ipython-input-35-13d827bdf4f0>\u001b[0m in \u001b[0;36mfit\u001b[0;34m(epochs, lr, model, train_loader, val_loader, opt_func)\u001b[0m\n\u001b[1;32m     37\u001b[0m             \u001b[0mloss\u001b[0m \u001b[0;34m=\u001b[0m \u001b[0mloss\u001b[0m \u001b[0;34m+\u001b[0m \u001b[0mlambda2\u001b[0m \u001b[0;34m*\u001b[0m \u001b[0ml2_regularization\u001b[0m \u001b[0;34m+\u001b[0m \u001b[0mlambda1\u001b[0m \u001b[0;34m*\u001b[0m \u001b[0ml1_regularization\u001b[0m\u001b[0;34m\u001b[0m\u001b[0;34m\u001b[0m\u001b[0m\n\u001b[1;32m     38\u001b[0m \u001b[0;34m\u001b[0m\u001b[0m\n\u001b[0;32m---> 39\u001b[0;31m             \u001b[0mloss\u001b[0m\u001b[0;34m.\u001b[0m\u001b[0mbackward\u001b[0m\u001b[0;34m(\u001b[0m\u001b[0;34m)\u001b[0m\u001b[0;34m\u001b[0m\u001b[0;34m\u001b[0m\u001b[0m\n\u001b[0m\u001b[1;32m     40\u001b[0m             \u001b[0moptimizer\u001b[0m\u001b[0;34m.\u001b[0m\u001b[0mstep\u001b[0m\u001b[0;34m(\u001b[0m\u001b[0;34m)\u001b[0m\u001b[0;34m\u001b[0m\u001b[0;34m\u001b[0m\u001b[0m\n\u001b[1;32m     41\u001b[0m             \u001b[0moptimizer\u001b[0m\u001b[0;34m.\u001b[0m\u001b[0mzero_grad\u001b[0m\u001b[0;34m(\u001b[0m\u001b[0;34m)\u001b[0m\u001b[0;34m\u001b[0m\u001b[0;34m\u001b[0m\u001b[0m\n",
      "\u001b[0;32m/Users/dailand10/opt/miniconda3/envs/cvl/lib/python3.6/site-packages/torch/tensor.py\u001b[0m in \u001b[0;36mbackward\u001b[0;34m(self, gradient, retain_graph, create_graph)\u001b[0m\n\u001b[1;32m    219\u001b[0m                 \u001b[0mretain_graph\u001b[0m\u001b[0;34m=\u001b[0m\u001b[0mretain_graph\u001b[0m\u001b[0;34m,\u001b[0m\u001b[0;34m\u001b[0m\u001b[0;34m\u001b[0m\u001b[0m\n\u001b[1;32m    220\u001b[0m                 create_graph=create_graph)\n\u001b[0;32m--> 221\u001b[0;31m         \u001b[0mtorch\u001b[0m\u001b[0;34m.\u001b[0m\u001b[0mautograd\u001b[0m\u001b[0;34m.\u001b[0m\u001b[0mbackward\u001b[0m\u001b[0;34m(\u001b[0m\u001b[0mself\u001b[0m\u001b[0;34m,\u001b[0m \u001b[0mgradient\u001b[0m\u001b[0;34m,\u001b[0m \u001b[0mretain_graph\u001b[0m\u001b[0;34m,\u001b[0m \u001b[0mcreate_graph\u001b[0m\u001b[0;34m)\u001b[0m\u001b[0;34m\u001b[0m\u001b[0;34m\u001b[0m\u001b[0m\n\u001b[0m\u001b[1;32m    222\u001b[0m \u001b[0;34m\u001b[0m\u001b[0m\n\u001b[1;32m    223\u001b[0m     \u001b[0;32mdef\u001b[0m \u001b[0mregister_hook\u001b[0m\u001b[0;34m(\u001b[0m\u001b[0mself\u001b[0m\u001b[0;34m,\u001b[0m \u001b[0mhook\u001b[0m\u001b[0;34m)\u001b[0m\u001b[0;34m:\u001b[0m\u001b[0;34m\u001b[0m\u001b[0;34m\u001b[0m\u001b[0m\n",
      "\u001b[0;32m/Users/dailand10/opt/miniconda3/envs/cvl/lib/python3.6/site-packages/torch/autograd/__init__.py\u001b[0m in \u001b[0;36mbackward\u001b[0;34m(tensors, grad_tensors, retain_graph, create_graph, grad_variables)\u001b[0m\n\u001b[1;32m    130\u001b[0m     Variable._execution_engine.run_backward(\n\u001b[1;32m    131\u001b[0m         \u001b[0mtensors\u001b[0m\u001b[0;34m,\u001b[0m \u001b[0mgrad_tensors_\u001b[0m\u001b[0;34m,\u001b[0m \u001b[0mretain_graph\u001b[0m\u001b[0;34m,\u001b[0m \u001b[0mcreate_graph\u001b[0m\u001b[0;34m,\u001b[0m\u001b[0;34m\u001b[0m\u001b[0;34m\u001b[0m\u001b[0m\n\u001b[0;32m--> 132\u001b[0;31m         allow_unreachable=True)  # allow_unreachable flag\n\u001b[0m\u001b[1;32m    133\u001b[0m \u001b[0;34m\u001b[0m\u001b[0m\n\u001b[1;32m    134\u001b[0m \u001b[0;34m\u001b[0m\u001b[0m\n",
      "\u001b[0;31mKeyboardInterrupt\u001b[0m: "
     ]
    }
   ],
   "source": [
    "# history = [evaluate(model, val_loader)]\n",
    "# #Adadelta and tanh {'val_acc': 0.4410897195339203, 'val_loss': 1.5692006349563599}\n",
    "# #Adadelta and sigmoid {'val_acc': 0.18444138765335083, 'val_loss': 2.0757439136505127}\n",
    "# #Adadelta and relu {'val_acc': 0.495879203081131, 'val_loss': 1.4351319074630737}\n",
    "\n",
    "# Model\n",
    "model = CIFAR10Model(\"tanh\")\n",
    "model = to_device(model, device)\n",
    "\n",
    "# Train\n",
    "history_adadelta_tanh = fit(25, 0.06, model, train_loader, val_loader,opt_func=torch.optim.Adadelta)\n",
    "\n",
    "# Save\n",
    "torch.save(model, \"adadelta_tanh.th\")\n",
    "\n",
    "# Plot\n",
    "plot_losses(history_adadelta_tanh)"
   ]
  },
  {
   "cell_type": "code",
   "execution_count": null,
   "metadata": {
    "id": "wA0Vo17rci1H"
   },
   "outputs": [],
   "source": [
    "evaluate(model, test_loader)"
   ]
  },
  {
   "cell_type": "markdown",
   "metadata": {},
   "source": [
    "#### Adagrad + tanh"
   ]
  },
  {
   "cell_type": "code",
   "execution_count": null,
   "metadata": {
    "id": "J7j70F3GGUuy"
   },
   "outputs": [],
   "source": [
    "# history = [evaluate(model, val_loader)]\n",
    "# #Adagrad and tanh {'val_acc': 0.2304287850856781, 'val_loss': 2.1180825233459473}\n",
    "# #Adagrad and sigmoid {'val_acc': 0.0991738811135292, 'val_loss': 2.3229012489318848}\n",
    "# #Adagrad and relu {'val_acc': 0.38202202320098877, 'val_loss': 1.717851161956787}\n",
    "\n",
    "\n",
    "model = CIFAR10Model(\"relu\")\n",
    "model = to_device(model, device)\n",
    "\n",
    "history += fit(25, 0.06, model, train_loader, val_loader,opt_func=torch.optim.Adagrad)\n",
    "plot_losses(history)"
   ]
  },
  {
   "cell_type": "code",
   "execution_count": null,
   "metadata": {
    "id": "eUHSGRp1cozY"
   },
   "outputs": [],
   "source": [
    "plot_accuracies(history)"
   ]
  },
  {
   "cell_type": "code",
   "execution_count": null,
   "metadata": {
    "id": "rpE6zGfLcr8D"
   },
   "outputs": [],
   "source": [
    "evaluate(model, test_loader)"
   ]
  },
  {
   "cell_type": "code",
   "execution_count": null,
   "metadata": {
    "id": "f-Gn5aewGUu2"
   },
   "outputs": [],
   "source": [
    "history = [evaluate(model, val_loader)]\n",
    "#Adam and tanh {'val_acc': 0.09625294804573059, 'val_loss': 12.214295387268066}\n",
    "#Adam and sigmoid {'val_acc': 0.10023604333400726, 'val_loss': 2.4134914875030518}\n",
    "#Adam and relu {'val_acc': 0.10160306841135025, 'val_loss': 2086.643310546875}\n",
    "model = CIFAR10Model(\"relu\")\n",
    "model = to_device(model, device)\n",
    "\n",
    "history += fit(25, 0.06, model, train_loader, val_loader,opt_func=torch.optim.Adam)\n",
    "plot_losses(history)"
   ]
  },
  {
   "cell_type": "code",
   "execution_count": null,
   "metadata": {
    "id": "qCFRNB2Wc0jq"
   },
   "outputs": [],
   "source": [
    "plot_accuracies(history)"
   ]
  },
  {
   "cell_type": "code",
   "execution_count": null,
   "metadata": {
    "id": "AmT6W-T7c0Tz"
   },
   "outputs": [],
   "source": [
    "evaluate(model, test_loader)"
   ]
  },
  {
   "cell_type": "code",
   "execution_count": null,
   "metadata": {
    "id": "jugQrquTGUu2"
   },
   "outputs": [],
   "source": [
    "history = [evaluate(model, val_loader)]\n",
    "#SGD and tanh {'val_acc': 0.4307238459587097, 'val_loss': 1.5837513208389282}\n",
    "#SGD and sigmoid {'val_acc': 0.16859754920005798, 'val_loss': 2.1040098667144775}\n",
    "#SGD and relu {'val_acc': 0.46284419298171997, 'val_loss': 1.4877265691757202}\n",
    "model = CIFAR10Model(\"relu\")\n",
    "model = to_device(model, device)\n",
    "\n",
    "history += fit(25, 0.06, model, train_loader, val_loader,opt_func=torch.optim.SGD)\n",
    "plot_losses(history)"
   ]
  },
  {
   "cell_type": "markdown",
   "metadata": {
    "id": "rqvcEkYKzWDp"
   },
   "source": [
    "### Confusion Matrix"
   ]
  },
  {
   "cell_type": "code",
   "execution_count": 13,
   "metadata": {
    "id": "QofMApb3zVPI"
   },
   "outputs": [
    {
     "ename": "NameError",
     "evalue": "name 'to_device' is not defined",
     "output_type": "error",
     "traceback": [
      "\u001b[0;31m---------------------------------------------------------------------------\u001b[0m",
      "\u001b[0;31mNameError\u001b[0m                                 Traceback (most recent call last)",
      "\u001b[0;32m<ipython-input-13-db62bf2a324f>\u001b[0m in \u001b[0;36m<module>\u001b[0;34m()\u001b[0m\n\u001b[1;32m      1\u001b[0m \u001b[0;32mimport\u001b[0m \u001b[0mnumpy\u001b[0m \u001b[0;32mas\u001b[0m \u001b[0mnp\u001b[0m\u001b[0;34m\u001b[0m\u001b[0;34m\u001b[0m\u001b[0m\n\u001b[1;32m      2\u001b[0m \u001b[0mcm\u001b[0m \u001b[0;34m=\u001b[0m \u001b[0mnp\u001b[0m\u001b[0;34m.\u001b[0m\u001b[0mzeros\u001b[0m\u001b[0;34m(\u001b[0m\u001b[0;34m(\u001b[0m\u001b[0;36m10\u001b[0m\u001b[0;34m,\u001b[0m \u001b[0;36m10\u001b[0m\u001b[0;34m)\u001b[0m\u001b[0;34m,\u001b[0m \u001b[0mint\u001b[0m\u001b[0;34m)\u001b[0m\u001b[0;34m\u001b[0m\u001b[0;34m\u001b[0m\u001b[0m\n\u001b[0;32m----> 3\u001b[0;31m \u001b[0mmodel\u001b[0m \u001b[0;34m=\u001b[0m \u001b[0mto_device\u001b[0m\u001b[0;34m(\u001b[0m\u001b[0mmodel\u001b[0m\u001b[0;34m,\u001b[0m \u001b[0;34m\"cpu\"\u001b[0m\u001b[0;34m)\u001b[0m\u001b[0;34m\u001b[0m\u001b[0;34m\u001b[0m\u001b[0m\n\u001b[0m\u001b[1;32m      4\u001b[0m \u001b[0;32mfor\u001b[0m \u001b[0mi\u001b[0m \u001b[0;32min\u001b[0m \u001b[0mrange\u001b[0m\u001b[0;34m(\u001b[0m\u001b[0mlen\u001b[0m\u001b[0;34m(\u001b[0m\u001b[0mtest_dataset\u001b[0m\u001b[0;34m)\u001b[0m\u001b[0;34m)\u001b[0m\u001b[0;34m:\u001b[0m\u001b[0;34m\u001b[0m\u001b[0;34m\u001b[0m\u001b[0m\n\u001b[1;32m      5\u001b[0m     \u001b[0mdata\u001b[0m \u001b[0;34m=\u001b[0m \u001b[0mtest_dataset\u001b[0m\u001b[0;34m[\u001b[0m\u001b[0mi\u001b[0m\u001b[0;34m]\u001b[0m\u001b[0;34m[\u001b[0m\u001b[0;36m0\u001b[0m\u001b[0;34m]\u001b[0m\u001b[0;34m\u001b[0m\u001b[0;34m\u001b[0m\u001b[0m\n",
      "\u001b[0;31mNameError\u001b[0m: name 'to_device' is not defined"
     ]
    }
   ],
   "source": [
    "import numpy as np\n",
    "cm = np.zeros((10, 10), int)\n",
    "model = to_device(model, \"cpu\")\n",
    "for i in range(len(test_dataset)):\n",
    "    data = test_dataset[i][0]\n",
    "    label = test_dataset[i][1]\n",
    "    data = data.view(1,data.shape[0],data.shape[1],data.shape[2])\n",
    "    predict = model.forward(data)\n",
    "    target = label\n",
    "    cm[predict.argmax(), target] += 1\n",
    "\n",
    "print(cm)"
   ]
  }
 ],
 "metadata": {
  "accelerator": "GPU",
  "colab": {
   "collapsed_sections": [
    "25bkpNjSIzF3"
   ],
   "name": "assignment3 (3).ipynb",
   "provenance": []
  },
  "kernelspec": {
   "display_name": "Python 3",
   "language": "python",
   "name": "python3"
  },
  "language_info": {
   "codemirror_mode": {
    "name": "ipython",
    "version": 3
   },
   "file_extension": ".py",
   "mimetype": "text/x-python",
   "name": "python",
   "nbconvert_exporter": "python",
   "pygments_lexer": "ipython3",
   "version": "3.6.10"
  }
 },
 "nbformat": 4,
 "nbformat_minor": 4
}
