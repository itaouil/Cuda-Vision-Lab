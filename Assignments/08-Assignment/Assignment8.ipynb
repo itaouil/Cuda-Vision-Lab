{
 "cells": [
  {
   "cell_type": "markdown",
   "metadata": {},
   "source": [
    "### Imports"
   ]
  },
  {
   "cell_type": "code",
   "execution_count": 2,
   "metadata": {},
   "outputs": [],
   "source": [
    "import os, time\n",
    "import matplotlib.pyplot as plt\n",
    "import itertools\n",
    "import pickle\n",
    "import torch\n",
    "import torch.nn as nn\n",
    "import torch.nn.functional as F\n",
    "import torch.optim as optim\n",
    "from torchvision import datasets, transforms,models\n",
    "from torch.autograd import Variable"
   ]
  },
  {
   "cell_type": "markdown",
   "metadata": {},
   "source": [
    "### Dataset"
   ]
  },
  {
   "cell_type": "code",
   "execution_count": 3,
   "metadata": {},
   "outputs": [],
   "source": [
    "# Transform\n",
    "transform = transforms.Compose([\n",
    "    transforms.ToTensor(),\n",
    "    transforms.Resize((32, 32))\n",
    "])\n",
    "\n",
    "# Load dataset\n",
    "dataset = datasets.ImageFolder(\"./dataset/train/\", transform=transform)\n",
    "batch_size = 64\n",
    "train_loader = torch.utils.data.DataLoader(dataset, batch_size, shuffle=True,)"
   ]
  },
  {
   "cell_type": "markdown",
   "metadata": {},
   "source": [
    "### Generator"
   ]
  },
  {
   "cell_type": "code",
   "execution_count": 4,
   "metadata": {},
   "outputs": [],
   "source": [
    "class Generator(torch.nn.Module):\n",
    "    def __init__(self):\n",
    "        super().__init__()\n",
    "        self.generator = nn.Sequential(\n",
    "            nn.ConvTranspose2d(in_channels=100, out_channels=1024, kernel_size=4, stride=1, padding=0),\n",
    "            nn.BatchNorm2d(num_features=1024),\n",
    "            nn.ReLU(True),\n",
    "\n",
    "            nn.ConvTranspose2d(in_channels=1024, out_channels=512, kernel_size=4, stride=2, padding=1),\n",
    "            nn.BatchNorm2d(num_features=512),\n",
    "            nn.ReLU(True),\n",
    "\n",
    "            nn.ConvTranspose2d(in_channels=512, out_channels=256, kernel_size=4, stride=2, padding=1),\n",
    "            nn.BatchNorm2d(num_features=256),\n",
    "            nn.ReLU(True),\n",
    "\n",
    "            nn.ConvTranspose2d(in_channels=256, out_channels=3, kernel_size=4, stride=2, padding=1)\n",
    "        \n",
    "        )\n",
    "        self.out= nn.Tanh()\n",
    "\n",
    "        \n",
    "    def forward(self, x):\n",
    "        return self.out(self.generator(x))"
   ]
  },
  {
   "cell_type": "markdown",
   "metadata": {},
   "source": [
    "### Discriminator "
   ]
  },
  {
   "cell_type": "code",
   "execution_count": 5,
   "metadata": {},
   "outputs": [],
   "source": [
    "class Discriminator(torch.nn.Module):\n",
    "    def __init__(self):\n",
    "        super().__init__()\n",
    "        self.discriminator = nn.Sequential(\n",
    "            nn.Conv2d(in_channels=3, out_channels=256, kernel_size=4, stride=2, padding=1),\n",
    "            nn.BatchNorm2d(num_features=256),\n",
    "            nn.LeakyReLU(0.2, inplace=True),\n",
    "\n",
    "            nn.Conv2d(in_channels=256, out_channels=512, kernel_size=4, stride=2, padding=1),\n",
    "            nn.BatchNorm2d(num_features=512),\n",
    "            nn.LeakyReLU(0.2, inplace=True),\n",
    "\n",
    "            nn.Conv2d(in_channels=512, out_channels=1024, kernel_size=4, stride=2, padding=1),\n",
    "            nn.BatchNorm2d(num_features=1024),\n",
    "            nn.LeakyReLU(0.2, inplace=True))\n",
    "            \n",
    "        #self.output = nn.Conv2d(in_channels=1024, out_channels=3, kernel_size=4, stride=1, padding=0)\n",
    "        self.output = nn.Sequential(\n",
    "            nn.Conv2d(in_channels=1024, out_channels=1, kernel_size=4, stride=1, padding=0),\n",
    "            nn.Sigmoid())\n",
    "        \n",
    "    def forward(self, x):\n",
    "        return self.output(self.discriminator(x))"
   ]
  },
  {
   "cell_type": "markdown",
   "metadata": {},
   "source": [
    "### DCGAN"
   ]
  },
  {
   "cell_type": "code",
   "execution_count": 8,
   "metadata": {},
   "outputs": [],
   "source": [
    "class DCGAN(torch.nn.Module):\n",
    "    def __init__(self):\n",
    "        super().__init__()\n",
    "        self.G = Generator()\n",
    "        self.D = Discriminator()\n",
    "\n",
    "        self.loss = nn.BCELoss()\n",
    "\n",
    "        self.d_optimizer = torch.optim.Adam(self.D.parameters(), lr=0.0002, betas=(0.5, 0.999))\n",
    "        self.g_optimizer = torch.optim.Adam(self.G.parameters(), lr=0.0002, betas=(0.5, 0.999))\n",
    "\n",
    "        self.batch_size = 64\n",
    "\n",
    "        self.D.cuda()\n",
    "        self.G.cuda()\n",
    "        self.loss = nn.BCELoss().cuda()\n",
    "        \n",
    "        \n",
    "    def train(self, train_loader):\n",
    "        for epoch in range(50):\n",
    "            #for images, _ in train_loader:\n",
    "            for i, (images, _) in enumerate(train_loader):\n",
    "                if i == train_loader.dataset.__len__() // self.batch_size:\n",
    "                    break\n",
    "\n",
    "                z = torch.rand((self.batch_size, 100, 1, 1))\n",
    "                real_labels = torch.ones(self.batch_size)\n",
    "                fake_labels = torch.zeros(self.batch_size)\n",
    "\n",
    "                \n",
    "                images, z = Variable(images).cuda(), Variable(z).cuda()\n",
    "                real_labels, fake_labels = Variable(real_labels).cuda(), Variable(fake_labels).cuda()\n",
    "\n",
    "                outputs = self.D(images)\n",
    "                d_loss_real = self.loss(outputs, real_labels.view(-1,1,1,1)) # ERROR\n",
    "                real_score = outputs\n",
    "\n",
    "                # Compute BCE Loss using fake images\n",
    "                z = Variable(torch.randn(self.batch_size, 100, 1, 1)).cuda()\n",
    "                \n",
    "                fake_images = self.G(z)\n",
    "                outputs = self.D(fake_images)\n",
    "                d_loss_fake = self.loss(outputs, fake_labels.view(-1,1,1,1))\n",
    "                fake_score = outputs\n",
    "\n",
    "                # Optimize discriminator\n",
    "                d_loss = d_loss_real + d_loss_fake\n",
    "                self.D.zero_grad()\n",
    "                d_loss.backward()\n",
    "                self.d_optimizer.step()\n",
    "\n",
    "                # Train generator\n",
    "                # Compute loss with fake images\n",
    "                \n",
    "                z = Variable(torch.randn(self.batch_size, 100, 1, 1)).cuda()\n",
    "            \n",
    "                fake_images = self.G(z)\n",
    "                outputs = self.D(fake_images)\n",
    "                g_loss = self.loss(outputs, real_labels.view(-1,1,1,1))\n",
    "\n",
    "                # Optimize generator\n",
    "                self.D.zero_grad()\n",
    "                self.G.zero_grad()\n",
    "                g_loss.backward()\n",
    "                self.g_optimizer.step()\n",
    "                \n",
    "    def generate_img(self, z, number_of_images):\n",
    "        samples = self.G(z).data.cpu()[:number_of_images]\n",
    "        generated_images = []\n",
    "        for sample in samples:\n",
    "            generated_images.append(sample.reshape(3, 32, 32))\n",
    "        return generated_images"
   ]
  },
  {
   "cell_type": "markdown",
   "metadata": {},
   "source": [
    "### Train Model"
   ]
  },
  {
   "cell_type": "code",
   "execution_count": 9,
   "metadata": {},
   "outputs": [],
   "source": [
    "model = DCGAN()\n",
    "model.load_state_dict(torch.load(\"model_300.th\"))\n",
    "model.train(train_loader)\n",
    "z = Variable(torch.randn(1, 100, 1, 1)).cuda()\n",
    "images = model.generate_img(z,1)\n",
    "\n"
   ]
  },
  {
   "cell_type": "markdown",
   "metadata": {},
   "source": [
    "### Visualize Results"
   ]
  },
  {
   "cell_type": "code",
   "execution_count": 10,
   "metadata": {},
   "outputs": [],
   "source": [
    "import numpy as np\n",
    "def imshow(inp, title=None):\n",
    "    \"\"\"Imshow for Tensor.\"\"\"\n",
    "    inp = inp.numpy().transpose((1, 2, 0))\n",
    "    mean = np.array([0.485, 0.456, 0.406])\n",
    "    std = np.array([0.229, 0.224, 0.225])\n",
    "    inp = std * inp + mean\n",
    "    inp = np.clip(inp, 0, 1)\n",
    "    plt.imshow(inp)\n",
    "    if title is not None:\n",
    "        plt.title(title)\n",
    "    plt.pause(0.001)  # pause a bit so that plots are updated"
   ]
  },
  {
   "cell_type": "code",
   "execution_count": 12,
   "metadata": {},
   "outputs": [
    {
     "data": {
      "image/png": "[encoded data removed]",
      "text/plain": [
       "<Figure size 432x288 with 1 Axes>"
      ]
     },
     "metadata": {
      "needs_background": "light"
     },
     "output_type": "display_data"
    }
   ],
   "source": [
    "imshow(images[0])"
   ]
  },
  {
   "cell_type": "code",
   "execution_count": null,
   "metadata": {},
   "outputs": [],
   "source": [
    "torch.save(model.state_dict(), \"model_300.th\")"
   ]
  },
  {
   "cell_type": "markdown",
   "metadata": {},
   "source": [
    "### WGAN"
   ]
  },
  {
   "cell_type": "code",
   "execution_count": 18,
   "metadata": {},
   "outputs": [],
   "source": [
    "class WGAN(torch.nn.Module):\n",
    "    def __init__(self):\n",
    "        super().__init__()\n",
    "        self.G = Generator()\n",
    "        self.D = Discriminator()\n",
    "\n",
    "        self.d_optimizer = torch.optim.RMSprop(self.D.parameters(), lr=0.00005)\n",
    "        self.g_optimizer = torch.optim.RMSprop(self.G.parameters(), lr=0.00005)\n",
    "\n",
    "        self.batch_size = 64\n",
    "\n",
    "        self.D.cuda()\n",
    "        self.G.cuda()\n",
    "        \n",
    "        \n",
    "    def train(self, train_loader):\n",
    "        self.data=self.get_infinite_batches(train_loader)\n",
    "        one = Variable(torch.FloatTensor([1]))\n",
    "        mone = one * -1\n",
    "        one = one.cuda()\n",
    "        mone = mone.cuda()\n",
    "        for g_iter in range(50):\n",
    "            for p in self.D.parameters():\n",
    "                p.requires_grad = True\n",
    "                \n",
    "            for d_iter in range(20):\n",
    "                self.D.zero_grad()\n",
    "\n",
    "                for p in self.D.parameters():\n",
    "                    p.data.clamp_(-10, 10)\n",
    "\n",
    "                images = self.data.__next__()\n",
    "\n",
    "                if (images.size()[0] != self.batch_size):\n",
    "                    continue\n",
    "\n",
    "                z = torch.rand((self.batch_size, 100, 1, 1))\n",
    "\n",
    "                \n",
    "                images, z = Variable(images.cuda()), Variable(z.cuda())\n",
    "                \n",
    "\n",
    "                # Train discriminator\n",
    "                d_loss_real = self.D(images)\n",
    "                d_loss_real = d_loss_real.mean(0).view(1)\n",
    "                d_loss_real.backward(one)\n",
    "\n",
    "                # Train with fake images\n",
    "                z = Variable(torch.randn(self.batch_size, 100, 1, 1)).cuda()\n",
    "                fake_images = self.G(z)\n",
    "                d_loss_fake = self.D(fake_images)\n",
    "                d_loss_fake = d_loss_fake.mean(0).view(1)\n",
    "                d_loss_fake.backward(mone)\n",
    "\n",
    "                d_loss = d_loss_fake - d_loss_real\n",
    "                Wasserstein_D = d_loss_real - d_loss_fake\n",
    "                self.d_optimizer.step()\n",
    "                \n",
    "            # Generator update\n",
    "            for p in self.D.parameters():\n",
    "                p.requires_grad = False  # to avoid computation\n",
    "\n",
    "            self.G.zero_grad()\n",
    "\n",
    "            # Train generator\n",
    "            z = Variable(torch.randn(self.batch_size, 100, 1, 1)).cuda()\n",
    "            fake_images = self.G(z)\n",
    "            g_loss = self.D(fake_images)\n",
    "            g_loss = g_loss.mean().mean(0).view(1)\n",
    "            g_loss.backward(one)\n",
    "            g_cost = -g_loss\n",
    "            self.g_optimizer.step()\n",
    "\n",
    "    def get_infinite_batches(self, data_loader):\n",
    "        while True:\n",
    "            for i, (images, _) in enumerate(data_loader):\n",
    "                yield images\n",
    "    \n",
    "    def generate_img(self, z, number_of_images):\n",
    "        samples = self.G(z).data.cpu()[:number_of_images]\n",
    "        generated_images = []\n",
    "        for sample in samples:\n",
    "            generated_images.append(sample.reshape(3, 32, 32))\n",
    "        return generated_images"
   ]
  },
  {
   "cell_type": "code",
   "execution_count": 19,
   "metadata": {},
   "outputs": [
    {
     "ename": "NameError",
     "evalue": "name 'imshow' is not defined",
     "output_type": "error",
     "traceback": [
      "\u001b[0;31m---------------------------------------------------------------------------\u001b[0m",
      "\u001b[0;31mNameError\u001b[0m                                 Traceback (most recent call last)",
      "\u001b[0;32m<ipython-input-19-3fbafd415950>\u001b[0m in \u001b[0;36m<module>\u001b[0;34m\u001b[0m\n\u001b[1;32m      4\u001b[0m \u001b[0mz\u001b[0m \u001b[0;34m=\u001b[0m \u001b[0mVariable\u001b[0m\u001b[0;34m(\u001b[0m\u001b[0mtorch\u001b[0m\u001b[0;34m.\u001b[0m\u001b[0mrandn\u001b[0m\u001b[0;34m(\u001b[0m\u001b[0;36m1\u001b[0m\u001b[0;34m,\u001b[0m \u001b[0;36m100\u001b[0m\u001b[0;34m,\u001b[0m \u001b[0;36m1\u001b[0m\u001b[0;34m,\u001b[0m \u001b[0;36m1\u001b[0m\u001b[0;34m)\u001b[0m\u001b[0;34m)\u001b[0m\u001b[0;34m.\u001b[0m\u001b[0mcuda\u001b[0m\u001b[0;34m(\u001b[0m\u001b[0;34m)\u001b[0m\u001b[0;34m\u001b[0m\u001b[0;34m\u001b[0m\u001b[0m\n\u001b[1;32m      5\u001b[0m \u001b[0mimages\u001b[0m \u001b[0;34m=\u001b[0m \u001b[0mmodel\u001b[0m\u001b[0;34m.\u001b[0m\u001b[0mgenerate_img\u001b[0m\u001b[0;34m(\u001b[0m\u001b[0mz\u001b[0m\u001b[0;34m,\u001b[0m\u001b[0;36m1\u001b[0m\u001b[0;34m)\u001b[0m\u001b[0;34m\u001b[0m\u001b[0;34m\u001b[0m\u001b[0m\n\u001b[0;32m----> 6\u001b[0;31m \u001b[0mimshow\u001b[0m\u001b[0;34m(\u001b[0m\u001b[0mimages\u001b[0m\u001b[0;34m[\u001b[0m\u001b[0;36m0\u001b[0m\u001b[0;34m]\u001b[0m\u001b[0;34m)\u001b[0m\u001b[0;34m\u001b[0m\u001b[0;34m\u001b[0m\u001b[0m\n\u001b[0m",
      "\u001b[0;31mNameError\u001b[0m: name 'imshow' is not defined"
     ]
    }
   ],
   "source": [
    "model = WGAN()\n",
    "#model.load_state_dict(torch.load(\"model_300.th\"))\n",
    "model.train(train_loader)\n",
    "z = Variable(torch.randn(1, 100, 1, 1)).cuda()\n",
    "images = model.generate_img(z,1)\n",
    "imshow(images[0])"
   ]
  },
  {
   "cell_type": "code",
   "execution_count": null,
   "metadata": {},
   "outputs": [],
   "source": []
  }
 ],
 "metadata": {
  "kernelspec": {
   "display_name": "Python 3",
   "language": "python",
   "name": "python3"
  },
  "language_info": {
   "codemirror_mode": {
    "name": "ipython",
    "version": 3
   },
   "file_extension": ".py",
   "mimetype": "text/x-python",
   "name": "python",
   "nbconvert_exporter": "python",
   "pygments_lexer": "ipython3",
   "version": "3.6.9"
  }
 },
 "nbformat": 4,
 "nbformat_minor": 4
}
