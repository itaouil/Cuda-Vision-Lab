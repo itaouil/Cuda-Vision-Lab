{
 "cells": [
  {
   "cell_type": "markdown",
   "metadata": {},
   "source": [
    "# Imports"
   ]
  },
  {
   "cell_type": "code",
   "execution_count": 29,
   "metadata": {
    "colab": {
     "base_uri": "https://localhost:8080/"
    },
    "id": "BmnCYancGUuw",
    "outputId": "6f3a0233-89c2-4bc0-eea9-ca66213672f3"
   },
   "outputs": [
    {
     "data": {
      "text/plain": [
       "<torch._C.Generator at 0x10fe24258>"
      ]
     },
     "execution_count": 29,
     "metadata": {},
     "output_type": "execute_result"
    }
   ],
   "source": [
    "# Torch\n",
    "import torch\n",
    "import torch.nn as nn\n",
    "import torchvision.datasets as dsets\n",
    "from torchvision.utils import make_grid\n",
    "import torchvision.transforms as transforms\n",
    "\n",
    "# Wandb\n",
    "import wandb\n",
    "\n",
    "# Python\n",
    "import random as rand\n",
    "\n",
    "# Numpy\n",
    "import numpy as np\n",
    "\n",
    "# Matplot\n",
    "import matplotlib.pyplot as plt\n",
    "%matplotlib inline\n",
    "\n",
    "# Seeding\n",
    "torch.manual_seed(24)"
   ]
  },
  {
   "cell_type": "markdown",
   "metadata": {},
   "source": [
    "# CPU/GPU device"
   ]
  },
  {
   "cell_type": "code",
   "execution_count": 30,
   "metadata": {},
   "outputs": [],
   "source": [
    "def to_device(data, device):\n",
    "    \"\"\"\n",
    "        Move tensor(s) to chosen device\n",
    "    \"\"\"\n",
    "    if isinstance(data, (list,tuple)):\n",
    "        return [to_device(x, device) for x in data]\n",
    "    return data.to(device, non_blocking=True)\n",
    "\n",
    "class DeviceDataLoader():\n",
    "    \"\"\"\n",
    "        Wrap a dataloader to move data to a device\n",
    "    \"\"\"\n",
    "    def __init__(self, dl, device):\n",
    "        self.dl = dl\n",
    "        self.device = device\n",
    "        \n",
    "    def __iter__(self):\n",
    "        \"\"\"\n",
    "            Yield a batch of data after moving it to device\n",
    "        \"\"\"\n",
    "        for b in self.dl: \n",
    "            yield to_device(b, self.device)\n",
    "            \n",
    "    def __len__(self):\n",
    "        \"\"\"\n",
    "            Number of batches\n",
    "        \"\"\"\n",
    "        return len(self.dl)"
   ]
  },
  {
   "cell_type": "code",
   "execution_count": 31,
   "metadata": {},
   "outputs": [],
   "source": [
    "# Choose device\n",
    "device = torch.device(\"cuda:0\" if torch.cuda.is_available() else \"cpu\")"
   ]
  },
  {
   "cell_type": "code",
   "execution_count": 32,
   "metadata": {},
   "outputs": [
    {
     "name": "stdout",
     "output_type": "stream",
     "text": [
      "Device:  cpu\n"
     ]
    }
   ],
   "source": [
    "print(\"Device: \", device)"
   ]
  },
  {
   "cell_type": "markdown",
   "metadata": {},
   "source": [
    "# WANDB"
   ]
  },
  {
   "cell_type": "code",
   "execution_count": 33,
   "metadata": {},
   "outputs": [],
   "source": [
    "# Define sweep\n",
    "sweep_config = {\n",
    "    'method': 'random',\n",
    "    'metric': {\n",
    "      'name': 'validation_loss',\n",
    "      'goal': 'minimize'   \n",
    "    },\n",
    "    'parameters': {\n",
    "        'epochs': {\n",
    "            'values': [13, 20, 40, 60, 80, 100]\n",
    "        },\n",
    "        'learning_rate': {\n",
    "            'values': [1e-2, 3e-2, 1e-4, 3e-4, 1e-6, 3e-6]\n",
    "        },\n",
    "        'optimizer': {\n",
    "            'values': ['adam', 'sgd', 'adagrad', 'adadelta', 'rmsprop']\n",
    "        },\n",
    "        'activation': {\n",
    "            'values': ['tanh', 'relu', 'sigmoid']\n",
    "        },\n",
    "        'pool1': {\n",
    "            'values': ['maxPool', 'avgPool']\n",
    "        },\n",
    "        'pool2': {\n",
    "            'values': ['maxPool', 'avgPool']\n",
    "        },\n",
    "        'out_channels1': {\n",
    "            'values': [6, 16, 32]\n",
    "        },\n",
    "        'out_channels2': {\n",
    "            'values': [6, 16, 32]\n",
    "        }\n",
    "    }\n",
    "}"
   ]
  },
  {
   "cell_type": "code",
   "execution_count": 11,
   "metadata": {},
   "outputs": [
    {
     "name": "stderr",
     "output_type": "stream",
     "text": [
      "\u001b[34m\u001b[1mwandb\u001b[0m: You can find your API key in your browser here: https://wandb.ai/authorize\n"
     ]
    },
    {
     "name": "stdin",
     "output_type": "stream",
     "text": [
      "\u001b[34m\u001b[1mwandb\u001b[0m: Paste an API key from your profile and hit enter:  ········································\n"
     ]
    },
    {
     "name": "stderr",
     "output_type": "stream",
     "text": [
      "\u001b[34m\u001b[1mwandb\u001b[0m: Appending key for api.wandb.ai to your netrc file: /Users/dailand10/.netrc\n"
     ]
    },
    {
     "name": "stdout",
     "output_type": "stream",
     "text": [
      "Create sweep with ID: 97juurev\n",
      "Sweep URL: https://wandb.ai/itaouil/Assignment-4/sweeps/97juurev\n"
     ]
    }
   ],
   "source": [
    "# Initialize sweep\n",
    "sweep_id = wandb.sweep(sweep_config, project=\"Assignment-4\")"
   ]
  },
  {
   "cell_type": "markdown",
   "metadata": {},
   "source": [
    "# Datasets"
   ]
  },
  {
   "cell_type": "markdown",
   "metadata": {},
   "source": [
    "### Load"
   ]
  },
  {
   "cell_type": "code",
   "execution_count": 34,
   "metadata": {
    "colab": {
     "base_uri": "https://localhost:8080/"
    },
    "id": "PwA-Nbb2GUux",
    "outputId": "867a32a6-aaed-48b6-986b-c9d1196becdb"
   },
   "outputs": [
    {
     "name": "stdout",
     "output_type": "stream",
     "text": [
      "Files already downloaded and verified\n",
      "Files already downloaded and verified\n"
     ]
    }
   ],
   "source": [
    "# Transform\n",
    "transform = transforms.Compose([\n",
    "                        transforms.ToTensor(),\n",
    "                        transforms.Normalize((0.5, 0.5, 0.5), (0.5, 0.5, 0.5))])\n",
    "\n",
    "# Load dataset\n",
    "dataset = dsets.CIFAR10('./data', train=True, download=True, transform=transform)\n",
    "test_dataset = dsets.CIFAR10('./data', train=False, download=True, transform=transform)"
   ]
  },
  {
   "cell_type": "code",
   "execution_count": 35,
   "metadata": {},
   "outputs": [],
   "source": [
    "# Labels\n",
    "CLASSES = dataset.classes"
   ]
  },
  {
   "cell_type": "code",
   "execution_count": 36,
   "metadata": {},
   "outputs": [
    {
     "data": {
      "text/plain": [
       "(10,\n",
       " ['airplane',\n",
       "  'automobile',\n",
       "  'bird',\n",
       "  'cat',\n",
       "  'deer',\n",
       "  'dog',\n",
       "  'frog',\n",
       "  'horse',\n",
       "  'ship',\n",
       "  'truck'])"
      ]
     },
     "execution_count": 36,
     "metadata": {},
     "output_type": "execute_result"
    }
   ],
   "source": [
    "len(CLASSES), CLASSES"
   ]
  },
  {
   "cell_type": "markdown",
   "metadata": {},
   "source": [
    "### Preparation"
   ]
  },
  {
   "cell_type": "code",
   "execution_count": 37,
   "metadata": {
    "colab": {
     "base_uri": "https://localhost:8080/"
    },
    "id": "UIRPaHvTGUux",
    "outputId": "81bb9618-22d4-40ec-f396-e3f3398f4ca0"
   },
   "outputs": [],
   "source": [
    "# Create train and validation\n",
    "train_dataset, val_dataset = torch.utils.data.random_split(dataset, [train_size, val_size])"
   ]
  },
  {
   "cell_type": "code",
   "execution_count": 38,
   "metadata": {},
   "outputs": [
    {
     "name": "stdout",
     "output_type": "stream",
     "text": [
      "Validation set lenght:  5000\n",
      "Train set length:  45000\n"
     ]
    }
   ],
   "source": [
    "print(\"Validation set lenght: \", len(val_dataset))\n",
    "print(\"Train set length: \", len(train_dataset))"
   ]
  },
  {
   "cell_type": "code",
   "execution_count": 39,
   "metadata": {
    "id": "7bGGAbsOGUux"
   },
   "outputs": [],
   "source": [
    "# Create dataloaders\n",
    "val_loader = torch.utils.data.DataLoader(val_dataset, batch_size, num_workers=4, pin_memory=True)\n",
    "test_loader = torch.utils.data.DataLoader(test_dataset, batch_size, num_workers=4, pin_memory=True)\n",
    "train_loader = torch.utils.data.DataLoader(train_dataset, batch_size, shuffle=True, num_workers=4, pin_memory=True)"
   ]
  },
  {
   "cell_type": "code",
   "execution_count": 40,
   "metadata": {},
   "outputs": [],
   "source": [
    "# Move dataloader to device\n",
    "train_loader = DeviceDataLoader(train_loader, device)\n",
    "val_loader = DeviceDataLoader(val_loader, device)\n",
    "test_loader = DeviceDataLoader(test_loader, device)"
   ]
  },
  {
   "cell_type": "markdown",
   "metadata": {},
   "source": [
    "### Parameters"
   ]
  },
  {
   "cell_type": "code",
   "execution_count": 41,
   "metadata": {},
   "outputs": [],
   "source": [
    "# Params\n",
    "batch_size = 100\n",
    "val_size = 5000\n",
    "train_size = len(dataset) - val_size"
   ]
  },
  {
   "cell_type": "markdown",
   "metadata": {},
   "source": [
    "# Model"
   ]
  },
  {
   "cell_type": "markdown",
   "metadata": {},
   "source": [
    "### Helper Functions"
   ]
  },
  {
   "cell_type": "code",
   "execution_count": 42,
   "metadata": {
    "id": "8YqVaFruGUux"
   },
   "outputs": [],
   "source": [
    "# Accuracy\n",
    "def accuracy(outputs, labels):\n",
    "    _, preds = torch.max(outputs, dim=1)\n",
    "    return torch.tensor(torch.sum(preds == labels).item() / len(preds))\n",
    "\n",
    "# Evaluation\n",
    "def evaluate(model, val_loader):\n",
    "    outputs = [model.validation_step(batch) for batch in val_loader]\n",
    "    return model.validation_epoch_end(outputs)\n",
    "\n",
    "# Training\n",
    "def train():\n",
    "    # Default values for hyper-parameters we're going to sweep over\n",
    "    config_defaults = {\n",
    "        'epochs': 20,\n",
    "        'learning_rate': 1e-2,\n",
    "        'optimizer': 'adam',\n",
    "        'activation': 'tanh',\n",
    "        'pool1': 'maxPool',\n",
    "        'pool2': 'maxPool',\n",
    "        'out_channels1': '6',\n",
    "        'out_channels2': '6'\n",
    "    }\n",
    "    \n",
    "    # Initialize a new wandb run\n",
    "    wandb.init(config=config_defaults)\n",
    "    \n",
    "    # Config\n",
    "    config = wandb.config\n",
    "\n",
    "    # Model\n",
    "    model = CIFAR10Model(config)\n",
    "    model = to_device(model, device) \n",
    "    \n",
    "    # Choose optimizer based on sweep\n",
    "    # and add L2 regularizer\n",
    "    optimizer = None\n",
    "    if config.optimizer == 'sgd':\n",
    "        optimizer = torch.optim.SGD(model.parameters(), config.learning_rate, weight_decay=0.001)\n",
    "    elif config.optimizer == 'adam':\n",
    "        optimizer = torch.optim.Adam(model.parameters(), config.learning_rate, weight_decay=0.001)\n",
    "    elif config.optimizer == 'adagrad':\n",
    "        optimizer = torch.optim.Adagrad(model.parameters(), config.learning_rate, weight_decay=0.001)\n",
    "    elif config.optimizer == 'adadelta':\n",
    "        optimizer = torch.optim.Adadelta(model.parameters(), config.learning_rate, weight_decay=0.001)\n",
    "    else:\n",
    "        optimizer = torch.optim.RMSprop(model.parameters(), config.learning_rate, weight_decay=0.001)\n",
    "    \n",
    "    for epoch in range(config.epochs):\n",
    "        \n",
    "        # Cumulative loss\n",
    "        closs = 0\n",
    "        \n",
    "        # Training Phase \n",
    "        for batch_idx,batch in enumerate(train_loader):\n",
    "            # Feed forward\n",
    "            loss = model.training_step(batch)\n",
    "            \n",
    "            # Compute gradient\n",
    "            loss.backward()\n",
    "            \n",
    "            # Add loss to cumulative\n",
    "            closs += loss.item()\n",
    "            \n",
    "            # Backprop\n",
    "            optimizer.step()\n",
    "            \n",
    "            # Clean gradients\n",
    "            optimizer.zero_grad()\n",
    "            \n",
    "            # Log wandb (batch loss)\n",
    "            wandb.log({\"batch_loss\": loss.item()})\n",
    "        \n",
    "        # Log epoch loss (train)\n",
    "        wandb.log({\"train_loss\": closs/len(train_loader)})\n",
    "        \n",
    "        # Log validation loss\n",
    "        wandb.log({\"validation_loss\":evaluate(model, val_loader)['val_loss']})\n",
    "\n",
    "        # Log validation accuracy\n",
    "        wandb.log({\"validation_accuracy\":evaluate(model, val_loader)['val_acc']})\n",
    "    \n",
    "    # Save model\n",
    "    torch.save(model, f\"model_{config.optimizer}_{config.activation}_{config.learning_rate}_{config.epochs}.th\")"
   ]
  },
  {
   "cell_type": "markdown",
   "metadata": {},
   "source": [
    "### Model Class"
   ]
  },
  {
   "cell_type": "code",
   "execution_count": 43,
   "metadata": {},
   "outputs": [],
   "source": [
    "class CIFAR10Model(nn.Module):\n",
    "    def __init__(self, config):\n",
    "        # Init\n",
    "        super().__init__()\n",
    "        \n",
    "        # 1st CNN layer\n",
    "        self.conv1 = nn.Conv2d(in_channels=3, out_channels=config.out_channels1, kernel_size=5, stride=1, padding=0)\n",
    "        \n",
    "        # Pooling 1\n",
    "        self.pool1 = nn.MaxPool2d(kernel_size=2) if config.pool1 == \"maxPool\" else nn.AvgPool2d(kernel_size=2)\n",
    "        \n",
    "        # Convolution 2\n",
    "        self.conv2 = nn.Conv2d(in_channels=config.out_channels1, out_channels=config.out_channels2, kernel_size=5, stride=1, padding=0)\n",
    "        \n",
    "        # Pooling 2\n",
    "        self.pool2 = nn.MaxPool2d(kernel_size=2) if config.pool2 == \"maxPool\" else nn.AvgPool2d(kernel_size=2)\n",
    "        \n",
    "        # FC1\n",
    "        self.fc1 = nn.Linear(config.out_channels2 * 4 * 4, 120)\n",
    "        \n",
    "        # FC2\n",
    "        self.fc2 = nn.Linear(120, 84)\n",
    "        \n",
    "        # FC3\n",
    "        self.fc3 = nn.Linear(84, 10)\n",
    "    \n",
    "    def activation(self, input_):\n",
    "        # Output after activation\n",
    "        output = None\n",
    "        \n",
    "        # Apply activation function\n",
    "        if config.activation == \"relu\":\n",
    "            output = torch.relu(input_)\n",
    "        elif config.activation == \"tanh\":\n",
    "            output = torch.tanh(input_)\n",
    "        else:\n",
    "            output = torch.sigmoid(input_)\n",
    "                    \n",
    "        return output \n",
    "        \n",
    "    def forward(self, x):\n",
    "        # First pass\n",
    "        out = self.activation(self.conv1(x))\n",
    "        out = self.pool1(out)\n",
    "        \n",
    "        # Second conv pass\n",
    "        out = self.activation(self.conv2(out))\n",
    "        out = self.pool2(out)\n",
    "\n",
    "        # Flatten\n",
    "        out = out.view(out.size(0), -1)\n",
    " \n",
    "        # Linear function (readout)\n",
    "        out = self.activation(self.fc1(out))\n",
    "        out = self.activation(self.fc2(out))\n",
    "        out = self.fc3(out)\n",
    "         \n",
    "        return out\n",
    "    \n",
    "    def training_step(self, batch):\n",
    "        # Unpack batch\n",
    "        images, labels = batch\n",
    "        \n",
    "        # Run forward pass\n",
    "        out = self.forward(images)\n",
    "        \n",
    "        # Compute and return loss\n",
    "        return nn.CrossEntropyLoss()(out, labels)\n",
    "    \n",
    "    def validation_step(self, batch):\n",
    "        # Unpack batch\n",
    "        images, labels = batch\n",
    "        \n",
    "        # Run forward pass\n",
    "        out = self.forward(images)\n",
    "        \n",
    "        # Compute loss\n",
    "        loss = nn.CrossEntropyLoss()(out, labels)\n",
    "        \n",
    "        # Compute accuracy\n",
    "        acc = accuracy(out, labels)\n",
    "        \n",
    "        return {'val_loss': loss, 'val_acc': acc}\n",
    "    \n",
    "    def validation_epoch_end(self, outputs):\n",
    "        batch_losses = [x['val_loss'] for x in outputs]\n",
    "        epoch_loss = torch.stack(batch_losses).mean()   # Combine losses\n",
    "        batch_accs = [x['val_acc'] for x in outputs]\n",
    "        epoch_acc = torch.stack(batch_accs).mean()      # Combine accuracies\n",
    "        return {'val_loss': epoch_loss.item(), 'val_acc': epoch_acc.item()}\n",
    "    \n",
    "    def epoch_end(self, epoch, result):\n",
    "        print(\"Epoch [{}], val_loss: {:.4f}, val_acc: {:.4f}\".format(epoch, result['val_loss'], result['val_acc']))"
   ]
  },
  {
   "cell_type": "markdown",
   "metadata": {},
   "source": [
    "# Training"
   ]
  },
  {
   "cell_type": "code",
   "execution_count": 18,
   "metadata": {},
   "outputs": [
    {
     "name": "stderr",
     "output_type": "stream",
     "text": [
      "\u001b[34m\u001b[1mwandb\u001b[0m: Agent Starting Run: 8ef9coam with config:\n",
      "\u001b[34m\u001b[1mwandb\u001b[0m: \tactivation: tanh\n",
      "\u001b[34m\u001b[1mwandb\u001b[0m: \tepochs: 80\n",
      "\u001b[34m\u001b[1mwandb\u001b[0m: \tlearning_rate: 0.0003\n",
      "\u001b[34m\u001b[1mwandb\u001b[0m: \toptimizer: adam\n",
      "\u001b[34m\u001b[1mwandb\u001b[0m: Currently logged in as: \u001b[33mitaouil\u001b[0m (use `wandb login --relogin` to force relogin)\n",
      "/home/user/taouil/cvl/lib/python3.6/site-packages/IPython/html.py:14: ShimWarning: The `IPython.html` package has been deprecated since IPython 4.0. You should import from `notebook` instead. `IPython.html.widgets` has moved to `ipywidgets`.\n",
      "  \"`IPython.html.widgets` has moved to `ipywidgets`.\", ShimWarning)\n"
     ]
    },
    {
     "data": {
      "text/html": [
       "\n",
       "                Tracking run with wandb version 0.10.11<br/>\n",
       "                Syncing run <strong style=\"color:#cdcd00\">soft-sweep-1</strong> to <a href=\"https://wandb.ai\" target=\"_blank\">Weights & Biases</a> <a href=\"https://docs.wandb.com/integrations/jupyter.html\" target=\"_blank\">(Documentation)</a>.<br/>\n",
       "                Project page: <a href=\"https://wandb.ai/itaouil/Assignment-3\" target=\"_blank\">https://wandb.ai/itaouil/Assignment-3</a><br/>\n",
       "                Sweep page: <a href=\"https://wandb.ai/itaouil/Assignment-3/sweeps/ws2nc1af\" target=\"_blank\">https://wandb.ai/itaouil/Assignment-3/sweeps/ws2nc1af</a><br/>\n",
       "Run page: <a href=\"https://wandb.ai/itaouil/Assignment-3/runs/8ef9coam\" target=\"_blank\">https://wandb.ai/itaouil/Assignment-3/runs/8ef9coam</a><br/>\n",
       "                Run data is saved locally in <code>/home/user/taouil/Cuda-Vision-Lab/Assignments/03-Assignment/wandb/run-20201203_183253-8ef9coam</code><br/><br/>\n",
       "            "
      ],
      "text/plain": [
       "<IPython.core.display.HTML object>"
      ]
     },
     "metadata": {},
     "output_type": "display_data"
    },
    {
     "data": {
      "text/html": [
       "<br/>Waiting for W&B process to finish, PID 3840<br/>Program ended successfully."
      ],
      "text/plain": [
       "<IPython.core.display.HTML object>"
      ]
     },
     "metadata": {},
     "output_type": "display_data"
    },
    {
     "data": {
      "text/html": [
       "Find user logs for this run at: <code>/home/user/taouil/Cuda-Vision-Lab/Assignments/03-Assignment/wandb/run-20201203_183253-8ef9coam/logs/debug.log</code>"
      ],
      "text/plain": [
       "<IPython.core.display.HTML object>"
      ]
     },
     "metadata": {},
     "output_type": "display_data"
    },
    {
     "data": {
      "text/html": [
       "Find internal logs for this run at: <code>/home/user/taouil/Cuda-Vision-Lab/Assignments/03-Assignment/wandb/run-20201203_183253-8ef9coam/logs/debug-internal.log</code>"
      ],
      "text/plain": [
       "<IPython.core.display.HTML object>"
      ]
     },
     "metadata": {},
     "output_type": "display_data"
    },
    {
     "data": {
      "text/html": [
       "<h3>Run summary:</h3><br/><style>\n",
       "    table.wandb td:nth-child(1) { padding: 0 10px; text-align: right }\n",
       "    </style><table class=\"wandb\">\n",
       "<tr><td>batch_loss</td><td>0.34714</td></tr><tr><td>_step</td><td>14319</td></tr><tr><td>_runtime</td><td>212</td></tr><tr><td>_timestamp</td><td>1607016985</td></tr><tr><td>train_loss</td><td>0.39902</td></tr><tr><td>validation_loss</td><td>1.91345</td></tr><tr><td>validation_accuracy</td><td>0.51451</td></tr></table>"
      ],
      "text/plain": [
       "<IPython.core.display.HTML object>"
      ]
     },
     "metadata": {},
     "output_type": "display_data"
    },
    {
     "data": {
      "text/html": [
       "<h3>Run history:</h3><br/><style>\n",
       "    table.wandb td:nth-child(1) { padding: 0 10px; text-align: right }\n",
       "    </style><table class=\"wandb\">\n",
       "<tr><td>batch_loss</td><td>█▇█▆▆▇▆▆▆▆▆▆▅▅▄▅▄▄▄▄▃▃▃▃▃▂▂▂▂▂▂▃▂▂▂▁▁▁▁▁</td></tr><tr><td>_step</td><td>▁▁▁▂▂▂▂▂▂▃▃▃▃▃▃▄▄▄▄▄▅▅▅▅▅▅▆▆▆▆▆▇▇▇▇▇▇███</td></tr><tr><td>_runtime</td><td>▁▁▁▂▂▂▂▂▂▃▃▃▃▃▃▄▄▄▄▄▅▅▅▅▅▅▆▆▆▆▆▇▇▇▇▇▇███</td></tr><tr><td>_timestamp</td><td>▁▁▁▂▂▂▂▂▂▃▃▃▃▃▃▄▄▄▄▄▅▅▅▅▅▅▆▆▆▆▆▇▇▇▇▇▇███</td></tr><tr><td>train_loss</td><td>█▇▆▆▆▆▅▅▅▅▅▄▄▄▄▄▄▃▃▃▃▃▃▃▂▂▂▂▂▂▂▂▂▁▁▁▁▁▁▁</td></tr><tr><td>validation_loss</td><td>▇▅▃▂▂▂▁▁▁▁▁▁▁▁▁▁▁▁▂▁▂▂▃▃▃▃▃▄▄▅▅▅▅▆▆▆▆▇▇█</td></tr><tr><td>validation_accuracy</td><td>▁▃▄▆▆▆▇▇▇▇▇▇▇█▇█████▇██████▇████▇▇███▇▇█</td></tr></table><br/>"
      ],
      "text/plain": [
       "<IPython.core.display.HTML object>"
      ]
     },
     "metadata": {},
     "output_type": "display_data"
    },
    {
     "data": {
      "text/html": [
       "Synced 4 W&B file(s), 0 media file(s), 0 artifact file(s) and 0 other file(s)"
      ],
      "text/plain": [
       "<IPython.core.display.HTML object>"
      ]
     },
     "metadata": {},
     "output_type": "display_data"
    },
    {
     "data": {
      "text/html": [
       "\n",
       "                    <br/>Synced <strong style=\"color:#cdcd00\">soft-sweep-1</strong>: <a href=\"https://wandb.ai/itaouil/Assignment-3/runs/8ef9coam\" target=\"_blank\">https://wandb.ai/itaouil/Assignment-3/runs/8ef9coam</a><br/>\n",
       "                "
      ],
      "text/plain": [
       "<IPython.core.display.HTML object>"
      ]
     },
     "metadata": {},
     "output_type": "display_data"
    },
    {
     "name": "stderr",
     "output_type": "stream",
     "text": [
      "\u001b[34m\u001b[1mwandb\u001b[0m: Agent Starting Run: ydjg3mkv with config:\n",
      "\u001b[34m\u001b[1mwandb\u001b[0m: \tactivation: tanh\n",
      "\u001b[34m\u001b[1mwandb\u001b[0m: \tepochs: 80\n",
      "\u001b[34m\u001b[1mwandb\u001b[0m: \tlearning_rate: 0.0003\n",
      "\u001b[34m\u001b[1mwandb\u001b[0m: \toptimizer: sgd\n"
     ]
    },
    {
     "data": {
      "text/html": [
       "\n",
       "                Tracking run with wandb version 0.10.11<br/>\n",
       "                Syncing run <strong style=\"color:#cdcd00\">toasty-sweep-2</strong> to <a href=\"https://wandb.ai\" target=\"_blank\">Weights & Biases</a> <a href=\"https://docs.wandb.com/integrations/jupyter.html\" target=\"_blank\">(Documentation)</a>.<br/>\n",
       "                Project page: <a href=\"https://wandb.ai/itaouil/Assignment-3\" target=\"_blank\">https://wandb.ai/itaouil/Assignment-3</a><br/>\n",
       "                Sweep page: <a href=\"https://wandb.ai/itaouil/Assignment-3/sweeps/ws2nc1af\" target=\"_blank\">https://wandb.ai/itaouil/Assignment-3/sweeps/ws2nc1af</a><br/>\n",
       "Run page: <a href=\"https://wandb.ai/itaouil/Assignment-3/runs/ydjg3mkv\" target=\"_blank\">https://wandb.ai/itaouil/Assignment-3/runs/ydjg3mkv</a><br/>\n",
       "                Run data is saved locally in <code>/home/user/taouil/Cuda-Vision-Lab/Assignments/03-Assignment/wandb/run-20201203_183629-ydjg3mkv</code><br/><br/>\n",
       "            "
      ],
      "text/plain": [
       "<IPython.core.display.HTML object>"
      ]
     },
     "metadata": {},
     "output_type": "display_data"
    },
    {
     "data": {
      "text/html": [
       "<br/>Waiting for W&B process to finish, PID 9021<br/>Program ended successfully."
      ],
      "text/plain": [
       "<IPython.core.display.HTML object>"
      ]
     },
     "metadata": {},
     "output_type": "display_data"
    },
    {
     "data": {
      "text/html": [
       "Find user logs for this run at: <code>/home/user/taouil/Cuda-Vision-Lab/Assignments/03-Assignment/wandb/run-20201203_183629-ydjg3mkv/logs/debug.log</code>"
      ],
      "text/plain": [
       "<IPython.core.display.HTML object>"
      ]
     },
     "metadata": {},
     "output_type": "display_data"
    },
    {
     "data": {
      "text/html": [
       "Find internal logs for this run at: <code>/home/user/taouil/Cuda-Vision-Lab/Assignments/03-Assignment/wandb/run-20201203_183629-ydjg3mkv/logs/debug-internal.log</code>"
      ],
      "text/plain": [
       "<IPython.core.display.HTML object>"
      ]
     },
     "metadata": {},
     "output_type": "display_data"
    },
    {
     "data": {
      "text/html": [
       "<h3>Run summary:</h3><br/><style>\n",
       "    table.wandb td:nth-child(1) { padding: 0 10px; text-align: right }\n",
       "    </style><table class=\"wandb\">\n",
       "<tr><td>batch_loss</td><td>2.01759</td></tr><tr><td>_step</td><td>14319</td></tr><tr><td>_runtime</td><td>208</td></tr><tr><td>_timestamp</td><td>1607017197</td></tr><tr><td>train_loss</td><td>2.02873</td></tr><tr><td>validation_loss</td><td>2.03341</td></tr><tr><td>validation_accuracy</td><td>0.28213</td></tr></table>"
      ],
      "text/plain": [
       "<IPython.core.display.HTML object>"
      ]
     },
     "metadata": {},
     "output_type": "display_data"
    },
    {
     "data": {
      "text/html": [
       "<h3>Run history:</h3><br/><style>\n",
       "    table.wandb td:nth-child(1) { padding: 0 10px; text-align: right }\n",
       "    </style><table class=\"wandb\">\n",
       "<tr><td>batch_loss</td><td>█████▇▇▇▇▇▇▆▇▆▆▆▅▅▅▅▄▄▄▄▃▄▄▃▃▂▂▂▂▂▁▁▂▃▂▁</td></tr><tr><td>_step</td><td>▁▁▁▂▂▂▂▂▂▃▃▃▃▃▃▄▄▄▄▄▅▅▅▅▅▅▆▆▆▆▆▇▇▇▇▇▇███</td></tr><tr><td>_runtime</td><td>▁▁▁▂▂▂▂▂▂▃▃▃▃▃▃▄▄▄▄▄▅▅▅▅▅▅▆▆▆▆▆▆▇▇▇▇▇███</td></tr><tr><td>_timestamp</td><td>▁▁▁▂▂▂▂▂▂▃▃▃▃▃▃▄▄▄▄▄▅▅▅▅▅▅▆▆▆▆▆▆▇▇▇▇▇███</td></tr><tr><td>train_loss</td><td>███▇▇▇▇▇▇▇▆▆▆▆▆▅▅▅▅▅▄▄▄▄▃▃▃▃▃▂▂▂▂▂▂▂▁▁▁▁</td></tr><tr><td>validation_loss</td><td>████▇▇▇▇▇▇▆▆▆▆▆▅▅▅▅▄▄▄▄▄▃▃▃▃▃▃▂▂▂▂▂▂▁▁▁▁</td></tr><tr><td>validation_accuracy</td><td>▁▂▂▃▃▃▄▄▄▅▅▅▅▆▆▆▆▇▆▆▇▇▇▇▇▇▇▇▇▇▇█████████</td></tr></table><br/>"
      ],
      "text/plain": [
       "<IPython.core.display.HTML object>"
      ]
     },
     "metadata": {},
     "output_type": "display_data"
    },
    {
     "data": {
      "text/html": [
       "Synced 4 W&B file(s), 0 media file(s), 0 artifact file(s) and 0 other file(s)"
      ],
      "text/plain": [
       "<IPython.core.display.HTML object>"
      ]
     },
     "metadata": {},
     "output_type": "display_data"
    },
    {
     "data": {
      "text/html": [
       "\n",
       "                    <br/>Synced <strong style=\"color:#cdcd00\">toasty-sweep-2</strong>: <a href=\"https://wandb.ai/itaouil/Assignment-3/runs/ydjg3mkv\" target=\"_blank\">https://wandb.ai/itaouil/Assignment-3/runs/ydjg3mkv</a><br/>\n",
       "                "
      ],
      "text/plain": [
       "<IPython.core.display.HTML object>"
      ]
     },
     "metadata": {},
     "output_type": "display_data"
    },
    {
     "name": "stderr",
     "output_type": "stream",
     "text": [
      "\u001b[34m\u001b[1mwandb\u001b[0m: Agent Starting Run: cv3dcboy with config:\n",
      "\u001b[34m\u001b[1mwandb\u001b[0m: \tactivation: tanh\n",
      "\u001b[34m\u001b[1mwandb\u001b[0m: \tepochs: 80\n",
      "\u001b[34m\u001b[1mwandb\u001b[0m: \tlearning_rate: 0.0003\n",
      "\u001b[34m\u001b[1mwandb\u001b[0m: \toptimizer: adagrad\n"
     ]
    },
    {
     "data": {
      "text/html": [
       "\n",
       "                Tracking run with wandb version 0.10.11<br/>\n",
       "                Syncing run <strong style=\"color:#cdcd00\">winter-sweep-3</strong> to <a href=\"https://wandb.ai\" target=\"_blank\">Weights & Biases</a> <a href=\"https://docs.wandb.com/integrations/jupyter.html\" target=\"_blank\">(Documentation)</a>.<br/>\n",
       "                Project page: <a href=\"https://wandb.ai/itaouil/Assignment-3\" target=\"_blank\">https://wandb.ai/itaouil/Assignment-3</a><br/>\n",
       "                Sweep page: <a href=\"https://wandb.ai/itaouil/Assignment-3/sweeps/ws2nc1af\" target=\"_blank\">https://wandb.ai/itaouil/Assignment-3/sweeps/ws2nc1af</a><br/>\n",
       "Run page: <a href=\"https://wandb.ai/itaouil/Assignment-3/runs/cv3dcboy\" target=\"_blank\">https://wandb.ai/itaouil/Assignment-3/runs/cv3dcboy</a><br/>\n",
       "                Run data is saved locally in <code>/home/user/taouil/Cuda-Vision-Lab/Assignments/03-Assignment/wandb/run-20201203_184001-cv3dcboy</code><br/><br/>\n",
       "            "
      ],
      "text/plain": [
       "<IPython.core.display.HTML object>"
      ]
     },
     "metadata": {},
     "output_type": "display_data"
    },
    {
     "data": {
      "text/html": [
       "<br/>Waiting for W&B process to finish, PID 14033<br/>Program ended successfully."
      ],
      "text/plain": [
       "<IPython.core.display.HTML object>"
      ]
     },
     "metadata": {},
     "output_type": "display_data"
    },
    {
     "data": {
      "text/html": [
       "Find user logs for this run at: <code>/home/user/taouil/Cuda-Vision-Lab/Assignments/03-Assignment/wandb/run-20201203_184001-cv3dcboy/logs/debug.log</code>"
      ],
      "text/plain": [
       "<IPython.core.display.HTML object>"
      ]
     },
     "metadata": {},
     "output_type": "display_data"
    },
    {
     "data": {
      "text/html": [
       "Find internal logs for this run at: <code>/home/user/taouil/Cuda-Vision-Lab/Assignments/03-Assignment/wandb/run-20201203_184001-cv3dcboy/logs/debug-internal.log</code>"
      ],
      "text/plain": [
       "<IPython.core.display.HTML object>"
      ]
     },
     "metadata": {},
     "output_type": "display_data"
    },
    {
     "data": {
      "text/html": [
       "<h3>Run summary:</h3><br/><style>\n",
       "    table.wandb td:nth-child(1) { padding: 0 10px; text-align: right }\n",
       "    </style><table class=\"wandb\">\n",
       "<tr><td>batch_loss</td><td>1.64346</td></tr><tr><td>_step</td><td>14319</td></tr><tr><td>_runtime</td><td>216</td></tr><tr><td>_timestamp</td><td>1607017417</td></tr><tr><td>train_loss</td><td>1.55789</td></tr><tr><td>validation_loss</td><td>1.59776</td></tr><tr><td>validation_accuracy</td><td>0.44447</td></tr></table>"
      ],
      "text/plain": [
       "<IPython.core.display.HTML object>"
      ]
     },
     "metadata": {},
     "output_type": "display_data"
    },
    {
     "data": {
      "text/html": [
       "<h3>Run history:</h3><br/><style>\n",
       "    table.wandb td:nth-child(1) { padding: 0 10px; text-align: right }\n",
       "    </style><table class=\"wandb\">\n",
       "<tr><td>batch_loss</td><td>██▆▆▇▄▇▇▅▄▅▅▄▄▂▆▅▅▂▄▄▆▄▄▄▃▃▆▅▃▂▅▃▂▂▁▃▄▅▄</td></tr><tr><td>_step</td><td>▁▁▁▂▂▂▂▂▂▃▃▃▃▃▃▄▄▄▄▄▅▅▅▅▅▅▆▆▆▆▆▇▇▇▇▇▇███</td></tr><tr><td>_runtime</td><td>▁▁▁▁▂▂▂▂▂▃▃▃▃▃▃▄▄▄▄▄▅▅▅▅▅▅▆▆▆▆▆▇▇▇▇▇▇███</td></tr><tr><td>_timestamp</td><td>▁▁▁▁▂▂▂▂▂▃▃▃▃▃▃▄▄▄▄▄▅▅▅▅▅▅▆▆▆▆▆▇▇▇▇▇▇███</td></tr><tr><td>train_loss</td><td>█▅▅▄▄▄▄▃▃▃▃▃▃▃▃▃▂▂▂▂▂▂▂▂▂▂▂▂▂▂▁▁▁▁▁▁▁▁▁▁</td></tr><tr><td>validation_loss</td><td>█▆▅▅▅▄▄▄▄▄▄▃▃▃▃▃▃▃▂▃▂▂▂▂▂▂▂▂▂▂▁▂▁▁▁▁▁▁▁▁</td></tr><tr><td>validation_accuracy</td><td>▁▃▄▄▅▅▅▅▆▆▆▆▆▆▆▆▆▆▇▇▇▇▇▇▇▇▇██▇█▇████████</td></tr></table><br/>"
      ],
      "text/plain": [
       "<IPython.core.display.HTML object>"
      ]
     },
     "metadata": {},
     "output_type": "display_data"
    },
    {
     "data": {
      "text/html": [
       "Synced 4 W&B file(s), 0 media file(s), 0 artifact file(s) and 0 other file(s)"
      ],
      "text/plain": [
       "<IPython.core.display.HTML object>"
      ]
     },
     "metadata": {},
     "output_type": "display_data"
    },
    {
     "data": {
      "text/html": [
       "\n",
       "                    <br/>Synced <strong style=\"color:#cdcd00\">winter-sweep-3</strong>: <a href=\"https://wandb.ai/itaouil/Assignment-3/runs/cv3dcboy\" target=\"_blank\">https://wandb.ai/itaouil/Assignment-3/runs/cv3dcboy</a><br/>\n",
       "                "
      ],
      "text/plain": [
       "<IPython.core.display.HTML object>"
      ]
     },
     "metadata": {},
     "output_type": "display_data"
    },
    {
     "name": "stderr",
     "output_type": "stream",
     "text": [
      "\u001b[34m\u001b[1mwandb\u001b[0m: Agent Starting Run: 1ao51a21 with config:\n",
      "\u001b[34m\u001b[1mwandb\u001b[0m: \tactivation: tanh\n",
      "\u001b[34m\u001b[1mwandb\u001b[0m: \tepochs: 80\n",
      "\u001b[34m\u001b[1mwandb\u001b[0m: \tlearning_rate: 0.0003\n",
      "\u001b[34m\u001b[1mwandb\u001b[0m: \toptimizer: adadelta\n"
     ]
    },
    {
     "data": {
      "text/html": [
       "\n",
       "                Tracking run with wandb version 0.10.11<br/>\n",
       "                Syncing run <strong style=\"color:#cdcd00\">ruby-sweep-4</strong> to <a href=\"https://wandb.ai\" target=\"_blank\">Weights & Biases</a> <a href=\"https://docs.wandb.com/integrations/jupyter.html\" target=\"_blank\">(Documentation)</a>.<br/>\n",
       "                Project page: <a href=\"https://wandb.ai/itaouil/Assignment-3\" target=\"_blank\">https://wandb.ai/itaouil/Assignment-3</a><br/>\n",
       "                Sweep page: <a href=\"https://wandb.ai/itaouil/Assignment-3/sweeps/ws2nc1af\" target=\"_blank\">https://wandb.ai/itaouil/Assignment-3/sweeps/ws2nc1af</a><br/>\n",
       "Run page: <a href=\"https://wandb.ai/itaouil/Assignment-3/runs/1ao51a21\" target=\"_blank\">https://wandb.ai/itaouil/Assignment-3/runs/1ao51a21</a><br/>\n",
       "                Run data is saved locally in <code>/home/user/taouil/Cuda-Vision-Lab/Assignments/03-Assignment/wandb/run-20201203_184341-1ao51a21</code><br/><br/>\n",
       "            "
      ],
      "text/plain": [
       "<IPython.core.display.HTML object>"
      ]
     },
     "metadata": {},
     "output_type": "display_data"
    },
    {
     "data": {
      "text/html": [
       "<br/>Waiting for W&B process to finish, PID 19133<br/>Program ended successfully."
      ],
      "text/plain": [
       "<IPython.core.display.HTML object>"
      ]
     },
     "metadata": {},
     "output_type": "display_data"
    },
    {
     "data": {
      "text/html": [
       "Find user logs for this run at: <code>/home/user/taouil/Cuda-Vision-Lab/Assignments/03-Assignment/wandb/run-20201203_184341-1ao51a21/logs/debug.log</code>"
      ],
      "text/plain": [
       "<IPython.core.display.HTML object>"
      ]
     },
     "metadata": {},
     "output_type": "display_data"
    },
    {
     "data": {
      "text/html": [
       "Find internal logs for this run at: <code>/home/user/taouil/Cuda-Vision-Lab/Assignments/03-Assignment/wandb/run-20201203_184341-1ao51a21/logs/debug-internal.log</code>"
      ],
      "text/plain": [
       "<IPython.core.display.HTML object>"
      ]
     },
     "metadata": {},
     "output_type": "display_data"
    },
    {
     "data": {
      "text/html": [
       "<h3>Run summary:</h3><br/><style>\n",
       "    table.wandb td:nth-child(1) { padding: 0 10px; text-align: right }\n",
       "    </style><table class=\"wandb\">\n",
       "<tr><td>batch_loss</td><td>2.07735</td></tr><tr><td>_step</td><td>14319</td></tr><tr><td>_runtime</td><td>224</td></tr><tr><td>_timestamp</td><td>1607017645</td></tr><tr><td>train_loss</td><td>2.05235</td></tr><tr><td>validation_loss</td><td>2.05678</td></tr><tr><td>validation_accuracy</td><td>0.26944</td></tr></table>"
      ],
      "text/plain": [
       "<IPython.core.display.HTML object>"
      ]
     },
     "metadata": {},
     "output_type": "display_data"
    },
    {
     "data": {
      "text/html": [
       "<h3>Run history:</h3><br/><style>\n",
       "    table.wandb td:nth-child(1) { padding: 0 10px; text-align: right }\n",
       "    </style><table class=\"wandb\">\n",
       "<tr><td>batch_loss</td><td>███▇▇▇▇▇▇▆▆▆▆▆▆▅▆▆▅▅▅▅▄▄▄▄▄▃▂▂▃▂▃▃▁▁▂▂▁▂</td></tr><tr><td>_step</td><td>▁▁▁▂▂▂▂▂▂▃▃▃▃▃▃▄▄▄▄▄▅▅▅▅▅▅▆▆▆▆▆▇▇▇▇▇▇███</td></tr><tr><td>_runtime</td><td>▁▁▁▂▂▂▂▂▂▃▃▃▃▃▄▄▄▄▄▄▅▅▅▅▅▆▆▆▆▆▆▇▇▇▇▇▇███</td></tr><tr><td>_timestamp</td><td>▁▁▁▂▂▂▂▂▂▃▃▃▃▃▄▄▄▄▄▄▅▅▅▅▅▆▆▆▆▆▆▇▇▇▇▇▇███</td></tr><tr><td>train_loss</td><td>███▇▇▇▇▇▇▇▆▆▆▆▆▅▅▅▅▅▄▄▄▄▄▃▃▃▃▃▂▂▂▂▂▂▁▁▁▁</td></tr><tr><td>validation_loss</td><td>███▇▇▇▇▇▇▇▆▆▆▆▆▅▅▅▅▅▄▄▄▄▄▃▃▃▃▃▂▂▂▂▂▂▁▁▁▁</td></tr><tr><td>validation_accuracy</td><td>▁▂▃▃▃▄▄▄▄▅▅▆▆▆▆▆▆▆▆▆▇▇▇▇▇▇▇▇▇▇▇▇████████</td></tr></table><br/>"
      ],
      "text/plain": [
       "<IPython.core.display.HTML object>"
      ]
     },
     "metadata": {},
     "output_type": "display_data"
    },
    {
     "data": {
      "text/html": [
       "Synced 4 W&B file(s), 0 media file(s), 0 artifact file(s) and 0 other file(s)"
      ],
      "text/plain": [
       "<IPython.core.display.HTML object>"
      ]
     },
     "metadata": {},
     "output_type": "display_data"
    },
    {
     "data": {
      "text/html": [
       "\n",
       "                    <br/>Synced <strong style=\"color:#cdcd00\">ruby-sweep-4</strong>: <a href=\"https://wandb.ai/itaouil/Assignment-3/runs/1ao51a21\" target=\"_blank\">https://wandb.ai/itaouil/Assignment-3/runs/1ao51a21</a><br/>\n",
       "                "
      ],
      "text/plain": [
       "<IPython.core.display.HTML object>"
      ]
     },
     "metadata": {},
     "output_type": "display_data"
    },
    {
     "name": "stderr",
     "output_type": "stream",
     "text": [
      "\u001b[34m\u001b[1mwandb\u001b[0m: Agent Starting Run: kg9ng8zz with config:\n",
      "\u001b[34m\u001b[1mwandb\u001b[0m: \tactivation: tanh\n",
      "\u001b[34m\u001b[1mwandb\u001b[0m: \tepochs: 80\n",
      "\u001b[34m\u001b[1mwandb\u001b[0m: \tlearning_rate: 0.0003\n",
      "\u001b[34m\u001b[1mwandb\u001b[0m: \toptimizer: rmsprop\n"
     ]
    },
    {
     "data": {
      "text/html": [
       "\n",
       "                Tracking run with wandb version 0.10.11<br/>\n",
       "                Syncing run <strong style=\"color:#cdcd00\">gallant-sweep-5</strong> to <a href=\"https://wandb.ai\" target=\"_blank\">Weights & Biases</a> <a href=\"https://docs.wandb.com/integrations/jupyter.html\" target=\"_blank\">(Documentation)</a>.<br/>\n",
       "                Project page: <a href=\"https://wandb.ai/itaouil/Assignment-3\" target=\"_blank\">https://wandb.ai/itaouil/Assignment-3</a><br/>\n",
       "                Sweep page: <a href=\"https://wandb.ai/itaouil/Assignment-3/sweeps/ws2nc1af\" target=\"_blank\">https://wandb.ai/itaouil/Assignment-3/sweeps/ws2nc1af</a><br/>\n",
       "Run page: <a href=\"https://wandb.ai/itaouil/Assignment-3/runs/kg9ng8zz\" target=\"_blank\">https://wandb.ai/itaouil/Assignment-3/runs/kg9ng8zz</a><br/>\n",
       "                Run data is saved locally in <code>/home/user/taouil/Cuda-Vision-Lab/Assignments/03-Assignment/wandb/run-20201203_184729-kg9ng8zz</code><br/><br/>\n",
       "            "
      ],
      "text/plain": [
       "<IPython.core.display.HTML object>"
      ]
     },
     "metadata": {},
     "output_type": "display_data"
    },
    {
     "data": {
      "text/html": [
       "<br/>Waiting for W&B process to finish, PID 24704<br/>Program ended successfully."
      ],
      "text/plain": [
       "<IPython.core.display.HTML object>"
      ]
     },
     "metadata": {},
     "output_type": "display_data"
    },
    {
     "data": {
      "text/html": [
       "Find user logs for this run at: <code>/home/user/taouil/Cuda-Vision-Lab/Assignments/03-Assignment/wandb/run-20201203_184729-kg9ng8zz/logs/debug.log</code>"
      ],
      "text/plain": [
       "<IPython.core.display.HTML object>"
      ]
     },
     "metadata": {},
     "output_type": "display_data"
    },
    {
     "data": {
      "text/html": [
       "Find internal logs for this run at: <code>/home/user/taouil/Cuda-Vision-Lab/Assignments/03-Assignment/wandb/run-20201203_184729-kg9ng8zz/logs/debug-internal.log</code>"
      ],
      "text/plain": [
       "<IPython.core.display.HTML object>"
      ]
     },
     "metadata": {},
     "output_type": "display_data"
    },
    {
     "data": {
      "text/html": [
       "<h3>Run summary:</h3><br/><style>\n",
       "    table.wandb td:nth-child(1) { padding: 0 10px; text-align: right }\n",
       "    </style><table class=\"wandb\">\n",
       "<tr><td>batch_loss</td><td>0.58457</td></tr><tr><td>_step</td><td>14319</td></tr><tr><td>_runtime</td><td>222</td></tr><tr><td>_timestamp</td><td>1607017871</td></tr><tr><td>train_loss</td><td>0.56938</td></tr><tr><td>validation_loss</td><td>1.79485</td></tr><tr><td>validation_accuracy</td><td>0.49385</td></tr></table>"
      ],
      "text/plain": [
       "<IPython.core.display.HTML object>"
      ]
     },
     "metadata": {},
     "output_type": "display_data"
    },
    {
     "data": {
      "text/html": [
       "<h3>Run history:</h3><br/><style>\n",
       "    table.wandb td:nth-child(1) { padding: 0 10px; text-align: right }\n",
       "    </style><table class=\"wandb\">\n",
       "<tr><td>batch_loss</td><td>█▇▆▆▆▆▅▅▅▄▅▄▅▃▄▄▄▃▄▄▃▃▃▂▂▃▂▂▂▂▂▂▂▂▁▁▂▂▁▁</td></tr><tr><td>_step</td><td>▁▁▁▂▂▂▂▂▂▃▃▃▃▃▃▄▄▄▄▄▅▅▅▅▅▅▆▆▆▆▆▇▇▇▇▇▇███</td></tr><tr><td>_runtime</td><td>▁▁▁▂▂▂▂▂▂▃▃▃▃▃▄▄▄▄▄▄▅▅▅▅▅▆▆▆▆▆▆▇▇▇▇▇▇███</td></tr><tr><td>_timestamp</td><td>▁▁▁▂▂▂▂▂▂▃▃▃▃▃▄▄▄▄▄▄▅▅▅▅▅▆▆▆▆▆▆▇▇▇▇▇▇███</td></tr><tr><td>train_loss</td><td>█▆▆▆▅▅▅▅▅▄▄▄▄▄▄▄▃▃▃▃▃▃▃▃▂▂▂▂▂▂▂▂▂▂▁▁▁▁▁▁</td></tr><tr><td>validation_loss</td><td>█▆▄▃▃▃▂▂▂▂▂▂▂▁▂▁▂▁▁▁▂▁▂▂▂▂▂▂▃▂▃▂▄▃▃▃▄▄▄▄</td></tr><tr><td>validation_accuracy</td><td>▁▄▅▆▆▆▇▇▆▇▇▇▇█▇▇▇██▇▇█▇▇████▇███▇███████</td></tr></table><br/>"
      ],
      "text/plain": [
       "<IPython.core.display.HTML object>"
      ]
     },
     "metadata": {},
     "output_type": "display_data"
    },
    {
     "data": {
      "text/html": [
       "Synced 4 W&B file(s), 0 media file(s), 0 artifact file(s) and 0 other file(s)"
      ],
      "text/plain": [
       "<IPython.core.display.HTML object>"
      ]
     },
     "metadata": {},
     "output_type": "display_data"
    },
    {
     "data": {
      "text/html": [
       "\n",
       "                    <br/>Synced <strong style=\"color:#cdcd00\">gallant-sweep-5</strong>: <a href=\"https://wandb.ai/itaouil/Assignment-3/runs/kg9ng8zz\" target=\"_blank\">https://wandb.ai/itaouil/Assignment-3/runs/kg9ng8zz</a><br/>\n",
       "                "
      ],
      "text/plain": [
       "<IPython.core.display.HTML object>"
      ]
     },
     "metadata": {},
     "output_type": "display_data"
    },
    {
     "name": "stderr",
     "output_type": "stream",
     "text": [
      "\u001b[34m\u001b[1mwandb\u001b[0m: Agent Starting Run: czgm4gqt with config:\n",
      "\u001b[34m\u001b[1mwandb\u001b[0m: \tactivation: tanh\n",
      "\u001b[34m\u001b[1mwandb\u001b[0m: \tepochs: 140\n",
      "\u001b[34m\u001b[1mwandb\u001b[0m: \tlearning_rate: 0.0003\n",
      "\u001b[34m\u001b[1mwandb\u001b[0m: \toptimizer: adam\n"
     ]
    },
    {
     "data": {
      "text/html": [
       "\n",
       "                Tracking run with wandb version 0.10.11<br/>\n",
       "                Syncing run <strong style=\"color:#cdcd00\">winter-sweep-6</strong> to <a href=\"https://wandb.ai\" target=\"_blank\">Weights & Biases</a> <a href=\"https://docs.wandb.com/integrations/jupyter.html\" target=\"_blank\">(Documentation)</a>.<br/>\n",
       "                Project page: <a href=\"https://wandb.ai/itaouil/Assignment-3\" target=\"_blank\">https://wandb.ai/itaouil/Assignment-3</a><br/>\n",
       "                Sweep page: <a href=\"https://wandb.ai/itaouil/Assignment-3/sweeps/ws2nc1af\" target=\"_blank\">https://wandb.ai/itaouil/Assignment-3/sweeps/ws2nc1af</a><br/>\n",
       "Run page: <a href=\"https://wandb.ai/itaouil/Assignment-3/runs/czgm4gqt\" target=\"_blank\">https://wandb.ai/itaouil/Assignment-3/runs/czgm4gqt</a><br/>\n",
       "                Run data is saved locally in <code>/home/user/taouil/Cuda-Vision-Lab/Assignments/03-Assignment/wandb/run-20201203_185114-czgm4gqt</code><br/><br/>\n",
       "            "
      ],
      "text/plain": [
       "<IPython.core.display.HTML object>"
      ]
     },
     "metadata": {},
     "output_type": "display_data"
    },
    {
     "data": {
      "text/html": [
       "<br/>Waiting for W&B process to finish, PID 29796<br/>Program ended successfully."
      ],
      "text/plain": [
       "<IPython.core.display.HTML object>"
      ]
     },
     "metadata": {},
     "output_type": "display_data"
    },
    {
     "data": {
      "text/html": [
       "Find user logs for this run at: <code>/home/user/taouil/Cuda-Vision-Lab/Assignments/03-Assignment/wandb/run-20201203_185114-czgm4gqt/logs/debug.log</code>"
      ],
      "text/plain": [
       "<IPython.core.display.HTML object>"
      ]
     },
     "metadata": {},
     "output_type": "display_data"
    },
    {
     "data": {
      "text/html": [
       "Find internal logs for this run at: <code>/home/user/taouil/Cuda-Vision-Lab/Assignments/03-Assignment/wandb/run-20201203_185114-czgm4gqt/logs/debug-internal.log</code>"
      ],
      "text/plain": [
       "<IPython.core.display.HTML object>"
      ]
     },
     "metadata": {},
     "output_type": "display_data"
    },
    {
     "data": {
      "text/html": [
       "<h3>Run summary:</h3><br/><style>\n",
       "    table.wandb td:nth-child(1) { padding: 0 10px; text-align: right }\n",
       "    </style><table class=\"wandb\">\n",
       "<tr><td>batch_loss</td><td>0.27057</td></tr><tr><td>_step</td><td>25059</td></tr><tr><td>_runtime</td><td>384</td></tr><tr><td>_timestamp</td><td>1607018258</td></tr><tr><td>train_loss</td><td>0.24545</td></tr><tr><td>validation_loss</td><td>2.29456</td></tr><tr><td>validation_accuracy</td><td>0.50832</td></tr></table>"
      ],
      "text/plain": [
       "<IPython.core.display.HTML object>"
      ]
     },
     "metadata": {},
     "output_type": "display_data"
    },
    {
     "data": {
      "text/html": [
       "<h3>Run history:</h3><br/><style>\n",
       "    table.wandb td:nth-child(1) { padding: 0 10px; text-align: right }\n",
       "    </style><table class=\"wandb\">\n",
       "<tr><td>batch_loss</td><td>█▇▇▆▅▆▅▅▄▄▄▃▃▃▃▂▃▂▂▂▂▂▂▂▂▁▁▂▂▁▁▁▁▂▁▁▁▁▁▁</td></tr><tr><td>_step</td><td>▁▁▁▂▂▂▂▂▂▃▃▃▃▃▃▄▄▄▄▄▅▅▅▅▅▅▆▆▆▆▆▇▇▇▇▇▇███</td></tr><tr><td>_runtime</td><td>▁▁▁▁▂▂▂▂▂▃▃▃▃▃▃▄▄▄▄▄▄▅▅▅▅▅▆▆▆▆▆▆▇▇▇▇▇███</td></tr><tr><td>_timestamp</td><td>▁▁▁▁▂▂▂▂▂▃▃▃▃▃▃▄▄▄▄▄▄▅▅▅▅▅▆▆▆▆▆▆▇▇▇▇▇███</td></tr><tr><td>train_loss</td><td>█▇▇▆▆▆▅▅▅▄▄▄▃▃▃▃▃▂▂▂▂▂▂▂▂▁▁▁▁▁▁▁▁▁▁▁▁▁▁▁</td></tr><tr><td>validation_loss</td><td>▃▂▂▁▁▁▁▁▁▁▁▂▂▂▂▃▃▃▃▄▄▅▅▄▅▅▆▆▆▆▇▇▇▇▇▇▇███</td></tr><tr><td>validation_accuracy</td><td>▁▃▃▆▆▇▇▇█▇▇▇█▇▇█▇█▇▇█▇▇█▇████▇▇█▇▇▇█▇▇▇▇</td></tr></table><br/>"
      ],
      "text/plain": [
       "<IPython.core.display.HTML object>"
      ]
     },
     "metadata": {},
     "output_type": "display_data"
    },
    {
     "data": {
      "text/html": [
       "Synced 4 W&B file(s), 0 media file(s), 0 artifact file(s) and 0 other file(s)"
      ],
      "text/plain": [
       "<IPython.core.display.HTML object>"
      ]
     },
     "metadata": {},
     "output_type": "display_data"
    },
    {
     "data": {
      "text/html": [
       "\n",
       "                    <br/>Synced <strong style=\"color:#cdcd00\">winter-sweep-6</strong>: <a href=\"https://wandb.ai/itaouil/Assignment-3/runs/czgm4gqt\" target=\"_blank\">https://wandb.ai/itaouil/Assignment-3/runs/czgm4gqt</a><br/>\n",
       "                "
      ],
      "text/plain": [
       "<IPython.core.display.HTML object>"
      ]
     },
     "metadata": {},
     "output_type": "display_data"
    },
    {
     "name": "stderr",
     "output_type": "stream",
     "text": [
      "\u001b[34m\u001b[1mwandb\u001b[0m: Agent Starting Run: amqmmc9a with config:\n",
      "\u001b[34m\u001b[1mwandb\u001b[0m: \tactivation: tanh\n",
      "\u001b[34m\u001b[1mwandb\u001b[0m: \tepochs: 140\n",
      "\u001b[34m\u001b[1mwandb\u001b[0m: \tlearning_rate: 0.0003\n",
      "\u001b[34m\u001b[1mwandb\u001b[0m: \toptimizer: sgd\n"
     ]
    },
    {
     "data": {
      "text/html": [
       "\n",
       "                Tracking run with wandb version 0.10.11<br/>\n",
       "                Syncing run <strong style=\"color:#cdcd00\">dutiful-sweep-7</strong> to <a href=\"https://wandb.ai\" target=\"_blank\">Weights & Biases</a> <a href=\"https://docs.wandb.com/integrations/jupyter.html\" target=\"_blank\">(Documentation)</a>.<br/>\n",
       "                Project page: <a href=\"https://wandb.ai/itaouil/Assignment-3\" target=\"_blank\">https://wandb.ai/itaouil/Assignment-3</a><br/>\n",
       "                Sweep page: <a href=\"https://wandb.ai/itaouil/Assignment-3/sweeps/ws2nc1af\" target=\"_blank\">https://wandb.ai/itaouil/Assignment-3/sweeps/ws2nc1af</a><br/>\n",
       "Run page: <a href=\"https://wandb.ai/itaouil/Assignment-3/runs/amqmmc9a\" target=\"_blank\">https://wandb.ai/itaouil/Assignment-3/runs/amqmmc9a</a><br/>\n",
       "                Run data is saved locally in <code>/home/user/taouil/Cuda-Vision-Lab/Assignments/03-Assignment/wandb/run-20201203_185742-amqmmc9a</code><br/><br/>\n",
       "            "
      ],
      "text/plain": [
       "<IPython.core.display.HTML object>"
      ]
     },
     "metadata": {},
     "output_type": "display_data"
    },
    {
     "data": {
      "text/html": [
       "<br/>Waiting for W&B process to finish, PID 6386<br/>Program ended successfully."
      ],
      "text/plain": [
       "<IPython.core.display.HTML object>"
      ]
     },
     "metadata": {},
     "output_type": "display_data"
    },
    {
     "data": {
      "text/html": [
       "Find user logs for this run at: <code>/home/user/taouil/Cuda-Vision-Lab/Assignments/03-Assignment/wandb/run-20201203_185742-amqmmc9a/logs/debug.log</code>"
      ],
      "text/plain": [
       "<IPython.core.display.HTML object>"
      ]
     },
     "metadata": {},
     "output_type": "display_data"
    },
    {
     "data": {
      "text/html": [
       "Find internal logs for this run at: <code>/home/user/taouil/Cuda-Vision-Lab/Assignments/03-Assignment/wandb/run-20201203_185742-amqmmc9a/logs/debug-internal.log</code>"
      ],
      "text/plain": [
       "<IPython.core.display.HTML object>"
      ]
     },
     "metadata": {},
     "output_type": "display_data"
    },
    {
     "data": {
      "text/html": [
       "<h3>Run summary:</h3><br/><style>\n",
       "    table.wandb td:nth-child(1) { padding: 0 10px; text-align: right }\n",
       "    </style><table class=\"wandb\">\n",
       "<tr><td>batch_loss</td><td>1.9535</td></tr><tr><td>_step</td><td>25059</td></tr><tr><td>_runtime</td><td>375</td></tr><tr><td>_timestamp</td><td>1607018637</td></tr><tr><td>train_loss</td><td>1.94103</td></tr><tr><td>validation_loss</td><td>1.94215</td></tr><tr><td>validation_accuracy</td><td>0.3173</td></tr></table>"
      ],
      "text/plain": [
       "<IPython.core.display.HTML object>"
      ]
     },
     "metadata": {},
     "output_type": "display_data"
    },
    {
     "data": {
      "text/html": [
       "<h3>Run history:</h3><br/><style>\n",
       "    table.wandb td:nth-child(1) { padding: 0 10px; text-align: right }\n",
       "    </style><table class=\"wandb\">\n",
       "<tr><td>batch_loss</td><td>████▇▇▇▇▆▆▆▆▅▅▅▅▄▄▃▄▄▄▃▄▃▃▃▃▂▃▂▂▂▂▂▃▂▁▂▁</td></tr><tr><td>_step</td><td>▁▁▁▂▂▂▂▂▂▃▃▃▃▃▃▄▄▄▄▄▅▅▅▅▅▅▆▆▆▆▆▇▇▇▇▇▇███</td></tr><tr><td>_runtime</td><td>▁▁▁▂▂▂▂▂▂▃▃▃▃▃▄▄▄▄▄▄▅▅▅▅▅▅▆▆▆▆▆▇▇▇▇▇▇███</td></tr><tr><td>_timestamp</td><td>▁▁▁▂▂▂▂▂▂▃▃▃▃▃▄▄▄▄▄▄▅▅▅▅▅▅▆▆▆▆▆▇▇▇▇▇▇███</td></tr><tr><td>train_loss</td><td>███▇▇▇▇▆▆▆▆▅▅▅▄▄▄▄▄▃▃▃▃▃▃▂▂▂▂▂▂▂▂▂▁▁▁▁▁▁</td></tr><tr><td>validation_loss</td><td>███▇▇▇▇▆▆▆▆▅▅▅▅▄▄▄▄▃▃▃▃▃▃▂▂▂▂▂▂▂▂▂▁▁▁▁▁▁</td></tr><tr><td>validation_accuracy</td><td>▁▁▂▃▃▄▄▄▅▅▅▅▅▅▅▆▆▆▆▆▆▆▆▆▇▆▇▇▇▇▇▇▇▇▇▇████</td></tr></table><br/>"
      ],
      "text/plain": [
       "<IPython.core.display.HTML object>"
      ]
     },
     "metadata": {},
     "output_type": "display_data"
    },
    {
     "data": {
      "text/html": [
       "Synced 4 W&B file(s), 0 media file(s), 0 artifact file(s) and 0 other file(s)"
      ],
      "text/plain": [
       "<IPython.core.display.HTML object>"
      ]
     },
     "metadata": {},
     "output_type": "display_data"
    },
    {
     "data": {
      "text/html": [
       "\n",
       "                    <br/>Synced <strong style=\"color:#cdcd00\">dutiful-sweep-7</strong>: <a href=\"https://wandb.ai/itaouil/Assignment-3/runs/amqmmc9a\" target=\"_blank\">https://wandb.ai/itaouil/Assignment-3/runs/amqmmc9a</a><br/>\n",
       "                "
      ],
      "text/plain": [
       "<IPython.core.display.HTML object>"
      ]
     },
     "metadata": {},
     "output_type": "display_data"
    },
    {
     "name": "stderr",
     "output_type": "stream",
     "text": [
      "\u001b[34m\u001b[1mwandb\u001b[0m: Sweep Agent: Waiting for job.\n",
      "\u001b[34m\u001b[1mwandb\u001b[0m: Job received.\n",
      "\u001b[34m\u001b[1mwandb\u001b[0m: Agent Starting Run: iwxqrz6a with config:\n",
      "\u001b[34m\u001b[1mwandb\u001b[0m: \tactivation: tanh\n",
      "\u001b[34m\u001b[1mwandb\u001b[0m: \tepochs: 140\n",
      "\u001b[34m\u001b[1mwandb\u001b[0m: \tlearning_rate: 0.0003\n",
      "\u001b[34m\u001b[1mwandb\u001b[0m: \toptimizer: adagrad\n"
     ]
    },
    {
     "data": {
      "text/html": [
       "\n",
       "                Tracking run with wandb version 0.10.11<br/>\n",
       "                Syncing run <strong style=\"color:#cdcd00\">stoic-sweep-8</strong> to <a href=\"https://wandb.ai\" target=\"_blank\">Weights & Biases</a> <a href=\"https://docs.wandb.com/integrations/jupyter.html\" target=\"_blank\">(Documentation)</a>.<br/>\n",
       "                Project page: <a href=\"https://wandb.ai/itaouil/Assignment-3\" target=\"_blank\">https://wandb.ai/itaouil/Assignment-3</a><br/>\n",
       "                Sweep page: <a href=\"https://wandb.ai/itaouil/Assignment-3/sweeps/ws2nc1af\" target=\"_blank\">https://wandb.ai/itaouil/Assignment-3/sweeps/ws2nc1af</a><br/>\n",
       "Run page: <a href=\"https://wandb.ai/itaouil/Assignment-3/runs/iwxqrz6a\" target=\"_blank\">https://wandb.ai/itaouil/Assignment-3/runs/iwxqrz6a</a><br/>\n",
       "                Run data is saved locally in <code>/home/user/taouil/Cuda-Vision-Lab/Assignments/03-Assignment/wandb/run-20201203_190410-iwxqrz6a</code><br/><br/>\n",
       "            "
      ],
      "text/plain": [
       "<IPython.core.display.HTML object>"
      ]
     },
     "metadata": {},
     "output_type": "display_data"
    },
    {
     "data": {
      "text/html": [
       "<br/>Waiting for W&B process to finish, PID 15370<br/>Program ended successfully."
      ],
      "text/plain": [
       "<IPython.core.display.HTML object>"
      ]
     },
     "metadata": {},
     "output_type": "display_data"
    },
    {
     "data": {
      "text/html": [
       "Find user logs for this run at: <code>/home/user/taouil/Cuda-Vision-Lab/Assignments/03-Assignment/wandb/run-20201203_190410-iwxqrz6a/logs/debug.log</code>"
      ],
      "text/plain": [
       "<IPython.core.display.HTML object>"
      ]
     },
     "metadata": {},
     "output_type": "display_data"
    },
    {
     "data": {
      "text/html": [
       "Find internal logs for this run at: <code>/home/user/taouil/Cuda-Vision-Lab/Assignments/03-Assignment/wandb/run-20201203_190410-iwxqrz6a/logs/debug-internal.log</code>"
      ],
      "text/plain": [
       "<IPython.core.display.HTML object>"
      ]
     },
     "metadata": {},
     "output_type": "display_data"
    },
    {
     "data": {
      "text/html": [
       "<h3>Run summary:</h3><br/><style>\n",
       "    table.wandb td:nth-child(1) { padding: 0 10px; text-align: right }\n",
       "    </style><table class=\"wandb\">\n",
       "<tr><td>batch_loss</td><td>1.50703</td></tr><tr><td>_step</td><td>25059</td></tr><tr><td>_runtime</td><td>379</td></tr><tr><td>_timestamp</td><td>1607019029</td></tr><tr><td>train_loss</td><td>1.51155</td></tr><tr><td>validation_loss</td><td>1.56539</td></tr><tr><td>validation_accuracy</td><td>0.4533</td></tr></table>"
      ],
      "text/plain": [
       "<IPython.core.display.HTML object>"
      ]
     },
     "metadata": {},
     "output_type": "display_data"
    },
    {
     "data": {
      "text/html": [
       "<h3>Run history:</h3><br/><style>\n",
       "    table.wandb td:nth-child(1) { padding: 0 10px; text-align: right }\n",
       "    </style><table class=\"wandb\">\n",
       "<tr><td>batch_loss</td><td>█▇▅▅▆▅▅▅▅▄▅▅▄▂▃▅▄▂▄▂▂▃▄▅▃▅▁▃▅▄▃▂▁▅▃▄▂▂▂▅</td></tr><tr><td>_step</td><td>▁▁▁▂▂▂▂▂▂▃▃▃▃▃▃▄▄▄▄▄▅▅▅▅▅▅▆▆▆▆▆▇▇▇▇▇▇███</td></tr><tr><td>_runtime</td><td>▁▁▁▁▂▂▂▂▂▃▃▃▃▃▄▄▄▄▄▄▅▅▅▅▅▆▆▆▆▆▆▇▇▇▇▇▇███</td></tr><tr><td>_timestamp</td><td>▁▁▁▁▂▂▂▂▂▃▃▃▃▃▄▄▄▄▄▄▅▅▅▅▅▆▆▆▆▆▆▇▇▇▇▇▇███</td></tr><tr><td>train_loss</td><td>█▇▆▅▅▅▅▄▄▄▄▃▃▃▃▃▃▃▂▂▂▂▂▂▂▂▂▂▂▂▂▁▁▁▁▁▁▁▁▁</td></tr><tr><td>validation_loss</td><td>█▇▆▅▅▅▄▄▄▄▃▃▃▃▃▃▂▂▂▂▂▂▂▂▂▂▂▁▁▁▁▁▁▁▁▁▁▁▁▁</td></tr><tr><td>validation_accuracy</td><td>▁▂▃▄▄▄▅▅▆▆▅▆▆▆▇▆▆▇▇▇▇▇▇▇▇█▇█████████████</td></tr></table><br/>"
      ],
      "text/plain": [
       "<IPython.core.display.HTML object>"
      ]
     },
     "metadata": {},
     "output_type": "display_data"
    },
    {
     "data": {
      "text/html": [
       "Synced 4 W&B file(s), 0 media file(s), 0 artifact file(s) and 0 other file(s)"
      ],
      "text/plain": [
       "<IPython.core.display.HTML object>"
      ]
     },
     "metadata": {},
     "output_type": "display_data"
    },
    {
     "data": {
      "text/html": [
       "\n",
       "                    <br/>Synced <strong style=\"color:#cdcd00\">stoic-sweep-8</strong>: <a href=\"https://wandb.ai/itaouil/Assignment-3/runs/iwxqrz6a\" target=\"_blank\">https://wandb.ai/itaouil/Assignment-3/runs/iwxqrz6a</a><br/>\n",
       "                "
      ],
      "text/plain": [
       "<IPython.core.display.HTML object>"
      ]
     },
     "metadata": {},
     "output_type": "display_data"
    },
    {
     "name": "stderr",
     "output_type": "stream",
     "text": [
      "\u001b[34m\u001b[1mwandb\u001b[0m: Agent Starting Run: 8bh4oeav with config:\n",
      "\u001b[34m\u001b[1mwandb\u001b[0m: \tactivation: tanh\n",
      "\u001b[34m\u001b[1mwandb\u001b[0m: \tepochs: 140\n",
      "\u001b[34m\u001b[1mwandb\u001b[0m: \tlearning_rate: 0.0003\n",
      "\u001b[34m\u001b[1mwandb\u001b[0m: \toptimizer: adadelta\n"
     ]
    },
    {
     "data": {
      "text/html": [
       "\n",
       "                Tracking run with wandb version 0.10.11<br/>\n",
       "                Syncing run <strong style=\"color:#cdcd00\">lemon-sweep-9</strong> to <a href=\"https://wandb.ai\" target=\"_blank\">Weights & Biases</a> <a href=\"https://docs.wandb.com/integrations/jupyter.html\" target=\"_blank\">(Documentation)</a>.<br/>\n",
       "                Project page: <a href=\"https://wandb.ai/itaouil/Assignment-3\" target=\"_blank\">https://wandb.ai/itaouil/Assignment-3</a><br/>\n",
       "                Sweep page: <a href=\"https://wandb.ai/itaouil/Assignment-3/sweeps/ws2nc1af\" target=\"_blank\">https://wandb.ai/itaouil/Assignment-3/sweeps/ws2nc1af</a><br/>\n",
       "Run page: <a href=\"https://wandb.ai/itaouil/Assignment-3/runs/8bh4oeav\" target=\"_blank\">https://wandb.ai/itaouil/Assignment-3/runs/8bh4oeav</a><br/>\n",
       "                Run data is saved locally in <code>/home/user/taouil/Cuda-Vision-Lab/Assignments/03-Assignment/wandb/run-20201203_191032-8bh4oeav</code><br/><br/>\n",
       "            "
      ],
      "text/plain": [
       "<IPython.core.display.HTML object>"
      ]
     },
     "metadata": {},
     "output_type": "display_data"
    },
    {
     "data": {
      "text/html": [
       "<br/>Waiting for W&B process to finish, PID 24164<br/>Program ended successfully."
      ],
      "text/plain": [
       "<IPython.core.display.HTML object>"
      ]
     },
     "metadata": {},
     "output_type": "display_data"
    },
    {
     "data": {
      "text/html": [
       "Find user logs for this run at: <code>/home/user/taouil/Cuda-Vision-Lab/Assignments/03-Assignment/wandb/run-20201203_191032-8bh4oeav/logs/debug.log</code>"
      ],
      "text/plain": [
       "<IPython.core.display.HTML object>"
      ]
     },
     "metadata": {},
     "output_type": "display_data"
    },
    {
     "data": {
      "text/html": [
       "Find internal logs for this run at: <code>/home/user/taouil/Cuda-Vision-Lab/Assignments/03-Assignment/wandb/run-20201203_191032-8bh4oeav/logs/debug-internal.log</code>"
      ],
      "text/plain": [
       "<IPython.core.display.HTML object>"
      ]
     },
     "metadata": {},
     "output_type": "display_data"
    },
    {
     "data": {
      "text/html": [
       "<h3>Run summary:</h3><br/><style>\n",
       "    table.wandb td:nth-child(1) { padding: 0 10px; text-align: right }\n",
       "    </style><table class=\"wandb\">\n",
       "<tr><td>batch_loss</td><td>1.93359</td></tr><tr><td>_step</td><td>25059</td></tr><tr><td>_runtime</td><td>386</td></tr><tr><td>_timestamp</td><td>1607019418</td></tr><tr><td>train_loss</td><td>1.95195</td></tr><tr><td>validation_loss</td><td>1.95395</td></tr><tr><td>validation_accuracy</td><td>0.30855</td></tr></table>"
      ],
      "text/plain": [
       "<IPython.core.display.HTML object>"
      ]
     },
     "metadata": {},
     "output_type": "display_data"
    },
    {
     "data": {
      "text/html": [
       "<h3>Run history:</h3><br/><style>\n",
       "    table.wandb td:nth-child(1) { padding: 0 10px; text-align: right }\n",
       "    </style><table class=\"wandb\">\n",
       "<tr><td>batch_loss</td><td>███▇▇▇▇▇▇▆▆▆▅▆▅▆▆▄▅▄▄▄▄▃▃▄▂▃▄▂▂▁▃▃▂▂▂▁▁▁</td></tr><tr><td>_step</td><td>▁▁▁▂▂▂▂▂▂▃▃▃▃▃▃▄▄▄▄▄▅▅▅▅▅▅▆▆▆▆▆▇▇▇▇▇▇███</td></tr><tr><td>_runtime</td><td>▁▁▁▂▂▂▂▂▂▃▃▃▃▃▃▄▄▄▄▄▅▅▅▅▅▅▆▆▆▆▆▇▇▇▇▇▇███</td></tr><tr><td>_timestamp</td><td>▁▁▁▂▂▂▂▂▂▃▃▃▃▃▃▄▄▄▄▄▅▅▅▅▅▅▆▆▆▆▆▇▇▇▇▇▇███</td></tr><tr><td>train_loss</td><td>███▇▇▇▇▇▆▆▆▆▅▅▅▄▄▄▄▄▃▃▃▃▃▃▂▂▂▂▂▂▂▂▁▁▁▁▁▁</td></tr><tr><td>validation_loss</td><td>███▇▇▇▇▇▆▆▆▆▅▅▅▅▄▄▄▄▃▃▃▃▃▃▂▂▂▂▂▂▂▂▁▁▁▁▁▁</td></tr><tr><td>validation_accuracy</td><td>▁▁▂▃▃▄▄▅▅▅▅▅▆▆▆▆▆▆▆▆▆▇▇▇▇▇▇▇▇▇▇▇▇▇██████</td></tr></table><br/>"
      ],
      "text/plain": [
       "<IPython.core.display.HTML object>"
      ]
     },
     "metadata": {},
     "output_type": "display_data"
    },
    {
     "data": {
      "text/html": [
       "Synced 4 W&B file(s), 0 media file(s), 0 artifact file(s) and 0 other file(s)"
      ],
      "text/plain": [
       "<IPython.core.display.HTML object>"
      ]
     },
     "metadata": {},
     "output_type": "display_data"
    },
    {
     "data": {
      "text/html": [
       "\n",
       "                    <br/>Synced <strong style=\"color:#cdcd00\">lemon-sweep-9</strong>: <a href=\"https://wandb.ai/itaouil/Assignment-3/runs/8bh4oeav\" target=\"_blank\">https://wandb.ai/itaouil/Assignment-3/runs/8bh4oeav</a><br/>\n",
       "                "
      ],
      "text/plain": [
       "<IPython.core.display.HTML object>"
      ]
     },
     "metadata": {},
     "output_type": "display_data"
    },
    {
     "name": "stderr",
     "output_type": "stream",
     "text": [
      "\u001b[34m\u001b[1mwandb\u001b[0m: Agent Starting Run: s4yj8lt1 with config:\n",
      "\u001b[34m\u001b[1mwandb\u001b[0m: \tactivation: tanh\n",
      "\u001b[34m\u001b[1mwandb\u001b[0m: \tepochs: 140\n",
      "\u001b[34m\u001b[1mwandb\u001b[0m: \tlearning_rate: 0.0003\n",
      "\u001b[34m\u001b[1mwandb\u001b[0m: \toptimizer: rmsprop\n"
     ]
    },
    {
     "data": {
      "text/html": [
       "\n",
       "                Tracking run with wandb version 0.10.11<br/>\n",
       "                Syncing run <strong style=\"color:#cdcd00\">amber-sweep-10</strong> to <a href=\"https://wandb.ai\" target=\"_blank\">Weights & Biases</a> <a href=\"https://docs.wandb.com/integrations/jupyter.html\" target=\"_blank\">(Documentation)</a>.<br/>\n",
       "                Project page: <a href=\"https://wandb.ai/itaouil/Assignment-3\" target=\"_blank\">https://wandb.ai/itaouil/Assignment-3</a><br/>\n",
       "                Sweep page: <a href=\"https://wandb.ai/itaouil/Assignment-3/sweeps/ws2nc1af\" target=\"_blank\">https://wandb.ai/itaouil/Assignment-3/sweeps/ws2nc1af</a><br/>\n",
       "Run page: <a href=\"https://wandb.ai/itaouil/Assignment-3/runs/s4yj8lt1\" target=\"_blank\">https://wandb.ai/itaouil/Assignment-3/runs/s4yj8lt1</a><br/>\n",
       "                Run data is saved locally in <code>/home/user/taouil/Cuda-Vision-Lab/Assignments/03-Assignment/wandb/run-20201203_191701-s4yj8lt1</code><br/><br/>\n",
       "            "
      ],
      "text/plain": [
       "<IPython.core.display.HTML object>"
      ]
     },
     "metadata": {},
     "output_type": "display_data"
    },
    {
     "data": {
      "text/html": [
       "<br/>Waiting for W&B process to finish, PID 1225<br/>Program ended successfully."
      ],
      "text/plain": [
       "<IPython.core.display.HTML object>"
      ]
     },
     "metadata": {},
     "output_type": "display_data"
    },
    {
     "data": {
      "text/html": [
       "Find user logs for this run at: <code>/home/user/taouil/Cuda-Vision-Lab/Assignments/03-Assignment/wandb/run-20201203_191701-s4yj8lt1/logs/debug.log</code>"
      ],
      "text/plain": [
       "<IPython.core.display.HTML object>"
      ]
     },
     "metadata": {},
     "output_type": "display_data"
    },
    {
     "data": {
      "text/html": [
       "Find internal logs for this run at: <code>/home/user/taouil/Cuda-Vision-Lab/Assignments/03-Assignment/wandb/run-20201203_191701-s4yj8lt1/logs/debug-internal.log</code>"
      ],
      "text/plain": [
       "<IPython.core.display.HTML object>"
      ]
     },
     "metadata": {},
     "output_type": "display_data"
    },
    {
     "data": {
      "text/html": [
       "<h3>Run summary:</h3><br/><style>\n",
       "    table.wandb td:nth-child(1) { padding: 0 10px; text-align: right }\n",
       "    </style><table class=\"wandb\">\n",
       "<tr><td>batch_loss</td><td>0.25598</td></tr><tr><td>_step</td><td>25059</td></tr><tr><td>_runtime</td><td>373</td></tr><tr><td>_timestamp</td><td>1607019794</td></tr><tr><td>train_loss</td><td>0.30021</td></tr><tr><td>validation_loss</td><td>2.24292</td></tr><tr><td>validation_accuracy</td><td>0.4882</td></tr></table>"
      ],
      "text/plain": [
       "<IPython.core.display.HTML object>"
      ]
     },
     "metadata": {},
     "output_type": "display_data"
    },
    {
     "data": {
      "text/html": [
       "<h3>Run history:</h3><br/><style>\n",
       "    table.wandb td:nth-child(1) { padding: 0 10px; text-align: right }\n",
       "    </style><table class=\"wandb\">\n",
       "<tr><td>batch_loss</td><td>██▇▆▆▆▆▅▅▅▅▄▄▄▄▄▄▃▃▃▃▂▃▂▂▂▂▁▂▁▂▁▁▁▂▁▂▁▁▁</td></tr><tr><td>_step</td><td>▁▁▁▂▂▂▂▂▂▃▃▃▃▃▃▄▄▄▄▄▅▅▅▅▅▅▆▆▆▆▆▇▇▇▇▇▇███</td></tr><tr><td>_runtime</td><td>▁▁▁▂▂▂▂▂▂▃▃▃▃▃▄▄▄▄▄▄▅▅▅▅▅▅▆▆▆▆▆▇▇▇▇▇▇███</td></tr><tr><td>_timestamp</td><td>▁▁▁▂▂▂▂▂▂▃▃▃▃▃▄▄▄▄▄▄▅▅▅▅▅▅▆▆▆▆▆▇▇▇▇▇▇███</td></tr><tr><td>train_loss</td><td>█▇▆▆▆▆▅▅▅▅▄▄▄▄▄▃▃▃▃▃▂▂▂▂▂▂▂▂▂▁▁▁▁▁▁▁▁▁▁▁</td></tr><tr><td>validation_loss</td><td>▅▄▃▃▁▁▄▁▁▁▁▂▁▂▂▂▂▃▃▃▃▄▄▅▄▅▅▅▅▆▆▆▇▇▇▇█▇██</td></tr><tr><td>validation_accuracy</td><td>▁▃▅▅▇▇▅▇▇▇▇▇█▇███▇▇█▇▇█▇▇▇███▇██████▇██▇</td></tr></table><br/>"
      ],
      "text/plain": [
       "<IPython.core.display.HTML object>"
      ]
     },
     "metadata": {},
     "output_type": "display_data"
    },
    {
     "data": {
      "text/html": [
       "Synced 4 W&B file(s), 0 media file(s), 0 artifact file(s) and 0 other file(s)"
      ],
      "text/plain": [
       "<IPython.core.display.HTML object>"
      ]
     },
     "metadata": {},
     "output_type": "display_data"
    },
    {
     "data": {
      "text/html": [
       "\n",
       "                    <br/>Synced <strong style=\"color:#cdcd00\">amber-sweep-10</strong>: <a href=\"https://wandb.ai/itaouil/Assignment-3/runs/s4yj8lt1\" target=\"_blank\">https://wandb.ai/itaouil/Assignment-3/runs/s4yj8lt1</a><br/>\n",
       "                "
      ],
      "text/plain": [
       "<IPython.core.display.HTML object>"
      ]
     },
     "metadata": {},
     "output_type": "display_data"
    },
    {
     "name": "stderr",
     "output_type": "stream",
     "text": [
      "\u001b[34m\u001b[1mwandb\u001b[0m: Agent Starting Run: y8t5xfj8 with config:\n",
      "\u001b[34m\u001b[1mwandb\u001b[0m: \tactivation: relu\n",
      "\u001b[34m\u001b[1mwandb\u001b[0m: \tepochs: 80\n",
      "\u001b[34m\u001b[1mwandb\u001b[0m: \tlearning_rate: 0.0003\n",
      "\u001b[34m\u001b[1mwandb\u001b[0m: \toptimizer: adam\n"
     ]
    },
    {
     "data": {
      "text/html": [
       "\n",
       "                Tracking run with wandb version 0.10.11<br/>\n",
       "                Syncing run <strong style=\"color:#cdcd00\">blooming-sweep-11</strong> to <a href=\"https://wandb.ai\" target=\"_blank\">Weights & Biases</a> <a href=\"https://docs.wandb.com/integrations/jupyter.html\" target=\"_blank\">(Documentation)</a>.<br/>\n",
       "                Project page: <a href=\"https://wandb.ai/itaouil/Assignment-3\" target=\"_blank\">https://wandb.ai/itaouil/Assignment-3</a><br/>\n",
       "                Sweep page: <a href=\"https://wandb.ai/itaouil/Assignment-3/sweeps/ws2nc1af\" target=\"_blank\">https://wandb.ai/itaouil/Assignment-3/sweeps/ws2nc1af</a><br/>\n",
       "Run page: <a href=\"https://wandb.ai/itaouil/Assignment-3/runs/y8t5xfj8\" target=\"_blank\">https://wandb.ai/itaouil/Assignment-3/runs/y8t5xfj8</a><br/>\n",
       "                Run data is saved locally in <code>/home/user/taouil/Cuda-Vision-Lab/Assignments/03-Assignment/wandb/run-20201203_192318-y8t5xfj8</code><br/><br/>\n",
       "            "
      ],
      "text/plain": [
       "<IPython.core.display.HTML object>"
      ]
     },
     "metadata": {},
     "output_type": "display_data"
    },
    {
     "data": {
      "text/html": [
       "<br/>Waiting for W&B process to finish, PID 10312<br/>Program ended successfully."
      ],
      "text/plain": [
       "<IPython.core.display.HTML object>"
      ]
     },
     "metadata": {},
     "output_type": "display_data"
    },
    {
     "data": {
      "text/html": [
       "Find user logs for this run at: <code>/home/user/taouil/Cuda-Vision-Lab/Assignments/03-Assignment/wandb/run-20201203_192318-y8t5xfj8/logs/debug.log</code>"
      ],
      "text/plain": [
       "<IPython.core.display.HTML object>"
      ]
     },
     "metadata": {},
     "output_type": "display_data"
    },
    {
     "data": {
      "text/html": [
       "Find internal logs for this run at: <code>/home/user/taouil/Cuda-Vision-Lab/Assignments/03-Assignment/wandb/run-20201203_192318-y8t5xfj8/logs/debug-internal.log</code>"
      ],
      "text/plain": [
       "<IPython.core.display.HTML object>"
      ]
     },
     "metadata": {},
     "output_type": "display_data"
    },
    {
     "data": {
      "text/html": [
       "<h3>Run summary:</h3><br/><style>\n",
       "    table.wandb td:nth-child(1) { padding: 0 10px; text-align: right }\n",
       "    </style><table class=\"wandb\">\n",
       "<tr><td>batch_loss</td><td>0.5794</td></tr><tr><td>_step</td><td>14319</td></tr><tr><td>_runtime</td><td>215</td></tr><tr><td>_timestamp</td><td>1607020013</td></tr><tr><td>train_loss</td><td>0.48621</td></tr><tr><td>validation_loss</td><td>1.85333</td></tr><tr><td>validation_accuracy</td><td>0.53046</td></tr></table>"
      ],
      "text/plain": [
       "<IPython.core.display.HTML object>"
      ]
     },
     "metadata": {},
     "output_type": "display_data"
    },
    {
     "data": {
      "text/html": [
       "<h3>Run history:</h3><br/><style>\n",
       "    table.wandb td:nth-child(1) { padding: 0 10px; text-align: right }\n",
       "    </style><table class=\"wandb\">\n",
       "<tr><td>batch_loss</td><td>█▇▇▆▆▆▆▅▅▅▅▄▅▅▄▅▄▄▃▃▄▃▃▃▃▃▂▂▂▂▂▂▂▂▁▁▂▁▁▂</td></tr><tr><td>_step</td><td>▁▁▁▂▂▂▂▂▂▃▃▃▃▃▃▄▄▄▄▄▅▅▅▅▅▅▆▆▆▆▆▇▇▇▇▇▇███</td></tr><tr><td>_runtime</td><td>▁▁▁▁▂▂▂▂▂▃▃▃▃▃▃▄▄▄▄▄▅▅▅▅▅▅▆▆▆▆▆▇▇▇▇▇▇███</td></tr><tr><td>_timestamp</td><td>▁▁▁▁▂▂▂▂▂▃▃▃▃▃▃▄▄▄▄▄▅▅▅▅▅▅▆▆▆▆▆▇▇▇▇▇▇███</td></tr><tr><td>train_loss</td><td>█▇▆▆▆▅▅▅▅▅▄▄▄▄▄▄▄▃▃▃▃▃▃▃▂▂▂▂▂▂▂▂▂▁▁▁▁▁▁▁</td></tr><tr><td>validation_loss</td><td>▇▅▄▃▃▂▂▂▁▂▁▁▁▁▂▁▁▂▂▂▂▂▂▃▃▃▄▄▄▄▅▅▆▆▆▇▆▇██</td></tr><tr><td>validation_accuracy</td><td>▁▃▄▅▅▆▆▇▇▇▇▇▇▇▇██▇████▇█▇██▇█████████▇██</td></tr></table><br/>"
      ],
      "text/plain": [
       "<IPython.core.display.HTML object>"
      ]
     },
     "metadata": {},
     "output_type": "display_data"
    },
    {
     "data": {
      "text/html": [
       "Synced 4 W&B file(s), 0 media file(s), 0 artifact file(s) and 0 other file(s)"
      ],
      "text/plain": [
       "<IPython.core.display.HTML object>"
      ]
     },
     "metadata": {},
     "output_type": "display_data"
    },
    {
     "data": {
      "text/html": [
       "\n",
       "                    <br/>Synced <strong style=\"color:#cdcd00\">blooming-sweep-11</strong>: <a href=\"https://wandb.ai/itaouil/Assignment-3/runs/y8t5xfj8\" target=\"_blank\">https://wandb.ai/itaouil/Assignment-3/runs/y8t5xfj8</a><br/>\n",
       "                "
      ],
      "text/plain": [
       "<IPython.core.display.HTML object>"
      ]
     },
     "metadata": {},
     "output_type": "display_data"
    },
    {
     "name": "stderr",
     "output_type": "stream",
     "text": [
      "\u001b[34m\u001b[1mwandb\u001b[0m: Sweep Agent: Waiting for job.\n",
      "\u001b[34m\u001b[1mwandb\u001b[0m: Job received.\n",
      "\u001b[34m\u001b[1mwandb\u001b[0m: Agent Starting Run: nyn7svg5 with config:\n",
      "\u001b[34m\u001b[1mwandb\u001b[0m: \tactivation: relu\n",
      "\u001b[34m\u001b[1mwandb\u001b[0m: \tepochs: 80\n",
      "\u001b[34m\u001b[1mwandb\u001b[0m: \tlearning_rate: 0.0003\n",
      "\u001b[34m\u001b[1mwandb\u001b[0m: \toptimizer: sgd\n"
     ]
    },
    {
     "data": {
      "text/html": [
       "\n",
       "                Tracking run with wandb version 0.10.11<br/>\n",
       "                Syncing run <strong style=\"color:#cdcd00\">bright-sweep-12</strong> to <a href=\"https://wandb.ai\" target=\"_blank\">Weights & Biases</a> <a href=\"https://docs.wandb.com/integrations/jupyter.html\" target=\"_blank\">(Documentation)</a>.<br/>\n",
       "                Project page: <a href=\"https://wandb.ai/itaouil/Assignment-3\" target=\"_blank\">https://wandb.ai/itaouil/Assignment-3</a><br/>\n",
       "                Sweep page: <a href=\"https://wandb.ai/itaouil/Assignment-3/sweeps/ws2nc1af\" target=\"_blank\">https://wandb.ai/itaouil/Assignment-3/sweeps/ws2nc1af</a><br/>\n",
       "Run page: <a href=\"https://wandb.ai/itaouil/Assignment-3/runs/nyn7svg5\" target=\"_blank\">https://wandb.ai/itaouil/Assignment-3/runs/nyn7svg5</a><br/>\n",
       "                Run data is saved locally in <code>/home/user/taouil/Cuda-Vision-Lab/Assignments/03-Assignment/wandb/run-20201203_192726-nyn7svg5</code><br/><br/>\n",
       "            "
      ],
      "text/plain": [
       "<IPython.core.display.HTML object>"
      ]
     },
     "metadata": {},
     "output_type": "display_data"
    },
    {
     "data": {
      "text/html": [
       "<br/>Waiting for W&B process to finish, PID 15485<br/>Program ended successfully."
      ],
      "text/plain": [
       "<IPython.core.display.HTML object>"
      ]
     },
     "metadata": {},
     "output_type": "display_data"
    },
    {
     "data": {
      "text/html": [
       "Find user logs for this run at: <code>/home/user/taouil/Cuda-Vision-Lab/Assignments/03-Assignment/wandb/run-20201203_192726-nyn7svg5/logs/debug.log</code>"
      ],
      "text/plain": [
       "<IPython.core.display.HTML object>"
      ]
     },
     "metadata": {},
     "output_type": "display_data"
    },
    {
     "data": {
      "text/html": [
       "Find internal logs for this run at: <code>/home/user/taouil/Cuda-Vision-Lab/Assignments/03-Assignment/wandb/run-20201203_192726-nyn7svg5/logs/debug-internal.log</code>"
      ],
      "text/plain": [
       "<IPython.core.display.HTML object>"
      ]
     },
     "metadata": {},
     "output_type": "display_data"
    },
    {
     "data": {
      "text/html": [
       "<h3>Run summary:</h3><br/><style>\n",
       "    table.wandb td:nth-child(1) { padding: 0 10px; text-align: right }\n",
       "    </style><table class=\"wandb\">\n",
       "<tr><td>batch_loss</td><td>2.23988</td></tr><tr><td>_step</td><td>14319</td></tr><tr><td>_runtime</td><td>211</td></tr><tr><td>_timestamp</td><td>1607020257</td></tr><tr><td>train_loss</td><td>2.23549</td></tr><tr><td>validation_loss</td><td>2.23561</td></tr><tr><td>validation_accuracy</td><td>0.1908</td></tr></table>"
      ],
      "text/plain": [
       "<IPython.core.display.HTML object>"
      ]
     },
     "metadata": {},
     "output_type": "display_data"
    },
    {
     "data": {
      "text/html": [
       "<h3>Run history:</h3><br/><style>\n",
       "    table.wandb td:nth-child(1) { padding: 0 10px; text-align: right }\n",
       "    </style><table class=\"wandb\">\n",
       "<tr><td>batch_loss</td><td>██████▇▇▇▇▇▇▇▇▇▆▇▆▆▆▇▆▅▆▅▅▅▅▄▃▄▃▃▅▃▃▃▁▂▂</td></tr><tr><td>_step</td><td>▁▁▁▂▂▂▂▂▂▃▃▃▃▃▃▄▄▄▄▄▅▅▅▅▅▅▆▆▆▆▆▇▇▇▇▇▇███</td></tr><tr><td>_runtime</td><td>▁▁▁▂▂▂▂▂▂▃▃▃▃▃▄▄▄▄▄▄▅▅▅▅▅▅▆▆▆▆▆▇▇▇▇▇▇███</td></tr><tr><td>_timestamp</td><td>▁▁▁▂▂▂▂▂▂▃▃▃▃▃▄▄▄▄▄▄▅▅▅▅▅▅▆▆▆▆▆▇▇▇▇▇▇███</td></tr><tr><td>train_loss</td><td>██████▇▇▇▇▇▇▇▇▇▇▆▆▆▆▆▆▆▅▅▅▅▅▄▄▄▄▄▃▃▃▂▂▂▁</td></tr><tr><td>validation_loss</td><td>██████▇▇▇▇▇▇▇▇▇▆▆▆▆▆▆▆▆▅▅▅▅▅▄▄▄▄▄▃▃▃▂▂▂▁</td></tr><tr><td>validation_accuracy</td><td>▁▁▂▃▃▃▃▄▄▄▃▃▃▄▄▄▃▄▄▄▄▄▅▄▄▅▅▅▅▅▆▆▆▆▆▇▇▇██</td></tr></table><br/>"
      ],
      "text/plain": [
       "<IPython.core.display.HTML object>"
      ]
     },
     "metadata": {},
     "output_type": "display_data"
    },
    {
     "data": {
      "text/html": [
       "Synced 4 W&B file(s), 0 media file(s), 0 artifact file(s) and 0 other file(s)"
      ],
      "text/plain": [
       "<IPython.core.display.HTML object>"
      ]
     },
     "metadata": {},
     "output_type": "display_data"
    },
    {
     "data": {
      "text/html": [
       "\n",
       "                    <br/>Synced <strong style=\"color:#cdcd00\">bright-sweep-12</strong>: <a href=\"https://wandb.ai/itaouil/Assignment-3/runs/nyn7svg5\" target=\"_blank\">https://wandb.ai/itaouil/Assignment-3/runs/nyn7svg5</a><br/>\n",
       "                "
      ],
      "text/plain": [
       "<IPython.core.display.HTML object>"
      ]
     },
     "metadata": {},
     "output_type": "display_data"
    },
    {
     "name": "stderr",
     "output_type": "stream",
     "text": [
      "\u001b[34m\u001b[1mwandb\u001b[0m: Agent Starting Run: bymcz2tf with config:\n",
      "\u001b[34m\u001b[1mwandb\u001b[0m: \tactivation: relu\n",
      "\u001b[34m\u001b[1mwandb\u001b[0m: \tepochs: 80\n",
      "\u001b[34m\u001b[1mwandb\u001b[0m: \tlearning_rate: 0.0003\n",
      "\u001b[34m\u001b[1mwandb\u001b[0m: \toptimizer: adagrad\n"
     ]
    },
    {
     "data": {
      "text/html": [
       "\n",
       "                Tracking run with wandb version 0.10.11<br/>\n",
       "                Syncing run <strong style=\"color:#cdcd00\">ethereal-sweep-13</strong> to <a href=\"https://wandb.ai\" target=\"_blank\">Weights & Biases</a> <a href=\"https://docs.wandb.com/integrations/jupyter.html\" target=\"_blank\">(Documentation)</a>.<br/>\n",
       "                Project page: <a href=\"https://wandb.ai/itaouil/Assignment-3\" target=\"_blank\">https://wandb.ai/itaouil/Assignment-3</a><br/>\n",
       "                Sweep page: <a href=\"https://wandb.ai/itaouil/Assignment-3/sweeps/ws2nc1af\" target=\"_blank\">https://wandb.ai/itaouil/Assignment-3/sweeps/ws2nc1af</a><br/>\n",
       "Run page: <a href=\"https://wandb.ai/itaouil/Assignment-3/runs/bymcz2tf\" target=\"_blank\">https://wandb.ai/itaouil/Assignment-3/runs/bymcz2tf</a><br/>\n",
       "                Run data is saved locally in <code>/home/user/taouil/Cuda-Vision-Lab/Assignments/03-Assignment/wandb/run-20201203_193101-bymcz2tf</code><br/><br/>\n",
       "            "
      ],
      "text/plain": [
       "<IPython.core.display.HTML object>"
      ]
     },
     "metadata": {},
     "output_type": "display_data"
    },
    {
     "data": {
      "text/html": [
       "<br/>Waiting for W&B process to finish, PID 20571<br/>Program ended successfully."
      ],
      "text/plain": [
       "<IPython.core.display.HTML object>"
      ]
     },
     "metadata": {},
     "output_type": "display_data"
    },
    {
     "data": {
      "text/html": [
       "Find user logs for this run at: <code>/home/user/taouil/Cuda-Vision-Lab/Assignments/03-Assignment/wandb/run-20201203_193101-bymcz2tf/logs/debug.log</code>"
      ],
      "text/plain": [
       "<IPython.core.display.HTML object>"
      ]
     },
     "metadata": {},
     "output_type": "display_data"
    },
    {
     "data": {
      "text/html": [
       "Find internal logs for this run at: <code>/home/user/taouil/Cuda-Vision-Lab/Assignments/03-Assignment/wandb/run-20201203_193101-bymcz2tf/logs/debug-internal.log</code>"
      ],
      "text/plain": [
       "<IPython.core.display.HTML object>"
      ]
     },
     "metadata": {},
     "output_type": "display_data"
    },
    {
     "data": {
      "text/html": [
       "<h3>Run summary:</h3><br/><style>\n",
       "    table.wandb td:nth-child(1) { padding: 0 10px; text-align: right }\n",
       "    </style><table class=\"wandb\">\n",
       "<tr><td>batch_loss</td><td>1.32638</td></tr><tr><td>_step</td><td>14319</td></tr><tr><td>_runtime</td><td>211</td></tr><tr><td>_timestamp</td><td>1607020472</td></tr><tr><td>train_loss</td><td>1.33106</td></tr><tr><td>validation_loss</td><td>1.4275</td></tr><tr><td>validation_accuracy</td><td>0.4917</td></tr></table>"
      ],
      "text/plain": [
       "<IPython.core.display.HTML object>"
      ]
     },
     "metadata": {},
     "output_type": "display_data"
    },
    {
     "data": {
      "text/html": [
       "<h3>Run history:</h3><br/><style>\n",
       "    table.wandb td:nth-child(1) { padding: 0 10px; text-align: right }\n",
       "    </style><table class=\"wandb\">\n",
       "<tr><td>batch_loss</td><td>██▇▅▅▅▄▄▄▄▃▃▄▃▃▃▃▂▄▁▃▁▃▂▃▃▃▁▄▂▂▃▂▁▂▂▁▁▃▂</td></tr><tr><td>_step</td><td>▁▁▁▂▂▂▂▂▂▃▃▃▃▃▃▄▄▄▄▄▅▅▅▅▅▅▆▆▆▆▆▇▇▇▇▇▇███</td></tr><tr><td>_runtime</td><td>▁▁▁▂▂▂▂▂▂▃▃▃▃▃▃▄▄▄▄▄▅▅▅▅▅▅▆▆▆▆▆▇▇▇▇▇▇███</td></tr><tr><td>_timestamp</td><td>▁▁▁▂▂▂▂▂▂▃▃▃▃▃▃▄▄▄▄▄▅▅▅▅▅▅▆▆▆▆▆▇▇▇▇▇▇███</td></tr><tr><td>train_loss</td><td>█▆▅▅▄▄▄▄▃▃▃▃▃▃▃▂▂▂▂▂▂▂▂▂▂▂▂▂▂▂▁▁▁▁▁▁▁▁▁▁</td></tr><tr><td>validation_loss</td><td>█▆▆▅▅▄▄▄▄▃▃▃▃▃▂▂▂▂▂▂▂▂▂▂▂▂▁▁▁▁▁▁▁▁▁▁▁▁▁▁</td></tr><tr><td>validation_accuracy</td><td>▁▃▃▄▄▄▅▅▆▆▆▆▆▆▆▇▇▆▇▇▇▇▇▇▇▇▇▇████████████</td></tr></table><br/>"
      ],
      "text/plain": [
       "<IPython.core.display.HTML object>"
      ]
     },
     "metadata": {},
     "output_type": "display_data"
    },
    {
     "data": {
      "text/html": [
       "Synced 4 W&B file(s), 0 media file(s), 0 artifact file(s) and 0 other file(s)"
      ],
      "text/plain": [
       "<IPython.core.display.HTML object>"
      ]
     },
     "metadata": {},
     "output_type": "display_data"
    },
    {
     "data": {
      "text/html": [
       "\n",
       "                    <br/>Synced <strong style=\"color:#cdcd00\">ethereal-sweep-13</strong>: <a href=\"https://wandb.ai/itaouil/Assignment-3/runs/bymcz2tf\" target=\"_blank\">https://wandb.ai/itaouil/Assignment-3/runs/bymcz2tf</a><br/>\n",
       "                "
      ],
      "text/plain": [
       "<IPython.core.display.HTML object>"
      ]
     },
     "metadata": {},
     "output_type": "display_data"
    },
    {
     "name": "stderr",
     "output_type": "stream",
     "text": [
      "\u001b[34m\u001b[1mwandb\u001b[0m: Agent Starting Run: fub90xs3 with config:\n",
      "\u001b[34m\u001b[1mwandb\u001b[0m: \tactivation: relu\n",
      "\u001b[34m\u001b[1mwandb\u001b[0m: \tepochs: 80\n",
      "\u001b[34m\u001b[1mwandb\u001b[0m: \tlearning_rate: 0.0003\n",
      "\u001b[34m\u001b[1mwandb\u001b[0m: \toptimizer: adadelta\n"
     ]
    },
    {
     "data": {
      "text/html": [
       "\n",
       "                Tracking run with wandb version 0.10.11<br/>\n",
       "                Syncing run <strong style=\"color:#cdcd00\">still-sweep-14</strong> to <a href=\"https://wandb.ai\" target=\"_blank\">Weights & Biases</a> <a href=\"https://docs.wandb.com/integrations/jupyter.html\" target=\"_blank\">(Documentation)</a>.<br/>\n",
       "                Project page: <a href=\"https://wandb.ai/itaouil/Assignment-3\" target=\"_blank\">https://wandb.ai/itaouil/Assignment-3</a><br/>\n",
       "                Sweep page: <a href=\"https://wandb.ai/itaouil/Assignment-3/sweeps/ws2nc1af\" target=\"_blank\">https://wandb.ai/itaouil/Assignment-3/sweeps/ws2nc1af</a><br/>\n",
       "Run page: <a href=\"https://wandb.ai/itaouil/Assignment-3/runs/fub90xs3\" target=\"_blank\">https://wandb.ai/itaouil/Assignment-3/runs/fub90xs3</a><br/>\n",
       "                Run data is saved locally in <code>/home/user/taouil/Cuda-Vision-Lab/Assignments/03-Assignment/wandb/run-20201203_193436-fub90xs3</code><br/><br/>\n",
       "            "
      ],
      "text/plain": [
       "<IPython.core.display.HTML object>"
      ]
     },
     "metadata": {},
     "output_type": "display_data"
    },
    {
     "data": {
      "text/html": [
       "<br/>Waiting for W&B process to finish, PID 25472<br/>Program ended successfully."
      ],
      "text/plain": [
       "<IPython.core.display.HTML object>"
      ]
     },
     "metadata": {},
     "output_type": "display_data"
    },
    {
     "data": {
      "text/html": [
       "Find user logs for this run at: <code>/home/user/taouil/Cuda-Vision-Lab/Assignments/03-Assignment/wandb/run-20201203_193436-fub90xs3/logs/debug.log</code>"
      ],
      "text/plain": [
       "<IPython.core.display.HTML object>"
      ]
     },
     "metadata": {},
     "output_type": "display_data"
    },
    {
     "data": {
      "text/html": [
       "Find internal logs for this run at: <code>/home/user/taouil/Cuda-Vision-Lab/Assignments/03-Assignment/wandb/run-20201203_193436-fub90xs3/logs/debug-internal.log</code>"
      ],
      "text/plain": [
       "<IPython.core.display.HTML object>"
      ]
     },
     "metadata": {},
     "output_type": "display_data"
    },
    {
     "data": {
      "text/html": [
       "<h3>Run summary:</h3><br/><style>\n",
       "    table.wandb td:nth-child(1) { padding: 0 10px; text-align: right }\n",
       "    </style><table class=\"wandb\">\n",
       "<tr><td>batch_loss</td><td>2.24594</td></tr><tr><td>_step</td><td>14319</td></tr><tr><td>_runtime</td><td>214</td></tr><tr><td>_timestamp</td><td>1607020690</td></tr><tr><td>train_loss</td><td>2.24481</td></tr><tr><td>validation_loss</td><td>2.2444</td></tr><tr><td>validation_accuracy</td><td>0.17281</td></tr></table>"
      ],
      "text/plain": [
       "<IPython.core.display.HTML object>"
      ]
     },
     "metadata": {},
     "output_type": "display_data"
    },
    {
     "data": {
      "text/html": [
       "<h3>Run history:</h3><br/><style>\n",
       "    table.wandb td:nth-child(1) { padding: 0 10px; text-align: right }\n",
       "    </style><table class=\"wandb\">\n",
       "<tr><td>batch_loss</td><td>███▇▇▇█▇▇▇▇▆▇▇▇▆▆▆▆▆▄▅▅▆▅▅▄▄▅▅▅▃▃▃▁▃▃▂▁▁</td></tr><tr><td>_step</td><td>▁▁▁▂▂▂▂▂▂▃▃▃▃▃▃▄▄▄▄▄▅▅▅▅▅▅▆▆▆▆▆▇▇▇▇▇▇███</td></tr><tr><td>_runtime</td><td>▁▁▁▂▂▂▂▂▂▃▃▃▃▃▃▄▄▄▄▄▅▅▅▅▅▅▆▆▆▆▆▇▇▇▇▇▇███</td></tr><tr><td>_timestamp</td><td>▁▁▁▂▂▂▂▂▂▃▃▃▃▃▃▄▄▄▄▄▅▅▅▅▅▅▆▆▆▆▆▇▇▇▇▇▇███</td></tr><tr><td>train_loss</td><td>█████▇▇▇▇▇▇▇▇▇▆▆▆▆▆▆▆▅▅▅▅▅▅▄▄▄▄▄▃▃▃▂▂▂▂▁</td></tr><tr><td>validation_loss</td><td>████▇▇▇▇▇▇▇▇▇▆▆▆▆▆▆▆▆▅▅▅▅▅▅▄▄▄▄▃▃▃▃▂▂▂▁▁</td></tr><tr><td>validation_accuracy</td><td>▁▁▁▁▂▂▃▄▅▅▅▅▅▅▅▄▄▄▄▄▄▄▅▅▅▅▅▅▆▅▇▇▇▇▆▇████</td></tr></table><br/>"
      ],
      "text/plain": [
       "<IPython.core.display.HTML object>"
      ]
     },
     "metadata": {},
     "output_type": "display_data"
    },
    {
     "data": {
      "text/html": [
       "Synced 4 W&B file(s), 0 media file(s), 0 artifact file(s) and 0 other file(s)"
      ],
      "text/plain": [
       "<IPython.core.display.HTML object>"
      ]
     },
     "metadata": {},
     "output_type": "display_data"
    },
    {
     "data": {
      "text/html": [
       "\n",
       "                    <br/>Synced <strong style=\"color:#cdcd00\">still-sweep-14</strong>: <a href=\"https://wandb.ai/itaouil/Assignment-3/runs/fub90xs3\" target=\"_blank\">https://wandb.ai/itaouil/Assignment-3/runs/fub90xs3</a><br/>\n",
       "                "
      ],
      "text/plain": [
       "<IPython.core.display.HTML object>"
      ]
     },
     "metadata": {},
     "output_type": "display_data"
    },
    {
     "name": "stderr",
     "output_type": "stream",
     "text": [
      "\u001b[34m\u001b[1mwandb\u001b[0m: Agent Starting Run: ekoahwce with config:\n",
      "\u001b[34m\u001b[1mwandb\u001b[0m: \tactivation: relu\n",
      "\u001b[34m\u001b[1mwandb\u001b[0m: \tepochs: 80\n",
      "\u001b[34m\u001b[1mwandb\u001b[0m: \tlearning_rate: 0.0003\n",
      "\u001b[34m\u001b[1mwandb\u001b[0m: \toptimizer: rmsprop\n"
     ]
    },
    {
     "data": {
      "text/html": [
       "\n",
       "                Tracking run with wandb version 0.10.11<br/>\n",
       "                Syncing run <strong style=\"color:#cdcd00\">fresh-sweep-15</strong> to <a href=\"https://wandb.ai\" target=\"_blank\">Weights & Biases</a> <a href=\"https://docs.wandb.com/integrations/jupyter.html\" target=\"_blank\">(Documentation)</a>.<br/>\n",
       "                Project page: <a href=\"https://wandb.ai/itaouil/Assignment-3\" target=\"_blank\">https://wandb.ai/itaouil/Assignment-3</a><br/>\n",
       "                Sweep page: <a href=\"https://wandb.ai/itaouil/Assignment-3/sweeps/ws2nc1af\" target=\"_blank\">https://wandb.ai/itaouil/Assignment-3/sweeps/ws2nc1af</a><br/>\n",
       "Run page: <a href=\"https://wandb.ai/itaouil/Assignment-3/runs/ekoahwce\" target=\"_blank\">https://wandb.ai/itaouil/Assignment-3/runs/ekoahwce</a><br/>\n",
       "                Run data is saved locally in <code>/home/user/taouil/Cuda-Vision-Lab/Assignments/03-Assignment/wandb/run-20201203_193814-ekoahwce</code><br/><br/>\n",
       "            "
      ],
      "text/plain": [
       "<IPython.core.display.HTML object>"
      ]
     },
     "metadata": {},
     "output_type": "display_data"
    },
    {
     "data": {
      "text/html": [
       "<br/>Waiting for W&B process to finish, PID 30528<br/>Program ended successfully."
      ],
      "text/plain": [
       "<IPython.core.display.HTML object>"
      ]
     },
     "metadata": {},
     "output_type": "display_data"
    },
    {
     "data": {
      "text/html": [
       "Find user logs for this run at: <code>/home/user/taouil/Cuda-Vision-Lab/Assignments/03-Assignment/wandb/run-20201203_193814-ekoahwce/logs/debug.log</code>"
      ],
      "text/plain": [
       "<IPython.core.display.HTML object>"
      ]
     },
     "metadata": {},
     "output_type": "display_data"
    },
    {
     "data": {
      "text/html": [
       "Find internal logs for this run at: <code>/home/user/taouil/Cuda-Vision-Lab/Assignments/03-Assignment/wandb/run-20201203_193814-ekoahwce/logs/debug-internal.log</code>"
      ],
      "text/plain": [
       "<IPython.core.display.HTML object>"
      ]
     },
     "metadata": {},
     "output_type": "display_data"
    },
    {
     "data": {
      "text/html": [
       "<h3>Run summary:</h3><br/><style>\n",
       "    table.wandb td:nth-child(1) { padding: 0 10px; text-align: right }\n",
       "    </style><table class=\"wandb\">\n",
       "<tr><td>batch_loss</td><td>0.45662</td></tr><tr><td>_step</td><td>14319</td></tr><tr><td>_runtime</td><td>211</td></tr><tr><td>_timestamp</td><td>1607020905</td></tr><tr><td>train_loss</td><td>0.58972</td></tr><tr><td>validation_loss</td><td>1.94814</td></tr><tr><td>validation_accuracy</td><td>0.5139</td></tr></table>"
      ],
      "text/plain": [
       "<IPython.core.display.HTML object>"
      ]
     },
     "metadata": {},
     "output_type": "display_data"
    },
    {
     "data": {
      "text/html": [
       "<h3>Run history:</h3><br/><style>\n",
       "    table.wandb td:nth-child(1) { padding: 0 10px; text-align: right }\n",
       "    </style><table class=\"wandb\">\n",
       "<tr><td>batch_loss</td><td>██▆▆▆▇▅▆▆▆▅▅▅▄▅▅▄▄▄▄▃▄▂▃▃▃▃▃▃▂▂▂▂▂▂▂▂▂▁▁</td></tr><tr><td>_step</td><td>▁▁▁▂▂▂▂▂▂▃▃▃▃▃▃▄▄▄▄▄▅▅▅▅▅▅▆▆▆▆▆▇▇▇▇▇▇███</td></tr><tr><td>_runtime</td><td>▁▁▁▂▂▂▂▂▂▃▃▃▃▃▃▄▄▄▄▄▅▅▅▅▅▅▆▆▆▆▆▇▇▇▇▇▇███</td></tr><tr><td>_timestamp</td><td>▁▁▁▂▂▂▂▂▂▃▃▃▃▃▃▄▄▄▄▄▅▅▅▅▅▅▆▆▆▆▆▇▇▇▇▇▇███</td></tr><tr><td>train_loss</td><td>█▆▆▆▅▅▅▅▅▄▄▄▄▄▄▃▃▃▃▃▃▃▂▂▂▂▂▂▂▂▂▂▁▁▁▁▁▁▁▁</td></tr><tr><td>validation_loss</td><td>▇▅▄▃▃▃▂▂▁▁▂▁▁▂▂▁▃▂▂▂▂▃▂▄▂▃▄▅▅▅▅▅▆▅▆▇▆▇▇█</td></tr><tr><td>validation_accuracy</td><td>▁▄▄▅▅▆▆▇▇▇▇▇▇▇▇█▇▇█▇▇█▇▇███▇████████████</td></tr></table><br/>"
      ],
      "text/plain": [
       "<IPython.core.display.HTML object>"
      ]
     },
     "metadata": {},
     "output_type": "display_data"
    },
    {
     "data": {
      "text/html": [
       "Synced 4 W&B file(s), 0 media file(s), 0 artifact file(s) and 0 other file(s)"
      ],
      "text/plain": [
       "<IPython.core.display.HTML object>"
      ]
     },
     "metadata": {},
     "output_type": "display_data"
    },
    {
     "data": {
      "text/html": [
       "\n",
       "                    <br/>Synced <strong style=\"color:#cdcd00\">fresh-sweep-15</strong>: <a href=\"https://wandb.ai/itaouil/Assignment-3/runs/ekoahwce\" target=\"_blank\">https://wandb.ai/itaouil/Assignment-3/runs/ekoahwce</a><br/>\n",
       "                "
      ],
      "text/plain": [
       "<IPython.core.display.HTML object>"
      ]
     },
     "metadata": {},
     "output_type": "display_data"
    },
    {
     "name": "stderr",
     "output_type": "stream",
     "text": [
      "\u001b[34m\u001b[1mwandb\u001b[0m: Agent Starting Run: 2nz1lchg with config:\n",
      "\u001b[34m\u001b[1mwandb\u001b[0m: \tactivation: relu\n",
      "\u001b[34m\u001b[1mwandb\u001b[0m: \tepochs: 140\n",
      "\u001b[34m\u001b[1mwandb\u001b[0m: \tlearning_rate: 0.0003\n",
      "\u001b[34m\u001b[1mwandb\u001b[0m: \toptimizer: adam\n"
     ]
    },
    {
     "data": {
      "text/html": [
       "\n",
       "                Tracking run with wandb version 0.10.11<br/>\n",
       "                Syncing run <strong style=\"color:#cdcd00\">skilled-sweep-16</strong> to <a href=\"https://wandb.ai\" target=\"_blank\">Weights & Biases</a> <a href=\"https://docs.wandb.com/integrations/jupyter.html\" target=\"_blank\">(Documentation)</a>.<br/>\n",
       "                Project page: <a href=\"https://wandb.ai/itaouil/Assignment-3\" target=\"_blank\">https://wandb.ai/itaouil/Assignment-3</a><br/>\n",
       "                Sweep page: <a href=\"https://wandb.ai/itaouil/Assignment-3/sweeps/ws2nc1af\" target=\"_blank\">https://wandb.ai/itaouil/Assignment-3/sweeps/ws2nc1af</a><br/>\n",
       "Run page: <a href=\"https://wandb.ai/itaouil/Assignment-3/runs/2nz1lchg\" target=\"_blank\">https://wandb.ai/itaouil/Assignment-3/runs/2nz1lchg</a><br/>\n",
       "                Run data is saved locally in <code>/home/user/taouil/Cuda-Vision-Lab/Assignments/03-Assignment/wandb/run-20201203_194149-2nz1lchg</code><br/><br/>\n",
       "            "
      ],
      "text/plain": [
       "<IPython.core.display.HTML object>"
      ]
     },
     "metadata": {},
     "output_type": "display_data"
    },
    {
     "data": {
      "text/html": [
       "<br/>Waiting for W&B process to finish, PID 3245<br/>Program ended successfully."
      ],
      "text/plain": [
       "<IPython.core.display.HTML object>"
      ]
     },
     "metadata": {},
     "output_type": "display_data"
    },
    {
     "data": {
      "text/html": [
       "Find user logs for this run at: <code>/home/user/taouil/Cuda-Vision-Lab/Assignments/03-Assignment/wandb/run-20201203_194149-2nz1lchg/logs/debug.log</code>"
      ],
      "text/plain": [
       "<IPython.core.display.HTML object>"
      ]
     },
     "metadata": {},
     "output_type": "display_data"
    },
    {
     "data": {
      "text/html": [
       "Find internal logs for this run at: <code>/home/user/taouil/Cuda-Vision-Lab/Assignments/03-Assignment/wandb/run-20201203_194149-2nz1lchg/logs/debug-internal.log</code>"
      ],
      "text/plain": [
       "<IPython.core.display.HTML object>"
      ]
     },
     "metadata": {},
     "output_type": "display_data"
    },
    {
     "data": {
      "text/html": [
       "<h3>Run summary:</h3><br/><style>\n",
       "    table.wandb td:nth-child(1) { padding: 0 10px; text-align: right }\n",
       "    </style><table class=\"wandb\">\n",
       "<tr><td>batch_loss</td><td>0.28698</td></tr><tr><td>_step</td><td>25059</td></tr><tr><td>_runtime</td><td>379</td></tr><tr><td>_timestamp</td><td>1607021288</td></tr><tr><td>train_loss</td><td>0.26784</td></tr><tr><td>validation_loss</td><td>2.44235</td></tr><tr><td>validation_accuracy</td><td>0.5198</td></tr></table>"
      ],
      "text/plain": [
       "<IPython.core.display.HTML object>"
      ]
     },
     "metadata": {},
     "output_type": "display_data"
    },
    {
     "data": {
      "text/html": [
       "<h3>Run history:</h3><br/><style>\n",
       "    table.wandb td:nth-child(1) { padding: 0 10px; text-align: right }\n",
       "    </style><table class=\"wandb\">\n",
       "<tr><td>batch_loss</td><td>█▇▇▆▆▆▅▅▄▅▄▄▄▄▃▄▃▃▃▂▂▂▂▂▂▂▂▂▂▁▁▁▂▁▂▁▂▁▁▁</td></tr><tr><td>_step</td><td>▁▁▁▂▂▂▂▂▂▃▃▃▃▃▃▄▄▄▄▄▅▅▅▅▅▅▆▆▆▆▆▇▇▇▇▇▇███</td></tr><tr><td>_runtime</td><td>▁▁▁▂▂▂▂▂▂▃▃▃▃▃▃▄▄▄▄▄▅▅▅▅▅▅▆▆▆▆▆▇▇▇▇▇▇███</td></tr><tr><td>_timestamp</td><td>▁▁▁▂▂▂▂▂▂▃▃▃▃▃▃▄▄▄▄▄▅▅▅▅▅▅▆▆▆▆▆▇▇▇▇▇▇███</td></tr><tr><td>train_loss</td><td>█▇▇▆▆▆▅▅▅▅▄▄▄▃▃▃▃▃▃▂▂▂▂▂▂▂▂▂▂▁▁▁▁▁▁▁▁▁▁▁</td></tr><tr><td>validation_loss</td><td>▃▃▂▂▁▁▁▁▁▁▁▁▂▂▂▂▃▃▃▃▄▄▄▅▅▅▅▆▆▆▇▆▆▇▇▇████</td></tr><tr><td>validation_accuracy</td><td>▁▂▅▅▇▆▇▇█████▇██▇▇█▇███▇█▇▇▇▇██▇▇▇█▇▇▇█▇</td></tr></table><br/>"
      ],
      "text/plain": [
       "<IPython.core.display.HTML object>"
      ]
     },
     "metadata": {},
     "output_type": "display_data"
    },
    {
     "data": {
      "text/html": [
       "Synced 4 W&B file(s), 0 media file(s), 0 artifact file(s) and 0 other file(s)"
      ],
      "text/plain": [
       "<IPython.core.display.HTML object>"
      ]
     },
     "metadata": {},
     "output_type": "display_data"
    },
    {
     "data": {
      "text/html": [
       "\n",
       "                    <br/>Synced <strong style=\"color:#cdcd00\">skilled-sweep-16</strong>: <a href=\"https://wandb.ai/itaouil/Assignment-3/runs/2nz1lchg\" target=\"_blank\">https://wandb.ai/itaouil/Assignment-3/runs/2nz1lchg</a><br/>\n",
       "                "
      ],
      "text/plain": [
       "<IPython.core.display.HTML object>"
      ]
     },
     "metadata": {},
     "output_type": "display_data"
    },
    {
     "name": "stderr",
     "output_type": "stream",
     "text": [
      "\u001b[34m\u001b[1mwandb\u001b[0m: Agent Starting Run: fobl0kdv with config:\n",
      "\u001b[34m\u001b[1mwandb\u001b[0m: \tactivation: relu\n",
      "\u001b[34m\u001b[1mwandb\u001b[0m: \tepochs: 140\n",
      "\u001b[34m\u001b[1mwandb\u001b[0m: \tlearning_rate: 0.0003\n",
      "\u001b[34m\u001b[1mwandb\u001b[0m: \toptimizer: sgd\n"
     ]
    },
    {
     "data": {
      "text/html": [
       "\n",
       "                Tracking run with wandb version 0.10.11<br/>\n",
       "                Syncing run <strong style=\"color:#cdcd00\">upbeat-sweep-17</strong> to <a href=\"https://wandb.ai\" target=\"_blank\">Weights & Biases</a> <a href=\"https://docs.wandb.com/integrations/jupyter.html\" target=\"_blank\">(Documentation)</a>.<br/>\n",
       "                Project page: <a href=\"https://wandb.ai/itaouil/Assignment-3\" target=\"_blank\">https://wandb.ai/itaouil/Assignment-3</a><br/>\n",
       "                Sweep page: <a href=\"https://wandb.ai/itaouil/Assignment-3/sweeps/ws2nc1af\" target=\"_blank\">https://wandb.ai/itaouil/Assignment-3/sweeps/ws2nc1af</a><br/>\n",
       "Run page: <a href=\"https://wandb.ai/itaouil/Assignment-3/runs/fobl0kdv\" target=\"_blank\">https://wandb.ai/itaouil/Assignment-3/runs/fobl0kdv</a><br/>\n",
       "                Run data is saved locally in <code>/home/user/taouil/Cuda-Vision-Lab/Assignments/03-Assignment/wandb/run-20201203_194811-fobl0kdv</code><br/><br/>\n",
       "            "
      ],
      "text/plain": [
       "<IPython.core.display.HTML object>"
      ]
     },
     "metadata": {},
     "output_type": "display_data"
    },
    {
     "data": {
      "text/html": [
       "<br/>Waiting for W&B process to finish, PID 12686<br/>Program ended successfully."
      ],
      "text/plain": [
       "<IPython.core.display.HTML object>"
      ]
     },
     "metadata": {},
     "output_type": "display_data"
    },
    {
     "data": {
      "text/html": [
       "Find user logs for this run at: <code>/home/user/taouil/Cuda-Vision-Lab/Assignments/03-Assignment/wandb/run-20201203_194811-fobl0kdv/logs/debug.log</code>"
      ],
      "text/plain": [
       "<IPython.core.display.HTML object>"
      ]
     },
     "metadata": {},
     "output_type": "display_data"
    },
    {
     "data": {
      "text/html": [
       "Find internal logs for this run at: <code>/home/user/taouil/Cuda-Vision-Lab/Assignments/03-Assignment/wandb/run-20201203_194811-fobl0kdv/logs/debug-internal.log</code>"
      ],
      "text/plain": [
       "<IPython.core.display.HTML object>"
      ]
     },
     "metadata": {},
     "output_type": "display_data"
    },
    {
     "data": {
      "text/html": [
       "<h3>Run summary:</h3><br/><style>\n",
       "    table.wandb td:nth-child(1) { padding: 0 10px; text-align: right }\n",
       "    </style><table class=\"wandb\">\n",
       "<tr><td>batch_loss</td><td>2.05972</td></tr><tr><td>_step</td><td>25059</td></tr><tr><td>_runtime</td><td>374</td></tr><tr><td>_timestamp</td><td>1607021665</td></tr><tr><td>train_loss</td><td>2.0768</td></tr><tr><td>validation_loss</td><td>2.08491</td></tr><tr><td>validation_accuracy</td><td>0.22707</td></tr></table>"
      ],
      "text/plain": [
       "<IPython.core.display.HTML object>"
      ]
     },
     "metadata": {},
     "output_type": "display_data"
    },
    {
     "data": {
      "text/html": [
       "<h3>Run history:</h3><br/><style>\n",
       "    table.wandb td:nth-child(1) { padding: 0 10px; text-align: right }\n",
       "    </style><table class=\"wandb\">\n",
       "<tr><td>batch_loss</td><td>███████▇███▇▇▇▇▇▇▇▇▇▆▇▆▅▅▆▆▅▄▄▄▄▃▄▄▁▁▂▂▁</td></tr><tr><td>_step</td><td>▁▁▁▂▂▂▂▂▂▃▃▃▃▃▃▄▄▄▄▄▅▅▅▅▅▅▆▆▆▆▆▇▇▇▇▇▇███</td></tr><tr><td>_runtime</td><td>▁▁▁▂▂▂▂▂▂▃▃▃▃▃▄▄▄▄▄▄▅▅▅▅▅▅▆▆▆▆▆▇▇▇▇▇▇███</td></tr><tr><td>_timestamp</td><td>▁▁▁▂▂▂▂▂▂▃▃▃▃▃▄▄▄▄▄▄▅▅▅▅▅▅▆▆▆▆▆▇▇▇▇▇▇███</td></tr><tr><td>train_loss</td><td>██████████▇▇▇▇▇▇▇▇▇▆▆▆▆▆▅▅▅▄▄▄▃▃▃▂▂▂▂▂▁▁</td></tr><tr><td>validation_loss</td><td>██████████▇▇▇▇▇▇▇▇▇▆▆▆▆▆▅▅▅▄▄▄▃▃▃▂▂▂▂▁▁▁</td></tr><tr><td>validation_accuracy</td><td>▁▁▂▂▂▃▂▃▂▂▃▃▃▃▄▄▄▅▅▅▅▆▅▆▆▆▆▆▆▇▆▇▇▇▇▇▇███</td></tr></table><br/>"
      ],
      "text/plain": [
       "<IPython.core.display.HTML object>"
      ]
     },
     "metadata": {},
     "output_type": "display_data"
    },
    {
     "data": {
      "text/html": [
       "Synced 4 W&B file(s), 0 media file(s), 0 artifact file(s) and 0 other file(s)"
      ],
      "text/plain": [
       "<IPython.core.display.HTML object>"
      ]
     },
     "metadata": {},
     "output_type": "display_data"
    },
    {
     "data": {
      "text/html": [
       "\n",
       "                    <br/>Synced <strong style=\"color:#cdcd00\">upbeat-sweep-17</strong>: <a href=\"https://wandb.ai/itaouil/Assignment-3/runs/fobl0kdv\" target=\"_blank\">https://wandb.ai/itaouil/Assignment-3/runs/fobl0kdv</a><br/>\n",
       "                "
      ],
      "text/plain": [
       "<IPython.core.display.HTML object>"
      ]
     },
     "metadata": {},
     "output_type": "display_data"
    },
    {
     "name": "stderr",
     "output_type": "stream",
     "text": [
      "\u001b[34m\u001b[1mwandb\u001b[0m: Agent Starting Run: 486t3h5q with config:\n",
      "\u001b[34m\u001b[1mwandb\u001b[0m: \tactivation: relu\n",
      "\u001b[34m\u001b[1mwandb\u001b[0m: \tepochs: 140\n",
      "\u001b[34m\u001b[1mwandb\u001b[0m: \tlearning_rate: 0.0003\n",
      "\u001b[34m\u001b[1mwandb\u001b[0m: \toptimizer: adagrad\n"
     ]
    },
    {
     "data": {
      "text/html": [
       "\n",
       "                Tracking run with wandb version 0.10.11<br/>\n",
       "                Syncing run <strong style=\"color:#cdcd00\">glorious-sweep-18</strong> to <a href=\"https://wandb.ai\" target=\"_blank\">Weights & Biases</a> <a href=\"https://docs.wandb.com/integrations/jupyter.html\" target=\"_blank\">(Documentation)</a>.<br/>\n",
       "                Project page: <a href=\"https://wandb.ai/itaouil/Assignment-3\" target=\"_blank\">https://wandb.ai/itaouil/Assignment-3</a><br/>\n",
       "                Sweep page: <a href=\"https://wandb.ai/itaouil/Assignment-3/sweeps/ws2nc1af\" target=\"_blank\">https://wandb.ai/itaouil/Assignment-3/sweeps/ws2nc1af</a><br/>\n",
       "Run page: <a href=\"https://wandb.ai/itaouil/Assignment-3/runs/486t3h5q\" target=\"_blank\">https://wandb.ai/itaouil/Assignment-3/runs/486t3h5q</a><br/>\n",
       "                Run data is saved locally in <code>/home/user/taouil/Cuda-Vision-Lab/Assignments/03-Assignment/wandb/run-20201203_195429-486t3h5q</code><br/><br/>\n",
       "            "
      ],
      "text/plain": [
       "<IPython.core.display.HTML object>"
      ]
     },
     "metadata": {},
     "output_type": "display_data"
    },
    {
     "data": {
      "text/html": [
       "<br/>Waiting for W&B process to finish, PID 21573<br/>Program ended successfully."
      ],
      "text/plain": [
       "<IPython.core.display.HTML object>"
      ]
     },
     "metadata": {},
     "output_type": "display_data"
    },
    {
     "data": {
      "text/html": [
       "Find user logs for this run at: <code>/home/user/taouil/Cuda-Vision-Lab/Assignments/03-Assignment/wandb/run-20201203_195429-486t3h5q/logs/debug.log</code>"
      ],
      "text/plain": [
       "<IPython.core.display.HTML object>"
      ]
     },
     "metadata": {},
     "output_type": "display_data"
    },
    {
     "data": {
      "text/html": [
       "Find internal logs for this run at: <code>/home/user/taouil/Cuda-Vision-Lab/Assignments/03-Assignment/wandb/run-20201203_195429-486t3h5q/logs/debug-internal.log</code>"
      ],
      "text/plain": [
       "<IPython.core.display.HTML object>"
      ]
     },
     "metadata": {},
     "output_type": "display_data"
    },
    {
     "data": {
      "text/html": [
       "<h3>Run summary:</h3><br/><style>\n",
       "    table.wandb td:nth-child(1) { padding: 0 10px; text-align: right }\n",
       "    </style><table class=\"wandb\">\n",
       "<tr><td>batch_loss</td><td>1.12883</td></tr><tr><td>_step</td><td>25059</td></tr><tr><td>_runtime</td><td>371</td></tr><tr><td>_timestamp</td><td>1607022040</td></tr><tr><td>train_loss</td><td>1.23052</td></tr><tr><td>validation_loss</td><td>1.38036</td></tr><tr><td>validation_accuracy</td><td>0.51043</td></tr></table>"
      ],
      "text/plain": [
       "<IPython.core.display.HTML object>"
      ]
     },
     "metadata": {},
     "output_type": "display_data"
    },
    {
     "data": {
      "text/html": [
       "<h3>Run history:</h3><br/><style>\n",
       "    table.wandb td:nth-child(1) { padding: 0 10px; text-align: right }\n",
       "    </style><table class=\"wandb\">\n",
       "<tr><td>batch_loss</td><td>█▆▇▆▅▄▅▃▄▃▅▄▄▄▃▃▃▃▂▃▄▃▂▂▂▂▂▃▂▂▂▂▂▁▂▁▂▂▂▁</td></tr><tr><td>_step</td><td>▁▁▁▂▂▂▂▂▂▃▃▃▃▃▃▄▄▄▄▄▅▅▅▅▅▅▆▆▆▆▆▇▇▇▇▇▇███</td></tr><tr><td>_runtime</td><td>▁▁▁▂▂▂▂▂▂▃▃▃▃▃▃▄▄▄▄▄▅▅▅▅▅▅▆▆▆▆▆▇▇▇▇▇▇███</td></tr><tr><td>_timestamp</td><td>▁▁▁▂▂▂▂▂▂▃▃▃▃▃▃▄▄▄▄▄▅▅▅▅▅▅▆▆▆▆▆▇▇▇▇▇▇███</td></tr><tr><td>train_loss</td><td>█▇▆▅▅▅▄▄▄▄▃▃▃▃▃▃▃▃▂▂▂▂▂▂▂▂▂▂▂▂▂▁▁▁▁▁▁▁▁▁</td></tr><tr><td>validation_loss</td><td>█▇▆▅▄▄▄▃▃▃▃▃▂▂▂▂▂▂▂▂▂▂▂▂▁▂▁▁▁▁▁▁▁▁▁▁▁▁▁▁</td></tr><tr><td>validation_accuracy</td><td>▁▂▄▄▅▅▆▆▆▆▆▇▇▇▇▇▇▇▇▇▇▇▇▇▇██▇████████████</td></tr></table><br/>"
      ],
      "text/plain": [
       "<IPython.core.display.HTML object>"
      ]
     },
     "metadata": {},
     "output_type": "display_data"
    },
    {
     "data": {
      "text/html": [
       "Synced 4 W&B file(s), 0 media file(s), 0 artifact file(s) and 0 other file(s)"
      ],
      "text/plain": [
       "<IPython.core.display.HTML object>"
      ]
     },
     "metadata": {},
     "output_type": "display_data"
    },
    {
     "data": {
      "text/html": [
       "\n",
       "                    <br/>Synced <strong style=\"color:#cdcd00\">glorious-sweep-18</strong>: <a href=\"https://wandb.ai/itaouil/Assignment-3/runs/486t3h5q\" target=\"_blank\">https://wandb.ai/itaouil/Assignment-3/runs/486t3h5q</a><br/>\n",
       "                "
      ],
      "text/plain": [
       "<IPython.core.display.HTML object>"
      ]
     },
     "metadata": {},
     "output_type": "display_data"
    },
    {
     "name": "stderr",
     "output_type": "stream",
     "text": [
      "\u001b[34m\u001b[1mwandb\u001b[0m: Agent Starting Run: 3zr1nlxu with config:\n",
      "\u001b[34m\u001b[1mwandb\u001b[0m: \tactivation: relu\n",
      "\u001b[34m\u001b[1mwandb\u001b[0m: \tepochs: 140\n",
      "\u001b[34m\u001b[1mwandb\u001b[0m: \tlearning_rate: 0.0003\n",
      "\u001b[34m\u001b[1mwandb\u001b[0m: \toptimizer: adadelta\n"
     ]
    },
    {
     "data": {
      "text/html": [
       "\n",
       "                Tracking run with wandb version 0.10.11<br/>\n",
       "                Syncing run <strong style=\"color:#cdcd00\">dainty-sweep-19</strong> to <a href=\"https://wandb.ai\" target=\"_blank\">Weights & Biases</a> <a href=\"https://docs.wandb.com/integrations/jupyter.html\" target=\"_blank\">(Documentation)</a>.<br/>\n",
       "                Project page: <a href=\"https://wandb.ai/itaouil/Assignment-3\" target=\"_blank\">https://wandb.ai/itaouil/Assignment-3</a><br/>\n",
       "                Sweep page: <a href=\"https://wandb.ai/itaouil/Assignment-3/sweeps/ws2nc1af\" target=\"_blank\">https://wandb.ai/itaouil/Assignment-3/sweeps/ws2nc1af</a><br/>\n",
       "Run page: <a href=\"https://wandb.ai/itaouil/Assignment-3/runs/3zr1nlxu\" target=\"_blank\">https://wandb.ai/itaouil/Assignment-3/runs/3zr1nlxu</a><br/>\n",
       "                Run data is saved locally in <code>/home/user/taouil/Cuda-Vision-Lab/Assignments/03-Assignment/wandb/run-20201203_200045-3zr1nlxu</code><br/><br/>\n",
       "            "
      ],
      "text/plain": [
       "<IPython.core.display.HTML object>"
      ]
     },
     "metadata": {},
     "output_type": "display_data"
    },
    {
     "data": {
      "text/html": [
       "<br/>Waiting for W&B process to finish, PID 30338<br/>Program ended successfully."
      ],
      "text/plain": [
       "<IPython.core.display.HTML object>"
      ]
     },
     "metadata": {},
     "output_type": "display_data"
    },
    {
     "data": {
      "text/html": [
       "Find user logs for this run at: <code>/home/user/taouil/Cuda-Vision-Lab/Assignments/03-Assignment/wandb/run-20201203_200045-3zr1nlxu/logs/debug.log</code>"
      ],
      "text/plain": [
       "<IPython.core.display.HTML object>"
      ]
     },
     "metadata": {},
     "output_type": "display_data"
    },
    {
     "data": {
      "text/html": [
       "Find internal logs for this run at: <code>/home/user/taouil/Cuda-Vision-Lab/Assignments/03-Assignment/wandb/run-20201203_200045-3zr1nlxu/logs/debug-internal.log</code>"
      ],
      "text/plain": [
       "<IPython.core.display.HTML object>"
      ]
     },
     "metadata": {},
     "output_type": "display_data"
    },
    {
     "data": {
      "text/html": [
       "<h3>Run summary:</h3><br/><style>\n",
       "    table.wandb td:nth-child(1) { padding: 0 10px; text-align: right }\n",
       "    </style><table class=\"wandb\">\n",
       "<tr><td>batch_loss</td><td>2.05567</td></tr><tr><td>_step</td><td>25059</td></tr><tr><td>_runtime</td><td>373</td></tr><tr><td>_timestamp</td><td>1607022418</td></tr><tr><td>train_loss</td><td>2.08994</td></tr><tr><td>validation_loss</td><td>2.09434</td></tr><tr><td>validation_accuracy</td><td>0.22405</td></tr></table>"
      ],
      "text/plain": [
       "<IPython.core.display.HTML object>"
      ]
     },
     "metadata": {},
     "output_type": "display_data"
    },
    {
     "data": {
      "text/html": [
       "<h3>Run history:</h3><br/><style>\n",
       "    table.wandb td:nth-child(1) { padding: 0 10px; text-align: right }\n",
       "    </style><table class=\"wandb\">\n",
       "<tr><td>batch_loss</td><td>███████████▇▇▇▇▇▇▇▆▆▆▅▆▅▅▆▅▄▄▄▄▄▃▄▂▄▃▁▂▂</td></tr><tr><td>_step</td><td>▁▁▁▂▂▂▂▂▂▃▃▃▃▃▃▄▄▄▄▄▅▅▅▅▅▅▆▆▆▆▆▇▇▇▇▇▇███</td></tr><tr><td>_runtime</td><td>▁▁▁▁▂▂▂▂▂▃▃▃▃▃▃▄▄▄▄▄▅▅▅▅▅▅▆▆▆▆▆▇▇▇▇▇▇███</td></tr><tr><td>_timestamp</td><td>▁▁▁▁▂▂▂▂▂▃▃▃▃▃▃▄▄▄▄▄▅▅▅▅▅▅▆▆▆▆▆▇▇▇▇▇▇███</td></tr><tr><td>train_loss</td><td>████████▇▇▇▇▇▇▇▇▇▇▆▆▆▆▆▅▅▅▄▄▄▄▃▃▃▂▂▂▂▁▁▁</td></tr><tr><td>validation_loss</td><td>████████▇▇▇▇▇▇▇▇▇▆▆▆▆▆▆▅▅▅▄▄▄▄▃▃▃▂▂▂▂▁▁▁</td></tr><tr><td>validation_accuracy</td><td>▁▁▂▂▂▂▂▂▂▂▂▃▃▃▃▄▅▅▅▅▆▆▆▆▆▆▆▇▇▇▇▇▇███████</td></tr></table><br/>"
      ],
      "text/plain": [
       "<IPython.core.display.HTML object>"
      ]
     },
     "metadata": {},
     "output_type": "display_data"
    },
    {
     "data": {
      "text/html": [
       "Synced 4 W&B file(s), 0 media file(s), 0 artifact file(s) and 0 other file(s)"
      ],
      "text/plain": [
       "<IPython.core.display.HTML object>"
      ]
     },
     "metadata": {},
     "output_type": "display_data"
    },
    {
     "data": {
      "text/html": [
       "\n",
       "                    <br/>Synced <strong style=\"color:#cdcd00\">dainty-sweep-19</strong>: <a href=\"https://wandb.ai/itaouil/Assignment-3/runs/3zr1nlxu\" target=\"_blank\">https://wandb.ai/itaouil/Assignment-3/runs/3zr1nlxu</a><br/>\n",
       "                "
      ],
      "text/plain": [
       "<IPython.core.display.HTML object>"
      ]
     },
     "metadata": {},
     "output_type": "display_data"
    },
    {
     "name": "stderr",
     "output_type": "stream",
     "text": [
      "\u001b[34m\u001b[1mwandb\u001b[0m: Agent Starting Run: ceq0crfh with config:\n",
      "\u001b[34m\u001b[1mwandb\u001b[0m: \tactivation: relu\n",
      "\u001b[34m\u001b[1mwandb\u001b[0m: \tepochs: 140\n",
      "\u001b[34m\u001b[1mwandb\u001b[0m: \tlearning_rate: 0.0003\n",
      "\u001b[34m\u001b[1mwandb\u001b[0m: \toptimizer: rmsprop\n"
     ]
    },
    {
     "data": {
      "text/html": [
       "\n",
       "                Tracking run with wandb version 0.10.11<br/>\n",
       "                Syncing run <strong style=\"color:#cdcd00\">toasty-sweep-20</strong> to <a href=\"https://wandb.ai\" target=\"_blank\">Weights & Biases</a> <a href=\"https://docs.wandb.com/integrations/jupyter.html\" target=\"_blank\">(Documentation)</a>.<br/>\n",
       "                Project page: <a href=\"https://wandb.ai/itaouil/Assignment-3\" target=\"_blank\">https://wandb.ai/itaouil/Assignment-3</a><br/>\n",
       "                Sweep page: <a href=\"https://wandb.ai/itaouil/Assignment-3/sweeps/ws2nc1af\" target=\"_blank\">https://wandb.ai/itaouil/Assignment-3/sweeps/ws2nc1af</a><br/>\n",
       "Run page: <a href=\"https://wandb.ai/itaouil/Assignment-3/runs/ceq0crfh\" target=\"_blank\">https://wandb.ai/itaouil/Assignment-3/runs/ceq0crfh</a><br/>\n",
       "                Run data is saved locally in <code>/home/user/taouil/Cuda-Vision-Lab/Assignments/03-Assignment/wandb/run-20201203_200701-ceq0crfh</code><br/><br/>\n",
       "            "
      ],
      "text/plain": [
       "<IPython.core.display.HTML object>"
      ]
     },
     "metadata": {},
     "output_type": "display_data"
    },
    {
     "data": {
      "text/html": [
       "<br/>Waiting for W&B process to finish, PID 6740<br/>Program ended successfully."
      ],
      "text/plain": [
       "<IPython.core.display.HTML object>"
      ]
     },
     "metadata": {},
     "output_type": "display_data"
    },
    {
     "data": {
      "text/html": [
       "Find user logs for this run at: <code>/home/user/taouil/Cuda-Vision-Lab/Assignments/03-Assignment/wandb/run-20201203_200701-ceq0crfh/logs/debug.log</code>"
      ],
      "text/plain": [
       "<IPython.core.display.HTML object>"
      ]
     },
     "metadata": {},
     "output_type": "display_data"
    },
    {
     "data": {
      "text/html": [
       "Find internal logs for this run at: <code>/home/user/taouil/Cuda-Vision-Lab/Assignments/03-Assignment/wandb/run-20201203_200701-ceq0crfh/logs/debug-internal.log</code>"
      ],
      "text/plain": [
       "<IPython.core.display.HTML object>"
      ]
     },
     "metadata": {},
     "output_type": "display_data"
    },
    {
     "data": {
      "text/html": [
       "<h3>Run summary:</h3><br/><style>\n",
       "    table.wandb td:nth-child(1) { padding: 0 10px; text-align: right }\n",
       "    </style><table class=\"wandb\">\n",
       "<tr><td>batch_loss</td><td>0.35814</td></tr><tr><td>_step</td><td>25059</td></tr><tr><td>_runtime</td><td>371</td></tr><tr><td>_timestamp</td><td>1607022792</td></tr><tr><td>train_loss</td><td>0.32222</td></tr><tr><td>validation_loss</td><td>2.488</td></tr><tr><td>validation_accuracy</td><td>0.50761</td></tr></table>"
      ],
      "text/plain": [
       "<IPython.core.display.HTML object>"
      ]
     },
     "metadata": {},
     "output_type": "display_data"
    },
    {
     "data": {
      "text/html": [
       "<h3>Run history:</h3><br/><style>\n",
       "    table.wandb td:nth-child(1) { padding: 0 10px; text-align: right }\n",
       "    </style><table class=\"wandb\">\n",
       "<tr><td>batch_loss</td><td>█▇▇▆▆▅▅▅▅▅▄▄▄▃▄▃▃▃▃▃▃▃▂▂▂▂▂▂▂▁▂▂▂▁▁▂▂▁▁▁</td></tr><tr><td>_step</td><td>▁▁▁▂▂▂▂▂▂▃▃▃▃▃▃▄▄▄▄▄▅▅▅▅▅▅▆▆▆▆▆▇▇▇▇▇▇███</td></tr><tr><td>_runtime</td><td>▁▁▁▂▂▂▂▂▂▃▃▃▃▃▃▄▄▄▄▄▅▅▅▅▅▅▆▆▆▆▆▇▇▇▇▇▇███</td></tr><tr><td>_timestamp</td><td>▁▁▁▂▂▂▂▂▂▃▃▃▃▃▃▄▄▄▄▄▅▅▅▅▅▅▆▆▆▆▆▇▇▇▇▇▇███</td></tr><tr><td>train_loss</td><td>█▇▇▆▆▆▅▅▅▄▄▄▄▃▃▃▃▃▃▂▂▂▂▂▂▂▂▂▂▁▁▁▁▁▁▁▁▁▁▁</td></tr><tr><td>validation_loss</td><td>▃▃▃▂▁▂▁▁▁▁▂▁▂▂▂▂▂▃▃▃▄▄▄▅▅▅▆▆▆▆▆▆▇▇▇▇████</td></tr><tr><td>validation_accuracy</td><td>▁▃▃▅▆▆▇▇▇▇▇▇█▇███▇▇█▇█▇███▇▇███▇▇▇▇█▇█▇▇</td></tr></table><br/>"
      ],
      "text/plain": [
       "<IPython.core.display.HTML object>"
      ]
     },
     "metadata": {},
     "output_type": "display_data"
    },
    {
     "data": {
      "text/html": [
       "Synced 4 W&B file(s), 0 media file(s), 0 artifact file(s) and 0 other file(s)"
      ],
      "text/plain": [
       "<IPython.core.display.HTML object>"
      ]
     },
     "metadata": {},
     "output_type": "display_data"
    },
    {
     "data": {
      "text/html": [
       "\n",
       "                    <br/>Synced <strong style=\"color:#cdcd00\">toasty-sweep-20</strong>: <a href=\"https://wandb.ai/itaouil/Assignment-3/runs/ceq0crfh\" target=\"_blank\">https://wandb.ai/itaouil/Assignment-3/runs/ceq0crfh</a><br/>\n",
       "                "
      ],
      "text/plain": [
       "<IPython.core.display.HTML object>"
      ]
     },
     "metadata": {},
     "output_type": "display_data"
    },
    {
     "name": "stderr",
     "output_type": "stream",
     "text": [
      "\u001b[34m\u001b[1mwandb\u001b[0m: Agent Starting Run: 8m7sxm1q with config:\n",
      "\u001b[34m\u001b[1mwandb\u001b[0m: \tactivation: sigmoid\n",
      "\u001b[34m\u001b[1mwandb\u001b[0m: \tepochs: 80\n",
      "\u001b[34m\u001b[1mwandb\u001b[0m: \tlearning_rate: 0.0003\n",
      "\u001b[34m\u001b[1mwandb\u001b[0m: \toptimizer: adam\n"
     ]
    },
    {
     "data": {
      "text/html": [
       "\n",
       "                Tracking run with wandb version 0.10.11<br/>\n",
       "                Syncing run <strong style=\"color:#cdcd00\">honest-sweep-21</strong> to <a href=\"https://wandb.ai\" target=\"_blank\">Weights & Biases</a> <a href=\"https://docs.wandb.com/integrations/jupyter.html\" target=\"_blank\">(Documentation)</a>.<br/>\n",
       "                Project page: <a href=\"https://wandb.ai/itaouil/Assignment-3\" target=\"_blank\">https://wandb.ai/itaouil/Assignment-3</a><br/>\n",
       "                Sweep page: <a href=\"https://wandb.ai/itaouil/Assignment-3/sweeps/ws2nc1af\" target=\"_blank\">https://wandb.ai/itaouil/Assignment-3/sweeps/ws2nc1af</a><br/>\n",
       "Run page: <a href=\"https://wandb.ai/itaouil/Assignment-3/runs/8m7sxm1q\" target=\"_blank\">https://wandb.ai/itaouil/Assignment-3/runs/8m7sxm1q</a><br/>\n",
       "                Run data is saved locally in <code>/home/user/taouil/Cuda-Vision-Lab/Assignments/03-Assignment/wandb/run-20201203_201318-8m7sxm1q</code><br/><br/>\n",
       "            "
      ],
      "text/plain": [
       "<IPython.core.display.HTML object>"
      ]
     },
     "metadata": {},
     "output_type": "display_data"
    },
    {
     "data": {
      "text/html": [
       "<br/>Waiting for W&B process to finish, PID 15705<br/>Program ended successfully."
      ],
      "text/plain": [
       "<IPython.core.display.HTML object>"
      ]
     },
     "metadata": {},
     "output_type": "display_data"
    },
    {
     "data": {
      "text/html": [
       "Find user logs for this run at: <code>/home/user/taouil/Cuda-Vision-Lab/Assignments/03-Assignment/wandb/run-20201203_201318-8m7sxm1q/logs/debug.log</code>"
      ],
      "text/plain": [
       "<IPython.core.display.HTML object>"
      ]
     },
     "metadata": {},
     "output_type": "display_data"
    },
    {
     "data": {
      "text/html": [
       "Find internal logs for this run at: <code>/home/user/taouil/Cuda-Vision-Lab/Assignments/03-Assignment/wandb/run-20201203_201318-8m7sxm1q/logs/debug-internal.log</code>"
      ],
      "text/plain": [
       "<IPython.core.display.HTML object>"
      ]
     },
     "metadata": {},
     "output_type": "display_data"
    },
    {
     "data": {
      "text/html": [
       "<h3>Run summary:</h3><br/><style>\n",
       "    table.wandb td:nth-child(1) { padding: 0 10px; text-align: right }\n",
       "    </style><table class=\"wandb\">\n",
       "<tr><td>batch_loss</td><td>0.63557</td></tr><tr><td>_step</td><td>14319</td></tr><tr><td>_runtime</td><td>212</td></tr><tr><td>_timestamp</td><td>1607023010</td></tr><tr><td>train_loss</td><td>0.64061</td></tr><tr><td>validation_loss</td><td>1.53907</td></tr><tr><td>validation_accuracy</td><td>0.53556</td></tr></table>"
      ],
      "text/plain": [
       "<IPython.core.display.HTML object>"
      ]
     },
     "metadata": {},
     "output_type": "display_data"
    },
    {
     "data": {
      "text/html": [
       "<h3>Run history:</h3><br/><style>\n",
       "    table.wandb td:nth-child(1) { padding: 0 10px; text-align: right }\n",
       "    </style><table class=\"wandb\">\n",
       "<tr><td>batch_loss</td><td>█▇▇▆▆▅▆▅▅▅▅▄▄▄▄▃▃▄▃▃▄▄▃▂▃▂▃▃▃▂▂▂▂▂▁▁▁▁▂▁</td></tr><tr><td>_step</td><td>▁▁▁▂▂▂▂▂▂▃▃▃▃▃▃▄▄▄▄▄▅▅▅▅▅▅▆▆▆▆▆▇▇▇▇▇▇███</td></tr><tr><td>_runtime</td><td>▁▁▁▂▂▂▂▂▂▃▃▃▃▃▃▄▄▄▄▄▅▅▅▅▅▅▆▆▆▆▆▇▇▇▇▇▇███</td></tr><tr><td>_timestamp</td><td>▁▁▁▂▂▂▂▂▂▃▃▃▃▃▃▄▄▄▄▄▅▅▅▅▅▅▆▆▆▆▆▇▇▇▇▇▇███</td></tr><tr><td>train_loss</td><td>█▇▆▆▅▅▅▅▅▄▄▄▄▄▄▄▄▃▃▃▃▃▃▃▃▃▂▂▂▂▂▂▂▂▂▁▁▁▁▁</td></tr><tr><td>validation_loss</td><td>█▆▅▄▃▃▃▂▂▂▂▁▁▁▁▁▁▁▁▁▁▁▁▁▁▁▁▁▁▂▂▂▂▂▃▂▃▃▃▃</td></tr><tr><td>validation_accuracy</td><td>▁▂▄▅▅▅▆▆▆▆▆▇▇▇▇▇▇▇▇▇▇███████████████████</td></tr></table><br/>"
      ],
      "text/plain": [
       "<IPython.core.display.HTML object>"
      ]
     },
     "metadata": {},
     "output_type": "display_data"
    },
    {
     "data": {
      "text/html": [
       "Synced 4 W&B file(s), 0 media file(s), 0 artifact file(s) and 0 other file(s)"
      ],
      "text/plain": [
       "<IPython.core.display.HTML object>"
      ]
     },
     "metadata": {},
     "output_type": "display_data"
    },
    {
     "data": {
      "text/html": [
       "\n",
       "                    <br/>Synced <strong style=\"color:#cdcd00\">honest-sweep-21</strong>: <a href=\"https://wandb.ai/itaouil/Assignment-3/runs/8m7sxm1q\" target=\"_blank\">https://wandb.ai/itaouil/Assignment-3/runs/8m7sxm1q</a><br/>\n",
       "                "
      ],
      "text/plain": [
       "<IPython.core.display.HTML object>"
      ]
     },
     "metadata": {},
     "output_type": "display_data"
    },
    {
     "name": "stderr",
     "output_type": "stream",
     "text": [
      "\u001b[34m\u001b[1mwandb\u001b[0m: Agent Starting Run: nylgtm48 with config:\n",
      "\u001b[34m\u001b[1mwandb\u001b[0m: \tactivation: sigmoid\n",
      "\u001b[34m\u001b[1mwandb\u001b[0m: \tepochs: 80\n",
      "\u001b[34m\u001b[1mwandb\u001b[0m: \tlearning_rate: 0.0003\n",
      "\u001b[34m\u001b[1mwandb\u001b[0m: \toptimizer: sgd\n"
     ]
    },
    {
     "data": {
      "text/html": [
       "\n",
       "                Tracking run with wandb version 0.10.11<br/>\n",
       "                Syncing run <strong style=\"color:#cdcd00\">drawn-sweep-22</strong> to <a href=\"https://wandb.ai\" target=\"_blank\">Weights & Biases</a> <a href=\"https://docs.wandb.com/integrations/jupyter.html\" target=\"_blank\">(Documentation)</a>.<br/>\n",
       "                Project page: <a href=\"https://wandb.ai/itaouil/Assignment-3\" target=\"_blank\">https://wandb.ai/itaouil/Assignment-3</a><br/>\n",
       "                Sweep page: <a href=\"https://wandb.ai/itaouil/Assignment-3/sweeps/ws2nc1af\" target=\"_blank\">https://wandb.ai/itaouil/Assignment-3/sweeps/ws2nc1af</a><br/>\n",
       "Run page: <a href=\"https://wandb.ai/itaouil/Assignment-3/runs/nylgtm48\" target=\"_blank\">https://wandb.ai/itaouil/Assignment-3/runs/nylgtm48</a><br/>\n",
       "                Run data is saved locally in <code>/home/user/taouil/Cuda-Vision-Lab/Assignments/03-Assignment/wandb/run-20201203_201654-nylgtm48</code><br/><br/>\n",
       "            "
      ],
      "text/plain": [
       "<IPython.core.display.HTML object>"
      ]
     },
     "metadata": {},
     "output_type": "display_data"
    },
    {
     "data": {
      "text/html": [
       "<br/>Waiting for W&B process to finish, PID 21275<br/>Program ended successfully."
      ],
      "text/plain": [
       "<IPython.core.display.HTML object>"
      ]
     },
     "metadata": {},
     "output_type": "display_data"
    },
    {
     "data": {
      "text/html": [
       "Find user logs for this run at: <code>/home/user/taouil/Cuda-Vision-Lab/Assignments/03-Assignment/wandb/run-20201203_201654-nylgtm48/logs/debug.log</code>"
      ],
      "text/plain": [
       "<IPython.core.display.HTML object>"
      ]
     },
     "metadata": {},
     "output_type": "display_data"
    },
    {
     "data": {
      "text/html": [
       "Find internal logs for this run at: <code>/home/user/taouil/Cuda-Vision-Lab/Assignments/03-Assignment/wandb/run-20201203_201654-nylgtm48/logs/debug-internal.log</code>"
      ],
      "text/plain": [
       "<IPython.core.display.HTML object>"
      ]
     },
     "metadata": {},
     "output_type": "display_data"
    },
    {
     "data": {
      "text/html": [
       "<h3>Run summary:</h3><br/><style>\n",
       "    table.wandb td:nth-child(1) { padding: 0 10px; text-align: right }\n",
       "    </style><table class=\"wandb\">\n",
       "<tr><td>batch_loss</td><td>2.30453</td></tr><tr><td>_step</td><td>14319</td></tr><tr><td>_runtime</td><td>211</td></tr><tr><td>_timestamp</td><td>1607023225</td></tr><tr><td>train_loss</td><td>2.30772</td></tr><tr><td>validation_loss</td><td>2.30693</td></tr><tr><td>validation_accuracy</td><td>0.1027</td></tr></table>"
      ],
      "text/plain": [
       "<IPython.core.display.HTML object>"
      ]
     },
     "metadata": {},
     "output_type": "display_data"
    },
    {
     "data": {
      "text/html": [
       "<h3>Run history:</h3><br/><style>\n",
       "    table.wandb td:nth-child(1) { padding: 0 10px; text-align: right }\n",
       "    </style><table class=\"wandb\">\n",
       "<tr><td>batch_loss</td><td>▇█▂▄▆▄▅▄▄▄▄▂▁▄▃▇▂▁▆▂▅▁▅▄▅▃▆█▇▄▇▄▃▆▄▃▄▅▆▄</td></tr><tr><td>_step</td><td>▁▁▁▂▂▂▂▂▂▃▃▃▃▃▃▄▄▄▄▄▅▅▅▅▅▅▆▆▆▆▆▇▇▇▇▇▇███</td></tr><tr><td>_runtime</td><td>▁▁▁▂▂▂▂▂▂▃▃▃▃▃▃▄▄▄▄▄▅▅▅▅▅▅▆▆▆▆▆▇▇▇▇▇▇███</td></tr><tr><td>_timestamp</td><td>▁▁▁▂▂▂▂▂▂▃▃▃▃▃▃▄▄▄▄▄▅▅▅▅▅▅▆▆▆▆▆▇▇▇▇▇▇███</td></tr><tr><td>train_loss</td><td>█▂▁▁▁▁▁▁▁▁▁▁▁▁▁▁▁▁▁▁▁▁▁▁▁▁▁▁▁▁▁▁▁▁▁▁▁▁▁▁</td></tr><tr><td>validation_loss</td><td>█▄▃▃▂▃▃▃▂▂▄▂▁▂▁▂▃▃▂▂▂▃▂▄▂▃▂▂▃▂▁▂▂▂▃▂▂▄▃▃</td></tr><tr><td>validation_accuracy</td><td>▆▄▅▄▅▅▃▃▃▃▅▃▆▅▄▁▅▆▃▅▆▂▃▅▆▆▆█▆▃▆▁▄▃▆█▄▂▄▅</td></tr></table><br/>"
      ],
      "text/plain": [
       "<IPython.core.display.HTML object>"
      ]
     },
     "metadata": {},
     "output_type": "display_data"
    },
    {
     "data": {
      "text/html": [
       "Synced 4 W&B file(s), 0 media file(s), 0 artifact file(s) and 0 other file(s)"
      ],
      "text/plain": [
       "<IPython.core.display.HTML object>"
      ]
     },
     "metadata": {},
     "output_type": "display_data"
    },
    {
     "data": {
      "text/html": [
       "\n",
       "                    <br/>Synced <strong style=\"color:#cdcd00\">drawn-sweep-22</strong>: <a href=\"https://wandb.ai/itaouil/Assignment-3/runs/nylgtm48\" target=\"_blank\">https://wandb.ai/itaouil/Assignment-3/runs/nylgtm48</a><br/>\n",
       "                "
      ],
      "text/plain": [
       "<IPython.core.display.HTML object>"
      ]
     },
     "metadata": {},
     "output_type": "display_data"
    },
    {
     "name": "stderr",
     "output_type": "stream",
     "text": [
      "\u001b[34m\u001b[1mwandb\u001b[0m: Agent Starting Run: eci2b47j with config:\n",
      "\u001b[34m\u001b[1mwandb\u001b[0m: \tactivation: sigmoid\n",
      "\u001b[34m\u001b[1mwandb\u001b[0m: \tepochs: 80\n",
      "\u001b[34m\u001b[1mwandb\u001b[0m: \tlearning_rate: 0.0003\n",
      "\u001b[34m\u001b[1mwandb\u001b[0m: \toptimizer: adagrad\n"
     ]
    },
    {
     "data": {
      "text/html": [
       "\n",
       "                Tracking run with wandb version 0.10.11<br/>\n",
       "                Syncing run <strong style=\"color:#cdcd00\">vocal-sweep-23</strong> to <a href=\"https://wandb.ai\" target=\"_blank\">Weights & Biases</a> <a href=\"https://docs.wandb.com/integrations/jupyter.html\" target=\"_blank\">(Documentation)</a>.<br/>\n",
       "                Project page: <a href=\"https://wandb.ai/itaouil/Assignment-3\" target=\"_blank\">https://wandb.ai/itaouil/Assignment-3</a><br/>\n",
       "                Sweep page: <a href=\"https://wandb.ai/itaouil/Assignment-3/sweeps/ws2nc1af\" target=\"_blank\">https://wandb.ai/itaouil/Assignment-3/sweeps/ws2nc1af</a><br/>\n",
       "Run page: <a href=\"https://wandb.ai/itaouil/Assignment-3/runs/eci2b47j\" target=\"_blank\">https://wandb.ai/itaouil/Assignment-3/runs/eci2b47j</a><br/>\n",
       "                Run data is saved locally in <code>/home/user/taouil/Cuda-Vision-Lab/Assignments/03-Assignment/wandb/run-20201203_202028-eci2b47j</code><br/><br/>\n",
       "            "
      ],
      "text/plain": [
       "<IPython.core.display.HTML object>"
      ]
     },
     "metadata": {},
     "output_type": "display_data"
    },
    {
     "data": {
      "text/html": [
       "<br/>Waiting for W&B process to finish, PID 26195<br/>Program ended successfully."
      ],
      "text/plain": [
       "<IPython.core.display.HTML object>"
      ]
     },
     "metadata": {},
     "output_type": "display_data"
    },
    {
     "data": {
      "text/html": [
       "Find user logs for this run at: <code>/home/user/taouil/Cuda-Vision-Lab/Assignments/03-Assignment/wandb/run-20201203_202028-eci2b47j/logs/debug.log</code>"
      ],
      "text/plain": [
       "<IPython.core.display.HTML object>"
      ]
     },
     "metadata": {},
     "output_type": "display_data"
    },
    {
     "data": {
      "text/html": [
       "Find internal logs for this run at: <code>/home/user/taouil/Cuda-Vision-Lab/Assignments/03-Assignment/wandb/run-20201203_202028-eci2b47j/logs/debug-internal.log</code>"
      ],
      "text/plain": [
       "<IPython.core.display.HTML object>"
      ]
     },
     "metadata": {},
     "output_type": "display_data"
    },
    {
     "data": {
      "text/html": [
       "<h3>Run summary:</h3><br/><style>\n",
       "    table.wandb td:nth-child(1) { padding: 0 10px; text-align: right }\n",
       "    </style><table class=\"wandb\">\n",
       "<tr><td>batch_loss</td><td>1.88125</td></tr><tr><td>_step</td><td>14319</td></tr><tr><td>_runtime</td><td>212</td></tr><tr><td>_timestamp</td><td>1607023440</td></tr><tr><td>train_loss</td><td>1.81295</td></tr><tr><td>validation_loss</td><td>1.81294</td></tr><tr><td>validation_accuracy</td><td>0.33704</td></tr></table>"
      ],
      "text/plain": [
       "<IPython.core.display.HTML object>"
      ]
     },
     "metadata": {},
     "output_type": "display_data"
    },
    {
     "data": {
      "text/html": [
       "<h3>Run history:</h3><br/><style>\n",
       "    table.wandb td:nth-child(1) { padding: 0 10px; text-align: right }\n",
       "    </style><table class=\"wandb\">\n",
       "<tr><td>batch_loss</td><td>█▆▅▄▅▃▄▄▄▃▂▃▄▄▂▃▄▃▃▂▂▃▄▃▃▃▃▂▂▂▁▄▄▂▁▂▃▃▄▃</td></tr><tr><td>_step</td><td>▁▁▁▂▂▂▂▂▂▃▃▃▃▃▃▄▄▄▄▄▅▅▅▅▅▅▆▆▆▆▆▇▇▇▇▇▇███</td></tr><tr><td>_runtime</td><td>▁▁▁▂▂▂▂▂▂▃▃▃▃▃▃▄▄▄▄▄▅▅▅▅▅▅▆▆▆▆▆▇▇▇▇▇▇███</td></tr><tr><td>_timestamp</td><td>▁▁▁▂▂▂▂▂▂▃▃▃▃▃▃▄▄▄▄▄▅▅▅▅▅▅▆▆▆▆▆▇▇▇▇▇▇███</td></tr><tr><td>train_loss</td><td>█▅▄▄▃▃▃▃▃▃▂▂▂▂▂▂▂▂▂▂▂▂▂▂▂▂▂▂▁▁▁▁▁▁▁▁▁▁▁▁</td></tr><tr><td>validation_loss</td><td>█▆▅▄▄▄▃▃▃▃▃▃▃▂▃▂▂▂▂▂▂▂▂▂▂▂▂▂▂▁▁▁▁▁▁▁▁▁▁▁</td></tr><tr><td>validation_accuracy</td><td>▁▃▄▅▅▅▆▆▆▆▇▇▇▇▇▇▇▇▇▇▇▇▇▇▇▇▇▇▇███████████</td></tr></table><br/>"
      ],
      "text/plain": [
       "<IPython.core.display.HTML object>"
      ]
     },
     "metadata": {},
     "output_type": "display_data"
    },
    {
     "data": {
      "text/html": [
       "Synced 4 W&B file(s), 0 media file(s), 0 artifact file(s) and 0 other file(s)"
      ],
      "text/plain": [
       "<IPython.core.display.HTML object>"
      ]
     },
     "metadata": {},
     "output_type": "display_data"
    },
    {
     "data": {
      "text/html": [
       "\n",
       "                    <br/>Synced <strong style=\"color:#cdcd00\">vocal-sweep-23</strong>: <a href=\"https://wandb.ai/itaouil/Assignment-3/runs/eci2b47j\" target=\"_blank\">https://wandb.ai/itaouil/Assignment-3/runs/eci2b47j</a><br/>\n",
       "                "
      ],
      "text/plain": [
       "<IPython.core.display.HTML object>"
      ]
     },
     "metadata": {},
     "output_type": "display_data"
    },
    {
     "name": "stderr",
     "output_type": "stream",
     "text": [
      "\u001b[34m\u001b[1mwandb\u001b[0m: Agent Starting Run: 95tqyd12 with config:\n",
      "\u001b[34m\u001b[1mwandb\u001b[0m: \tactivation: sigmoid\n",
      "\u001b[34m\u001b[1mwandb\u001b[0m: \tepochs: 80\n",
      "\u001b[34m\u001b[1mwandb\u001b[0m: \tlearning_rate: 0.0003\n",
      "\u001b[34m\u001b[1mwandb\u001b[0m: \toptimizer: adadelta\n"
     ]
    },
    {
     "data": {
      "text/html": [
       "\n",
       "                Tracking run with wandb version 0.10.11<br/>\n",
       "                Syncing run <strong style=\"color:#cdcd00\">volcanic-sweep-24</strong> to <a href=\"https://wandb.ai\" target=\"_blank\">Weights & Biases</a> <a href=\"https://docs.wandb.com/integrations/jupyter.html\" target=\"_blank\">(Documentation)</a>.<br/>\n",
       "                Project page: <a href=\"https://wandb.ai/itaouil/Assignment-3\" target=\"_blank\">https://wandb.ai/itaouil/Assignment-3</a><br/>\n",
       "                Sweep page: <a href=\"https://wandb.ai/itaouil/Assignment-3/sweeps/ws2nc1af\" target=\"_blank\">https://wandb.ai/itaouil/Assignment-3/sweeps/ws2nc1af</a><br/>\n",
       "Run page: <a href=\"https://wandb.ai/itaouil/Assignment-3/runs/95tqyd12\" target=\"_blank\">https://wandb.ai/itaouil/Assignment-3/runs/95tqyd12</a><br/>\n",
       "                Run data is saved locally in <code>/home/user/taouil/Cuda-Vision-Lab/Assignments/03-Assignment/wandb/run-20201203_202404-95tqyd12</code><br/><br/>\n",
       "            "
      ],
      "text/plain": [
       "<IPython.core.display.HTML object>"
      ]
     },
     "metadata": {},
     "output_type": "display_data"
    },
    {
     "name": "stderr",
     "output_type": "stream",
     "text": [
      "\u001b[34m\u001b[1mwandb\u001b[0m: Ctrl + C detected. Stopping sweep.\n",
      "Exception in thread Thread-7613:\n",
      "Traceback (most recent call last):\n",
      "  File \"/usr/lib/python3.6/threading.py\", line 916, in _bootstrap_inner\n",
      "    self.run()\n",
      "  File \"/usr/lib/python3.6/threading.py\", line 864, in run\n",
      "    self._target(*self._args, **self._kwargs)\n",
      "  File \"/home/user/taouil/cvl/lib/python3.6/site-packages/torch/utils/data/_utils/pin_memory.py\", line 25, in _pin_memory_loop\n",
      "    r = in_queue.get(timeout=MP_STATUS_CHECK_INTERVAL)\n",
      "  File \"/usr/lib/python3.6/multiprocessing/queues.py\", line 113, in get\n",
      "    return _ForkingPickler.loads(res)\n",
      "  File \"/home/user/taouil/cvl/lib/python3.6/site-packages/torch/multiprocessing/reductions.py\", line 282, in rebuild_storage_fd\n",
      "    fd = df.detach()\n",
      "  File \"/usr/lib/python3.6/multiprocessing/resource_sharer.py\", line 57, in detach\n",
      "    with _resource_sharer.get_connection(self._id) as conn:\n",
      "  File \"/usr/lib/python3.6/multiprocessing/resource_sharer.py\", line 87, in get_connection\n",
      "    c = Client(address, authkey=process.current_process().authkey)\n",
      "  File \"/usr/lib/python3.6/multiprocessing/connection.py\", line 487, in Client\n",
      "    c = SocketClient(address)\n",
      "  File \"/usr/lib/python3.6/multiprocessing/connection.py\", line 614, in SocketClient\n",
      "    s.connect(address)\n",
      "FileNotFoundError: [Errno 2] No such file or directory\n",
      "\n"
     ]
    },
    {
     "data": {
      "text/html": [
       "<br/>Waiting for W&B process to finish, PID 31224<br/>Program failed with code 1.  Press ctrl-c to abort syncing."
      ],
      "text/plain": [
       "<IPython.core.display.HTML object>"
      ]
     },
     "metadata": {},
     "output_type": "display_data"
    },
    {
     "data": {
      "text/html": [
       "Find user logs for this run at: <code>/home/user/taouil/Cuda-Vision-Lab/Assignments/03-Assignment/wandb/run-20201203_202404-95tqyd12/logs/debug.log</code>"
      ],
      "text/plain": [
       "<IPython.core.display.HTML object>"
      ]
     },
     "metadata": {},
     "output_type": "display_data"
    },
    {
     "data": {
      "text/html": [
       "Find internal logs for this run at: <code>/home/user/taouil/Cuda-Vision-Lab/Assignments/03-Assignment/wandb/run-20201203_202404-95tqyd12/logs/debug-internal.log</code>"
      ],
      "text/plain": [
       "<IPython.core.display.HTML object>"
      ]
     },
     "metadata": {},
     "output_type": "display_data"
    },
    {
     "data": {
      "text/html": [
       "<h3>Run summary:</h3><br/><style>\n",
       "    table.wandb td:nth-child(1) { padding: 0 10px; text-align: right }\n",
       "    </style><table class=\"wandb\">\n",
       "<tr><td>batch_loss</td><td>2.31568</td></tr><tr><td>_step</td><td>11571</td></tr><tr><td>_runtime</td><td>171</td></tr><tr><td>_timestamp</td><td>1607023615</td></tr><tr><td>train_loss</td><td>2.30695</td></tr><tr><td>validation_loss</td><td>2.30791</td></tr><tr><td>validation_accuracy</td><td>0.10622</td></tr></table>"
      ],
      "text/plain": [
       "<IPython.core.display.HTML object>"
      ]
     },
     "metadata": {},
     "output_type": "display_data"
    },
    {
     "data": {
      "text/html": [
       "<h3>Run history:</h3><br/><style>\n",
       "    table.wandb td:nth-child(1) { padding: 0 10px; text-align: right }\n",
       "    </style><table class=\"wandb\">\n",
       "<tr><td>batch_loss</td><td>▅▃█▄▃▃▂▁▄▃▂▂▄▁▂▁▂▂▂▃▃▃▃▂▂▁▂▂▃▄▂▃▂▃▂▂▃▂▄▂</td></tr><tr><td>_step</td><td>▁▁▁▁▂▂▂▂▂▃▃▃▃▃▃▄▄▄▄▄▅▅▅▅▅▅▆▆▆▆▆▇▇▇▇▇▇███</td></tr><tr><td>_runtime</td><td>▁▁▁▁▂▂▂▂▂▃▃▃▃▃▃▄▄▄▄▄▅▅▅▅▅▅▆▆▆▆▆▆▇▇▇▇▇███</td></tr><tr><td>_timestamp</td><td>▁▁▁▁▂▂▂▂▂▃▃▃▃▃▃▄▄▄▄▄▅▅▅▅▅▅▆▆▆▆▆▆▇▇▇▇▇███</td></tr><tr><td>train_loss</td><td>█▆▄▃▂▂▂▁▁▁▁▁▁▁▁▁▁▁▁▁▁▁▁▁▁▁▁▁▁▁▁▁▁▁▁▁▁▁▁▁</td></tr><tr><td>validation_loss</td><td>█▆▄▄▃▂▂▁▂▁▂▁▁▂▁▂▁▁▂▂▁▂▂▂▂▁▂▂▂▂▁▂▁▁▁▂▂▂▁▂</td></tr><tr><td>validation_accuracy</td><td>▆▅▄▄▅▅▃▅▁▃█▄▃▄▅▄▄▄▂▃▁▄▅▃▇▇▄▃▄█▅▃▆▄▆▃▄▅▇▇</td></tr></table><br/>"
      ],
      "text/plain": [
       "<IPython.core.display.HTML object>"
      ]
     },
     "metadata": {},
     "output_type": "display_data"
    },
    {
     "data": {
      "text/html": [
       "Synced 5 W&B file(s), 0 media file(s), 0 artifact file(s) and 0 other file(s)"
      ],
      "text/plain": [
       "<IPython.core.display.HTML object>"
      ]
     },
     "metadata": {},
     "output_type": "display_data"
    },
    {
     "data": {
      "text/html": [
       "\n",
       "                    <br/>Synced <strong style=\"color:#cdcd00\">volcanic-sweep-24</strong>: <a href=\"https://wandb.ai/itaouil/Assignment-3/runs/95tqyd12\" target=\"_blank\">https://wandb.ai/itaouil/Assignment-3/runs/95tqyd12</a><br/>\n",
       "                "
      ],
      "text/plain": [
       "<IPython.core.display.HTML object>"
      ]
     },
     "metadata": {},
     "output_type": "display_data"
    }
   ],
   "source": [
    "wandb.agent(sweep_id, train)"
   ]
  },
  {
   "cell_type": "markdown",
   "metadata": {},
   "source": [
    "# Comparison"
   ]
  },
  {
   "cell_type": "markdown",
   "metadata": {},
   "source": [
    "The below graph shows the comparison between the different sweeps that consisted of different optimizers and activation functions:"
   ]
  },
  {
   "cell_type": "markdown",
   "metadata": {},
   "source": [
    "<img src=\"comparison.png\">"
   ]
  },
  {
   "cell_type": "markdown",
   "metadata": {},
   "source": [
    "we now show the confusion matrix of the best model training within the 80 epochs, which is the one with the following parameters:\n",
    "\n",
    "- Adagrad\n",
    "- 80 epochs\n",
    "- relu\n",
    "- 0.0003"
   ]
  },
  {
   "cell_type": "code",
   "execution_count": 18,
   "metadata": {
    "id": "QofMApb3zVPI"
   },
   "outputs": [
    {
     "name": "stdout",
     "output_type": "stream",
     "text": [
      "[[521  23  73  27  63  22   6  35  79  26]\n",
      " [ 45 632  35  37  16  18  17  19  69 169]\n",
      " [ 43   3 309  67 147  94  53  44  11   4]\n",
      " [ 31  17 100 316  66 215  79  62  24  37]\n",
      " [ 25   7 114  33 337  44  79  70  12   9]\n",
      " [ 16  18  82 202  58 351  49  73  13  11]\n",
      " [ 31  16 157 147 158 104 640  44  14  23]\n",
      " [ 25  19  66  50  86  76  22 539  12  33]\n",
      " [190  78  38  37  37  34  22  22 679  66]\n",
      " [ 73 187  26  84  32  42  33  92  87 622]]\n"
     ]
    }
   ],
   "source": [
    "# Load model\n",
    "model = torch.load(\"model_adagrad_relu_0.0003_80.th\")\n",
    "model = to_device(model, \"cpu\")\n",
    "\n",
    "cm = np.zeros((10, 10), int)\n",
    "for i in range(len(test_dataset)):\n",
    "    data = test_dataset[i][0]\n",
    "    label = test_dataset[i][1]\n",
    "    data = data.view(1,data.shape[0],data.shape[1],data.shape[2])\n",
    "    predict = model.forward(data)\n",
    "    target = label\n",
    "    cm[predict.argmax(), target] += 1\n",
    "\n",
    "print(cm)"
   ]
  },
  {
   "cell_type": "markdown",
   "metadata": {},
   "source": [
    "finally we evaluate the same model on the test_loader to get the loass and accuracy:"
   ]
  },
  {
   "cell_type": "code",
   "execution_count": 20,
   "metadata": {},
   "outputs": [
    {
     "data": {
      "text/plain": [
       "{'val_loss': 1.412893533706665, 'val_acc': 0.49335938692092896}"
      ]
     },
     "execution_count": 20,
     "metadata": {},
     "output_type": "execute_result"
    }
   ],
   "source": [
    "model = to_device(model, device)\n",
    "evaluate(model, test_loader)"
   ]
  },
  {
   "cell_type": "markdown",
   "metadata": {},
   "source": [
    "The validation accuracy is not the best, although the capacity of the model was increased, and the validation loss is quite high still, so further training would have definetely improved the model to breach the 50% accuracy."
   ]
  },
  {
   "cell_type": "code",
   "execution_count": null,
   "metadata": {},
   "outputs": [],
   "source": []
  }
 ],
 "metadata": {
  "accelerator": "GPU",
  "colab": {
   "collapsed_sections": [
    "25bkpNjSIzF3"
   ],
   "name": "assignment3 (3).ipynb",
   "provenance": []
  },
  "kernelspec": {
   "display_name": "Python 3",
   "language": "python",
   "name": "python3"
  },
  "language_info": {
   "codemirror_mode": {
    "name": "ipython",
    "version": 3
   },
   "file_extension": ".py",
   "mimetype": "text/x-python",
   "name": "python",
   "nbconvert_exporter": "python",
   "pygments_lexer": "ipython3",
   "version": "3.6.10"
  }
 },
 "nbformat": 4,
 "nbformat_minor": 4
}
