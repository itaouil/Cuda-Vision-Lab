{
 "cells": [
  {
   "cell_type": "markdown",
   "metadata": {},
   "source": [
    "# Imports"
   ]
  },
  {
   "cell_type": "code",
   "execution_count": 32,
   "metadata": {
    "colab": {
     "base_uri": "https://localhost:8080/"
    },
    "id": "BmnCYancGUuw",
    "outputId": "6f3a0233-89c2-4bc0-eea9-ca66213672f3"
   },
   "outputs": [],
   "source": [
    "# Torch\n",
    "import torch\n",
    "import torchvision\n",
    "import torch.nn as nn\n",
    "import torchvision.transforms as transforms\n",
    "\n",
    "# Wandb\n",
    "import wandb\n",
    "\n",
    "# Python\n",
    "import random as rand\n",
    "\n",
    "# Numpy\n",
    "import numpy as np\n",
    "\n",
    "# Matplot\n",
    "import matplotlib.pyplot as plt\n",
    "%matplotlib inline\n",
    "\n",
    "# Seeding\n",
    "torch.manual_seed(24)\n",
    "\n",
    "# Scheduler\n",
    "from torch.optim.lr_scheduler import StepLR"
   ]
  },
  {
   "cell_type": "markdown",
   "metadata": {},
   "source": [
    "# GPU/CPU"
   ]
  },
  {
   "cell_type": "code",
   "execution_count": 33,
   "metadata": {},
   "outputs": [],
   "source": [
    "def get_default_device():\n",
    "    \"\"\"Pick GPU if available, else CPU\"\"\"\n",
    "    if torch.cuda.is_available():\n",
    "        return torch.device('cuda')\n",
    "    else:\n",
    "        return torch.device('cpu')\n",
    "    \n",
    "def to_device(data, device):\n",
    "    \"\"\"Move tensor(s) to chosen device\"\"\"\n",
    "    if isinstance(data, (list,tuple)):\n",
    "        return [to_device(x, device) for x in data]\n",
    "    return data.to(device, non_blocking=True)\n",
    "\n",
    "class DeviceDataLoader():\n",
    "    \"\"\"Wrap a dataloader to move data to a device\"\"\"\n",
    "    def __init__(self, dl, device):\n",
    "        self.dl = dl\n",
    "        self.device = device\n",
    "        \n",
    "    def __iter__(self):\n",
    "        \"\"\"Yield a batch of data after moving it to device\"\"\"\n",
    "        for b in self.dl: \n",
    "            yield to_device(b, self.device)\n",
    "\n",
    "    def __len__(self):\n",
    "        \"\"\"Number of batches\"\"\"\n",
    "        return len(self.dl)"
   ]
  },
  {
   "cell_type": "code",
   "execution_count": 34,
   "metadata": {},
   "outputs": [],
   "source": [
    "# Get device\n",
    "device = get_default_device()"
   ]
  },
  {
   "cell_type": "code",
   "execution_count": 35,
   "metadata": {},
   "outputs": [
    {
     "data": {
      "text/plain": [
       "device(type='cuda')"
      ]
     },
     "execution_count": 35,
     "metadata": {},
     "output_type": "execute_result"
    }
   ],
   "source": [
    "device"
   ]
  },
  {
   "cell_type": "markdown",
   "metadata": {},
   "source": [
    "# WANDB"
   ]
  },
  {
   "cell_type": "code",
   "execution_count": 5,
   "metadata": {},
   "outputs": [],
   "source": [
    "# Define sweep\n",
    "sweep_config = {\n",
    "    'method': 'bayes',\n",
    "    'metric': {\n",
    "      'name': 'validation_loss',\n",
    "      'goal': 'minimize'\n",
    "    },\n",
    "    'early_terminate': {\n",
    "        'type': 'hyperband',\n",
    "        'min_iter': 3\n",
    "    },\n",
    "    'parameters': {\n",
    "        'epochs': {\n",
    "            'values': [140, 160, 180]\n",
    "        },\n",
    "        'step_size': {\n",
    "            'values': [40, 50, 60]\n",
    "        },\n",
    "        'gamma': {\n",
    "            'values': [0.5, 0.1]\n",
    "        },\n",
    "        'pool1': {\n",
    "            'values': ['max', 'avg']\n",
    "        },\n",
    "        'pool2': {\n",
    "            'values': ['max', 'avg']\n",
    "        },\n",
    "        'pool3': {\n",
    "            'values': ['max', 'avg']\n",
    "        }\n",
    "    }\n",
    "}"
   ]
  },
  {
   "cell_type": "markdown",
   "metadata": {},
   "source": [
    "# Datasets"
   ]
  },
  {
   "cell_type": "markdown",
   "metadata": {},
   "source": [
    "### Load"
   ]
  },
  {
   "cell_type": "code",
   "execution_count": 6,
   "metadata": {
    "colab": {
     "base_uri": "https://localhost:8080/"
    },
    "id": "PwA-Nbb2GUux",
    "outputId": "867a32a6-aaed-48b6-986b-c9d1196becdb"
   },
   "outputs": [
    {
     "name": "stdout",
     "output_type": "stream",
     "text": [
      "Files already downloaded and verified\n",
      "Files already downloaded and verified\n"
     ]
    }
   ],
   "source": [
    "# Transform\n",
    "transform_train = transforms.Compose([\n",
    "    transforms.ToTensor(),\n",
    "    transforms.Normalize((0.5, 0.5, 0.5), (0.5, 0.5, 0.5)),\n",
    "])\n",
    "\n",
    "# Normalize the test set same as training set without augmentation\n",
    "transform_test = transforms.Compose([\n",
    "    transforms.ToTensor(),\n",
    "    transforms.Normalize((0.5, 0.5, 0.5), (0.5, 0.5, 0.5)),\n",
    "])\n",
    "\n",
    "# Load train and test set\n",
    "trainset = torchvision.datasets.CIFAR10('./data', train=True, download=True, transform=transform_train)\n",
    "testset = torchvision.datasets.CIFAR10('./data', train=False, download=True, transform=transform_test)"
   ]
  },
  {
   "cell_type": "code",
   "execution_count": 7,
   "metadata": {},
   "outputs": [],
   "source": [
    "# Labels\n",
    "CLASSES = trainset.classes"
   ]
  },
  {
   "cell_type": "code",
   "execution_count": 8,
   "metadata": {},
   "outputs": [
    {
     "data": {
      "text/plain": [
       "['airplane',\n",
       " 'automobile',\n",
       " 'bird',\n",
       " 'cat',\n",
       " 'deer',\n",
       " 'dog',\n",
       " 'frog',\n",
       " 'horse',\n",
       " 'ship',\n",
       " 'truck']"
      ]
     },
     "execution_count": 8,
     "metadata": {},
     "output_type": "execute_result"
    }
   ],
   "source": [
    "CLASSES"
   ]
  },
  {
   "cell_type": "markdown",
   "metadata": {},
   "source": [
    "### Dataset related parameters"
   ]
  },
  {
   "cell_type": "code",
   "execution_count": 9,
   "metadata": {},
   "outputs": [],
   "source": [
    "# Params\n",
    "batch_size = 4000\n",
    "val_size = 5000\n",
    "train_size = len(trainset) - val_size"
   ]
  },
  {
   "cell_type": "markdown",
   "metadata": {},
   "source": [
    "### Preparation"
   ]
  },
  {
   "cell_type": "code",
   "execution_count": 10,
   "metadata": {
    "colab": {
     "base_uri": "https://localhost:8080/"
    },
    "id": "UIRPaHvTGUux",
    "outputId": "81bb9618-22d4-40ec-f396-e3f3398f4ca0"
   },
   "outputs": [],
   "source": [
    "# Create train and validation\n",
    "trainset, validationset = torch.utils.data.random_split(trainset, [train_size, val_size])"
   ]
  },
  {
   "cell_type": "code",
   "execution_count": 11,
   "metadata": {},
   "outputs": [
    {
     "name": "stdout",
     "output_type": "stream",
     "text": [
      "Validation set lenght:  5000\n",
      "Train set length:  45000\n"
     ]
    }
   ],
   "source": [
    "print(\"Validation set lenght: \", len(validationset))\n",
    "print(\"Train set length: \", len(trainset))"
   ]
  },
  {
   "cell_type": "code",
   "execution_count": 12,
   "metadata": {
    "id": "7bGGAbsOGUux"
   },
   "outputs": [],
   "source": [
    "# Create dataloaders\n",
    "test_loader = torch.utils.data.DataLoader(testset, batch_size, num_workers=4, pin_memory=True)\n",
    "train_loader = torch.utils.data.DataLoader(trainset, batch_size, shuffle=True, num_workers=4, pin_memory=True)\n",
    "val_loader = torch.utils.data.DataLoader(validationset, batch_size, shuffle=True, num_workers=4, pin_memory=True)"
   ]
  },
  {
   "cell_type": "code",
   "execution_count": 13,
   "metadata": {},
   "outputs": [],
   "source": [
    "# Move dataloader to device\n",
    "val_loader = DeviceDataLoader(val_loader, device)\n",
    "test_loader = DeviceDataLoader(test_loader, device)\n",
    "train_loader = DeviceDataLoader(train_loader, device)"
   ]
  },
  {
   "cell_type": "markdown",
   "metadata": {},
   "source": [
    "# Model"
   ]
  },
  {
   "cell_type": "markdown",
   "metadata": {},
   "source": [
    "### Helper Functions"
   ]
  },
  {
   "cell_type": "code",
   "execution_count": 14,
   "metadata": {
    "id": "8YqVaFruGUux"
   },
   "outputs": [],
   "source": [
    "# Accuracy\n",
    "def accuracy(outputs, labels):\n",
    "    _, preds = torch.max(outputs, dim=1)\n",
    "    return torch.tensor(torch.sum(preds == labels).item() / len(preds))\n",
    "\n",
    "# Evaluation\n",
    "@torch.no_grad()\n",
    "def evaluate(model, val_loader):\n",
    "    model.eval()\n",
    "    outputs = [model.validation_step(batch) for batch in val_loader]\n",
    "    return model.validation_epoch_end(outputs)\n",
    "\n",
    "# Training\n",
    "def train():\n",
    "    # Default values for hyper-parameters we're going to sweep over\n",
    "    config_defaults = {\n",
    "        'epochs': 60,\n",
    "        'step_size': 5,\n",
    "        'gamma': 0.5,\n",
    "        'pool1': 'max',\n",
    "        'pool2': 'max',\n",
    "        'pool3': 'max'\n",
    "    }\n",
    "    \n",
    "    # Initialize a new wandb run\n",
    "    wandb.init(config=config_defaults)\n",
    "    \n",
    "    # Config\n",
    "    config = wandb.config\n",
    "\n",
    "    # Model\n",
    "    model = to_device(CIFAR10Model(config), device)\n",
    "    model.train()\n",
    "    \n",
    "    # SGD optimizer\n",
    "    optimizer = torch.optim.SGD(model.parameters(), 0.01, momentum=0.9)\n",
    "    \n",
    "    # gamma = decaying factor\n",
    "    scheduler = StepLR(optimizer, step_size=config.step_size, gamma=config.gamma)\n",
    "    \n",
    "    for epoch in range(config.epochs):        \n",
    "        # Cumulative loss\n",
    "        closs = 0\n",
    "        \n",
    "        # Training Phase \n",
    "        for batch_idx, batch in enumerate(train_loader):\n",
    "            # Feed forward\n",
    "            loss = model.training_step(batch)\n",
    "            \n",
    "            # Compute gradient\n",
    "            loss.backward()\n",
    "            \n",
    "            # Add loss to cumulative\n",
    "            closs += loss.item()\n",
    "            \n",
    "            # Backprop\n",
    "            optimizer.step()\n",
    "            \n",
    "            # Clean gradients\n",
    "            optimizer.zero_grad()\n",
    "            \n",
    "            # Log wandb (batch loss)\n",
    "            wandb.log({\"batch_loss\": loss.item()})\n",
    "                \n",
    "        # Adaptive learning\n",
    "        scheduler.step()\n",
    "        \n",
    "        # Log epoch loss (train)\n",
    "        wandb.log({\"train_loss\": closs/len(train_loader)})\n",
    "        \n",
    "        # Log validation loss\n",
    "        wandb.log({\"validation_loss\":evaluate(model, val_loader)['val_loss']})\n",
    "\n",
    "        # Log validation accuracy\n",
    "        wandb.log({\"validation_accuracy\":evaluate(model, val_loader)['val_acc']})\n",
    "    \n",
    "    # Save model\n",
    "    print(\"SAVING NOW\")\n",
    "    torch.save(model, f\"model_{config.epochs}_{config.step_size}_{config.gamma}.th\")"
   ]
  },
  {
   "cell_type": "markdown",
   "metadata": {},
   "source": [
    "### Model Class"
   ]
  },
  {
   "cell_type": "code",
   "execution_count": 15,
   "metadata": {},
   "outputs": [],
   "source": [
    "class CIFAR10Model(nn.Module):\n",
    "    def __init__(self, config):\n",
    "        # Init\n",
    "        super().__init__()\n",
    "        \n",
    "        # Convolution layer\n",
    "        self.conv_layer1 = nn.Sequential(\n",
    "            # Conv Layer block 1\n",
    "            nn.Conv2d(in_channels=3, out_channels=32, kernel_size=3, padding=1),\n",
    "            nn.BatchNorm2d(32),\n",
    "            nn.ReLU(inplace=True),\n",
    "            nn.Conv2d(in_channels=32, out_channels=64, kernel_size=3, padding=1),\n",
    "            nn.ReLU(inplace=True),\n",
    "            nn.MaxPool2d(kernel_size=2, stride=2) if config.pool1 == 'max' else nn.AvgPool2d(kernel_size=2, stride=2),\n",
    "\n",
    "        )\n",
    "        self.conv_layer2 = nn.Sequential(\n",
    "            # Conv Layer block 2\n",
    "            nn.Conv2d(in_channels=64, out_channels=128, kernel_size=3, padding=1),\n",
    "            nn.BatchNorm2d(128),\n",
    "            nn.ReLU(inplace=True),\n",
    "            nn.Conv2d(in_channels=128, out_channels=128, kernel_size=3, padding=1),\n",
    "            nn.ReLU(inplace=True),\n",
    "            nn.MaxPool2d(kernel_size=2, stride=2) if config.pool2 == 'max' else nn.AvgPool2d(kernel_size=2, stride=2),\n",
    "            nn.Dropout2d(p=0.05),\n",
    "\n",
    "        )\n",
    "        self.conv_layer3 = nn.Sequential(\n",
    "\n",
    "            # Conv Layer block 3\n",
    "            nn.Conv2d(in_channels=128, out_channels=256, kernel_size=3, padding=1),\n",
    "            nn.BatchNorm2d(256),\n",
    "            nn.ReLU(inplace=True),\n",
    "            nn.Conv2d(in_channels=256, out_channels=256, kernel_size=3, padding=1),\n",
    "            nn.ReLU(inplace=True),\n",
    "            nn.MaxPool2d(kernel_size=2, stride=2) if config.pool3 == 'max' else nn.AvgPool2d(kernel_size=2, stride=2),\n",
    "        )\n",
    "        \n",
    "        self.fc_layer = nn.Sequential(\n",
    "            nn.Dropout(p=0.1),\n",
    "            nn.Linear(4096, 1024),\n",
    "            nn.ReLU(inplace=True),\n",
    "            nn.Linear(1024, 512),\n",
    "            nn.ReLU(inplace=True),\n",
    "            nn.Dropout(p=0.1),\n",
    "            nn.Linear(512, 10)\n",
    "        )\n",
    "\n",
    "    def conv1(self,x):\n",
    "        return self.conv_layer1(x)\n",
    "    \n",
    "    def conv2(self,x):\n",
    "        x = self.conv_layer1(x)\n",
    "        return self.conv_layer2(x)\n",
    "    \n",
    "    def conv3(self,x):\n",
    "        x = self.conv_layer1(x)\n",
    "        x = self.conv_layer2(x)\n",
    "        return self.conv_layer3(x)\n",
    "        \n",
    "    def forward(self, x):\n",
    "        # conv layers\n",
    "        x = self.conv_layer1(x)\n",
    "        x = self.conv_layer2(x)\n",
    "        x = self.conv_layer3(x)\n",
    "        \n",
    "        # flatten\n",
    "        x = x.view(x.size(0), -1)\n",
    "        \n",
    "        # fc layer\n",
    "        x = self.fc_layer(x)\n",
    "\n",
    "        return x\n",
    "    \n",
    "\n",
    "    def training_step(self, batch):\n",
    "        # Unpack batch\n",
    "        images, labels = batch\n",
    "        \n",
    "        # Run forward pass\n",
    "        out = self.forward(images)\n",
    "        \n",
    "        # Compute and return loss\n",
    "        return nn.CrossEntropyLoss()(out, labels)\n",
    "    \n",
    "    def validation_step(self, batch):\n",
    "        # Unpack batch\n",
    "        images, labels = batch\n",
    "        \n",
    "        # Run forward pass\n",
    "        out = self.forward(images)\n",
    "        \n",
    "        # Compute loss\n",
    "        loss = nn.CrossEntropyLoss()(out, labels)\n",
    "        \n",
    "        # Compute accuracy\n",
    "        acc = accuracy(out, labels)\n",
    "        \n",
    "        return {'val_loss': loss, 'val_acc': acc}\n",
    "    \n",
    "    def validation_epoch_end(self, outputs):\n",
    "        batch_losses = [x['val_loss'] for x in outputs]\n",
    "        epoch_loss = torch.stack(batch_losses).mean()   # Combine losses\n",
    "        batch_accs = [x['val_acc'] for x in outputs]\n",
    "        epoch_acc = torch.stack(batch_accs).mean()      # Combine accuracies\n",
    "        return {'val_loss': epoch_loss.item(), 'val_acc': epoch_acc.item()}\n",
    "    \n",
    "    def epoch_end(self, epoch, result):\n",
    "        print(\"Epoch [{}], val_loss: {:.4f}, val_acc: {:.4f}\".format(epoch, result['val_loss'], result['val_acc']))"
   ]
  },
  {
   "cell_type": "markdown",
   "metadata": {},
   "source": [
    "# Training"
   ]
  },
  {
   "cell_type": "code",
   "execution_count": 16,
   "metadata": {},
   "outputs": [
    {
     "name": "stdout",
     "output_type": "stream",
     "text": [
      "Create sweep with ID: 4ea83hc3\n",
      "Sweep URL: https://wandb.ai/itaouil/Assignment-4/sweeps/4ea83hc3\n"
     ]
    }
   ],
   "source": [
    "# Initialize sweep\n",
    "sweep_id = wandb.sweep(sweep_config, project=\"Assignment-4\")"
   ]
  },
  {
   "cell_type": "code",
   "execution_count": null,
   "metadata": {},
   "outputs": [
    {
     "name": "stderr",
     "output_type": "stream",
     "text": [
      "\u001b[34m\u001b[1mwandb\u001b[0m: Agent Starting Run: 1ogkw9lv with config:\n",
      "\u001b[34m\u001b[1mwandb\u001b[0m: \tepochs: 180\n",
      "\u001b[34m\u001b[1mwandb\u001b[0m: \tgamma: 0.5\n",
      "\u001b[34m\u001b[1mwandb\u001b[0m: \tpool1: max\n",
      "\u001b[34m\u001b[1mwandb\u001b[0m: \tpool2: avg\n",
      "\u001b[34m\u001b[1mwandb\u001b[0m: \tpool3: avg\n",
      "\u001b[34m\u001b[1mwandb\u001b[0m: \tstep_size: 50\n",
      "\u001b[34m\u001b[1mwandb\u001b[0m: Currently logged in as: \u001b[33mitaouil\u001b[0m (use `wandb login --relogin` to force relogin)\n"
     ]
    },
    {
     "data": {
      "text/html": [
       "\n",
       "                Tracking run with wandb version 0.10.12<br/>\n",
       "                Syncing run <strong style=\"color:#cdcd00\">revived-sweep-1</strong> to <a href=\"https://wandb.ai\" target=\"_blank\">Weights & Biases</a> <a href=\"https://docs.wandb.com/integrations/jupyter.html\" target=\"_blank\">(Documentation)</a>.<br/>\n",
       "                Project page: <a href=\"https://wandb.ai/itaouil/Assignment-4\" target=\"_blank\">https://wandb.ai/itaouil/Assignment-4</a><br/>\n",
       "                Sweep page: <a href=\"https://wandb.ai/itaouil/Assignment-4/sweeps/4ea83hc3\" target=\"_blank\">https://wandb.ai/itaouil/Assignment-4/sweeps/4ea83hc3</a><br/>\n",
       "Run page: <a href=\"https://wandb.ai/itaouil/Assignment-4/runs/1ogkw9lv\" target=\"_blank\">https://wandb.ai/itaouil/Assignment-4/runs/1ogkw9lv</a><br/>\n",
       "                Run data is saved locally in <code>/home/user/taouil/Cuda-Vision-Lab/Assignments/04-Assignment/wandb/run-20201211_104704-1ogkw9lv</code><br/><br/>\n",
       "            "
      ],
      "text/plain": [
       "<IPython.core.display.HTML object>"
      ]
     },
     "metadata": {},
     "output_type": "display_data"
    },
    {
     "name": "stdout",
     "output_type": "stream",
     "text": [
      "SAVING NOW\n"
     ]
    },
    {
     "data": {
      "text/html": [
       "<br/>Waiting for W&B process to finish, PID 3582<br/>Program ended successfully."
      ],
      "text/plain": [
       "<IPython.core.display.HTML object>"
      ]
     },
     "metadata": {},
     "output_type": "display_data"
    },
    {
     "data": {
      "application/vnd.jupyter.widget-view+json": {
       "model_id": "77d0f0371989436f8ffab2878beb131e",
       "version_major": 2,
       "version_minor": 0
      },
      "text/plain": [
       "VBox(children=(Label(value=' 0.00MB of 0.00MB uploaded (0.00MB deduped)\\r'), FloatProgress(value=1.0, max=1.0)…"
      ]
     },
     "metadata": {},
     "output_type": "display_data"
    },
    {
     "data": {
      "text/html": [
       "Find user logs for this run at: <code>/home/user/taouil/Cuda-Vision-Lab/Assignments/04-Assignment/wandb/run-20201211_104704-1ogkw9lv/logs/debug.log</code>"
      ],
      "text/plain": [
       "<IPython.core.display.HTML object>"
      ]
     },
     "metadata": {},
     "output_type": "display_data"
    },
    {
     "data": {
      "text/html": [
       "Find internal logs for this run at: <code>/home/user/taouil/Cuda-Vision-Lab/Assignments/04-Assignment/wandb/run-20201211_104704-1ogkw9lv/logs/debug-internal.log</code>"
      ],
      "text/plain": [
       "<IPython.core.display.HTML object>"
      ]
     },
     "metadata": {},
     "output_type": "display_data"
    },
    {
     "data": {
      "text/html": [
       "<h3>Run summary:</h3><br/><style>\n",
       "    table.wandb td:nth-child(1) { padding: 0 10px; text-align: right }\n",
       "    </style><table class=\"wandb\">\n",
       "<tr><td>batch_loss</td><td>0.69092</td></tr><tr><td>_step</td><td>2699</td></tr><tr><td>_runtime</td><td>1331</td></tr><tr><td>_timestamp</td><td>1607681355</td></tr><tr><td>train_loss</td><td>0.39922</td></tr><tr><td>validation_loss</td><td>1.98596</td></tr><tr><td>validation_accuracy</td><td>0.6</td></tr></table>"
      ],
      "text/plain": [
       "<IPython.core.display.HTML object>"
      ]
     },
     "metadata": {},
     "output_type": "display_data"
    },
    {
     "data": {
      "text/html": [
       "<h3>Run history:</h3><br/><style>\n",
       "    table.wandb td:nth-child(1) { padding: 0 10px; text-align: right }\n",
       "    </style><table class=\"wandb\">\n",
       "<tr><td>batch_loss</td><td>████▇▆▆▅▅▅▅▄▄▄▄▄▄▃▃▃▃▃▃▃▃▂▂▂▂▂▂▂▂▂▂▁▁▁▁▁</td></tr><tr><td>_step</td><td>▁▁▁▂▂▂▂▂▂▃▃▃▃▃▃▄▄▄▄▄▅▅▅▅▅▅▆▆▆▆▆▆▇▇▇▇▇███</td></tr><tr><td>_runtime</td><td>▁▁▁▁▂▂▂▂▂▃▃▃▃▃▃▄▄▄▄▄▅▅▅▅▅▅▆▆▆▆▆▆▇▇▇▇▇███</td></tr><tr><td>_timestamp</td><td>▁▁▁▁▂▂▂▂▂▃▃▃▃▃▃▄▄▄▄▄▅▅▅▅▅▅▆▆▆▆▆▆▇▇▇▇▇███</td></tr><tr><td>train_loss</td><td>████▇▆▆▅▅▅▅▄▄▄▄▄▄▃▃▃▃▃▃▃▂▂▂▂▂▂▂▂▂▁▁▁▁▁▁▁</td></tr><tr><td>validation_loss</td><td>████▆▅▅▄▄▄▃▃▂▂▂▂▂▂▂▁▂▁▁▁▁▁▁▁▁▁▁▁▁▁▁▂▂▂▂▆</td></tr><tr><td>validation_accuracy</td><td>▁▁▂▂▃▄▄▅▅▅▆▆▇▆▇▇▇▇▇▇▇██████████████████▇</td></tr></table><br/>"
      ],
      "text/plain": [
       "<IPython.core.display.HTML object>"
      ]
     },
     "metadata": {},
     "output_type": "display_data"
    },
    {
     "data": {
      "text/html": [
       "Synced 5 W&B file(s), 0 media file(s), 0 artifact file(s) and 0 other file(s)"
      ],
      "text/plain": [
       "<IPython.core.display.HTML object>"
      ]
     },
     "metadata": {},
     "output_type": "display_data"
    },
    {
     "data": {
      "text/html": [
       "\n",
       "                    <br/>Synced <strong style=\"color:#cdcd00\">revived-sweep-1</strong>: <a href=\"https://wandb.ai/itaouil/Assignment-4/runs/1ogkw9lv\" target=\"_blank\">https://wandb.ai/itaouil/Assignment-4/runs/1ogkw9lv</a><br/>\n",
       "                "
      ],
      "text/plain": [
       "<IPython.core.display.HTML object>"
      ]
     },
     "metadata": {},
     "output_type": "display_data"
    },
    {
     "name": "stderr",
     "output_type": "stream",
     "text": [
      "\u001b[34m\u001b[1mwandb\u001b[0m: Agent Starting Run: rwtabqnj with config:\n",
      "\u001b[34m\u001b[1mwandb\u001b[0m: \tepochs: 140\n",
      "\u001b[34m\u001b[1mwandb\u001b[0m: \tgamma: 0.1\n",
      "\u001b[34m\u001b[1mwandb\u001b[0m: \tpool1: avg\n",
      "\u001b[34m\u001b[1mwandb\u001b[0m: \tpool2: max\n",
      "\u001b[34m\u001b[1mwandb\u001b[0m: \tpool3: max\n",
      "\u001b[34m\u001b[1mwandb\u001b[0m: \tstep_size: 60\n"
     ]
    },
    {
     "data": {
      "text/html": [
       "\n",
       "                Tracking run with wandb version 0.10.12<br/>\n",
       "                Syncing run <strong style=\"color:#cdcd00\">rare-sweep-2</strong> to <a href=\"https://wandb.ai\" target=\"_blank\">Weights & Biases</a> <a href=\"https://docs.wandb.com/integrations/jupyter.html\" target=\"_blank\">(Documentation)</a>.<br/>\n",
       "                Project page: <a href=\"https://wandb.ai/itaouil/Assignment-4\" target=\"_blank\">https://wandb.ai/itaouil/Assignment-4</a><br/>\n",
       "                Sweep page: <a href=\"https://wandb.ai/itaouil/Assignment-4/sweeps/4ea83hc3\" target=\"_blank\">https://wandb.ai/itaouil/Assignment-4/sweeps/4ea83hc3</a><br/>\n",
       "Run page: <a href=\"https://wandb.ai/itaouil/Assignment-4/runs/rwtabqnj\" target=\"_blank\">https://wandb.ai/itaouil/Assignment-4/runs/rwtabqnj</a><br/>\n",
       "                Run data is saved locally in <code>/home/user/taouil/Cuda-Vision-Lab/Assignments/04-Assignment/wandb/run-20201211_110919-rwtabqnj</code><br/><br/>\n",
       "            "
      ],
      "text/plain": [
       "<IPython.core.display.HTML object>"
      ]
     },
     "metadata": {},
     "output_type": "display_data"
    },
    {
     "name": "stdout",
     "output_type": "stream",
     "text": [
      "SAVING NOW\n"
     ]
    },
    {
     "data": {
      "text/html": [
       "<br/>Waiting for W&B process to finish, PID 16940<br/>Program ended successfully."
      ],
      "text/plain": [
       "<IPython.core.display.HTML object>"
      ]
     },
     "metadata": {},
     "output_type": "display_data"
    },
    {
     "data": {
      "application/vnd.jupyter.widget-view+json": {
       "model_id": "e6d1de6f38fd4188a7b8b9cef64bd849",
       "version_major": 2,
       "version_minor": 0
      },
      "text/plain": [
       "VBox(children=(Label(value=' 0.00MB of 0.00MB uploaded (0.00MB deduped)\\r'), FloatProgress(value=1.0, max=1.0)…"
      ]
     },
     "metadata": {},
     "output_type": "display_data"
    },
    {
     "data": {
      "text/html": [
       "Find user logs for this run at: <code>/home/user/taouil/Cuda-Vision-Lab/Assignments/04-Assignment/wandb/run-20201211_110919-rwtabqnj/logs/debug.log</code>"
      ],
      "text/plain": [
       "<IPython.core.display.HTML object>"
      ]
     },
     "metadata": {},
     "output_type": "display_data"
    },
    {
     "data": {
      "text/html": [
       "Find internal logs for this run at: <code>/home/user/taouil/Cuda-Vision-Lab/Assignments/04-Assignment/wandb/run-20201211_110919-rwtabqnj/logs/debug-internal.log</code>"
      ],
      "text/plain": [
       "<IPython.core.display.HTML object>"
      ]
     },
     "metadata": {},
     "output_type": "display_data"
    },
    {
     "data": {
      "text/html": [
       "<h3>Run summary:</h3><br/><style>\n",
       "    table.wandb td:nth-child(1) { padding: 0 10px; text-align: right }\n",
       "    </style><table class=\"wandb\">\n",
       "<tr><td>batch_loss</td><td>0.53561</td></tr><tr><td>_step</td><td>2099</td></tr><tr><td>_runtime</td><td>1036</td></tr><tr><td>_timestamp</td><td>1607682395</td></tr><tr><td>train_loss</td><td>0.56245</td></tr><tr><td>validation_loss</td><td>0.93063</td></tr><tr><td>validation_accuracy</td><td>0.693</td></tr></table>"
      ],
      "text/plain": [
       "<IPython.core.display.HTML object>"
      ]
     },
     "metadata": {},
     "output_type": "display_data"
    },
    {
     "data": {
      "text/html": [
       "<h3>Run history:</h3><br/><style>\n",
       "    table.wandb td:nth-child(1) { padding: 0 10px; text-align: right }\n",
       "    </style><table class=\"wandb\">\n",
       "<tr><td>batch_loss</td><td>█████▇▆▆▅▅▅▄▄▄▃▃▃▂▂▂▂▂▂▂▂▂▂▂▂▂▂▁▁▁▁▁▁▁▁▁</td></tr><tr><td>_step</td><td>▁▁▁▁▂▂▂▂▂▃▃▃▃▃▃▄▄▄▄▄▅▅▅▅▅▅▆▆▆▆▆▆▇▇▇▇▇███</td></tr><tr><td>_runtime</td><td>▁▁▁▁▂▂▂▂▂▃▃▃▃▃▃▄▄▄▄▄▄▅▅▅▅▅▆▆▆▆▆▆▇▇▇▇▇███</td></tr><tr><td>_timestamp</td><td>▁▁▁▁▂▂▂▂▂▃▃▃▃▃▃▄▄▄▄▄▄▅▅▅▅▅▆▆▆▆▆▆▇▇▇▇▇███</td></tr><tr><td>train_loss</td><td>████▇▇▆▆▅▅▄▄▄▄▃▃▃▂▂▂▂▂▂▂▂▂▂▂▁▁▁▁▁▁▁▁▁▁▁▁</td></tr><tr><td>validation_loss</td><td>████▇▆▅▅▄▄▄▃▃▃▂▂▂▁▁▁▁▁▁▁▁▁▁▁▁▁▁▁▁▁▁▁▁▁▁▁</td></tr><tr><td>validation_accuracy</td><td>▁▁▂▂▃▃▄▄▅▅▆▆▆▆▆▇▇███████████████████████</td></tr></table><br/>"
      ],
      "text/plain": [
       "<IPython.core.display.HTML object>"
      ]
     },
     "metadata": {},
     "output_type": "display_data"
    },
    {
     "data": {
      "text/html": [
       "Synced 5 W&B file(s), 0 media file(s), 0 artifact file(s) and 0 other file(s)"
      ],
      "text/plain": [
       "<IPython.core.display.HTML object>"
      ]
     },
     "metadata": {},
     "output_type": "display_data"
    },
    {
     "data": {
      "text/html": [
       "\n",
       "                    <br/>Synced <strong style=\"color:#cdcd00\">rare-sweep-2</strong>: <a href=\"https://wandb.ai/itaouil/Assignment-4/runs/rwtabqnj\" target=\"_blank\">https://wandb.ai/itaouil/Assignment-4/runs/rwtabqnj</a><br/>\n",
       "                "
      ],
      "text/plain": [
       "<IPython.core.display.HTML object>"
      ]
     },
     "metadata": {},
     "output_type": "display_data"
    },
    {
     "name": "stderr",
     "output_type": "stream",
     "text": [
      "\u001b[34m\u001b[1mwandb\u001b[0m: Agent Starting Run: 36ygowww with config:\n",
      "\u001b[34m\u001b[1mwandb\u001b[0m: \tepochs: 180\n",
      "\u001b[34m\u001b[1mwandb\u001b[0m: \tgamma: 0.1\n",
      "\u001b[34m\u001b[1mwandb\u001b[0m: \tpool1: max\n",
      "\u001b[34m\u001b[1mwandb\u001b[0m: \tpool2: avg\n",
      "\u001b[34m\u001b[1mwandb\u001b[0m: \tpool3: max\n",
      "\u001b[34m\u001b[1mwandb\u001b[0m: \tstep_size: 60\n"
     ]
    },
    {
     "data": {
      "text/html": [
       "\n",
       "                Tracking run with wandb version 0.10.12<br/>\n",
       "                Syncing run <strong style=\"color:#cdcd00\">genial-sweep-3</strong> to <a href=\"https://wandb.ai\" target=\"_blank\">Weights & Biases</a> <a href=\"https://docs.wandb.com/integrations/jupyter.html\" target=\"_blank\">(Documentation)</a>.<br/>\n",
       "                Project page: <a href=\"https://wandb.ai/itaouil/Assignment-4\" target=\"_blank\">https://wandb.ai/itaouil/Assignment-4</a><br/>\n",
       "                Sweep page: <a href=\"https://wandb.ai/itaouil/Assignment-4/sweeps/4ea83hc3\" target=\"_blank\">https://wandb.ai/itaouil/Assignment-4/sweeps/4ea83hc3</a><br/>\n",
       "Run page: <a href=\"https://wandb.ai/itaouil/Assignment-4/runs/36ygowww\" target=\"_blank\">https://wandb.ai/itaouil/Assignment-4/runs/36ygowww</a><br/>\n",
       "                Run data is saved locally in <code>/home/user/taouil/Cuda-Vision-Lab/Assignments/04-Assignment/wandb/run-20201211_112641-36ygowww</code><br/><br/>\n",
       "            "
      ],
      "text/plain": [
       "<IPython.core.display.HTML object>"
      ]
     },
     "metadata": {},
     "output_type": "display_data"
    },
    {
     "name": "stdout",
     "output_type": "stream",
     "text": [
      "SAVING NOW\n"
     ]
    },
    {
     "data": {
      "text/html": [
       "<br/>Waiting for W&B process to finish, PID 26951<br/>Program ended successfully."
      ],
      "text/plain": [
       "<IPython.core.display.HTML object>"
      ]
     },
     "metadata": {},
     "output_type": "display_data"
    },
    {
     "data": {
      "application/vnd.jupyter.widget-view+json": {
       "model_id": "3af208d9e7ad4a10b396d4a5eef02f47",
       "version_major": 2,
       "version_minor": 0
      },
      "text/plain": [
       "VBox(children=(Label(value=' 0.00MB of 0.00MB uploaded (0.00MB deduped)\\r'), FloatProgress(value=1.0, max=1.0)…"
      ]
     },
     "metadata": {},
     "output_type": "display_data"
    },
    {
     "data": {
      "text/html": [
       "Find user logs for this run at: <code>/home/user/taouil/Cuda-Vision-Lab/Assignments/04-Assignment/wandb/run-20201211_112641-36ygowww/logs/debug.log</code>"
      ],
      "text/plain": [
       "<IPython.core.display.HTML object>"
      ]
     },
     "metadata": {},
     "output_type": "display_data"
    },
    {
     "data": {
      "text/html": [
       "Find internal logs for this run at: <code>/home/user/taouil/Cuda-Vision-Lab/Assignments/04-Assignment/wandb/run-20201211_112641-36ygowww/logs/debug-internal.log</code>"
      ],
      "text/plain": [
       "<IPython.core.display.HTML object>"
      ]
     },
     "metadata": {},
     "output_type": "display_data"
    },
    {
     "data": {
      "text/html": [
       "<h3>Run summary:</h3><br/><style>\n",
       "    table.wandb td:nth-child(1) { padding: 0 10px; text-align: right }\n",
       "    </style><table class=\"wandb\">\n",
       "<tr><td>batch_loss</td><td>0.53032</td></tr><tr><td>_step</td><td>2699</td></tr><tr><td>_runtime</td><td>1334</td></tr><tr><td>_timestamp</td><td>1607683735</td></tr><tr><td>train_loss</td><td>0.50926</td></tr><tr><td>validation_loss</td><td>0.84933</td></tr><tr><td>validation_accuracy</td><td>0.71575</td></tr></table>"
      ],
      "text/plain": [
       "<IPython.core.display.HTML object>"
      ]
     },
     "metadata": {},
     "output_type": "display_data"
    },
    {
     "data": {
      "text/html": [
       "<h3>Run history:</h3><br/><style>\n",
       "    table.wandb td:nth-child(1) { padding: 0 10px; text-align: right }\n",
       "    </style><table class=\"wandb\">\n",
       "<tr><td>batch_loss</td><td>███▆▆▅▅▄▅▃▃▃▃▂▂▂▂▂▂▂▂▁▁▁▁▁▁▁▁▁▁▁▁▁▁▁▁▁▁▁</td></tr><tr><td>_step</td><td>▁▁▁▂▂▂▂▂▂▃▃▃▃▃▃▄▄▄▄▄▅▅▅▅▅▅▆▆▆▆▆▆▇▇▇▇▇███</td></tr><tr><td>_runtime</td><td>▁▁▁▂▂▂▂▂▂▃▃▃▃▃▃▄▄▄▄▄▅▅▅▅▅▅▆▆▆▆▆▆▇▇▇▇▇███</td></tr><tr><td>_timestamp</td><td>▁▁▁▂▂▂▂▂▂▃▃▃▃▃▃▄▄▄▄▄▅▅▅▅▅▅▆▆▆▆▆▆▇▇▇▇▇███</td></tr><tr><td>train_loss</td><td>███▇▅▅▅▄▄▄▃▃▃▃▂▂▂▂▂▂▂▂▁▁▁▁▁▁▁▁▁▁▁▁▁▁▁▁▁▁</td></tr><tr><td>validation_loss</td><td>███▆▅▅▄▄▄▃▃▂▂▂▁▁▁▁▁▁▁▁▁▁▁▁▁▁▁▁▁▁▁▁▁▁▁▁▁▁</td></tr><tr><td>validation_accuracy</td><td>▁▂▂▃▄▅▅▅▆▆▆▇▇▇██████████████████████████</td></tr></table><br/>"
      ],
      "text/plain": [
       "<IPython.core.display.HTML object>"
      ]
     },
     "metadata": {},
     "output_type": "display_data"
    },
    {
     "data": {
      "text/html": [
       "Synced 5 W&B file(s), 0 media file(s), 0 artifact file(s) and 0 other file(s)"
      ],
      "text/plain": [
       "<IPython.core.display.HTML object>"
      ]
     },
     "metadata": {},
     "output_type": "display_data"
    },
    {
     "data": {
      "text/html": [
       "\n",
       "                    <br/>Synced <strong style=\"color:#cdcd00\">genial-sweep-3</strong>: <a href=\"https://wandb.ai/itaouil/Assignment-4/runs/36ygowww\" target=\"_blank\">https://wandb.ai/itaouil/Assignment-4/runs/36ygowww</a><br/>\n",
       "                "
      ],
      "text/plain": [
       "<IPython.core.display.HTML object>"
      ]
     },
     "metadata": {},
     "output_type": "display_data"
    },
    {
     "name": "stderr",
     "output_type": "stream",
     "text": [
      "\u001b[34m\u001b[1mwandb\u001b[0m: Agent Starting Run: ssnjv7wp with config:\n",
      "\u001b[34m\u001b[1mwandb\u001b[0m: \tepochs: 180\n",
      "\u001b[34m\u001b[1mwandb\u001b[0m: \tgamma: 0.5\n",
      "\u001b[34m\u001b[1mwandb\u001b[0m: \tpool1: avg\n",
      "\u001b[34m\u001b[1mwandb\u001b[0m: \tpool2: avg\n",
      "\u001b[34m\u001b[1mwandb\u001b[0m: \tpool3: max\n",
      "\u001b[34m\u001b[1mwandb\u001b[0m: \tstep_size: 50\n"
     ]
    },
    {
     "data": {
      "text/html": [
       "\n",
       "                Tracking run with wandb version 0.10.12<br/>\n",
       "                Syncing run <strong style=\"color:#cdcd00\">floral-sweep-4</strong> to <a href=\"https://wandb.ai\" target=\"_blank\">Weights & Biases</a> <a href=\"https://docs.wandb.com/integrations/jupyter.html\" target=\"_blank\">(Documentation)</a>.<br/>\n",
       "                Project page: <a href=\"https://wandb.ai/itaouil/Assignment-4\" target=\"_blank\">https://wandb.ai/itaouil/Assignment-4</a><br/>\n",
       "                Sweep page: <a href=\"https://wandb.ai/itaouil/Assignment-4/sweeps/4ea83hc3\" target=\"_blank\">https://wandb.ai/itaouil/Assignment-4/sweeps/4ea83hc3</a><br/>\n",
       "Run page: <a href=\"https://wandb.ai/itaouil/Assignment-4/runs/ssnjv7wp\" target=\"_blank\">https://wandb.ai/itaouil/Assignment-4/runs/ssnjv7wp</a><br/>\n",
       "                Run data is saved locally in <code>/home/user/taouil/Cuda-Vision-Lab/Assignments/04-Assignment/wandb/run-20201211_114901-ssnjv7wp</code><br/><br/>\n",
       "            "
      ],
      "text/plain": [
       "<IPython.core.display.HTML object>"
      ]
     },
     "metadata": {},
     "output_type": "display_data"
    },
    {
     "name": "stdout",
     "output_type": "stream",
     "text": [
      "SAVING NOW\n"
     ]
    },
    {
     "data": {
      "text/html": [
       "<br/>Waiting for W&B process to finish, PID 7411<br/>Program ended successfully."
      ],
      "text/plain": [
       "<IPython.core.display.HTML object>"
      ]
     },
     "metadata": {},
     "output_type": "display_data"
    },
    {
     "data": {
      "application/vnd.jupyter.widget-view+json": {
       "model_id": "11e9c6b19456488a8018bfcb03874456",
       "version_major": 2,
       "version_minor": 0
      },
      "text/plain": [
       "VBox(children=(Label(value=' 0.00MB of 0.00MB uploaded (0.00MB deduped)\\r'), FloatProgress(value=1.0, max=1.0)…"
      ]
     },
     "metadata": {},
     "output_type": "display_data"
    },
    {
     "data": {
      "text/html": [
       "Find user logs for this run at: <code>/home/user/taouil/Cuda-Vision-Lab/Assignments/04-Assignment/wandb/run-20201211_114901-ssnjv7wp/logs/debug.log</code>"
      ],
      "text/plain": [
       "<IPython.core.display.HTML object>"
      ]
     },
     "metadata": {},
     "output_type": "display_data"
    },
    {
     "data": {
      "text/html": [
       "Find internal logs for this run at: <code>/home/user/taouil/Cuda-Vision-Lab/Assignments/04-Assignment/wandb/run-20201211_114901-ssnjv7wp/logs/debug-internal.log</code>"
      ],
      "text/plain": [
       "<IPython.core.display.HTML object>"
      ]
     },
     "metadata": {},
     "output_type": "display_data"
    },
    {
     "data": {
      "text/html": [
       "<h3>Run summary:</h3><br/><style>\n",
       "    table.wandb td:nth-child(1) { padding: 0 10px; text-align: right }\n",
       "    </style><table class=\"wandb\">\n",
       "<tr><td>batch_loss</td><td>0.00257</td></tr><tr><td>_step</td><td>2699</td></tr><tr><td>_runtime</td><td>1336</td></tr><tr><td>_timestamp</td><td>1607685077</td></tr><tr><td>train_loss</td><td>0.00261</td></tr><tr><td>validation_loss</td><td>3.19053</td></tr><tr><td>validation_accuracy</td><td>0.61513</td></tr></table>"
      ],
      "text/plain": [
       "<IPython.core.display.HTML object>"
      ]
     },
     "metadata": {},
     "output_type": "display_data"
    },
    {
     "data": {
      "text/html": [
       "<h3>Run history:</h3><br/><style>\n",
       "    table.wandb td:nth-child(1) { padding: 0 10px; text-align: right }\n",
       "    </style><table class=\"wandb\">\n",
       "<tr><td>batch_loss</td><td>███▇█▇▇▆▆▅▅▅▅▄▅▄▄▄▄▃▄▃▂▂▂▃▁▁▁▁▁▁▁▁▁▁▁▁▁▁</td></tr><tr><td>_step</td><td>▁▁▁▂▂▂▂▂▂▃▃▃▃▃▃▄▄▄▄▄▅▅▅▅▅▅▆▆▆▆▆▆▇▇▇▇▇███</td></tr><tr><td>_runtime</td><td>▁▁▁▁▂▂▂▂▂▃▃▃▃▃▃▄▄▄▄▄▅▅▅▅▅▅▆▆▆▆▆▆▇▇▇▇▇███</td></tr><tr><td>_timestamp</td><td>▁▁▁▁▂▂▂▂▂▃▃▃▃▃▃▄▄▄▄▄▅▅▅▅▅▅▆▆▆▆▆▆▇▇▇▇▇███</td></tr><tr><td>train_loss</td><td>███▇█▇▇▆▆▆▅▅▅▅▄▄▄▄▄▃▃▃▂▂▂▂▁▁▁▁▁▁▁▁▁▁▁▁▁▁</td></tr><tr><td>validation_loss</td><td>▅▅▅▄▅▄▄▃▃▂▂▂▂▁▁▁▁▁▁▁▁▂▁▂▃▂▃▄▅▅▆▇▇▇█▇████</td></tr><tr><td>validation_accuracy</td><td>▁▁▂▃▂▃▄▄▅▆▆▆▇▇▇▇▇█▇█████████████████████</td></tr></table><br/>"
      ],
      "text/plain": [
       "<IPython.core.display.HTML object>"
      ]
     },
     "metadata": {},
     "output_type": "display_data"
    },
    {
     "data": {
      "text/html": [
       "Synced 5 W&B file(s), 0 media file(s), 0 artifact file(s) and 0 other file(s)"
      ],
      "text/plain": [
       "<IPython.core.display.HTML object>"
      ]
     },
     "metadata": {},
     "output_type": "display_data"
    },
    {
     "data": {
      "text/html": [
       "\n",
       "                    <br/>Synced <strong style=\"color:#cdcd00\">floral-sweep-4</strong>: <a href=\"https://wandb.ai/itaouil/Assignment-4/runs/ssnjv7wp\" target=\"_blank\">https://wandb.ai/itaouil/Assignment-4/runs/ssnjv7wp</a><br/>\n",
       "                "
      ],
      "text/plain": [
       "<IPython.core.display.HTML object>"
      ]
     },
     "metadata": {},
     "output_type": "display_data"
    },
    {
     "name": "stderr",
     "output_type": "stream",
     "text": [
      "\u001b[34m\u001b[1mwandb\u001b[0m: Agent Starting Run: 9kfsest0 with config:\n",
      "\u001b[34m\u001b[1mwandb\u001b[0m: \tepochs: 180\n",
      "\u001b[34m\u001b[1mwandb\u001b[0m: \tgamma: 0.1\n",
      "\u001b[34m\u001b[1mwandb\u001b[0m: \tpool1: max\n",
      "\u001b[34m\u001b[1mwandb\u001b[0m: \tpool2: avg\n",
      "\u001b[34m\u001b[1mwandb\u001b[0m: \tpool3: max\n",
      "\u001b[34m\u001b[1mwandb\u001b[0m: \tstep_size: 60\n"
     ]
    },
    {
     "data": {
      "text/html": [
       "\n",
       "                Tracking run with wandb version 0.10.12<br/>\n",
       "                Syncing run <strong style=\"color:#cdcd00\">good-sweep-5</strong> to <a href=\"https://wandb.ai\" target=\"_blank\">Weights & Biases</a> <a href=\"https://docs.wandb.com/integrations/jupyter.html\" target=\"_blank\">(Documentation)</a>.<br/>\n",
       "                Project page: <a href=\"https://wandb.ai/itaouil/Assignment-4\" target=\"_blank\">https://wandb.ai/itaouil/Assignment-4</a><br/>\n",
       "                Sweep page: <a href=\"https://wandb.ai/itaouil/Assignment-4/sweeps/4ea83hc3\" target=\"_blank\">https://wandb.ai/itaouil/Assignment-4/sweeps/4ea83hc3</a><br/>\n",
       "Run page: <a href=\"https://wandb.ai/itaouil/Assignment-4/runs/9kfsest0\" target=\"_blank\">https://wandb.ai/itaouil/Assignment-4/runs/9kfsest0</a><br/>\n",
       "                Run data is saved locally in <code>/home/user/taouil/Cuda-Vision-Lab/Assignments/04-Assignment/wandb/run-20201211_121122-9kfsest0</code><br/><br/>\n",
       "            "
      ],
      "text/plain": [
       "<IPython.core.display.HTML object>"
      ]
     },
     "metadata": {},
     "output_type": "display_data"
    },
    {
     "name": "stdout",
     "output_type": "stream",
     "text": [
      "SAVING NOW\n"
     ]
    },
    {
     "data": {
      "text/html": [
       "<br/>Waiting for W&B process to finish, PID 19640<br/>Program ended successfully."
      ],
      "text/plain": [
       "<IPython.core.display.HTML object>"
      ]
     },
     "metadata": {},
     "output_type": "display_data"
    },
    {
     "data": {
      "application/vnd.jupyter.widget-view+json": {
       "model_id": "aae6c8da60ae49ab9df9b50208133a8c",
       "version_major": 2,
       "version_minor": 0
      },
      "text/plain": [
       "VBox(children=(Label(value=' 0.00MB of 0.00MB uploaded (0.00MB deduped)\\r'), FloatProgress(value=1.0, max=1.0)…"
      ]
     },
     "metadata": {},
     "output_type": "display_data"
    },
    {
     "data": {
      "text/html": [
       "Find user logs for this run at: <code>/home/user/taouil/Cuda-Vision-Lab/Assignments/04-Assignment/wandb/run-20201211_121122-9kfsest0/logs/debug.log</code>"
      ],
      "text/plain": [
       "<IPython.core.display.HTML object>"
      ]
     },
     "metadata": {},
     "output_type": "display_data"
    },
    {
     "data": {
      "text/html": [
       "Find internal logs for this run at: <code>/home/user/taouil/Cuda-Vision-Lab/Assignments/04-Assignment/wandb/run-20201211_121122-9kfsest0/logs/debug-internal.log</code>"
      ],
      "text/plain": [
       "<IPython.core.display.HTML object>"
      ]
     },
     "metadata": {},
     "output_type": "display_data"
    },
    {
     "data": {
      "text/html": [
       "<h3>Run summary:</h3><br/><style>\n",
       "    table.wandb td:nth-child(1) { padding: 0 10px; text-align: right }\n",
       "    </style><table class=\"wandb\">\n",
       "<tr><td>batch_loss</td><td>0.59463</td></tr><tr><td>_step</td><td>2699</td></tr><tr><td>_runtime</td><td>1334</td></tr><tr><td>_timestamp</td><td>1607686416</td></tr><tr><td>train_loss</td><td>0.61687</td></tr><tr><td>validation_loss</td><td>0.88647</td></tr><tr><td>validation_accuracy</td><td>0.70575</td></tr></table>"
      ],
      "text/plain": [
       "<IPython.core.display.HTML object>"
      ]
     },
     "metadata": {},
     "output_type": "display_data"
    },
    {
     "data": {
      "text/html": [
       "<h3>Run history:</h3><br/><style>\n",
       "    table.wandb td:nth-child(1) { padding: 0 10px; text-align: right }\n",
       "    </style><table class=\"wandb\">\n",
       "<tr><td>batch_loss</td><td>███▇▆▅▅▄▄▄▄▃▂▂▂▂▂▂▂▂▂▁▂▂▁▁▁▁▁▁▁▁▁▁▁▁▁▁▁▁</td></tr><tr><td>_step</td><td>▁▁▁▂▂▂▂▂▂▃▃▃▃▃▃▄▄▄▄▄▅▅▅▅▅▅▆▆▆▆▆▆▇▇▇▇▇███</td></tr><tr><td>_runtime</td><td>▁▁▁▁▂▂▂▂▂▃▃▃▃▃▃▄▄▄▄▄▅▅▅▅▅▅▆▆▆▆▆▆▇▇▇▇▇███</td></tr><tr><td>_timestamp</td><td>▁▁▁▁▂▂▂▂▂▃▃▃▃▃▃▄▄▄▄▄▅▅▅▅▅▅▆▆▆▆▆▆▇▇▇▇▇███</td></tr><tr><td>train_loss</td><td>████▆▅▅▄▄▄▃▃▂▂▂▂▂▂▂▂▁▁▁▁▁▁▁▁▁▁▁▁▁▁▁▁▁▁▁▁</td></tr><tr><td>validation_loss</td><td>▇▇▇▇█▅▄▄▃▃▂▂▂▂▁▁▁▁▁▁▁▁▁▁▁▁▁▁▁▁▁▁▁▁▁▁▁▁▁▁</td></tr><tr><td>validation_accuracy</td><td>▁▁▂▂▂▄▅▅▆▆▆▇▇▇██████████████████████████</td></tr></table><br/>"
      ],
      "text/plain": [
       "<IPython.core.display.HTML object>"
      ]
     },
     "metadata": {},
     "output_type": "display_data"
    },
    {
     "data": {
      "text/html": [
       "Synced 5 W&B file(s), 0 media file(s), 0 artifact file(s) and 0 other file(s)"
      ],
      "text/plain": [
       "<IPython.core.display.HTML object>"
      ]
     },
     "metadata": {},
     "output_type": "display_data"
    },
    {
     "data": {
      "text/html": [
       "\n",
       "                    <br/>Synced <strong style=\"color:#cdcd00\">good-sweep-5</strong>: <a href=\"https://wandb.ai/itaouil/Assignment-4/runs/9kfsest0\" target=\"_blank\">https://wandb.ai/itaouil/Assignment-4/runs/9kfsest0</a><br/>\n",
       "                "
      ],
      "text/plain": [
       "<IPython.core.display.HTML object>"
      ]
     },
     "metadata": {},
     "output_type": "display_data"
    },
    {
     "name": "stderr",
     "output_type": "stream",
     "text": [
      "\u001b[34m\u001b[1mwandb\u001b[0m: Agent Starting Run: lymqjr9w with config:\n",
      "\u001b[34m\u001b[1mwandb\u001b[0m: \tepochs: 160\n",
      "\u001b[34m\u001b[1mwandb\u001b[0m: \tgamma: 0.1\n",
      "\u001b[34m\u001b[1mwandb\u001b[0m: \tpool1: avg\n",
      "\u001b[34m\u001b[1mwandb\u001b[0m: \tpool2: avg\n",
      "\u001b[34m\u001b[1mwandb\u001b[0m: \tpool3: avg\n",
      "\u001b[34m\u001b[1mwandb\u001b[0m: \tstep_size: 60\n"
     ]
    },
    {
     "data": {
      "text/html": [
       "\n",
       "                Tracking run with wandb version 0.10.12<br/>\n",
       "                Syncing run <strong style=\"color:#cdcd00\">wobbly-sweep-6</strong> to <a href=\"https://wandb.ai\" target=\"_blank\">Weights & Biases</a> <a href=\"https://docs.wandb.com/integrations/jupyter.html\" target=\"_blank\">(Documentation)</a>.<br/>\n",
       "                Project page: <a href=\"https://wandb.ai/itaouil/Assignment-4\" target=\"_blank\">https://wandb.ai/itaouil/Assignment-4</a><br/>\n",
       "                Sweep page: <a href=\"https://wandb.ai/itaouil/Assignment-4/sweeps/4ea83hc3\" target=\"_blank\">https://wandb.ai/itaouil/Assignment-4/sweeps/4ea83hc3</a><br/>\n",
       "Run page: <a href=\"https://wandb.ai/itaouil/Assignment-4/runs/lymqjr9w\" target=\"_blank\">https://wandb.ai/itaouil/Assignment-4/runs/lymqjr9w</a><br/>\n",
       "                Run data is saved locally in <code>/home/user/taouil/Cuda-Vision-Lab/Assignments/04-Assignment/wandb/run-20201211_123342-lymqjr9w</code><br/><br/>\n",
       "            "
      ],
      "text/plain": [
       "<IPython.core.display.HTML object>"
      ]
     },
     "metadata": {},
     "output_type": "display_data"
    }
   ],
   "source": [
    "wandb.agent(sweep_id, train)"
   ]
  },
  {
   "cell_type": "markdown",
   "metadata": {},
   "source": [
    "# AVG or MAX"
   ]
  },
  {
   "cell_type": "markdown",
   "metadata": {},
   "source": [
    "<img src=\"./comparison.png\">"
   ]
  },
  {
   "cell_type": "markdown",
   "metadata": {},
   "source": [
    "### Load Best Model"
   ]
  },
  {
   "cell_type": "code",
   "execution_count": 28,
   "metadata": {},
   "outputs": [],
   "source": [
    "the_model = torch.load(\"model_180_60_0.1.th\")"
   ]
  },
  {
   "cell_type": "markdown",
   "metadata": {},
   "source": [
    "# Visualize Kernels"
   ]
  },
  {
   "cell_type": "code",
   "execution_count": 29,
   "metadata": {},
   "outputs": [
    {
     "name": "stdout",
     "output_type": "stream",
     "text": [
      "torch.Size([32, 3, 3, 3])\n"
     ]
    },
    {
     "data": {
      "image/png": "[encoded data removed]",
      "text/plain": [
       "<Figure size 576x360 with 1 Axes>"
      ]
     },
     "metadata": {
      "needs_background": "light"
     },
     "output_type": "display_data"
    },
    {
     "name": "stdout",
     "output_type": "stream",
     "text": [
      "torch.Size([64, 32, 3, 3])\n"
     ]
    },
    {
     "data": {
      "image/png": "[encoded data removed]",
      "text/plain": [
       "<Figure size 576x648 with 1 Axes>"
      ]
     },
     "metadata": {
      "needs_background": "light"
     },
     "output_type": "display_data"
    },
    {
     "name": "stdout",
     "output_type": "stream",
     "text": [
      "torch.Size([128, 64, 3, 3])\n"
     ]
    },
    {
     "data": {
      "image/png": "[encoded data removed]",
      "text/plain": [
       "<Figure size 576x1224 with 1 Axes>"
      ]
     },
     "metadata": {
      "needs_background": "light"
     },
     "output_type": "display_data"
    },
    {
     "name": "stdout",
     "output_type": "stream",
     "text": [
      "torch.Size([128, 128, 3, 3])\n"
     ]
    },
    {
     "data": {
      "image/png": "[encoded data removed]",
      "text/plain": [
       "<Figure size 576x1224 with 1 Axes>"
      ]
     },
     "metadata": {
      "needs_background": "light"
     },
     "output_type": "display_data"
    },
    {
     "name": "stdout",
     "output_type": "stream",
     "text": [
      "torch.Size([256, 128, 3, 3])\n"
     ]
    },
    {
     "data": {
      "image/png": "[encoded data removed]",
      "text/plain": [
       "<Figure size 576x648 with 1 Axes>"
      ]
     },
     "metadata": {
      "needs_background": "light"
     },
     "output_type": "display_data"
    },
    {
     "name": "stdout",
     "output_type": "stream",
     "text": [
      "torch.Size([256, 256, 3, 3])\n"
     ]
    },
    {
     "data": {
      "image/png": "[encoded data removed]",
      "text/plain": [
       "<Figure size 576x1224 with 1 Axes>"
      ]
     },
     "metadata": {
      "needs_background": "light"
     },
     "output_type": "display_data"
    }
   ],
   "source": [
    "from torchvision import utils\n",
    "import numpy as np\n",
    "import matplotlib.pyplot as plt\n",
    "def vistensor(tensor, ch=0, nrow=8,allkernels=False, padding=1): \n",
    "    \n",
    "    n,c,w,h = tensor.shape\n",
    "    if allkernels: tensor = tensor.view(n*c,-1,w,h )\n",
    "    elif c != 3: tensor = tensor[:,ch,:,:].unsqueeze(dim=1)\n",
    "        \n",
    "    rows = np.min((tensor.shape[0]//nrow + 1, 64 ) )    \n",
    "    grid = utils.make_grid(tensor, nrow=nrow, normalize=True, padding=padding)\n",
    "    plt.figure(figsize=(nrow,rows) )\n",
    "    plt.imshow(grid.cpu().numpy().transpose((1, 2, 0)))\n",
    "\n",
    "conv_layers = [i for i in the_model.children()]\n",
    "\n",
    "conv1_out = conv_layers[0][0].weight.data.clone()\n",
    "print(conv1_out.shape)\n",
    "vistensor(conv1_out)\n",
    "plt.axis('off')\n",
    "plt.ioff()\n",
    "plt.show()\n",
    "\n",
    "conv2_out = conv_layers[0][3].weight.data.clone()\n",
    "print(conv2_out.shape)\n",
    "vistensor(conv2_out)\n",
    "plt.axis('off')\n",
    "plt.ioff()\n",
    "plt.show()\n",
    "\n",
    "conv3_out = conv_layers[1][0].weight.data.clone()\n",
    "print(conv3_out.shape)\n",
    "vistensor(conv3_out)\n",
    "plt.axis('off')\n",
    "plt.ioff()\n",
    "plt.show()\n",
    "\n",
    "conv4_out = conv_layers[1][3].weight.data.clone()\n",
    "print(conv4_out.shape)\n",
    "vistensor(conv4_out)\n",
    "plt.axis('off')\n",
    "plt.ioff()\n",
    "plt.show()\n",
    "\n",
    "conv5_out = conv_layers[2][0].weight.data.clone()\n",
    "print(conv5_out.shape)\n",
    "vistensor(conv2_out)\n",
    "plt.axis('off')\n",
    "plt.ioff()\n",
    "plt.show()\n",
    "\n",
    "conv6_out = conv_layers[2][3].weight.data.clone()\n",
    "print(conv6_out.shape)\n",
    "vistensor(conv3_out)\n",
    "plt.axis('off')\n",
    "plt.ioff()\n",
    "plt.show()\n",
    "\n",
    "#weight2 = conv2.weight.data.numpy()\n",
    "#plt.imshow(weight2[0, ...])"
   ]
  },
  {
   "cell_type": "markdown",
   "metadata": {},
   "source": [
    "# Visualize Activations"
   ]
  },
  {
   "cell_type": "code",
   "execution_count": 30,
   "metadata": {},
   "outputs": [
    {
     "data": {
      "image/png": "[encoded data removed]",
      "text/plain": [
       "<Figure size 576x72 with 1 Axes>"
      ]
     },
     "metadata": {
      "needs_background": "light"
     },
     "output_type": "display_data"
    }
   ],
   "source": [
    "image = testset[20]\n",
    "vistensor(image[0].view(1,image[0].shape[0],image[0].shape[1],image[0].shape[2]))\n",
    "#plt.show()\n",
    "#image"
   ]
  },
  {
   "cell_type": "code",
   "execution_count": 46,
   "metadata": {},
   "outputs": [
    {
     "data": {
      "image/png": "[encoded data removed]",
      "text/plain": [
       "<Figure size 576x72 with 1 Axes>"
      ]
     },
     "metadata": {
      "needs_background": "light"
     },
     "output_type": "display_data"
    },
    {
     "data": {
      "image/png": "[encoded data removed]",
      "text/plain": [
       "<Figure size 576x72 with 1 Axes>"
      ]
     },
     "metadata": {
      "needs_background": "light"
     },
     "output_type": "display_data"
    },
    {
     "data": {
      "image/png": "[encoded data removed]",
      "text/plain": [
       "<Figure size 576x72 with 1 Axes>"
      ]
     },
     "metadata": {
      "needs_background": "light"
     },
     "output_type": "display_data"
    }
   ],
   "source": [
    "out1 = the_model.conv1(image[0].view(1,image[0].shape[0],image[0].shape[1],image[0].shape[2]).to(device))\n",
    "vistensor(out1.detach())\n",
    "\n",
    "out2 = the_model.conv2(image[0].view(1,image[0].shape[0],image[0].shape[1],image[0].shape[2]).to(device))\n",
    "vistensor(out2.detach())\n",
    "\n",
    "out3 = the_model.conv3(image[0].view(1,image[0].shape[0],image[0].shape[1],image[0].shape[2]).to(device))\n",
    "vistensor(out3.detach())\n",
    "\n",
    "#plot_img(out.detach())"
   ]
  },
  {
   "cell_type": "markdown",
   "metadata": {},
   "source": []
  }
 ],
 "metadata": {
  "accelerator": "GPU",
  "colab": {
   "collapsed_sections": [
    "25bkpNjSIzF3"
   ],
   "name": "assignment3 (3).ipynb",
   "provenance": []
  },
  "kernelspec": {
   "display_name": "Python 3",
   "language": "python",
   "name": "python3"
  },
  "language_info": {
   "codemirror_mode": {
    "name": "ipython",
    "version": 3
   },
   "file_extension": ".py",
   "mimetype": "text/x-python",
   "name": "python",
   "nbconvert_exporter": "python",
   "pygments_lexer": "ipython3",
   "version": "3.6.10"
  }
 },
 "nbformat": 4,
 "nbformat_minor": 4
}
