{
 "cells": [
  {
   "cell_type": "markdown",
   "metadata": {},
   "source": [
    "# Imports"
   ]
  },
  {
   "cell_type": "code",
   "execution_count": 1,
   "metadata": {
    "colab": {
     "base_uri": "https://localhost:8080/"
    },
    "id": "BmnCYancGUuw",
    "outputId": "6f3a0233-89c2-4bc0-eea9-ca66213672f3"
   },
   "outputs": [],
   "source": [
    "# Torch\n",
    "import torch\n",
    "import torchvision\n",
    "import torch.nn as nn\n",
    "import torchvision.transforms as transforms\n",
    "\n",
    "# Wandb\n",
    "import wandb\n",
    "\n",
    "# Python\n",
    "import random as rand\n",
    "\n",
    "# Numpy\n",
    "import numpy as np\n",
    "\n",
    "# Matplot\n",
    "import matplotlib.pyplot as plt\n",
    "%matplotlib inline\n",
    "\n",
    "# Seeding\n",
    "torch.manual_seed(24)\n",
    "\n",
    "# Scheduler\n",
    "from torch.optim.lr_scheduler import StepLR"
   ]
  },
  {
   "cell_type": "markdown",
   "metadata": {},
   "source": [
    "# GPU/CPU"
   ]
  },
  {
   "cell_type": "code",
   "execution_count": 2,
   "metadata": {},
   "outputs": [],
   "source": [
    "def get_default_device():\n",
    "    \"\"\"Pick GPU if available, else CPU\"\"\"\n",
    "    if torch.cuda.is_available():\n",
    "        return torch.device('cuda')\n",
    "    else:\n",
    "        return torch.device('cpu')\n",
    "    \n",
    "def to_device(data, device):\n",
    "    \"\"\"Move tensor(s) to chosen device\"\"\"\n",
    "    if isinstance(data, (list,tuple)):\n",
    "        return [to_device(x, device) for x in data]\n",
    "    return data.to(device, non_blocking=True)\n",
    "\n",
    "class DeviceDataLoader():\n",
    "    \"\"\"Wrap a dataloader to move data to a device\"\"\"\n",
    "    def __init__(self, dl, device):\n",
    "        self.dl = dl\n",
    "        self.device = device\n",
    "        \n",
    "    def __iter__(self):\n",
    "        \"\"\"Yield a batch of data after moving it to device\"\"\"\n",
    "        for b in self.dl: \n",
    "            yield to_device(b, self.device)\n",
    "\n",
    "    def __len__(self):\n",
    "        \"\"\"Number of batches\"\"\"\n",
    "        return len(self.dl)"
   ]
  },
  {
   "cell_type": "code",
   "execution_count": 3,
   "metadata": {},
   "outputs": [],
   "source": [
    "# Get device\n",
    "device = get_default_device()"
   ]
  },
  {
   "cell_type": "code",
   "execution_count": 4,
   "metadata": {},
   "outputs": [
    {
     "data": {
      "text/plain": [
       "device(type='cuda')"
      ]
     },
     "execution_count": 4,
     "metadata": {},
     "output_type": "execute_result"
    }
   ],
   "source": [
    "device"
   ]
  },
  {
   "cell_type": "markdown",
   "metadata": {},
   "source": [
    "# WANDB"
   ]
  },
  {
   "cell_type": "code",
   "execution_count": 5,
   "metadata": {},
   "outputs": [],
   "source": [
    "# Define sweep\n",
    "sweep_config = {\n",
    "    'method': 'grid',\n",
    "    'metric': {\n",
    "      'name': 'validation_loss',\n",
    "      'goal': 'minimize'   \n",
    "    },\n",
    "    'early_terminate': {\n",
    "        'type': 'hyperband',\n",
    "        'min_iter': 3\n",
    "    },\n",
    "    'parameters': {\n",
    "        'epochs': {\n",
    "            'values': [60, 80, 100]\n",
    "        },\n",
    "        'learning_rate': {\n",
    "            'values': [1e-1, 3e-1, 1e-2, 3e-2]\n",
    "        },\n",
    "        'step_size': {\n",
    "            'values': [5, 10, 20, 30]\n",
    "        },\n",
    "        'gamma': {\n",
    "            'values': [0.5, 0.1]\n",
    "        }\n",
    "    }\n",
    "}"
   ]
  },
  {
   "cell_type": "markdown",
   "metadata": {},
   "source": [
    "# Datasets"
   ]
  },
  {
   "cell_type": "markdown",
   "metadata": {},
   "source": [
    "### Load"
   ]
  },
  {
   "cell_type": "code",
   "execution_count": 14,
   "metadata": {
    "colab": {
     "base_uri": "https://localhost:8080/"
    },
    "id": "PwA-Nbb2GUux",
    "outputId": "867a32a6-aaed-48b6-986b-c9d1196becdb"
   },
   "outputs": [
    {
     "name": "stdout",
     "output_type": "stream",
     "text": [
      "Files already downloaded and verified\n",
      "Files already downloaded and verified\n"
     ]
    }
   ],
   "source": [
    "# Transform\n",
    "transform_train = transforms.Compose([\n",
    "    transforms.ToTensor(),\n",
    "    transforms.Normalize((0.5, 0.5, 0.5), (0.5, 0.5, 0.5)),\n",
    "])\n",
    "\n",
    "# Normalize the test set same as training set without augmentation\n",
    "transform_test = transforms.Compose([\n",
    "    transforms.ToTensor(),\n",
    "    transforms.Normalize((0.5, 0.5, 0.5), (0.5, 0.5, 0.5)),\n",
    "])\n",
    "\n",
    "# Load train and test set\n",
    "trainset = torchvision.datasets.CIFAR10('./data', train=True, download=True, transform=transform_train)\n",
    "testset = torchvision.datasets.CIFAR10('./data', train=False, download=True, transform=transform_test)"
   ]
  },
  {
   "cell_type": "code",
   "execution_count": 15,
   "metadata": {},
   "outputs": [],
   "source": [
    "# Labels\n",
    "CLASSES = trainset.classes"
   ]
  },
  {
   "cell_type": "code",
   "execution_count": 16,
   "metadata": {},
   "outputs": [
    {
     "data": {
      "text/plain": [
       "['airplane',\n",
       " 'automobile',\n",
       " 'bird',\n",
       " 'cat',\n",
       " 'deer',\n",
       " 'dog',\n",
       " 'frog',\n",
       " 'horse',\n",
       " 'ship',\n",
       " 'truck']"
      ]
     },
     "execution_count": 16,
     "metadata": {},
     "output_type": "execute_result"
    }
   ],
   "source": [
    "CLASSES"
   ]
  },
  {
   "cell_type": "markdown",
   "metadata": {},
   "source": [
    "### Dataset related parameters"
   ]
  },
  {
   "cell_type": "code",
   "execution_count": 17,
   "metadata": {},
   "outputs": [],
   "source": [
    "# Params\n",
    "batch_size = 4000\n",
    "val_size = 5000\n",
    "train_size = len(trainset) - val_size"
   ]
  },
  {
   "cell_type": "markdown",
   "metadata": {},
   "source": [
    "### Preparation"
   ]
  },
  {
   "cell_type": "code",
   "execution_count": 18,
   "metadata": {
    "colab": {
     "base_uri": "https://localhost:8080/"
    },
    "id": "UIRPaHvTGUux",
    "outputId": "81bb9618-22d4-40ec-f396-e3f3398f4ca0"
   },
   "outputs": [],
   "source": [
    "# Create train and validation\n",
    "trainset, validationset = torch.utils.data.random_split(trainset, [train_size, val_size])"
   ]
  },
  {
   "cell_type": "code",
   "execution_count": 19,
   "metadata": {},
   "outputs": [
    {
     "name": "stdout",
     "output_type": "stream",
     "text": [
      "Validation set lenght:  5000\n",
      "Train set length:  45000\n"
     ]
    }
   ],
   "source": [
    "print(\"Validation set lenght: \", len(validationset))\n",
    "print(\"Train set length: \", len(trainset))"
   ]
  },
  {
   "cell_type": "code",
   "execution_count": 20,
   "metadata": {
    "id": "7bGGAbsOGUux"
   },
   "outputs": [],
   "source": [
    "# Create dataloaders\n",
    "test_loader = torch.utils.data.DataLoader(testset, batch_size, num_workers=4, pin_memory=True)\n",
    "train_loader = torch.utils.data.DataLoader(trainset, batch_size, shuffle=True, num_workers=4, pin_memory=True)\n",
    "val_loader = torch.utils.data.DataLoader(validationset, batch_size, shuffle=True, num_workers=4, pin_memory=True)"
   ]
  },
  {
   "cell_type": "code",
   "execution_count": 21,
   "metadata": {},
   "outputs": [],
   "source": [
    "# Move dataloader to device\n",
    "val_loader = DeviceDataLoader(val_loader, device)\n",
    "test_loader = DeviceDataLoader(test_loader, device)\n",
    "train_loader = DeviceDataLoader(train_loader, device)"
   ]
  },
  {
   "cell_type": "markdown",
   "metadata": {},
   "source": [
    "# Model"
   ]
  },
  {
   "cell_type": "markdown",
   "metadata": {},
   "source": [
    "### Helper Functions"
   ]
  },
  {
   "cell_type": "code",
   "execution_count": 26,
   "metadata": {
    "id": "8YqVaFruGUux"
   },
   "outputs": [],
   "source": [
    "# Accuracy\n",
    "def accuracy(outputs, labels):\n",
    "    _, preds = torch.max(outputs, dim=1)\n",
    "    return torch.tensor(torch.sum(preds == labels).item() / len(preds))\n",
    "\n",
    "# Evaluation\n",
    "@torch.no_grad()\n",
    "def evaluate(model, val_loader):\n",
    "    model.eval()\n",
    "    outputs = [model.validation_step(batch) for batch in val_loader]\n",
    "    return model.validation_epoch_end(outputs)\n",
    "\n",
    "# Training\n",
    "def train():\n",
    "    # Default values for hyper-parameters we're going to sweep over\n",
    "    config_defaults = {\n",
    "        'epochs': 60,\n",
    "        'learning_rate': 1e-1,\n",
    "        'step_size': 5,\n",
    "        'gamma': 0.5\n",
    "    }\n",
    "    \n",
    "    # Initialize a new wandb run\n",
    "    wandb.init(config=config_defaults)\n",
    "    \n",
    "    # Config\n",
    "    config = wandb.config\n",
    "\n",
    "    # Model\n",
    "    model = to_device(CIFAR10Model(), device)\n",
    "    model.train()\n",
    "    \n",
    "    # SGD optimizer\n",
    "    optimizer = torch.optim.SGD(model.parameters(), config.learning_rate, momentum=0.9)\n",
    "    \n",
    "    # gamma = decaying factor\n",
    "    scheduler = StepLR(optimizer, step_size=config.step_size, gamma=config.gamma)\n",
    "    \n",
    "    for epoch in range(config.epochs):        \n",
    "        # Cumulative loss\n",
    "        closs = 0\n",
    "        \n",
    "        # Training Phase \n",
    "        for batch_idx, batch in enumerate(train_loader):\n",
    "            # Feed forward\n",
    "            loss = model.training_step(batch)\n",
    "            \n",
    "            # Compute gradient\n",
    "            loss.backward()\n",
    "            \n",
    "            # Add loss to cumulative\n",
    "            closs += loss.item()\n",
    "            \n",
    "            # Backprop\n",
    "            optimizer.step()\n",
    "            \n",
    "            # Clean gradients\n",
    "            optimizer.zero_grad()\n",
    "            \n",
    "            # Log wandb (batch loss)\n",
    "            wandb.log({\"batch_loss\": loss.item()})\n",
    "                \n",
    "        # Adaptive learning\n",
    "        scheduler.step()\n",
    "        \n",
    "        # Log epoch loss (train)\n",
    "        wandb.log({\"train_loss\": closs/len(train_loader)})\n",
    "        \n",
    "        # Log validation loss\n",
    "        wandb.log({\"validation_loss\":evaluate(model, val_loader)['val_loss']})\n",
    "\n",
    "        # Log validation accuracy\n",
    "        wandb.log({\"validation_accuracy\":evaluate(model, val_loader)['val_acc']})\n",
    "    \n",
    "    # Save model\n",
    "    print(\"SAVING NOW\")\n",
    "    torch.save(model, f\"model__{config.learning_rate}_{config.epochs}_{config.step_size}_{config.gamma}.th\")"
   ]
  },
  {
   "cell_type": "markdown",
   "metadata": {},
   "source": [
    "### Model Class"
   ]
  },
  {
   "cell_type": "code",
   "execution_count": 27,
   "metadata": {},
   "outputs": [],
   "source": [
    "class CIFAR10Model(nn.Module):\n",
    "    def __init__(self):\n",
    "        # Init\n",
    "        super().__init__()\n",
    "        \n",
    "        # Convolution layer\n",
    "        self.conv_layer = nn.Sequential(\n",
    "            # Conv Layer block 1\n",
    "            nn.Conv2d(in_channels=3, out_channels=32, kernel_size=3, padding=1),\n",
    "            nn.BatchNorm2d(32),\n",
    "            nn.ReLU(inplace=True),\n",
    "            nn.Conv2d(in_channels=32, out_channels=64, kernel_size=3, padding=1),\n",
    "            nn.ReLU(inplace=True),\n",
    "            nn.MaxPool2d(kernel_size=2, stride=2),\n",
    "\n",
    "            # Conv Layer block 2\n",
    "            nn.Conv2d(in_channels=64, out_channels=128, kernel_size=3, padding=1),\n",
    "            nn.BatchNorm2d(128),\n",
    "            nn.ReLU(inplace=True),\n",
    "            nn.Conv2d(in_channels=128, out_channels=128, kernel_size=3, padding=1),\n",
    "            nn.ReLU(inplace=True),\n",
    "            nn.MaxPool2d(kernel_size=2, stride=2),\n",
    "            nn.Dropout2d(p=0.05),\n",
    "\n",
    "            # Conv Layer block 3\n",
    "            nn.Conv2d(in_channels=128, out_channels=256, kernel_size=3, padding=1),\n",
    "            nn.BatchNorm2d(256),\n",
    "            nn.ReLU(inplace=True),\n",
    "            nn.Conv2d(in_channels=256, out_channels=256, kernel_size=3, padding=1),\n",
    "            nn.ReLU(inplace=True),\n",
    "            nn.MaxPool2d(kernel_size=2, stride=2),\n",
    "        )\n",
    "        \n",
    "        self.fc_layer = nn.Sequential(\n",
    "            nn.Dropout(p=0.1),\n",
    "            nn.Linear(4096, 1024),\n",
    "            nn.ReLU(inplace=True),\n",
    "            nn.Linear(1024, 512),\n",
    "            nn.ReLU(inplace=True),\n",
    "            nn.Dropout(p=0.1),\n",
    "            nn.Linear(512, 10)\n",
    "        )\n",
    "        \n",
    "    def forward(self, x):\n",
    "        # conv layers\n",
    "        x = self.conv_layer(x)\n",
    "        \n",
    "        # flatten\n",
    "        x = x.view(x.size(0), -1)\n",
    "        \n",
    "        # fc layer\n",
    "        x = self.fc_layer(x)\n",
    "\n",
    "        return x\n",
    "    \n",
    "    def training_step(self, batch):\n",
    "        # Unpack batch\n",
    "        images, labels = batch\n",
    "        \n",
    "        # Run forward pass\n",
    "        out = self.forward(images)\n",
    "        \n",
    "        # Compute and return loss\n",
    "        return nn.CrossEntropyLoss()(out, labels)\n",
    "    \n",
    "    def validation_step(self, batch):\n",
    "        # Unpack batch\n",
    "        images, labels = batch\n",
    "        \n",
    "        # Run forward pass\n",
    "        out = self.forward(images)\n",
    "        \n",
    "        # Compute loss\n",
    "        loss = nn.CrossEntropyLoss()(out, labels)\n",
    "        \n",
    "        # Compute accuracy\n",
    "        acc = accuracy(out, labels)\n",
    "        \n",
    "        return {'val_loss': loss, 'val_acc': acc}\n",
    "    \n",
    "    def validation_epoch_end(self, outputs):\n",
    "        batch_losses = [x['val_loss'] for x in outputs]\n",
    "        epoch_loss = torch.stack(batch_losses).mean()   # Combine losses\n",
    "        batch_accs = [x['val_acc'] for x in outputs]\n",
    "        epoch_acc = torch.stack(batch_accs).mean()      # Combine accuracies\n",
    "        return {'val_loss': epoch_loss.item(), 'val_acc': epoch_acc.item()}\n",
    "    \n",
    "    def epoch_end(self, epoch, result):\n",
    "        print(\"Epoch [{}], val_loss: {:.4f}, val_acc: {:.4f}\".format(epoch, result['val_loss'], result['val_acc']))"
   ]
  },
  {
   "cell_type": "markdown",
   "metadata": {},
   "source": [
    "# Training"
   ]
  },
  {
   "cell_type": "code",
   "execution_count": 28,
   "metadata": {},
   "outputs": [
    {
     "name": "stdout",
     "output_type": "stream",
     "text": [
      "Create sweep with ID: k7wfq45n\n",
      "Sweep URL: https://wandb.ai/itaouil/Assignment-4/sweeps/k7wfq45n\n"
     ]
    }
   ],
   "source": [
    "# Initialize sweep\n",
    "sweep_id = wandb.sweep(sweep_config, project=\"Assignment-4\")"
   ]
  },
  {
   "cell_type": "code",
   "execution_count": null,
   "metadata": {},
   "outputs": [
    {
     "name": "stderr",
     "output_type": "stream",
     "text": [
      "\u001b[34m\u001b[1mwandb\u001b[0m: Agent Starting Run: sbq9y995 with config:\n",
      "\u001b[34m\u001b[1mwandb\u001b[0m: \tepochs: 60\n",
      "\u001b[34m\u001b[1mwandb\u001b[0m: \tgamma: 0.5\n",
      "\u001b[34m\u001b[1mwandb\u001b[0m: \tlearning_rate: 0.1\n",
      "\u001b[34m\u001b[1mwandb\u001b[0m: \tstep_size: 5\n"
     ]
    },
    {
     "data": {
      "text/html": [
       "\n",
       "                Tracking run with wandb version 0.10.12<br/>\n",
       "                Syncing run <strong style=\"color:#cdcd00\">worthy-sweep-1</strong> to <a href=\"https://wandb.ai\" target=\"_blank\">Weights & Biases</a> <a href=\"https://docs.wandb.com/integrations/jupyter.html\" target=\"_blank\">(Documentation)</a>.<br/>\n",
       "                Project page: <a href=\"https://wandb.ai/itaouil/Assignment-4\" target=\"_blank\">https://wandb.ai/itaouil/Assignment-4</a><br/>\n",
       "                Sweep page: <a href=\"https://wandb.ai/itaouil/Assignment-4/sweeps/k7wfq45n\" target=\"_blank\">https://wandb.ai/itaouil/Assignment-4/sweeps/k7wfq45n</a><br/>\n",
       "Run page: <a href=\"https://wandb.ai/itaouil/Assignment-4/runs/sbq9y995\" target=\"_blank\">https://wandb.ai/itaouil/Assignment-4/runs/sbq9y995</a><br/>\n",
       "                Run data is saved locally in <code>/home/user/taouil/Cuda-Vision-Lab/Assignments/04-Assignment/wandb/run-20201210_153654-sbq9y995</code><br/><br/>\n",
       "            "
      ],
      "text/plain": [
       "<IPython.core.display.HTML object>"
      ]
     },
     "metadata": {},
     "output_type": "display_data"
    }
   ],
   "source": [
    "wandb.agent(sweep_id, train)"
   ]
  },
  {
   "cell_type": "code",
   "execution_count": null,
   "metadata": {},
   "outputs": [],
   "source": []
  }
 ],
 "metadata": {
  "accelerator": "GPU",
  "colab": {
   "collapsed_sections": [
    "25bkpNjSIzF3"
   ],
   "name": "assignment3 (3).ipynb",
   "provenance": []
  },
  "kernelspec": {
   "display_name": "Python 3",
   "language": "python",
   "name": "python3"
  },
  "language_info": {
   "codemirror_mode": {
    "name": "ipython",
    "version": 3
   },
   "file_extension": ".py",
   "mimetype": "text/x-python",
   "name": "python",
   "nbconvert_exporter": "python",
   "pygments_lexer": "ipython3",
   "version": "3.6.9"
  }
 },
 "nbformat": 4,
 "nbformat_minor": 4
}
