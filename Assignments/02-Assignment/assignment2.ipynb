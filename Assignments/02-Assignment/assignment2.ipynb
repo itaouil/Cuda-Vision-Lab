{
 "cells": [
  {
   "cell_type": "markdown",
   "metadata": {},
   "source": [
    "# Imports"
   ]
  },
  {
   "cell_type": "code",
   "execution_count": 109,
   "metadata": {},
   "outputs": [],
   "source": [
    "import torch\n",
    "import torch.nn as nn\n",
    "import random as rand\n",
    "import torchvision.datasets as dsets\n",
    "import torchvision.transforms as transforms\n",
    "\n",
    "%matplotlib inline\n",
    "import matplotlib.pyplot as plt"
   ]
  },
  {
   "cell_type": "markdown",
   "metadata": {},
   "source": [
    "## GPU or CPU"
   ]
  },
  {
   "cell_type": "code",
   "execution_count": 110,
   "metadata": {},
   "outputs": [
    {
     "name": "stdout",
     "output_type": "stream",
     "text": [
      "Computation on:  cpu\n"
     ]
    }
   ],
   "source": [
    "# Enable GPU computation if\n",
    "# this one is available\n",
    "if torch.cuda.is_available():\n",
    "    avDev = torch.device(\"cuda\")\n",
    "else:\n",
    "    avDev = torch.device(\"cpu\")\n",
    "    \n",
    "print(\"Computation on: \", avDev)"
   ]
  },
  {
   "cell_type": "markdown",
   "metadata": {},
   "source": [
    "# Dataset"
   ]
  },
  {
   "cell_type": "code",
   "execution_count": 113,
   "metadata": {},
   "outputs": [
    {
     "name": "stdout",
     "output_type": "stream",
     "text": [
      "Files already downloaded and verified\n",
      "Files already downloaded and verified\n"
     ]
    }
   ],
   "source": [
    "# Load dataset\n",
    "trainset = dsets.CIFAR10('./data', train=True, download=True, transform=transforms.ToTensor())\n",
    "testset = dsets.CIFAR10('./data', train=False, download=True, transform=transforms.ToTensor())"
   ]
  },
  {
   "cell_type": "code",
   "execution_count": 114,
   "metadata": {},
   "outputs": [
    {
     "name": "stdout",
     "output_type": "stream",
     "text": [
      "50000\n"
     ]
    }
   ],
   "source": [
    "print(len(trainset))"
   ]
  },
  {
   "cell_type": "code",
   "execution_count": 115,
   "metadata": {},
   "outputs": [],
   "source": [
    "# Datasets as DataLoader instances\n",
    "train_loader = torch.utils.data.DataLoader(dataset=trainset, \n",
    "                                           batch_size=batch_size, \n",
    "                                           shuffle=True)\n",
    " \n",
    "test_loader = torch.utils.data.DataLoader(dataset=testset, \n",
    "                                          batch_size=batch_size, \n",
    "                                          shuffle=False)"
   ]
  },
  {
   "cell_type": "markdown",
   "metadata": {},
   "source": [
    "# Network"
   ]
  },
  {
   "cell_type": "markdown",
   "metadata": {},
   "source": [
    "## Params"
   ]
  },
  {
   "cell_type": "code",
   "execution_count": 119,
   "metadata": {},
   "outputs": [
    {
     "name": "stdout",
     "output_type": "stream",
     "text": [
      "30\n"
     ]
    }
   ],
   "source": [
    "n_iters = 5000\n",
    "output_dim = 10\n",
    "batch_size = 100\n",
    "hidden_dim = 300\n",
    "input_dim = 3*32*32\n",
    "learning_rate = 0.05\n",
    "num_epochs = (n_iters // (len(trainset) // batch_size)) * 3\n",
    "print(num_epochs)"
   ]
  },
  {
   "cell_type": "markdown",
   "metadata": {},
   "source": [
    "## Model"
   ]
  },
  {
   "cell_type": "code",
   "execution_count": 120,
   "metadata": {},
   "outputs": [],
   "source": [
    "class LogisticRegressionModel(nn.Module):\n",
    "    \"\"\"\n",
    "        Model definition.\n",
    "    \"\"\"\n",
    "    def __init__(self, input_dim, output_dim):\n",
    "        \"\"\"\n",
    "            Initializer\n",
    "        \"\"\"\n",
    "        super(LogisticRegressionModel, self).__init__()\n",
    "        # First pass\n",
    "        self.linear1 = nn.Linear(input_dim, hidden_dim)\n",
    "        \n",
    "        # Second pass\n",
    "        self.linear2 = nn.Linear(hidden_dim, output_dim)\n",
    "        \n",
    "        # Non linear function\n",
    "        self.relu = nn.ReLU()\n",
    "     \n",
    "    def forward(self, x):\n",
    "        \"\"\"\n",
    "            Forward pass\n",
    "        \"\"\"\n",
    "        a1 = self.relu(self.linear1(x))\n",
    "        a2 = self.linear2(a1)\n",
    "        return a2"
   ]
  },
  {
   "cell_type": "markdown",
   "metadata": {},
   "source": [
    "## Model Instance"
   ]
  },
  {
   "cell_type": "code",
   "execution_count": 121,
   "metadata": {},
   "outputs": [
    {
     "data": {
      "text/plain": [
       "LogisticRegressionModel(\n",
       "  (linear1): Linear(in_features=3072, out_features=300, bias=True)\n",
       "  (linear2): Linear(in_features=300, out_features=10, bias=True)\n",
       "  (relu): ReLU()\n",
       ")"
      ]
     },
     "execution_count": 121,
     "metadata": {},
     "output_type": "execute_result"
    }
   ],
   "source": [
    "model = LogisticRegressionModel(input_dim, output_dim)\n",
    "model.to(avDev)"
   ]
  },
  {
   "cell_type": "markdown",
   "metadata": {},
   "source": [
    "## Loss function"
   ]
  },
  {
   "cell_type": "code",
   "execution_count": 122,
   "metadata": {},
   "outputs": [],
   "source": [
    "criterion = nn.CrossEntropyLoss().to(avDev)"
   ]
  },
  {
   "cell_type": "markdown",
   "metadata": {},
   "source": [
    "## Optimizer"
   ]
  },
  {
   "cell_type": "code",
   "execution_count": 123,
   "metadata": {},
   "outputs": [],
   "source": [
    "optimizer = torch.optim.SGD(model.parameters(), lr=learning_rate)"
   ]
  },
  {
   "cell_type": "code",
   "execution_count": 124,
   "metadata": {},
   "outputs": [
    {
     "data": {
      "text/plain": [
       "500"
      ]
     },
     "execution_count": 124,
     "metadata": {},
     "output_type": "execute_result"
    }
   ],
   "source": [
    "len(train_loader)"
   ]
  },
  {
   "cell_type": "markdown",
   "metadata": {},
   "source": [
    "## Test"
   ]
  },
  {
   "cell_type": "code",
   "execution_count": 125,
   "metadata": {},
   "outputs": [],
   "source": [
    "def test():\n",
    "    # Calculate Accuracy         \n",
    "    total, correct = 0, 0\n",
    "\n",
    "    # Iterate through test dataset\n",
    "    for images, labels in test_loader:\n",
    "        # Resizing\n",
    "        images = images.view(-1, input_dim).to(avDev)\n",
    "\n",
    "        # Forward pass only to get logits/output\n",
    "        outputs = model(images)\n",
    "\n",
    "        # Get predictions from the maximum value\n",
    "        _, predicted = torch.max(outputs.data, 1)\n",
    "\n",
    "        # Total number of labels\n",
    "        total += labels.size(0)\n",
    "\n",
    "        # Total correct predictions\n",
    "        correct += (predicted.cpu() == labels.cpu()).sum().float()\n",
    "\n",
    "    return 100. * correct / total"
   ]
  },
  {
   "cell_type": "markdown",
   "metadata": {},
   "source": [
    "## Train"
   ]
  },
  {
   "cell_type": "code",
   "execution_count": 128,
   "metadata": {},
   "outputs": [
    {
     "name": "stdout",
     "output_type": "stream",
     "text": [
      "Epoch: 0. Loss: 1.934526578426361. Accuracy: 37.65999984741211\n",
      "Epoch: 1. Loss: 1.7530690679550172. Accuracy: 41.84000015258789\n",
      "Epoch: 2. Loss: 1.6725151424407958. Accuracy: 41.880001068115234\n",
      "Epoch: 3. Loss: 1.6177044355869292. Accuracy: 43.060001373291016\n",
      "Epoch: 4. Loss: 1.5757282423973082. Accuracy: 45.470001220703125\n",
      "Epoch: 5. Loss: 1.5379710600376129. Accuracy: 44.790000915527344\n",
      "Epoch: 6. Loss: 1.506920598268509. Accuracy: 45.81999969482422\n",
      "Epoch: 7. Loss: 1.479652362346649. Accuracy: 47.18000030517578\n",
      "Epoch: 8. Loss: 1.455947709083557. Accuracy: 47.689998626708984\n",
      "Epoch: 9. Loss: 1.4322962982654572. Accuracy: 48.11000061035156\n",
      "Epoch: 10. Loss: 1.4137624504566193. Accuracy: 48.369998931884766\n",
      "Epoch: 11. Loss: 1.393079793214798. Accuracy: 47.599998474121094\n",
      "Epoch: 12. Loss: 1.3753901050090789. Accuracy: 50.43000030517578\n",
      "Epoch: 13. Loss: 1.3572192225456239. Accuracy: 46.619998931884766\n",
      "Epoch: 14. Loss: 1.3429291181564331. Accuracy: 48.380001068115234\n",
      "Epoch: 15. Loss: 1.3298783209323883. Accuracy: 50.790000915527344\n",
      "Epoch: 16. Loss: 1.3153351743221282. Accuracy: 48.560001373291016\n",
      "Epoch: 17. Loss: 1.299953474164009. Accuracy: 50.22999954223633\n",
      "Epoch: 18. Loss: 1.2849970979690553. Accuracy: 51.779998779296875\n",
      "Epoch: 19. Loss: 1.2729626311063766. Accuracy: 50.560001373291016\n",
      "Epoch: 20. Loss: 1.2624532840251923. Accuracy: 49.7400016784668\n",
      "Epoch: 21. Loss: 1.251332407951355. Accuracy: 50.880001068115234\n",
      "Epoch: 22. Loss: 1.2340254817008973. Accuracy: 50.65999984741211\n",
      "Epoch: 23. Loss: 1.2311688055992127. Accuracy: 52.63999938964844\n",
      "Epoch: 24. Loss: 1.209114707350731. Accuracy: 52.209999084472656\n",
      "Epoch: 25. Loss: 1.2061506408452987. Accuracy: 49.040000915527344\n",
      "Epoch: 26. Loss: 1.1928622856140136. Accuracy: 52.5\n",
      "Epoch: 27. Loss: 1.180574761390686. Accuracy: 49.150001525878906\n",
      "Epoch: 28. Loss: 1.177589947104454. Accuracy: 51.88999938964844\n",
      "Epoch: 29. Loss: 1.1587275280952454. Accuracy: 52.529998779296875\n"
     ]
    }
   ],
   "source": [
    "# Accuracy and loss\n",
    "acc, losses = [], []\n",
    "\n",
    "# Number of iteration so far\n",
    "count = 0\n",
    "\n",
    "# Epoch training\n",
    "for epoch in range(num_epochs):\n",
    "    # Loss per epoch\n",
    "    running_loss = 0\n",
    "    \n",
    "    # Batch training\n",
    "    for i, (images, labels) in enumerate(train_loader):\n",
    "        \n",
    "        # Reshape images\n",
    "        images = images.view(-1, input_dim).to(avDev)\n",
    "        labels = labels.to(avDev)\n",
    "         \n",
    "        # Clear gradients w.r.t. parameters\n",
    "        optimizer.zero_grad()\n",
    "         \n",
    "        # Forward pass to get output/logits\n",
    "        outputs = model(images)\n",
    "         \n",
    "        # Calculate Loss: softmax --> cross entropy loss\n",
    "        loss = criterion(outputs, labels)\n",
    "         \n",
    "        # Getting gradients w.r.t. parameters\n",
    "        loss.backward()\n",
    "         \n",
    "        # Updating parameters\n",
    "        optimizer.step()\n",
    "        \n",
    "        # Iteration update\n",
    "        count += 1\n",
    "        \n",
    "        # Update loss\n",
    "        running_loss += loss.item()\n",
    "        \n",
    "    # Update batch accuracy\n",
    "    acc_epoch = test()\n",
    "         \n",
    "    # Compute average loss\n",
    "    avg_loss = running_loss / len(train_loader)\n",
    "    \n",
    "    # Print Loss\n",
    "    print('Epoch: {}. Loss: {}. Accuracy: {}'.format(epoch, avg_loss, acc_epoch))\n",
    "    \n",
    "    # Average loss per epoch\n",
    "    losses.append(avg_loss)\n",
    "    \n",
    "    # Average accuracy per epoch\n",
    "    acc.append(acc_epoch)"
   ]
  },
  {
   "cell_type": "markdown",
   "metadata": {},
   "source": [
    "## Plots"
   ]
  },
  {
   "cell_type": "markdown",
   "metadata": {},
   "source": [
    "### Accuracy"
   ]
  },
  {
   "cell_type": "code",
   "execution_count": 135,
   "metadata": {},
   "outputs": [
    {
     "data": {
      "text/plain": [
       "[<matplotlib.lines.Line2D at 0x126b2d780>]"
      ]
     },
     "execution_count": 135,
     "metadata": {},
     "output_type": "execute_result"
    },
    {
     "data": {
      "image/png": "[encoded data removed]",
      "text/plain": [
       "<Figure size 432x288 with 1 Axes>"
      ]
     },
     "metadata": {
      "needs_background": "light"
     },
     "output_type": "display_data"
    }
   ],
   "source": [
    "plt.plot(acc)"
   ]
  },
  {
   "cell_type": "markdown",
   "metadata": {},
   "source": [
    "### Loss"
   ]
  },
  {
   "cell_type": "code",
   "execution_count": 136,
   "metadata": {},
   "outputs": [
    {
     "data": {
      "text/plain": [
       "[<matplotlib.lines.Line2D at 0x129275518>]"
      ]
     },
     "execution_count": 136,
     "metadata": {},
     "output_type": "execute_result"
    },
    {
     "data": {
      "image/png": "[encoded data removed]",
      "text/plain": [
       "<Figure size 432x288 with 1 Axes>"
      ]
     },
     "metadata": {
      "needs_background": "light"
     },
     "output_type": "display_data"
    }
   ],
   "source": [
    "plt.plot(losses)"
   ]
  },
  {
   "cell_type": "code",
   "execution_count": null,
   "metadata": {},
   "outputs": [],
   "source": []
  }
 ],
 "metadata": {
  "kernelspec": {
   "display_name": "Python 3",
   "language": "python",
   "name": "python3"
  },
  "language_info": {
   "codemirror_mode": {
    "name": "ipython",
    "version": 3
   },
   "file_extension": ".py",
   "mimetype": "text/x-python",
   "name": "python",
   "nbconvert_exporter": "python",
   "pygments_lexer": "ipython3",
   "version": "3.6.10"
  }
 },
 "nbformat": 4,
 "nbformat_minor": 4
}
