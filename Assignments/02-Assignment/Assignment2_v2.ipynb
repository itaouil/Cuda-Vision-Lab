{
  "nbformat": 4,
  "nbformat_minor": 0,
  "metadata": {
    "kernelspec": {
      "display_name": "Python 3",
      "language": "python",
      "name": "python3"
    },
    "language_info": {
      "codemirror_mode": {
        "name": "ipython",
        "version": 3
      },
      "file_extension": ".py",
      "mimetype": "text/x-python",
      "name": "python",
      "nbconvert_exporter": "python",
      "pygments_lexer": "ipython3",
      "version": "3.7.3"
    },
    "colab": {
      "name": "Assignment 2.ipynb",
      "provenance": []
    },
    "accelerator": "GPU"
  },
  "cells": [
    {
      "cell_type": "code",
      "metadata": {
        "colab": {
          "base_uri": "https://localhost:8080/"
        },
        "id": "BmnCYancGUuw",
        "outputId": "25f77da2-f42a-424a-c9ad-dec18f6fd6f5"
      },
      "source": [
        "import torch\n",
        "import torch.nn as nn\n",
        "import torchvision.transforms as transforms\n",
        "import torchvision.datasets as dsets\n",
        "import random as rand\n",
        "import matplotlib.pyplot as plt \n",
        "%matplotlib inline\n",
        "\n",
        "\n",
        "torch.manual_seed(24)    \n",
        "\n"
      ],
      "execution_count": 1,
      "outputs": [
        {
          "output_type": "execute_result",
          "data": {
            "text/plain": [
              "<torch._C.Generator at 0x7fb2e4178b10>"
            ]
          },
          "metadata": {
            "tags": []
          },
          "execution_count": 1
        }
      ]
    },
    {
      "cell_type": "code",
      "metadata": {
        "colab": {
          "base_uri": "https://localhost:8080/"
        },
        "id": "PwA-Nbb2GUux",
        "outputId": "8fea365f-b367-4049-b6cb-204075392e10"
      },
      "source": [
        "'''\n",
        "STEP 1: LOADING DATASET\n",
        "'''\n",
        "\n",
        "dataset = dsets.CIFAR10('./data', train=True, download=True, transform=transforms.ToTensor())\n",
        "test_dataset = dsets.CIFAR10('./data', train=False, download=True, transform=transforms.ToTensor())\n",
        "CLASSES = ('plane', 'car', 'bird', 'cat', 'deer', 'dog', 'frog', 'horse', 'ship', 'truck')"
      ],
      "execution_count": 2,
      "outputs": [
        {
          "output_type": "stream",
          "text": [
            "Files already downloaded and verified\n",
            "Files already downloaded and verified\n"
          ],
          "name": "stdout"
        }
      ]
    },
    {
      "cell_type": "code",
      "metadata": {
        "colab": {
          "base_uri": "https://localhost:8080/"
        },
        "id": "UIRPaHvTGUux",
        "outputId": "311f1099-bbd7-407b-b484-341768a6aa2c"
      },
      "source": [
        "'''\n",
        "STEP 2: SPLIT DATA TO TRAINING AND VALIDATION\n",
        "'''\n",
        "#validation set size 5000 \n",
        "val_size = 5000\n",
        "train_size = len(dataset) - val_size\n",
        "\n",
        "#creating training & validation set using random_split\n",
        "train_dataset, val_dataset = torch.utils.data.random_split(dataset, [train_size, val_size])\n",
        "len(train_dataset), len(val_dataset)"
      ],
      "execution_count": 3,
      "outputs": [
        {
          "output_type": "execute_result",
          "data": {
            "text/plain": [
              "(45000, 5000)"
            ]
          },
          "metadata": {
            "tags": []
          },
          "execution_count": 3
        }
      ]
    },
    {
      "cell_type": "code",
      "metadata": {
        "id": "7bGGAbsOGUux"
      },
      "source": [
        "'''\n",
        "STEP 3: MAKING DATASET ITERABLE\n",
        "'''\n",
        "#Creating data loader to load data in batches\n",
        "batch_size=124\n",
        "train_loader = torch.utils.data.DataLoader(train_dataset, batch_size, shuffle=True, num_workers=4, pin_memory=True)\n",
        "val_loader = torch.utils.data.DataLoader(val_dataset, batch_size*2, num_workers=4, pin_memory=True)\n",
        "test_loader = torch.utils.data.DataLoader(test_dataset, batch_size*2, num_workers=4, pin_memory=True)\n"
      ],
      "execution_count": 4,
      "outputs": []
    },
    {
      "cell_type": "code",
      "metadata": {
        "id": "8YqVaFruGUux"
      },
      "source": [
        "'''\n",
        "Step 4 : Creat Model class\n",
        "'''\n",
        "\n",
        "def accuracy(outputs, labels):\n",
        "    _, preds = torch.max(outputs, dim=1)\n",
        "    return torch.tensor(torch.sum(preds == labels).item() / len(preds))\n",
        "\n",
        "class CIFAR10Model(nn.Module):\n",
        "    def __init__(self):\n",
        "        super().__init__()\n",
        "        # hidden layer\n",
        "        self.linear1 = nn.Linear(input_size, 300)\n",
        "        # output layer\n",
        "        self.linear2 = nn.Linear(300, output_size)\n",
        "        \n",
        "    def forward(self, x):\n",
        "        # Flatten images into vectors\n",
        "        out = x.view(x.size(0), -1)\n",
        "        # Apply layers & activation functions\n",
        "        out = self.linear1(out)\n",
        "        # Apply activation function\n",
        "        out = torch.nn.functional.relu(out)\n",
        "        # Get predictions using output layer\n",
        "        out = self.linear2(out)\n",
        "        # Apply activation function\n",
        "        out = torch.nn.functional.relu(out)\n",
        "        return out\n",
        "    \n",
        "    def training_step(self, batch):\n",
        "        images, labels = batch \n",
        "        out = self(images)                  # Generate predictions\n",
        "        loss = torch.nn.functional.cross_entropy(out, labels) # Calculate loss\n",
        "        return loss\n",
        "    \n",
        "    def validation_step(self, batch):\n",
        "        images, labels = batch \n",
        "        out = self(images)                    # Generate predictions\n",
        "        loss = torch.nn.functional.cross_entropy(out, labels)   # Calculate loss\n",
        "        acc = accuracy(out, labels)           # Calculate accuracy\n",
        "        return {'val_loss': loss, 'val_acc': acc}\n",
        "    \n",
        "    def validation_epoch_end(self, outputs):\n",
        "        batch_losses = [x['val_loss'] for x in outputs]\n",
        "        epoch_loss = torch.stack(batch_losses).mean()   # Combine losses\n",
        "        batch_accs = [x['val_acc'] for x in outputs]\n",
        "        epoch_acc = torch.stack(batch_accs).mean()      # Combine accuracies\n",
        "        return {'val_loss': epoch_loss.item(), 'val_acc': epoch_acc.item()}\n",
        "    \n",
        "    def epoch_end(self, epoch, result):\n",
        "        print(\"Epoch [{}], val_loss: {:.4f}, val_acc: {:.4f}\".format(epoch, result['val_loss'], result['val_acc']))\n",
        "\n",
        "input_size = 3*32*32\n",
        "output_size = 10\n",
        "model = CIFAR10Model()"
      ],
      "execution_count": 5,
      "outputs": []
    },
    {
      "cell_type": "code",
      "metadata": {
        "id": "x8YWcYvpGUux"
      },
      "source": [
        "def evaluate(model, val_loader):\n",
        "    outputs = [model.validation_step(batch) for batch in val_loader]\n",
        "    return model.validation_epoch_end(outputs)\n",
        "\n",
        "def fit(epochs, lr, model, train_loader, val_loader, opt_func=torch.optim.SGD):\n",
        "    history = []\n",
        "    optimizer = opt_func(model.parameters(), lr)\n",
        "    for epoch in range(epochs):\n",
        "        # Training Phase \n",
        "        for batch in train_loader:\n",
        "            loss = model.training_step(batch)\n",
        "            loss.backward()\n",
        "            optimizer.step()\n",
        "            optimizer.zero_grad()\n",
        "        # Validation phase\n",
        "        result = evaluate(model, val_loader)\n",
        "        model.epoch_end(epoch, result)\n",
        "        history.append(result)\n",
        "    return history"
      ],
      "execution_count": 6,
      "outputs": []
    },
    {
      "cell_type": "code",
      "metadata": {
        "id": "N4t8_0vsGUux"
      },
      "source": [
        "'''\n",
        "Step 5: Move model and data to GPU if availble \n",
        "'''\n",
        "\n",
        "def to_device(data, device):\n",
        "    \"\"\"Move tensor(s) to chosen device\"\"\"\n",
        "    if isinstance(data, (list,tuple)):\n",
        "        return [to_device(x, device) for x in data]\n",
        "    return data.to(device, non_blocking=True)\n",
        "class DeviceDataLoader():\n",
        "    \"\"\"Wrap a dataloader to move data to a device\"\"\"\n",
        "    def __init__(self, dl, device):\n",
        "        self.dl = dl\n",
        "        self.device = device\n",
        "        \n",
        "    def __iter__(self):\n",
        "        \"\"\"Yield a batch of data after moving it to device\"\"\"\n",
        "        for b in self.dl: \n",
        "            yield to_device(b, self.device)\n",
        "def __len__(self):\n",
        "        \"\"\"Number of batches\"\"\"\n",
        "        return len(self.dl)\n",
        "    \n",
        "if torch.cuda.is_available():\n",
        "    device = torch.device(\"cuda\")\n",
        "else:\n",
        "    device = torch.device(\"cpu\")\n",
        "    \n",
        "train_loader = DeviceDataLoader(train_loader, device)\n",
        "val_loader = DeviceDataLoader(val_loader, device)\n",
        "test_loader = DeviceDataLoader(test_loader, device)\n",
        "\n",
        "model = to_device(model, device)"
      ],
      "execution_count": 7,
      "outputs": []
    },
    {
      "cell_type": "code",
      "metadata": {
        "colab": {
          "base_uri": "https://localhost:8080/"
        },
        "id": "DJMyU1vZGUux",
        "outputId": "437b0a8d-294a-421d-835e-0069229b08b1"
      },
      "source": [
        "'''\n",
        "Step 5: Train Model\n",
        "'''\n",
        "history = [evaluate(model, val_loader)]\n",
        "history # initial Loss and accuracy"
      ],
      "execution_count": 8,
      "outputs": [
        {
          "output_type": "execute_result",
          "data": {
            "text/plain": [
              "[{'val_acc': 0.08128955960273743, 'val_loss': 2.303903818130493}]"
            ]
          },
          "metadata": {
            "tags": []
          },
          "execution_count": 8
        }
      ]
    },
    {
      "cell_type": "code",
      "metadata": {
        "id": "4sxUkhAYGUuy"
      },
      "source": [
        "#history += fit(10, 0.05, model, train_loader, val_loader)\n"
      ],
      "execution_count": 9,
      "outputs": []
    },
    {
      "cell_type": "code",
      "metadata": {
        "id": "4X6aIEmhGUuy"
      },
      "source": [
        "#history += fit(8, 0.005, model, train_loader, val_loader)\n"
      ],
      "execution_count": 10,
      "outputs": []
    },
    {
      "cell_type": "code",
      "metadata": {
        "id": "25JXZZ0JGUuy"
      },
      "source": [
        "#history += fit(7, 0.01, model, train_loader, val_loader)\n"
      ],
      "execution_count": 11,
      "outputs": []
    },
    {
      "cell_type": "code",
      "metadata": {
        "id": "J7j70F3GGUuy"
      },
      "source": [
        "#history += fit(4, 0.001, model, train_loader, val_loader)\n"
      ],
      "execution_count": 12,
      "outputs": []
    },
    {
      "cell_type": "code",
      "metadata": {
        "id": "f-Gn5aewGUu2"
      },
      "source": [
        "#history += fit(5, 0.1, model, train_loader, val_loader)\n"
      ],
      "execution_count": 13,
      "outputs": []
    },
    {
      "cell_type": "code",
      "metadata": {
        "id": "jugQrquTGUu2"
      },
      "source": [
        "#history += fit(10, 0.0001, model, train_loader, val_loader)\n"
      ],
      "execution_count": 14,
      "outputs": []
    },
    {
      "cell_type": "code",
      "metadata": {
        "colab": {
          "base_uri": "https://localhost:8080/"
        },
        "id": "dgSKeqM1GUu2",
        "outputId": "5f6e4edc-56ac-44b0-da7a-7eed545dfe10"
      },
      "source": [
        "# best model found was (increase number of epochs)\n",
        "history += fit(50, 0.06, model, train_loader, val_loader)\n"
      ],
      "execution_count": 15,
      "outputs": [
        {
          "output_type": "stream",
          "text": [
            "Epoch [0], val_loss: 2.1370, val_acc: 0.2694\n",
            "Epoch [1], val_loss: 1.9472, val_acc: 0.3093\n",
            "Epoch [2], val_loss: 2.0747, val_acc: 0.3048\n",
            "Epoch [3], val_loss: 1.7235, val_acc: 0.3900\n",
            "Epoch [4], val_loss: 1.6995, val_acc: 0.4031\n",
            "Epoch [5], val_loss: 1.7708, val_acc: 0.3900\n",
            "Epoch [6], val_loss: 1.8277, val_acc: 0.3720\n",
            "Epoch [7], val_loss: 1.6123, val_acc: 0.4474\n",
            "Epoch [8], val_loss: 1.5867, val_acc: 0.4335\n",
            "Epoch [9], val_loss: 2.0816, val_acc: 0.3538\n",
            "Epoch [10], val_loss: 1.9783, val_acc: 0.3390\n",
            "Epoch [11], val_loss: 1.7999, val_acc: 0.3831\n",
            "Epoch [12], val_loss: 1.5135, val_acc: 0.4749\n",
            "Epoch [13], val_loss: 1.9367, val_acc: 0.3768\n",
            "Epoch [14], val_loss: 1.4988, val_acc: 0.4798\n",
            "Epoch [15], val_loss: 1.8020, val_acc: 0.4037\n",
            "Epoch [16], val_loss: 1.6247, val_acc: 0.4440\n",
            "Epoch [17], val_loss: 2.0446, val_acc: 0.3675\n",
            "Epoch [18], val_loss: 1.7357, val_acc: 0.4458\n",
            "Epoch [19], val_loss: 2.2024, val_acc: 0.3604\n",
            "Epoch [20], val_loss: 1.7607, val_acc: 0.4341\n",
            "Epoch [21], val_loss: 1.6783, val_acc: 0.4335\n",
            "Epoch [22], val_loss: 1.7496, val_acc: 0.4397\n",
            "Epoch [23], val_loss: 1.5769, val_acc: 0.4866\n",
            "Epoch [24], val_loss: 1.8804, val_acc: 0.4092\n",
            "Epoch [25], val_loss: 1.7024, val_acc: 0.4539\n",
            "Epoch [26], val_loss: 1.8265, val_acc: 0.4124\n",
            "Epoch [27], val_loss: 1.6635, val_acc: 0.4741\n",
            "Epoch [28], val_loss: 1.5474, val_acc: 0.4860\n",
            "Epoch [29], val_loss: 1.6728, val_acc: 0.4703\n",
            "Epoch [30], val_loss: 1.7343, val_acc: 0.4577\n",
            "Epoch [31], val_loss: 1.7874, val_acc: 0.4417\n",
            "Epoch [32], val_loss: 1.6480, val_acc: 0.4689\n",
            "Epoch [33], val_loss: 2.0439, val_acc: 0.4041\n",
            "Epoch [34], val_loss: 1.6951, val_acc: 0.4565\n",
            "Epoch [35], val_loss: 1.6528, val_acc: 0.4788\n",
            "Epoch [36], val_loss: 1.6541, val_acc: 0.4869\n",
            "Epoch [37], val_loss: 1.6576, val_acc: 0.4828\n",
            "Epoch [38], val_loss: 1.6936, val_acc: 0.4800\n",
            "Epoch [39], val_loss: 1.7009, val_acc: 0.4769\n",
            "Epoch [40], val_loss: 1.9966, val_acc: 0.4395\n",
            "Epoch [41], val_loss: 1.9557, val_acc: 0.4430\n",
            "Epoch [42], val_loss: 1.8888, val_acc: 0.4642\n",
            "Epoch [43], val_loss: 1.6391, val_acc: 0.4980\n",
            "Epoch [44], val_loss: 3.0147, val_acc: 0.3378\n",
            "Epoch [45], val_loss: 2.4484, val_acc: 0.4057\n",
            "Epoch [46], val_loss: 1.8189, val_acc: 0.4737\n",
            "Epoch [47], val_loss: 1.8370, val_acc: 0.4597\n",
            "Epoch [48], val_loss: 1.7824, val_acc: 0.4749\n",
            "Epoch [49], val_loss: 1.7196, val_acc: 0.4901\n"
          ],
          "name": "stdout"
        }
      ]
    },
    {
      "cell_type": "code",
      "metadata": {
        "colab": {
          "base_uri": "https://localhost:8080/",
          "height": 295
        },
        "id": "XnvzZpszGUu2",
        "outputId": "c7e71ddd-652f-495e-a93e-eac4e6633882"
      },
      "source": [
        "def plot_losses(history):\n",
        "    losses = [x['val_loss'] for x in history]\n",
        "    plt.plot(losses, '-x')\n",
        "    plt.xlabel('epoch')\n",
        "    plt.ylabel('loss')\n",
        "    plt.title('Loss vs. No. of epochs');\n",
        "    \n",
        "plot_losses(history)\n"
      ],
      "execution_count": 16,
      "outputs": [
        {
          "output_type": "display_data",
          "data": {
            "image/png": "[encoded data removed]",
            "text/plain": [
              "<Figure size 432x288 with 1 Axes>"
            ]
          },
          "metadata": {
            "tags": [],
            "needs_background": "light"
          }
        }
      ]
    },
    {
      "cell_type": "code",
      "metadata": {
        "colab": {
          "base_uri": "https://localhost:8080/",
          "height": 295
        },
        "id": "dMA97ciXGUu2",
        "outputId": "ad1f12c6-0ae9-4b6b-defa-98eaaf7d402a"
      },
      "source": [
        "def plot_accuracies(history):\n",
        "    accuracies = [x['val_acc'] for x in history]\n",
        "    plt.plot(accuracies, '-x')\n",
        "    plt.xlabel('epoch')\n",
        "    plt.ylabel('accuracy')\n",
        "    plt.title('Accuracy vs. No. of epochs');\n",
        "    \n",
        "plot_accuracies(history)\n"
      ],
      "execution_count": 17,
      "outputs": [
        {
          "output_type": "display_data",
          "data": {
            "image/png": "[encoded data removed]",
            "text/plain": [
              "<Figure size 432x288 with 1 Axes>"
            ]
          },
          "metadata": {
            "tags": [],
            "needs_background": "light"
          }
        }
      ]
    },
    {
      "cell_type": "code",
      "metadata": {
        "colab": {
          "base_uri": "https://localhost:8080/"
        },
        "id": "_XjyZuE8GUu2",
        "outputId": "e725fd6c-22ee-4ecf-bdee-ab7f8defa701"
      },
      "source": [
        "evaluate(model, test_loader) # its displayed as validation loss and accuracy, but this is the test loss"
      ],
      "execution_count": 18,
      "outputs": [
        {
          "output_type": "execute_result",
          "data": {
            "text/plain": [
              "{'val_acc': 0.4917396605014801, 'val_loss': 1.682762622833252}"
            ]
          },
          "metadata": {
            "tags": []
          },
          "execution_count": 18
        }
      ]
    },
    {
      "cell_type": "markdown",
      "metadata": {
        "id": "25bkpNjSIzF3"
      },
      "source": [
        "### Hyper Parameter Optimization"
      ]
    },
    {
      "cell_type": "code",
      "metadata": {
        "colab": {
          "base_uri": "https://localhost:8080/"
        },
        "id": "awYBftOpI5aH",
        "outputId": "7dd952fe-e15e-4034-f642-8491c610425d"
      },
      "source": [
        "from hyperopt import hp, tpe, fmin\n",
        "def run_model(learning_rate):\n",
        "  model = CIFAR10Model()\n",
        "  model = to_device(model, device)\n",
        "  error = fit(1, learning_rate, model, train_loader, val_loader)\n",
        "  return error[-1][\"val_loss\"]\n",
        "\n",
        "\n",
        "best = fmin(fn=lambda x: run_model(x),\n",
        "            space=hp.uniform('x', 0.01, 1),\n",
        "            algo=tpe.suggest, \n",
        "            max_evals=100)\n",
        "print(\"Best Learning Rate\",best)"
      ],
      "execution_count": 19,
      "outputs": [
        {
          "output_type": "stream",
          "text": [
            "Epoch [0], val_loss: 2.3026, val_acc: 0.1042\n",
            "Epoch [0], val_loss: 2.3026, val_acc: 0.1042\n",
            "Epoch [0], val_loss: 2.3026, val_acc: 0.1042\n",
            "Epoch [0], val_loss: 2.3026, val_acc: 0.1042\n",
            "Epoch [0], val_loss: 2.3026, val_acc: 0.1042\n",
            "Epoch [0], val_loss: 2.3026, val_acc: 0.1042\n",
            "Epoch [0], val_loss: 2.3026, val_acc: 0.1042\n",
            "Epoch [0], val_loss: 2.3026, val_acc: 0.1042\n",
            "Epoch [0], val_loss: 2.3026, val_acc: 0.1042\n",
            "Epoch [0], val_loss: 2.3026, val_acc: 0.1042\n",
            "Epoch [0], val_loss: 2.3026, val_acc: 0.1042\n",
            "Epoch [0], val_loss: 2.3026, val_acc: 0.1042\n",
            "Epoch [0], val_loss: 2.3026, val_acc: 0.1042\n",
            "Epoch [0], val_loss: 2.3026, val_acc: 0.1042\n",
            "Epoch [0], val_loss: 2.3140, val_acc: 0.1454\n",
            "Epoch [0], val_loss: 2.3026, val_acc: 0.1042\n",
            "Epoch [0], val_loss: 2.3026, val_acc: 0.1042\n",
            "Epoch [0], val_loss: 2.3026, val_acc: 0.1042\n",
            "Epoch [0], val_loss: 2.2591, val_acc: 0.1394\n",
            "Epoch [0], val_loss: 2.3026, val_acc: 0.1042\n",
            "Epoch [0], val_loss: 2.4840, val_acc: 0.2219\n",
            "Epoch [0], val_loss: 2.3026, val_acc: 0.1042\n",
            "Epoch [0], val_loss: 1.8566, val_acc: 0.3315\n",
            "Epoch [0], val_loss: 1.8684, val_acc: 0.3390\n",
            "Epoch [0], val_loss: 2.1968, val_acc: 0.2203\n",
            "Epoch [0], val_loss: 2.0628, val_acc: 0.2514\n",
            "Epoch [0], val_loss: 2.1233, val_acc: 0.2227\n",
            "Epoch [0], val_loss: 2.0800, val_acc: 0.2599\n",
            "Epoch [0], val_loss: 2.3026, val_acc: 0.1042\n",
            "Epoch [0], val_loss: 2.3026, val_acc: 0.1042\n",
            "Epoch [0], val_loss: 2.3026, val_acc: 0.1042\n",
            "Epoch [0], val_loss: 1.9974, val_acc: 0.3083\n",
            "Epoch [0], val_loss: 2.3026, val_acc: 0.1040\n",
            "Epoch [0], val_loss: 2.3026, val_acc: 0.1042\n",
            "Epoch [0], val_loss: 2.3026, val_acc: 0.1040\n",
            "Epoch [0], val_loss: 1.8999, val_acc: 0.3107\n",
            "Epoch [0], val_loss: 2.2807, val_acc: 0.1557\n",
            "Epoch [0], val_loss: 2.2990, val_acc: 0.1032\n",
            "Epoch [0], val_loss: 2.3026, val_acc: 0.1042\n",
            "Epoch [0], val_loss: 1.9345, val_acc: 0.3258\n",
            "Epoch [0], val_loss: 2.3026, val_acc: 0.1042\n",
            "Epoch [0], val_loss: 2.3026, val_acc: 0.1042\n",
            "Epoch [0], val_loss: 2.3026, val_acc: 0.1042\n",
            "Epoch [0], val_loss: 2.3071, val_acc: 0.0967\n",
            "Epoch [0], val_loss: 2.3026, val_acc: 0.1044\n",
            "Epoch [0], val_loss: 2.3026, val_acc: 0.1036\n",
            "Epoch [0], val_loss: 2.3026, val_acc: 0.1042\n",
            "Epoch [0], val_loss: 2.3026, val_acc: 0.1042\n",
            "Epoch [0], val_loss: 2.3026, val_acc: 0.1042\n",
            "Epoch [0], val_loss: 1.8289, val_acc: 0.3380\n",
            "Epoch [0], val_loss: 2.2991, val_acc: 0.1365\n",
            "Epoch [0], val_loss: 2.3026, val_acc: 0.1042\n",
            "Epoch [0], val_loss: 2.3026, val_acc: 0.1044\n",
            "Epoch [0], val_loss: 2.3527, val_acc: 0.1153\n",
            "Epoch [0], val_loss: 1.9838, val_acc: 0.2718\n",
            "Epoch [0], val_loss: 2.3026, val_acc: 0.1042\n",
            "Epoch [0], val_loss: 2.0451, val_acc: 0.2733\n",
            "Epoch [0], val_loss: 2.3026, val_acc: 0.1042\n",
            "Epoch [0], val_loss: 2.3026, val_acc: 0.1042\n",
            "Epoch [0], val_loss: 2.3026, val_acc: 0.1042\n",
            "Epoch [0], val_loss: 2.4083, val_acc: 0.1272\n",
            "Epoch [0], val_loss: 2.3026, val_acc: 0.1042\n",
            "Epoch [0], val_loss: 2.4993, val_acc: 0.2318\n",
            "Epoch [0], val_loss: 2.3026, val_acc: 0.1044\n",
            "Epoch [0], val_loss: 2.3026, val_acc: 0.1042\n",
            "Epoch [0], val_loss: 2.3482, val_acc: 0.2379\n",
            "Epoch [0], val_loss: 2.3026, val_acc: 0.1040\n",
            "Epoch [0], val_loss: 2.1005, val_acc: 0.2174\n",
            "Epoch [0], val_loss: 1.9330, val_acc: 0.3180\n",
            "Epoch [0], val_loss: 1.7695, val_acc: 0.3687\n",
            "Epoch [0], val_loss: 2.0986, val_acc: 0.2328\n",
            "Epoch [0], val_loss: 2.3026, val_acc: 0.1042\n",
            "Epoch [0], val_loss: 2.3026, val_acc: 0.1042\n",
            "Epoch [0], val_loss: 2.2464, val_acc: 0.2288\n",
            "Epoch [0], val_loss: 2.0809, val_acc: 0.2807\n",
            "Epoch [0], val_loss: 2.3452, val_acc: 0.1307\n",
            "Epoch [0], val_loss: 2.2610, val_acc: 0.1297\n",
            "Epoch [0], val_loss: 2.3026, val_acc: 0.1042\n",
            "Epoch [0], val_loss: 2.2310, val_acc: 0.1772\n",
            "Epoch [0], val_loss: 2.3026, val_acc: 0.1042\n",
            "Epoch [0], val_loss: 2.3026, val_acc: 0.1042\n",
            "Epoch [0], val_loss: 2.3026, val_acc: 0.1042\n",
            "Epoch [0], val_loss: 2.3026, val_acc: 0.1042\n",
            "Epoch [0], val_loss: 2.2291, val_acc: 0.1600\n",
            "Epoch [0], val_loss: 2.3026, val_acc: 0.1042\n",
            "Epoch [0], val_loss: 2.3026, val_acc: 0.1042\n",
            "Epoch [0], val_loss: 2.3026, val_acc: 0.1042\n",
            "Epoch [0], val_loss: 1.9839, val_acc: 0.3109\n",
            "Epoch [0], val_loss: 2.2963, val_acc: 0.1869\n",
            "Epoch [0], val_loss: 1.9317, val_acc: 0.2902\n",
            "Epoch [0], val_loss: 2.3026, val_acc: 0.1042\n",
            "Epoch [0], val_loss: 1.9894, val_acc: 0.2951\n",
            "Epoch [0], val_loss: 1.8840, val_acc: 0.3117\n",
            "Epoch [0], val_loss: 2.1019, val_acc: 0.2322\n",
            "Epoch [0], val_loss: 2.3026, val_acc: 0.1042\n",
            "Epoch [0], val_loss: 2.2992, val_acc: 0.1040\n",
            "Epoch [0], val_loss: 2.2892, val_acc: 0.1616\n",
            "Epoch [0], val_loss: 2.3026, val_acc: 0.1042\n",
            "Epoch [0], val_loss: 2.3026, val_acc: 0.1042\n",
            "Epoch [0], val_loss: 2.3026, val_acc: 0.1042\n",
            "100%|██████████| 100/100 [13:47<00:00,  8.28s/it, best loss: 1.7694791555404663]\n",
            "Best Learning Rate {'x': 0.03956304450271447}\n"
          ],
          "name": "stdout"
        }
      ]
    },
    {
      "cell_type": "code",
      "metadata": {
        "colab": {
          "base_uri": "https://localhost:8080/"
        },
        "id": "ibXP4GouOS8w",
        "outputId": "a39e2233-abb2-4a66-e1fc-d0bd6caf2921"
      },
      "source": [
        "def run_model(batch_size):\n",
        "  model = CIFAR10Model()\n",
        "  batch_size=batch_size\n",
        "  train_loader = torch.utils.data.DataLoader(train_dataset, batch_size, shuffle=True, num_workers=4, pin_memory=True)\n",
        "  val_loader = torch.utils.data.DataLoader(val_dataset, batch_size*2, num_workers=4, pin_memory=True)\n",
        "  test_loader = torch.utils.data.DataLoader(test_dataset, batch_size*2, num_workers=4, pin_memory=True)\n",
        "  train_loader = DeviceDataLoader(train_loader, device)\n",
        "  val_loader = DeviceDataLoader(val_loader, device)\n",
        "  test_loader = DeviceDataLoader(test_loader, device)\n",
        "  model = to_device(model, device)\n",
        "  error = fit(1, 0.06, model, train_loader, val_loader)\n",
        "  return error[-1][\"val_loss\"]\n",
        "\n",
        "\n",
        "best = fmin(fn=lambda x: run_model(x),\n",
        "            space=hp.choice('x',[1,32,64,124,256,512,1024]),\n",
        "            algo=tpe.suggest, \n",
        "            max_evals=10)\n",
        "print(\"Best Batch Size\",best)"
      ],
      "execution_count": 20,
      "outputs": [
        {
          "output_type": "stream",
          "text": [
            "Epoch [0], val_loss: 2.2146, val_acc: 0.2101\n",
            "Epoch [0], val_loss: 2.3026, val_acc: 0.1054\n",
            "Epoch [0], val_loss: 1.9134, val_acc: 0.3164\n",
            "Epoch [0], val_loss: 2.0514, val_acc: 0.2913\n",
            "Epoch [0], val_loss: 2.1303, val_acc: 0.2236\n",
            "Epoch [0], val_loss: 2.1017, val_acc: 0.2755\n",
            "Epoch [0], val_loss: 2.0669, val_acc: 0.2848\n",
            "Epoch [0], val_loss: 2.0710, val_acc: 0.2580\n",
            "Epoch [0], val_loss: 1.9438, val_acc: 0.3024\n",
            "Epoch [0], val_loss: 2.1331, val_acc: 0.2642\n",
            "100%|██████████| 10/10 [03:01<00:00, 18.19s/it, best loss: 1.9134082794189453]\n",
            "Best Batch Size {'x': 3}\n"
          ],
          "name": "stdout"
        }
      ]
    }
  ]
}