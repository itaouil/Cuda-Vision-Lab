{
 "cells": [
  {
   "cell_type": "markdown",
   "metadata": {},
   "source": [
    "# Administrative\n",
    "\n"
   ]
  },
  {
   "cell_type": "markdown",
   "metadata": {},
   "source": [
    "## VPN to access cuda computers\n",
    "zeus.informatik.uni-bonn.de"
   ]
  },
  {
   "cell_type": "markdown",
   "metadata": {},
   "source": [
    "# Classification Loss\n",
    "<img src=loss.png>"
   ]
  },
  {
   "cell_type": "markdown",
   "metadata": {},
   "source": [
    "### A generalization of binary SVM\n",
    "### It is scale free\n",
    "<img src=loss1.png>"
   ]
  },
  {
   "cell_type": "markdown",
   "metadata": {},
   "source": [
    "<img src=loss2.png>"
   ]
  },
  {
   "cell_type": "markdown",
   "metadata": {},
   "source": [
    "<img src=loss3.png>"
   ]
  },
  {
   "cell_type": "markdown",
   "metadata": {},
   "source": [
    "<img src=loss4.png>\n",
    "\n",
    "## The result is 12.9!"
   ]
  },
  {
   "cell_type": "markdown",
   "metadata": {},
   "source": [
    "<img src=loss5.png>\n",
    "\n",
    "## The result is (2.9+0+12.9)/3. ==> 5.26"
   ]
  },
  {
   "cell_type": "markdown",
   "metadata": {},
   "source": [
    "<img src=loss6.png>"
   ]
  },
  {
   "cell_type": "markdown",
   "metadata": {},
   "source": [
    "<img src=loss7.png>"
   ]
  },
  {
   "cell_type": "markdown",
   "metadata": {},
   "source": [
    "## Squared Hinge Loss\n",
    "<img src=loss8.png>"
   ]
  },
  {
   "cell_type": "markdown",
   "metadata": {},
   "source": [
    "<img src=loss9.png>"
   ]
  },
  {
   "cell_type": "markdown",
   "metadata": {},
   "source": [
    "## For 2 classes it will be Binary SVM\n",
    "<img src=loss10.png>"
   ]
  },
  {
   "cell_type": "markdown",
   "metadata": {},
   "source": [
    "<img src=loss11.png>"
   ]
  },
  {
   "cell_type": "markdown",
   "metadata": {},
   "source": [
    "<img src=loss12.png>"
   ]
  },
  {
   "cell_type": "markdown",
   "metadata": {},
   "source": [
    "<img src=loss13.png>"
   ]
  },
  {
   "cell_type": "markdown",
   "metadata": {},
   "source": [
    "<img src=loss14.png>"
   ]
  },
  {
   "cell_type": "markdown",
   "metadata": {},
   "source": [
    "<img src=loss15.png>"
   ]
  },
  {
   "cell_type": "markdown",
   "metadata": {},
   "source": [
    "<img src=loss16.png>"
   ]
  },
  {
   "cell_type": "markdown",
   "metadata": {},
   "source": [
    "<img src=loss17.png>"
   ]
  },
  {
   "cell_type": "markdown",
   "metadata": {},
   "source": [
    "<img src=loss18.png>"
   ]
  },
  {
   "cell_type": "markdown",
   "metadata": {},
   "source": [
    "<img src=loss19.png>"
   ]
  },
  {
   "cell_type": "markdown",
   "metadata": {},
   "source": [
    "<img src=loss20.png>"
   ]
  },
  {
   "cell_type": "markdown",
   "metadata": {},
   "source": [
    "<img src=loss21.png>"
   ]
  },
  {
   "cell_type": "markdown",
   "metadata": {},
   "source": [
    "<img src=loss22.png>"
   ]
  },
  {
   "cell_type": "markdown",
   "metadata": {},
   "source": [
    "----------\n",
    "## Doing a log transform converts these small numbers to larger negative values which a finite precision machine can handle better.\n",
    "<img src=loss23.png>"
   ]
  },
  {
   "cell_type": "markdown",
   "metadata": {},
   "source": [
    "<img src=loss24.png>"
   ]
  },
  {
   "cell_type": "markdown",
   "metadata": {},
   "source": [
    "<img src=loss25.png>"
   ]
  },
  {
   "cell_type": "markdown",
   "metadata": {},
   "source": [
    "<img src=loss26.png>"
   ]
  },
  {
   "cell_type": "markdown",
   "metadata": {},
   "source": [
    "<img src=loss27.png>"
   ]
  },
  {
   "cell_type": "markdown",
   "metadata": {},
   "source": [
    "<img src=loss28.png>"
   ]
  },
  {
   "cell_type": "markdown",
   "metadata": {},
   "source": [
    "<img src=loss29.png>"
   ]
  },
  {
   "cell_type": "markdown",
   "metadata": {},
   "source": [
    "### 0 -> 1 -> -log(1/N)"
   ]
  },
  {
   "cell_type": "markdown",
   "metadata": {},
   "source": [
    "<img src=loss30.png>"
   ]
  },
  {
   "cell_type": "markdown",
   "metadata": {},
   "source": [
    "<img src=loss31.png>"
   ]
  },
  {
   "cell_type": "markdown",
   "metadata": {},
   "source": [
    "<img src=loss32.png>"
   ]
  },
  {
   "cell_type": "markdown",
   "metadata": {},
   "source": [
    "# Multi-layer Perceptron\n",
    "\n",
    "• Theoretical reference\n",
    "– http://www.deeplearningbook.org/contents/mlp.html\n"
   ]
  },
  {
   "cell_type": "markdown",
   "metadata": {},
   "source": [
    "<img src=Refresher1.jpg>\n",
    "<img src=Refresher2.jpg>\n",
    "<img src=Refresher3.jpg>\n",
    "<img src=Refresher4.jpg>"
   ]
  },
  {
   "cell_type": "markdown",
   "metadata": {},
   "source": [
    "# Why do we normalize our input?\n",
    "- We want to prevent our parameters from going very big or very small\n",
    "- Finding initial condition is easier"
   ]
  },
  {
   "cell_type": "code",
   "execution_count": 3,
   "metadata": {},
   "outputs": [
    {
     "name": "stdout",
     "output_type": "stream",
     "text": [
      "0.95367431640625\n"
     ]
    }
   ],
   "source": [
    "a=1000000000\n",
    "for i in range(1000000):\n",
    "    a = a +1e-6\n",
    "print(a-1000000000)"
   ]
  },
  {
   "cell_type": "markdown",
   "metadata": {},
   "source": [
    "## MNIST handwritten digits classification with MLPs\n",
    "\n",
    "In this notebook, we'll train a multi-layer perceptron model to classify MNIST digits using **PyTorch**. \n",
    "\n",
    "First, the needed imports. "
   ]
  },
  {
   "cell_type": "code",
   "execution_count": 5,
   "metadata": {},
   "outputs": [
    {
     "name": "stdout",
     "output_type": "stream",
     "text": [
      "Using PyTorch version: 1.0.1.post2 CUDA: True\n"
     ]
    }
   ],
   "source": [
    "%matplotlib inline\n",
    "\n",
    "import torch\n",
    "import torch.nn as nn\n",
    "import torch.nn.functional as F\n",
    "import torch.optim as optim\n",
    "from torchvision import datasets, transforms\n",
    "\n",
    "import numpy as np\n",
    "import matplotlib.pyplot as plt\n",
    "import seaborn as sns\n",
    "\n",
    "cuda = torch.cuda.is_available()\n",
    "print('Using PyTorch version:', torch.__version__, 'CUDA:', cuda)\n",
    "\n",
    "torch.manual_seed(42)\n",
    "if cuda:\n",
    "    torch.cuda.manual_seed(42)"
   ]
  },
  {
   "cell_type": "markdown",
   "metadata": {},
   "source": [
    "## Data\n",
    "\n",
    "Next we'll load the MNIST data.  First time we may have to download the data, which can take a while."
   ]
  },
  {
   "cell_type": "code",
   "execution_count": 27,
   "metadata": {},
   "outputs": [],
   "source": [
    "batch_size = 32\n",
    "\n",
    "kwargs = {'num_workers': 1, 'pin_memory': True} if cuda else {}\n",
    "\n",
    "train_loader = torch.utils.data.DataLoader(\n",
    "    datasets.MNIST('data', train=True, download=True,\n",
    "                   transform=transforms.Compose([\n",
    "                       transforms.ToTensor(),\n",
    "                       transforms.Normalize((0,), (1,))\n",
    "                   ])),\n",
    "    batch_size=batch_size, shuffle=True, **kwargs)\n",
    "\n",
    "test_loader = torch.utils.data.DataLoader(\n",
    "    datasets.MNIST('data', train=False, transform=transforms.Compose([\n",
    "                       transforms.ToTensor(),\n",
    "                       transforms.Normalize((0,), (1,))\n",
    "                   ])),\n",
    "    batch_size=batch_size, shuffle=True, **kwargs)"
   ]
  },
  {
   "cell_type": "code",
   "execution_count": 28,
   "metadata": {},
   "outputs": [
    {
     "data": {
      "text/plain": [
       "tensor(0.)"
      ]
     },
     "execution_count": 28,
     "metadata": {},
     "output_type": "execute_result"
    }
   ],
   "source": [
    "list(train_loader)[0][0].min()"
   ]
  },
  {
   "cell_type": "markdown",
   "metadata": {},
   "source": [
    "The train and test data are provided via data loaders that provide iterators over the datasets. The first element of training data (`X_train`) is a 4th-order tensor of size (`batch_size`, 1, 28, 28), i.e. it consists of a batch of images of size 1x28x28 pixels. `y_train` is a vector containing the correct classes (\"0\", \"1\", ..., \"9\") for each training digit."
   ]
  },
  {
   "cell_type": "code",
   "execution_count": 29,
   "metadata": {},
   "outputs": [
    {
     "name": "stdout",
     "output_type": "stream",
     "text": [
      "X_train: torch.Size([32, 1, 28, 28]) type: torch.FloatTensor\n",
      "y_train: torch.Size([32]) type: torch.LongTensor\n"
     ]
    }
   ],
   "source": [
    "for (X_train, y_train) in train_loader:\n",
    "    print('X_train:', X_train.size(), 'type:', X_train.type())\n",
    "    print('y_train:', y_train.size(), 'type:', y_train.type())\n",
    "    break"
   ]
  },
  {
   "cell_type": "markdown",
   "metadata": {},
   "source": [
    "Here are the first 10 training digits:"
   ]
  },
  {
   "cell_type": "code",
   "execution_count": 30,
   "metadata": {},
   "outputs": [
    {
     "data": {
      "image/png": "[encoded data removed]",
      "text/plain": [
       "<Figure size 720x72 with 10 Axes>"
      ]
     },
     "metadata": {
      "needs_background": "light"
     },
     "output_type": "display_data"
    }
   ],
   "source": [
    "pltsize=1\n",
    "plt.figure(figsize=(10*pltsize, pltsize))\n",
    "\n",
    "for i in range(10):\n",
    "    plt.subplot(1,10,i+1)\n",
    "    plt.axis('off')\n",
    "    plt.imshow(X_train[i,:,:,:].numpy().reshape(28,28), cmap=\"gray\")\n",
    "    plt.title('Class: '+str(y_train[i]))"
   ]
  },
  {
   "cell_type": "markdown",
   "metadata": {},
   "source": [
    "## MLP network definition\n",
    "\n",
    "Let's define the network as a Python class.  We have to write the `__init__()` and `forward()` methods, and PyTorch will automatically generate a `backward()` method for computing the gradients for the backward pass.\n",
    "\n",
    "Finally, we define an optimizer to update the model parameters based on the computed gradients.  We select *stochastic gradient descent (with momentum)* as the optimization algorithm, and set *learning rate* to 0.01.  Note that there are [several different options](http://pytorch.org/docs/optim.html#algorithms) for the optimizer in PyTorch that we could use instead of *SGD*."
   ]
  },
  {
   "cell_type": "markdown",
   "metadata": {},
   "source": [
    "### PyTorch's `nn.CrossEntropyLoss` actually takes logits (it applies both log_softmax + NLL loss).\n",
    "\n",
    "## Be aware of weight: If provided, the optional argument weight should be a 1D Tensor assigning weight to each of the classes. This is particularly useful when you have an unbalanced training set.\n",
    "\n",
    "## read: https://zhang-yang.medium.com/understanding-cross-entropy-implementation-in-pytorch-softmax-log-softmax-nll-cross-entropy-416a2b200e34"
   ]
  },
  {
   "cell_type": "code",
   "execution_count": 69,
   "metadata": {},
   "outputs": [
    {
     "name": "stdout",
     "output_type": "stream",
     "text": [
      "Net(\n",
      "  (fc1): Linear(in_features=784, out_features=50, bias=True)\n",
      "  (fc1_drop): Dropout(p=0.2)\n",
      "  (fc2): Linear(in_features=50, out_features=50, bias=True)\n",
      "  (fc2_drop): Dropout(p=0.2)\n",
      "  (fc3): Linear(in_features=50, out_features=10, bias=True)\n",
      ")\n"
     ]
    }
   ],
   "source": [
    "class Net(nn.Module):\n",
    "    def __init__(self):\n",
    "        super(Net, self).__init__()\n",
    "        self.fc1 = nn.Linear(28*28, 50)\n",
    "        self.fc1_drop = nn.Dropout(0.2)#What does it do?\n",
    "        self.fc2 = nn.Linear(50, 50)\n",
    "        self.fc2_drop = nn.Dropout(0.2)\n",
    "        self.fc3 = nn.Linear(50, 10)\n",
    "\n",
    "    def forward(self, x):\n",
    "        x = x.view(-1, 28*28)\n",
    "        x = F.relu(self.fc1(x))\n",
    "        x = self.fc1_drop(x)\n",
    "        x = F.relu(self.fc2(x))\n",
    "        x = self.fc2_drop(x)\n",
    "        return F.log_softmax(self.fc3(x),dim=1)\n",
    "\n",
    "model = Net()\n",
    "if cuda:\n",
    "    model.cuda()\n",
    "    \n",
    "optimizer = optim.SGD(model.parameters(), lr=0.01, momentum=0.5)#What is SGD stans for?\n",
    "\n",
    "print(model)"
   ]
  },
  {
   "cell_type": "markdown",
   "metadata": {},
   "source": [
    "## Learning\n",
    "\n",
    "Let's now define functions to `train()` and `test()` the model. "
   ]
  },
  {
   "cell_type": "code",
   "execution_count": 70,
   "metadata": {},
   "outputs": [],
   "source": [
    "def train(epoch, log_interval=100):\n",
    "    model.train()\n",
    "    for batch_idx, (data, target) in enumerate(train_loader):\n",
    "        if cuda:\n",
    "            data, target = data.cuda(), target.cuda()\n",
    "        optimizer.zero_grad()\n",
    "        output = model(data)\n",
    "        loss = F.nll_loss(output, target)\n",
    "        loss.backward()\n",
    "        optimizer.step()\n",
    "        if batch_idx % log_interval == 0:\n",
    "            print('Train Epoch: {} [{}/{} ({:.0f}%)]\\tLoss: {:.6f}'.format(\n",
    "                epoch, batch_idx * len(data), len(train_loader.dataset),\n",
    "                100. * float(batch_idx) / len(train_loader), loss.item()))"
   ]
  },
  {
   "cell_type": "code",
   "execution_count": 71,
   "metadata": {},
   "outputs": [],
   "source": [
    "def test(loss_vector, accuracy_vector):\n",
    "    model.eval()\n",
    "    test_loss, correct = 0, 0\n",
    "    for data, target in test_loader:\n",
    "        if cuda:\n",
    "            data, target = data.cuda(), target.cuda()\n",
    "        data.requires_grad_(False)#We use to use Volatile!\n",
    "        target.requires_grad_(False)\n",
    "        output = model(data)\n",
    "        test_loss += F.nll_loss(output, target).item()\n",
    "        pred = output.data.max(1)[1] # get the index of the max log-probability\n",
    "        correct += pred.eq(target.data).cpu().sum().float()\n",
    "    \n",
    "    test_loss /= len(test_loader)\n",
    "    loss_vector.append(test_loss)\n",
    "    \n",
    "    accuracy = 100. * correct / float(len(test_loader.dataset))\n",
    "    accuracy_vector.append(accuracy)\n",
    "    \n",
    "    print('\\nTest set: Average loss: {:.4f}, Accuracy: {}/{} ({:.2f}%)\\n'.format(\n",
    "        test_loss, correct, len(test_loader.dataset), float(accuracy)))"
   ]
  },
  {
   "cell_type": "markdown",
   "metadata": {},
   "source": [
    "Now we are ready to train our model using the `train()` function.  An *epoch* means one pass through the whole training data. After each epoch, we evaluate the model using `test()`. "
   ]
  },
  {
   "cell_type": "code",
   "execution_count": 72,
   "metadata": {},
   "outputs": [
    {
     "name": "stdout",
     "output_type": "stream",
     "text": [
      "Train Epoch: 1 [0/60000 (0%)]\tLoss: 2.306923\n",
      "Train Epoch: 1 [3200/60000 (5%)]\tLoss: 2.278215\n",
      "Train Epoch: 1 [6400/60000 (11%)]\tLoss: 2.115098\n",
      "Train Epoch: 1 [9600/60000 (16%)]\tLoss: 1.654518\n",
      "Train Epoch: 1 [12800/60000 (21%)]\tLoss: 1.740354\n",
      "Train Epoch: 1 [16000/60000 (27%)]\tLoss: 1.123263\n",
      "Train Epoch: 1 [19200/60000 (32%)]\tLoss: 0.955765\n",
      "Train Epoch: 1 [22400/60000 (37%)]\tLoss: 1.028746\n",
      "Train Epoch: 1 [25600/60000 (43%)]\tLoss: 0.911017\n",
      "Train Epoch: 1 [28800/60000 (48%)]\tLoss: 0.535645\n",
      "Train Epoch: 1 [32000/60000 (53%)]\tLoss: 0.899131\n",
      "Train Epoch: 1 [35200/60000 (59%)]\tLoss: 0.652807\n",
      "Train Epoch: 1 [38400/60000 (64%)]\tLoss: 0.506397\n",
      "Train Epoch: 1 [41600/60000 (69%)]\tLoss: 0.577208\n",
      "Train Epoch: 1 [44800/60000 (75%)]\tLoss: 0.473050\n",
      "Train Epoch: 1 [48000/60000 (80%)]\tLoss: 0.493516\n",
      "Train Epoch: 1 [51200/60000 (85%)]\tLoss: 0.428644\n",
      "Train Epoch: 1 [54400/60000 (91%)]\tLoss: 0.443555\n",
      "Train Epoch: 1 [57600/60000 (96%)]\tLoss: 0.380243\n",
      "\n",
      "Test set: Average loss: 0.3795, Accuracy: 8934.0/10000 (89.34%)\n",
      "\n",
      "Train Epoch: 2 [0/60000 (0%)]\tLoss: 0.593454\n",
      "Train Epoch: 2 [3200/60000 (5%)]\tLoss: 0.356884\n",
      "Train Epoch: 2 [6400/60000 (11%)]\tLoss: 0.378284\n",
      "Train Epoch: 2 [9600/60000 (16%)]\tLoss: 0.720596\n",
      "Train Epoch: 2 [12800/60000 (21%)]\tLoss: 0.631428\n",
      "Train Epoch: 2 [16000/60000 (27%)]\tLoss: 0.475549\n",
      "Train Epoch: 2 [19200/60000 (32%)]\tLoss: 0.459119\n",
      "Train Epoch: 2 [22400/60000 (37%)]\tLoss: 0.337295\n",
      "Train Epoch: 2 [25600/60000 (43%)]\tLoss: 0.616222\n",
      "Train Epoch: 2 [28800/60000 (48%)]\tLoss: 0.381269\n",
      "Train Epoch: 2 [32000/60000 (53%)]\tLoss: 0.643609\n",
      "Train Epoch: 2 [35200/60000 (59%)]\tLoss: 0.337309\n",
      "Train Epoch: 2 [38400/60000 (64%)]\tLoss: 0.535618\n",
      "Train Epoch: 2 [41600/60000 (69%)]\tLoss: 0.457567\n",
      "Train Epoch: 2 [44800/60000 (75%)]\tLoss: 0.415207\n",
      "Train Epoch: 2 [48000/60000 (80%)]\tLoss: 0.248868\n",
      "Train Epoch: 2 [51200/60000 (85%)]\tLoss: 0.518364\n",
      "Train Epoch: 2 [54400/60000 (91%)]\tLoss: 0.376683\n",
      "Train Epoch: 2 [57600/60000 (96%)]\tLoss: 0.230309\n",
      "\n",
      "Test set: Average loss: 0.2775, Accuracy: 9174.0/10000 (91.74%)\n",
      "\n",
      "Train Epoch: 3 [0/60000 (0%)]\tLoss: 0.518514\n",
      "Train Epoch: 3 [3200/60000 (5%)]\tLoss: 0.378880\n",
      "Train Epoch: 3 [6400/60000 (11%)]\tLoss: 0.346859\n",
      "Train Epoch: 3 [9600/60000 (16%)]\tLoss: 0.699329\n",
      "Train Epoch: 3 [12800/60000 (21%)]\tLoss: 0.448388\n",
      "Train Epoch: 3 [16000/60000 (27%)]\tLoss: 0.349044\n",
      "Train Epoch: 3 [19200/60000 (32%)]\tLoss: 0.224315\n",
      "Train Epoch: 3 [22400/60000 (37%)]\tLoss: 0.567342\n",
      "Train Epoch: 3 [25600/60000 (43%)]\tLoss: 0.466143\n",
      "Train Epoch: 3 [28800/60000 (48%)]\tLoss: 0.267860\n",
      "Train Epoch: 3 [32000/60000 (53%)]\tLoss: 0.382652\n",
      "Train Epoch: 3 [35200/60000 (59%)]\tLoss: 0.435550\n",
      "Train Epoch: 3 [38400/60000 (64%)]\tLoss: 0.144258\n",
      "Train Epoch: 3 [41600/60000 (69%)]\tLoss: 0.363532\n",
      "Train Epoch: 3 [44800/60000 (75%)]\tLoss: 0.500509\n",
      "Train Epoch: 3 [48000/60000 (80%)]\tLoss: 0.611024\n",
      "Train Epoch: 3 [51200/60000 (85%)]\tLoss: 0.205379\n",
      "Train Epoch: 3 [54400/60000 (91%)]\tLoss: 0.198239\n",
      "Train Epoch: 3 [57600/60000 (96%)]\tLoss: 0.311055\n",
      "\n",
      "Test set: Average loss: 0.2266, Accuracy: 9335.0/10000 (93.35%)\n",
      "\n",
      "Train Epoch: 4 [0/60000 (0%)]\tLoss: 0.510423\n",
      "Train Epoch: 4 [3200/60000 (5%)]\tLoss: 0.407519\n",
      "Train Epoch: 4 [6400/60000 (11%)]\tLoss: 0.113868\n",
      "Train Epoch: 4 [9600/60000 (16%)]\tLoss: 0.382923\n",
      "Train Epoch: 4 [12800/60000 (21%)]\tLoss: 0.290385\n",
      "Train Epoch: 4 [16000/60000 (27%)]\tLoss: 0.275543\n",
      "Train Epoch: 4 [19200/60000 (32%)]\tLoss: 0.204242\n",
      "Train Epoch: 4 [22400/60000 (37%)]\tLoss: 0.117016\n",
      "Train Epoch: 4 [25600/60000 (43%)]\tLoss: 0.189853\n",
      "Train Epoch: 4 [28800/60000 (48%)]\tLoss: 0.188694\n",
      "Train Epoch: 4 [32000/60000 (53%)]\tLoss: 0.183356\n",
      "Train Epoch: 4 [35200/60000 (59%)]\tLoss: 0.152925\n",
      "Train Epoch: 4 [38400/60000 (64%)]\tLoss: 0.620308\n",
      "Train Epoch: 4 [41600/60000 (69%)]\tLoss: 0.210323\n",
      "Train Epoch: 4 [44800/60000 (75%)]\tLoss: 0.081474\n",
      "Train Epoch: 4 [48000/60000 (80%)]\tLoss: 0.421977\n",
      "Train Epoch: 4 [51200/60000 (85%)]\tLoss: 0.217106\n",
      "Train Epoch: 4 [54400/60000 (91%)]\tLoss: 0.525955\n",
      "Train Epoch: 4 [57600/60000 (96%)]\tLoss: 0.148256\n",
      "\n",
      "Test set: Average loss: 0.1911, Accuracy: 9416.0/10000 (94.16%)\n",
      "\n",
      "Train Epoch: 5 [0/60000 (0%)]\tLoss: 0.533786\n",
      "Train Epoch: 5 [3200/60000 (5%)]\tLoss: 0.325939\n",
      "Train Epoch: 5 [6400/60000 (11%)]\tLoss: 0.245471\n",
      "Train Epoch: 5 [9600/60000 (16%)]\tLoss: 0.241523\n",
      "Train Epoch: 5 [12800/60000 (21%)]\tLoss: 0.437176\n",
      "Train Epoch: 5 [16000/60000 (27%)]\tLoss: 0.236012\n",
      "Train Epoch: 5 [19200/60000 (32%)]\tLoss: 0.258276\n",
      "Train Epoch: 5 [22400/60000 (37%)]\tLoss: 0.329166\n",
      "Train Epoch: 5 [25600/60000 (43%)]\tLoss: 0.170580\n",
      "Train Epoch: 5 [28800/60000 (48%)]\tLoss: 0.236680\n",
      "Train Epoch: 5 [32000/60000 (53%)]\tLoss: 0.318607\n",
      "Train Epoch: 5 [35200/60000 (59%)]\tLoss: 0.442963\n",
      "Train Epoch: 5 [38400/60000 (64%)]\tLoss: 0.120329\n",
      "Train Epoch: 5 [41600/60000 (69%)]\tLoss: 0.315247\n",
      "Train Epoch: 5 [44800/60000 (75%)]\tLoss: 0.378038\n",
      "Train Epoch: 5 [48000/60000 (80%)]\tLoss: 0.118899\n",
      "Train Epoch: 5 [51200/60000 (85%)]\tLoss: 0.091439\n",
      "Train Epoch: 5 [54400/60000 (91%)]\tLoss: 0.175008\n",
      "Train Epoch: 5 [57600/60000 (96%)]\tLoss: 0.063433\n",
      "\n",
      "Test set: Average loss: 0.1709, Accuracy: 9491.0/10000 (94.91%)\n",
      "\n",
      "Train Epoch: 6 [0/60000 (0%)]\tLoss: 0.163573\n",
      "Train Epoch: 6 [3200/60000 (5%)]\tLoss: 0.252012\n",
      "Train Epoch: 6 [6400/60000 (11%)]\tLoss: 0.195048\n",
      "Train Epoch: 6 [9600/60000 (16%)]\tLoss: 0.596697\n",
      "Train Epoch: 6 [12800/60000 (21%)]\tLoss: 0.275074\n",
      "Train Epoch: 6 [16000/60000 (27%)]\tLoss: 0.211943\n",
      "Train Epoch: 6 [19200/60000 (32%)]\tLoss: 0.262334\n",
      "Train Epoch: 6 [22400/60000 (37%)]\tLoss: 0.302864\n",
      "Train Epoch: 6 [25600/60000 (43%)]\tLoss: 0.232639\n",
      "Train Epoch: 6 [28800/60000 (48%)]\tLoss: 0.178786\n",
      "Train Epoch: 6 [32000/60000 (53%)]\tLoss: 0.503271\n",
      "Train Epoch: 6 [35200/60000 (59%)]\tLoss: 0.214296\n",
      "Train Epoch: 6 [38400/60000 (64%)]\tLoss: 0.274778\n",
      "Train Epoch: 6 [41600/60000 (69%)]\tLoss: 0.322175\n",
      "Train Epoch: 6 [44800/60000 (75%)]\tLoss: 0.425270\n",
      "Train Epoch: 6 [48000/60000 (80%)]\tLoss: 0.046021\n",
      "Train Epoch: 6 [51200/60000 (85%)]\tLoss: 0.318897\n",
      "Train Epoch: 6 [54400/60000 (91%)]\tLoss: 0.108264\n",
      "Train Epoch: 6 [57600/60000 (96%)]\tLoss: 0.094699\n",
      "\n",
      "Test set: Average loss: 0.1565, Accuracy: 9537.0/10000 (95.37%)\n",
      "\n",
      "Train Epoch: 7 [0/60000 (0%)]\tLoss: 0.336461\n",
      "Train Epoch: 7 [3200/60000 (5%)]\tLoss: 0.079568\n",
      "Train Epoch: 7 [6400/60000 (11%)]\tLoss: 0.165088\n",
      "Train Epoch: 7 [9600/60000 (16%)]\tLoss: 0.114245\n",
      "Train Epoch: 7 [12800/60000 (21%)]\tLoss: 0.489468\n",
      "Train Epoch: 7 [16000/60000 (27%)]\tLoss: 0.336191\n",
      "Train Epoch: 7 [19200/60000 (32%)]\tLoss: 0.407100\n",
      "Train Epoch: 7 [22400/60000 (37%)]\tLoss: 0.203957\n",
      "Train Epoch: 7 [25600/60000 (43%)]\tLoss: 0.365695\n",
      "Train Epoch: 7 [28800/60000 (48%)]\tLoss: 0.197554\n",
      "Train Epoch: 7 [32000/60000 (53%)]\tLoss: 0.174940\n",
      "Train Epoch: 7 [35200/60000 (59%)]\tLoss: 0.526567\n",
      "Train Epoch: 7 [38400/60000 (64%)]\tLoss: 0.276883\n",
      "Train Epoch: 7 [41600/60000 (69%)]\tLoss: 0.409387\n",
      "Train Epoch: 7 [44800/60000 (75%)]\tLoss: 0.212067\n",
      "Train Epoch: 7 [48000/60000 (80%)]\tLoss: 0.115611\n",
      "Train Epoch: 7 [51200/60000 (85%)]\tLoss: 0.586309\n",
      "Train Epoch: 7 [54400/60000 (91%)]\tLoss: 0.145439\n",
      "Train Epoch: 7 [57600/60000 (96%)]\tLoss: 0.066343\n",
      "\n",
      "Test set: Average loss: 0.1413, Accuracy: 9557.0/10000 (95.57%)\n",
      "\n",
      "Train Epoch: 8 [0/60000 (0%)]\tLoss: 0.410383\n",
      "Train Epoch: 8 [3200/60000 (5%)]\tLoss: 0.260826\n",
      "Train Epoch: 8 [6400/60000 (11%)]\tLoss: 0.063601\n",
      "Train Epoch: 8 [9600/60000 (16%)]\tLoss: 0.360306\n",
      "Train Epoch: 8 [12800/60000 (21%)]\tLoss: 0.202781\n",
      "Train Epoch: 8 [16000/60000 (27%)]\tLoss: 0.037344\n",
      "Train Epoch: 8 [19200/60000 (32%)]\tLoss: 0.338336\n",
      "Train Epoch: 8 [22400/60000 (37%)]\tLoss: 0.264382\n",
      "Train Epoch: 8 [25600/60000 (43%)]\tLoss: 0.376729\n",
      "Train Epoch: 8 [28800/60000 (48%)]\tLoss: 0.188002\n",
      "Train Epoch: 8 [32000/60000 (53%)]\tLoss: 0.121723\n",
      "Train Epoch: 8 [35200/60000 (59%)]\tLoss: 0.221329\n",
      "Train Epoch: 8 [38400/60000 (64%)]\tLoss: 0.388836\n",
      "Train Epoch: 8 [41600/60000 (69%)]\tLoss: 0.159299\n",
      "Train Epoch: 8 [44800/60000 (75%)]\tLoss: 0.129503\n",
      "Train Epoch: 8 [48000/60000 (80%)]\tLoss: 0.370074\n",
      "Train Epoch: 8 [51200/60000 (85%)]\tLoss: 0.657135\n",
      "Train Epoch: 8 [54400/60000 (91%)]\tLoss: 0.316629\n",
      "Train Epoch: 8 [57600/60000 (96%)]\tLoss: 0.332217\n",
      "\n",
      "Test set: Average loss: 0.1343, Accuracy: 9597.0/10000 (95.97%)\n",
      "\n",
      "Train Epoch: 9 [0/60000 (0%)]\tLoss: 0.562318\n",
      "Train Epoch: 9 [3200/60000 (5%)]\tLoss: 0.063559\n",
      "Train Epoch: 9 [6400/60000 (11%)]\tLoss: 0.064431\n",
      "Train Epoch: 9 [9600/60000 (16%)]\tLoss: 0.194952\n",
      "Train Epoch: 9 [12800/60000 (21%)]\tLoss: 0.111197\n",
      "Train Epoch: 9 [16000/60000 (27%)]\tLoss: 0.125274\n",
      "Train Epoch: 9 [19200/60000 (32%)]\tLoss: 0.411711\n",
      "Train Epoch: 9 [22400/60000 (37%)]\tLoss: 0.171895\n",
      "Train Epoch: 9 [25600/60000 (43%)]\tLoss: 0.033527\n",
      "Train Epoch: 9 [28800/60000 (48%)]\tLoss: 0.136412\n",
      "Train Epoch: 9 [32000/60000 (53%)]\tLoss: 0.055058\n",
      "Train Epoch: 9 [35200/60000 (59%)]\tLoss: 0.080542\n",
      "Train Epoch: 9 [38400/60000 (64%)]\tLoss: 0.138829\n",
      "Train Epoch: 9 [41600/60000 (69%)]\tLoss: 0.190349\n",
      "Train Epoch: 9 [44800/60000 (75%)]\tLoss: 0.161072\n",
      "Train Epoch: 9 [48000/60000 (80%)]\tLoss: 0.329382\n",
      "Train Epoch: 9 [51200/60000 (85%)]\tLoss: 0.085574\n",
      "Train Epoch: 9 [54400/60000 (91%)]\tLoss: 0.114882\n",
      "Train Epoch: 9 [57600/60000 (96%)]\tLoss: 0.306086\n",
      "\n",
      "Test set: Average loss: 0.1246, Accuracy: 9627.0/10000 (96.27%)\n",
      "\n",
      "Train Epoch: 10 [0/60000 (0%)]\tLoss: 0.127745\n",
      "Train Epoch: 10 [3200/60000 (5%)]\tLoss: 0.128931\n",
      "Train Epoch: 10 [6400/60000 (11%)]\tLoss: 0.140228\n",
      "Train Epoch: 10 [9600/60000 (16%)]\tLoss: 0.194628\n",
      "Train Epoch: 10 [12800/60000 (21%)]\tLoss: 0.217604\n",
      "Train Epoch: 10 [16000/60000 (27%)]\tLoss: 0.274375\n",
      "Train Epoch: 10 [19200/60000 (32%)]\tLoss: 0.139100\n",
      "Train Epoch: 10 [22400/60000 (37%)]\tLoss: 0.244130\n",
      "Train Epoch: 10 [25600/60000 (43%)]\tLoss: 0.052624\n",
      "Train Epoch: 10 [28800/60000 (48%)]\tLoss: 0.165013\n",
      "Train Epoch: 10 [32000/60000 (53%)]\tLoss: 0.187055\n",
      "Train Epoch: 10 [35200/60000 (59%)]\tLoss: 0.053731\n",
      "Train Epoch: 10 [38400/60000 (64%)]\tLoss: 0.082977\n",
      "Train Epoch: 10 [41600/60000 (69%)]\tLoss: 0.642809\n",
      "Train Epoch: 10 [44800/60000 (75%)]\tLoss: 0.096293\n",
      "Train Epoch: 10 [48000/60000 (80%)]\tLoss: 0.067913\n",
      "Train Epoch: 10 [51200/60000 (85%)]\tLoss: 0.109449\n",
      "Train Epoch: 10 [54400/60000 (91%)]\tLoss: 0.138846\n",
      "Train Epoch: 10 [57600/60000 (96%)]\tLoss: 0.097320\n",
      "\n",
      "Test set: Average loss: 0.1253, Accuracy: 9617.0/10000 (96.17%)\n",
      "\n",
      "CPU times: user 57.1 s, sys: 12.2 s, total: 1min 9s\n",
      "Wall time: 2min\n"
     ]
    }
   ],
   "source": [
    "%%time\n",
    "epochs = 10\n",
    "\n",
    "lossv, accv = [], []\n",
    "for epoch in range(1, epochs + 1):\n",
    "    train(epoch)\n",
    "    test(lossv, accv)"
   ]
  },
  {
   "cell_type": "markdown",
   "metadata": {},
   "source": [
    "Let's now visualize how the training progressed. \n",
    "\n",
    "* *Loss* is a function of the difference of the network output and the target values.  We are minimizing the loss function during training so it should decrease over time.\n",
    "* *Accuracy* is the classification accuracy for the test data."
   ]
  },
  {
   "cell_type": "code",
   "execution_count": 73,
   "metadata": {},
   "outputs": [
    {
     "name": "stdout",
     "output_type": "stream",
     "text": [
      "[tensor(89.3400), tensor(91.7400), tensor(93.3500), tensor(94.1600), tensor(94.9100), tensor(95.3700), tensor(95.5700), tensor(95.9700), tensor(96.2700), tensor(96.1700)]\n"
     ]
    },
    {
     "data": {
      "image/png": "[encoded data removed]",
      "text/plain": [
       "<Figure size 576x360 with 1 Axes>"
      ]
     },
     "metadata": {
      "needs_background": "light"
     },
     "output_type": "display_data"
    },
    {
     "data": {
      "image/png": "[encoded data removed]",
      "text/plain": [
       "<Figure size 576x360 with 1 Axes>"
      ]
     },
     "metadata": {
      "needs_background": "light"
     },
     "output_type": "display_data"
    }
   ],
   "source": [
    "plt.figure(figsize=(8,5))\n",
    "plt.plot(np.arange(1,epochs+1), lossv)\n",
    "plt.title('test loss')\n",
    "\n",
    "plt.figure(figsize=(8,5))\n",
    "plt.plot(np.arange(1,epochs+1), accv)\n",
    "plt.title('test accuracy');\n",
    "print(accv)"
   ]
  },
  {
   "cell_type": "markdown",
   "metadata": {},
   "source": [
    "## Introduce Pytorch lightning : https://github.com/PyTorchLightning/pytorch-lightning\n",
    "## Dataloader : https://pytorch.org/tutorials/beginner/data_loading_tutorial.html\n",
    "## tensorboard :  https://www.tensorflow.org/tensorboard"
   ]
  },
  {
   "cell_type": "markdown",
   "metadata": {},
   "source": [
    "# Load and save model\n",
    "There are two main approaches for serializing and restoring a model.\n",
    "\n",
    "The first (recommended) saves and loads only the model parameters:"
   ]
  },
  {
   "cell_type": "code",
   "execution_count": 36,
   "metadata": {},
   "outputs": [],
   "source": [
    "torch.save(model.state_dict(), \"model.th\")"
   ]
  },
  {
   "cell_type": "markdown",
   "metadata": {},
   "source": [
    "Then later:"
   ]
  },
  {
   "cell_type": "code",
   "execution_count": 37,
   "metadata": {},
   "outputs": [
    {
     "name": "stdout",
     "output_type": "stream",
     "text": [
      "Net(\n",
      "  (fc1): Linear(in_features=784, out_features=50, bias=True)\n",
      "  (fc1_drop): Dropout(p=0.2)\n",
      "  (fc2): Linear(in_features=50, out_features=50, bias=True)\n",
      "  (fc2_drop): Dropout(p=0.2)\n",
      "  (fc3): Linear(in_features=50, out_features=10, bias=True)\n",
      ")\n"
     ]
    }
   ],
   "source": [
    "the_model = Net()\n",
    "the_model.load_state_dict(torch.load(\"model.th\"))\n",
    "print(the_model)"
   ]
  },
  {
   "cell_type": "markdown",
   "metadata": {},
   "source": [
    "The second saves and loads the entire model:"
   ]
  },
  {
   "cell_type": "code",
   "execution_count": 38,
   "metadata": {},
   "outputs": [
    {
     "name": "stderr",
     "output_type": "stream",
     "text": [
      "/home/hafez/anaconda3/lib/python3.6/site-packages/torch/serialization.py:251: UserWarning: Couldn't retrieve source code for container of type Net. It won't be checked for correctness upon loading.\n",
      "  \"type \" + obj.__name__ + \". It won't be checked \"\n"
     ]
    }
   ],
   "source": [
    "torch.save(model, \"model.th.2\")"
   ]
  },
  {
   "cell_type": "markdown",
   "metadata": {},
   "source": [
    "Then later:"
   ]
  },
  {
   "cell_type": "code",
   "execution_count": 39,
   "metadata": {},
   "outputs": [
    {
     "name": "stdout",
     "output_type": "stream",
     "text": [
      "Net(\n",
      "  (fc1): Linear(in_features=784, out_features=50, bias=True)\n",
      "  (fc1_drop): Dropout(p=0.2)\n",
      "  (fc2): Linear(in_features=50, out_features=50, bias=True)\n",
      "  (fc2_drop): Dropout(p=0.2)\n",
      "  (fc3): Linear(in_features=50, out_features=10, bias=True)\n",
      ")\n"
     ]
    }
   ],
   "source": [
    "the_model2 = torch.load(\"model.th.2\")\n",
    "print(the_model2)"
   ]
  },
  {
   "cell_type": "markdown",
   "metadata": {},
   "source": [
    "However in this case, the serialized data is bound to the specific classes and the exact directory structure used, so it can break in various ways when used in other projects, or after some serious refactors."
   ]
  },
  {
   "cell_type": "markdown",
   "metadata": {},
   "source": [
    "# Whats wrong with stacking FC?\n",
    "- Number of parameters\n",
    "- Structure of data\n",
    "- Overfitting"
   ]
  },
  {
   "cell_type": "code",
   "execution_count": null,
   "metadata": {},
   "outputs": [],
   "source": []
  },
  {
   "cell_type": "markdown",
   "metadata": {},
   "source": [
    "# Assignment3\n",
    "- Add regularization to your CFAR-10 model (Dropout, L1, and L2)\n",
    "- Find out how deep the model can be and still improving\n",
    "- Draw confusion matrix\n",
    "- Use five different optimizers and compare their results and convergence time (SGD, Adam, Adagrad, Adadelta, RMSprop)\n",
    "- Use three different activation functions (ReLu, Tanh, Sigmoid)\n",
    "- Draw all of your experiments in tensorboard or wandb!\n",
    "- Write softmax loss and Hinge loss without using torch.nn"
   ]
  },
  {
   "cell_type": "markdown",
   "metadata": {},
   "source": [
    "## Refrences:\n",
    "### CS231n Standford\n",
    "### Pytorch Documents\n",
    "### https://www.udemy.com/course/practical-deep-learning-with-pytorch/"
   ]
  },
  {
   "cell_type": "code",
   "execution_count": null,
   "metadata": {},
   "outputs": [],
   "source": []
  }
 ],
 "metadata": {
  "kernelspec": {
   "display_name": "Python 3",
   "language": "python",
   "name": "python3"
  },
  "language_info": {
   "codemirror_mode": {
    "name": "ipython",
    "version": 3
   },
   "file_extension": ".py",
   "mimetype": "text/x-python",
   "name": "python",
   "nbconvert_exporter": "python",
   "pygments_lexer": "ipython3",
   "version": "3.6.9"
  }
 },
 "nbformat": 4,
 "nbformat_minor": 4
}
