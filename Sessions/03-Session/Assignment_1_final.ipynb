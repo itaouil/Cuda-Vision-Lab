{
 "cells": [
  {
   "cell_type": "code",
   "execution_count": 1,
   "metadata": {
    "id": "2POTPiCaVIxi"
   },
   "outputs": [],
   "source": [
    "import torch\n",
    "import torch.nn as nn\n",
    "import torchvision\n",
    "import numpy as np\n",
    "import matplotlib.pyplot as plt"
   ]
  },
  {
   "cell_type": "code",
   "execution_count": null,
   "metadata": {
    "id": "SC8VBi7wVIxi"
   },
   "outputs": [],
   "source": [
    "trainset = torchvision.datasets.MNIST(root='./MNIST_train', train=True, download=True)\n",
    "testset = torchvision.datasets.MNIST(root='./MNIST_test', train=False, download=True)"
   ]
  },
  {
   "cell_type": "code",
   "execution_count": 3,
   "metadata": {
    "id": "1peGmxwRVIxi"
   },
   "outputs": [],
   "source": [
    "def preprocess(image, label):\n",
    "    imgArray = np.array(image)\n",
    "    imgArray = np.float32(imgArray) / 255\n",
    "    imgArray = imgArray.reshape(784)\n",
    "    \n",
    "    labVector = np.zeros(10)\n",
    "    labVector[label] = 1\n",
    "    \n",
    "    return imgArray, labVector"
   ]
  },
  {
   "cell_type": "code",
   "execution_count": 4,
   "metadata": {
    "id": "ABfPEebDVIxi"
   },
   "outputs": [],
   "source": [
    "def convertDatasetToNpArray(dataset):\n",
    "    X = []\n",
    "    Y = []\n",
    "    for content in dataset:\n",
    "        img, lab = preprocess(content[0], content[1])\n",
    "        X.append(img)\n",
    "        Y.append(lab)\n",
    "    X = np.array(X)\n",
    "    Y = np.array(Y)\n",
    "    return X, Y"
   ]
  },
  {
   "cell_type": "code",
   "execution_count": 5,
   "metadata": {
    "id": "b_j1C5vzVIxi"
   },
   "outputs": [],
   "source": [
    "trainX, trainY = convertDatasetToNpArray(trainset)\n",
    "testX, testY = convertDatasetToNpArray(testset)"
   ]
  },
  {
   "cell_type": "code",
   "execution_count": 6,
   "metadata": {
    "colab": {
     "base_uri": "https://localhost:8080/",
     "height": 282
    },
    "id": "p2yolfSuVIxi",
    "outputId": "0c47a32b-69cc-4a60-9053-a8fec1d4fd73"
   },
   "outputs": [
    {
     "data": {
      "text/plain": [
       "<matplotlib.image.AxesImage at 0x7f8d37134dd8>"
      ]
     },
     "execution_count": 6,
     "metadata": {
      "tags": []
     },
     "output_type": "execute_result"
    },
    {
     "data": {
      "image/png": "[encoded data removed]",
      "text/plain": [
       "<Figure size 432x288 with 1 Axes>"
      ]
     },
     "metadata": {
      "needs_background": "light",
      "tags": []
     },
     "output_type": "display_data"
    }
   ],
   "source": [
    "plt.imshow(trainX[0].reshape(28,28))"
   ]
  },
  {
   "cell_type": "code",
   "execution_count": 7,
   "metadata": {
    "colab": {
     "base_uri": "https://localhost:8080/"
    },
    "id": "_5Aqow04VIxi",
    "outputId": "e2c664db-31a7-472a-9f4e-5e8308486e6d"
   },
   "outputs": [
    {
     "data": {
      "text/plain": [
       "array([0., 0., 0., 0., 0., 1., 0., 0., 0., 0.])"
      ]
     },
     "execution_count": 7,
     "metadata": {
      "tags": []
     },
     "output_type": "execute_result"
    }
   ],
   "source": [
    "trainY[0]"
   ]
  },
  {
   "cell_type": "code",
   "execution_count": 8,
   "metadata": {
    "colab": {
     "base_uri": "https://localhost:8080/",
     "height": 282
    },
    "id": "xFZ1OpbgVIxj",
    "outputId": "1a0bf67c-8dd9-4f4f-d73d-90b6954f8a10"
   },
   "outputs": [
    {
     "data": {
      "text/plain": [
       "<matplotlib.image.AxesImage at 0x7f8d3731a438>"
      ]
     },
     "execution_count": 8,
     "metadata": {
      "tags": []
     },
     "output_type": "execute_result"
    },
    {
     "data": {
      "image/png": "[encoded data removed]",
      "text/plain": [
       "<Figure size 432x288 with 1 Axes>"
      ]
     },
     "metadata": {
      "needs_background": "light",
      "tags": []
     },
     "output_type": "display_data"
    }
   ],
   "source": [
    "plt.imshow(testX[0].reshape(28,28))"
   ]
  },
  {
   "cell_type": "code",
   "execution_count": 9,
   "metadata": {
    "colab": {
     "base_uri": "https://localhost:8080/"
    },
    "id": "p145AKgDVIxj",
    "outputId": "df2a32f6-7ff3-4fe6-f076-9fe9f889bf9e"
   },
   "outputs": [
    {
     "data": {
      "text/plain": [
       "array([0., 0., 0., 0., 0., 0., 0., 1., 0., 0.])"
      ]
     },
     "execution_count": 9,
     "metadata": {
      "tags": []
     },
     "output_type": "execute_result"
    }
   ],
   "source": [
    "testY[0]"
   ]
  },
  {
   "cell_type": "code",
   "execution_count": 36,
   "metadata": {
    "id": "Tj70fhCHVIxj"
   },
   "outputs": [],
   "source": [
    "class Net():\n",
    "    def __init__(self, lr=0.09, batch=20):\n",
    "        self.lr = lr\n",
    "        self.batch = batch\n",
    "        self.hiddenWeights = 2 * np.random.rand(784, 64) - 1\n",
    "        self.outputWeights = 2 * np.random.rand(64, 10) - 1\n",
    "        self.hiddenSum = 0\n",
    "        self.hiddenOut = np.random.rand(batch, 64)\n",
    "        self.outputSum = 0\n",
    "        self.outputOut = np.random.rand(batch, 10)\n",
    "        \n",
    "    def sigmod(self, x, derive=False):\n",
    "        if derive is True:\n",
    "            return x * (1 - x)\n",
    "        return 1 / (1 + np.exp(-1 * x))\n",
    "    \n",
    "    def softmax(self, x):\n",
    "        x = x - x.max(axis=1)[:,np.newaxis]\n",
    "        exp = np.exp(x)\n",
    "        exp_sum = np.sum(exp, axis=1)\n",
    "        exp_sum = exp_sum[:,np.newaxis]\n",
    "        return exp / exp_sum\n",
    "    #\n",
    "    # Output layer:\n",
    "    # Think of the output layer as vector-matrix multiplication \n",
    "    # \n",
    "    # (out_h * W)\n",
    "    # out_h are row vectors with shape (batchsize=1 or 20, 64) \n",
    "    # W is weight matrix with shape (64, 10)\n",
    "    # After multiplication, we get socre vector with shape (batchsize, 10) \n",
    "    # softmax(out_h) returns row vectors with the same shape (batchsize, 10)\n",
    "\n",
    "\n",
    "    # dW_hm = lr * delta_m * out_h\n",
    "    # dW_gh = lr * delta_h * out_g\n",
    "    # delta_m = (yhat - y_m) * f'(net) ----- y_m = f(net)\n",
    "    # f'(net) of softmax is also a matrix, so called Jaccobian Matrix\n",
    "    # f'(net) can be calculate based on the output of y_m\n",
    "    # For each data, we compute a Jaccobian, \n",
    "    # for 20 data in a batch, we compute a list containing 20 Jaccobians\n",
    "    # for more details:\n",
    "    # https://aimatters.wordpress.com/2019/06/17/the-softmax-function-derivative/\n",
    "\n",
    "    def derivative_softmax(self, x):\n",
    "        Jaccobian_list = []\n",
    "        softmax = self.softmax(x)        \n",
    "        for row in softmax:\n",
    "            diag = np.diag(row)\n",
    "            row = row[np.newaxis,:]\n",
    "            Jaccobian = diag - np.dot(row.T, row)\n",
    "            Jaccobian_list.append(Jaccobian)\n",
    "        return np.array(Jaccobian_list)\n",
    "\n",
    "    # delta_m = (yhat - y_m) * f'(net) ----- y_m = f(net), net = dot(x, W)\n",
    "    # for each neuron in the output layer, we need a delta value\n",
    "    # for each input data, we get a delta vector\n",
    "    # a delta vector can be computed by loss vector (yhat - y_m) * Jaccobian\n",
    "     \n",
    "    def delta_softmax(self, out, loss):\n",
    "        delta_list = []\n",
    "        Jaccobians = self.derivative_softmax(out)\n",
    "        for idx, val in enumerate(loss):\n",
    "            delta_list.append(np.dot(val, Jaccobians[idx]))\n",
    "        return np.array(delta_list)\n",
    "    \n",
    "    def forward(self, x):\n",
    "        self.hiddenSum = np.dot(x, self.hiddenWeights)\n",
    "        self.hiddenOut = self.sigmod(self.hiddenSum)\n",
    "        self.outputSum = np.dot(self.hiddenOut, self.outputWeights)\n",
    "        self.outputOut = self.softmax(self.outputSum)\n",
    "        return self.outputOut\n",
    "    \n",
    "    def backward(self, Input, loss):       \n",
    "        outputDelta = self.delta_softmax(self.outputOut, loss)\n",
    "        hiddenDelta = self.sigmod(self.hiddenOut, derive=True) * np.dot(outputDelta, self.outputWeights.T) \n",
    "        self.outputWeights += self.lr * np.dot(self.hiddenOut.T, outputDelta)\n",
    "        self.hiddenWeights += self.lr * np.dot(Input.T, hiddenDelta)\n",
    "        "
   ]
  },
  {
   "cell_type": "code",
   "execution_count": 60,
   "metadata": {
    "id": "ZJV8mdBznh92"
   },
   "outputs": [],
   "source": [
    "testNet = Net(batch=2)\n",
    "out = testNet.forward(trainX[0:2])\n",
    "loss = MSEloss(trainY[0:2], out, derivate=True)\n",
    "ds = testNet.derivative_softmax(out)\n",
    "delta_m = testNet.delta_softmax(out, loss)"
   ]
  },
  {
   "cell_type": "code",
   "execution_count": 68,
   "metadata": {
    "colab": {
     "base_uri": "https://localhost:8080/"
    },
    "id": "cM3qcwEdwQRJ",
    "outputId": "f4189ce8-4204-42ee-a6af-afa23465c0c5"
   },
   "outputs": [
    {
     "name": "stdout",
     "output_type": "stream",
     "text": [
      "(2, 10)\n",
      "(2, 10)\n",
      "(2, 10, 10)\n",
      "(2, 10)\n",
      "(64, 10)\n",
      "(64, 2)\n",
      "(64, 10)\n"
     ]
    }
   ],
   "source": [
    "print(out.shape)\n",
    "print(loss.shape)\n",
    "print(ds.shape)\n",
    "print(delta_m.shape)\n",
    "print(testNet.outputWeights.shape)\n",
    "print(testNet.hiddenOut.T.shape)\n",
    "print(np.dot(testNet.hiddenOut.T, delta_m).shape)"
   ]
  },
  {
   "cell_type": "code",
   "execution_count": null,
   "metadata": {
    "id": "ajylwgXG1C6r"
   },
   "outputs": [],
   "source": [
    ""
   ]
  },
  {
   "cell_type": "code",
   "execution_count": 37,
   "metadata": {
    "id": "9CL5FtA8VIxj"
   },
   "outputs": [],
   "source": [
    "net = Net()"
   ]
  },
  {
   "cell_type": "code",
   "execution_count": 12,
   "metadata": {
    "id": "UKYhWM1LVIxj"
   },
   "outputs": [],
   "source": [
    "def MSEloss(labels, outputs, derivate = False):\n",
    "    if derivate is True:\n",
    "        return labels - outputs\n",
    "    \n",
    "    loss = 1.0 / 2.0 * np.sum((labels - outputs)**2)\n",
    "    return loss"
   ]
  },
  {
   "cell_type": "code",
   "execution_count": 13,
   "metadata": {
    "id": "T5mFUE6YVIxj"
   },
   "outputs": [],
   "source": [
    "class DataLoader():\n",
    "    def __init__(self, dataX, dataY, batch=20, shuffle=True):\n",
    "        self.dataX = dataX\n",
    "        self.dataY = dataY\n",
    "        self.batch = batch\n",
    "        self.startIdx = 0\n",
    "        self.current = 1\n",
    "        self.len = len(dataY)\n",
    "        self.shuffle = shuffle\n",
    "    \n",
    "    def shuffle(self, seed=1):\n",
    "        np.random.seed(seed)    \n",
    "        np.random.shuffle(self.dataX)\n",
    "        np.random.seed(seed)\n",
    "        np.random.shuffle(self.dataY)\n",
    "    \n",
    "    def __iter__(self):\n",
    "        return self\n",
    "    \n",
    "    def __next__(self):\n",
    "        \n",
    "        endIdx = self.current * self.batch\n",
    "        if endIdx > self.len:\n",
    "            currentX = self.dataX[self.startIdx:]\n",
    "            currentY = self.dataY[self.startIdx:]\n",
    "            self.startIdx = 0\n",
    "            self.current = 1\n",
    "            if self.shuffle is True: DataLoader.shuffle(self)\n",
    "            raise StopIteration\n",
    "        else:    \n",
    "            currentX = self.dataX[self.startIdx:endIdx]\n",
    "            currentY = self.dataY[self.startIdx:endIdx]\n",
    "            self.current += 1\n",
    "            self.startIdx = endIdx\n",
    "        \n",
    "        return currentX, currentY"
   ]
  },
  {
   "cell_type": "code",
   "execution_count": 14,
   "metadata": {
    "id": "8vRHr7NGVIxj"
   },
   "outputs": [],
   "source": [
    "def train(dataloader, model, epoch=50):\n",
    "    for i in range(epoch):\n",
    "        for data, labels in dataloader:\n",
    "            out = model.forward(data)\n",
    "            loss = MSEloss(labels, out)\n",
    "            model.backward(data, MSEloss(labels, out, derivate=True))\n",
    "        if i % 10 == 0: print(loss)"
   ]
  },
  {
   "cell_type": "code",
   "execution_count": 15,
   "metadata": {
    "id": "5ITaC6gkVIxj"
   },
   "outputs": [],
   "source": [
    "trainloader = DataLoader(trainX, trainY)"
   ]
  },
  {
   "cell_type": "code",
   "execution_count": 38,
   "metadata": {
    "colab": {
     "base_uri": "https://localhost:8080/"
    },
    "id": "zXOVp5S1VIxj",
    "outputId": "3517b810-1e22-4146-80ff-6ddc030a5f18"
   },
   "outputs": [
    {
     "name": "stdout",
     "output_type": "stream",
     "text": [
      "2.019548653500467\n",
      "0.2046615674103025\n",
      "0.008080536844830942\n",
      "0.30441630900060596\n",
      "0.0012545042335592722\n"
     ]
    }
   ],
   "source": [
    "train(trainloader, net)"
   ]
  },
  {
   "cell_type": "code",
   "execution_count": 39,
   "metadata": {
    "colab": {
     "base_uri": "https://localhost:8080/"
    },
    "id": "GuJf_mkbVIxj",
    "outputId": "7d70d496-8d2f-4d96-8976-63e18a736e92"
   },
   "outputs": [
    {
     "name": "stdout",
     "output_type": "stream",
     "text": [
      "predict:  [6 3 5 5 6 0 4 1 9 5 7 8 9 3 7 4 6 4 3 0 7 0 2 9 1 7 3 2 9 7]\n",
      "labels :  [6 3 5 5 6 0 4 1 9 5 7 8 9 3 7 4 6 4 3 0 7 0 2 9 1 7 3 2 9 7]\n"
     ]
    }
   ],
   "source": [
    "out = net.forward(testX[50:80])\n",
    "print('predict: ', np.argmax(out,axis=1))\n",
    "print('labels : ', np.argmax(testY[50:80],axis=1))"
   ]
  },
  {
   "cell_type": "code",
   "execution_count": null,
   "metadata": {
    "id": "d9yVsq2IVIxj",
    "outputId": "f774e490-c3c0-48e1-be74-5fce9c5ec6c6"
   },
   "outputs": [
    {
     "data": {
      "text/plain": [
       "<matplotlib.image.AxesImage at 0x7fcc6a669810>"
      ]
     },
     "execution_count": 268,
     "metadata": {
      "tags": []
     },
     "output_type": "execute_result"
    },
    {
     "data": {
      "image/png": "[encoded data removed]",
      "text/plain": [
       "<Figure size 432x288 with 1 Axes>"
      ]
     },
     "metadata": {
      "needs_background": "light",
      "tags": []
     },
     "output_type": "display_data"
    }
   ],
   "source": [
    "plt.imshow(testX[61].reshape(28,28))"
   ]
  },
  {
   "cell_type": "code",
   "execution_count": null,
   "metadata": {
    "id": "veHy2Aj1VIxj"
   },
   "outputs": [],
   "source": [
    ""
   ]
  }
 ],
 "metadata": {
  "colab": {
   "collapsed_sections": [],
   "name": "Assignment_1.ipynb",
   "provenance": []
  },
  "kernelspec": {
   "display_name": "Python 3",
   "language": "python",
   "name": "python3"
  },
  "language_info": {
   "codemirror_mode": {
    "name": "ipython",
    "version": 3
   },
   "file_extension": ".py",
   "mimetype": "text/x-python",
   "name": "python",
   "nbconvert_exporter": "python",
   "pygments_lexer": "ipython3",
   "version": "3.7.4"
  }
 },
 "nbformat": 4,
 "nbformat_minor": 0
}
