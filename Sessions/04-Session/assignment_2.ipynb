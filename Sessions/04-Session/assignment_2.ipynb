{
 "cells": [
  {
   "cell_type": "markdown",
   "metadata": {
    "colab_type": "text",
    "id": "PJ9MtBUJLQyp"
   },
   "source": [
    "### Assignment 2 "
   ]
  },
  {
   "cell_type": "code",
   "execution_count": 0,
   "metadata": {
    "colab": {},
    "colab_type": "code",
    "id": "9FK5Z-_mLQyq"
   },
   "outputs": [],
   "source": [
    "import torch\n",
    "import torchvision\n",
    "import torchvision.transforms as transforms\n",
    "import torch.nn as nn\n",
    "import torch.nn.functional as F\n",
    "import torch.optim as optim\n",
    "import matplotlib.pyplot as plt\n",
    "import numpy as np\n",
    "%matplotlib inline\n",
    "\n",
    "device = torch.device(\"cuda:0\" if torch.cuda.is_available() else \"cpu\")"
   ]
  },
  {
   "cell_type": "code",
   "execution_count": 0,
   "metadata": {
    "colab": {},
    "colab_type": "code",
    "id": "TaNJ9ZhA4bZQ"
   },
   "outputs": [],
   "source": [
    "# http://pytorch.org/\n",
    "from os.path import exists\n",
    "from wheel.pep425tags import get_abbr_impl, get_impl_ver, get_abi_tag\n",
    "platform = '{}{}-{}'.format(get_abbr_impl(), get_impl_ver(), get_abi_tag())\n",
    "cuda_output = !ldconfig -p|grep cudart.so|sed -e 's/.*\\.\\([0-9]*\\)\\.\\([0-9]*\\)$/cu\\1\\2/'\n",
    "accelerator = cuda_output[0] if exists('/dev/nvidia0') else 'cpu'\n",
    "\n",
    "!pip install -q http://download.pytorch.org/whl/{accelerator}/torch-0.4.1-{platform}-linux_x86_64.whl torchvision\n",
    "import torch"
   ]
  },
  {
   "cell_type": "markdown",
   "metadata": {
    "colab_type": "text",
    "id": "reCQMt8vLQyt"
   },
   "source": [
    "### Initialization"
   ]
  },
  {
   "cell_type": "code",
   "execution_count": 4,
   "metadata": {
    "colab": {
     "base_uri": "https://localhost:8080/",
     "height": 52
    },
    "colab_type": "code",
    "id": "0IFtt-TJLQyu",
    "outputId": "26a1fb6e-4674-4491-ccb8-992673f31dda"
   },
   "outputs": [
    {
     "name": "stdout",
     "output_type": "stream",
     "text": [
      "Downloading https://www.cs.toronto.edu/~kriz/cifar-10-python.tar.gz to ./data/cifar-10-python.tar.gz\n",
      "Files already downloaded and verified\n"
     ]
    }
   ],
   "source": [
    "transform = transforms.Compose([\n",
    "    transforms.ToTensor(),\n",
    "    transforms.Normalize((0.5, 0.5, 0.5), (0.5, 0.5, 0.5))\n",
    "])\n",
    "\n",
    "# load data\n",
    "trainset = torchvision.datasets.CIFAR10(root='./data', train=True,\n",
    "                                        download=True, transform=transform)\n",
    "testset = torchvision.datasets.CIFAR10(root='./data', train=False,\n",
    "                                       download=True, transform=transform)\n",
    "classes = ('plane', 'car', 'bird', 'cat', 'deer',\n",
    "           'dog', 'frog', 'horse', 'ship', 'truck')\n",
    "\n",
    "input_dim = 3 * 32 * 32\n",
    "output_dim = 10\n",
    "batch_size = 50"
   ]
  },
  {
   "cell_type": "markdown",
   "metadata": {
    "colab_type": "text",
    "id": "l202YbI3LQyy"
   },
   "source": [
    "### Define model and functions"
   ]
  },
  {
   "cell_type": "code",
   "execution_count": 5,
   "metadata": {
    "colab": {
     "base_uri": "https://localhost:8080/",
     "height": 34
    },
    "colab_type": "code",
    "id": "D3dBVLAtLQyy",
    "outputId": "113ffc0c-0dc4-43dd-a972-0df6df9d5a93"
   },
   "outputs": [
    {
     "data": {
      "text/plain": [
       "device(type='cpu')"
      ]
     },
     "execution_count": 5,
     "metadata": {
      "tags": []
     },
     "output_type": "execute_result"
    }
   ],
   "source": [
    "device"
   ]
  },
  {
   "cell_type": "code",
   "execution_count": 0,
   "metadata": {
    "colab": {},
    "colab_type": "code",
    "id": "Siy96-4b4wX1"
   },
   "outputs": [],
   "source": [
    "class LRModel(nn.Module):\n",
    "    def __init__(self, input_dim, output_dim, hidden):\n",
    "        super().__init__()\n",
    "        self.input_dim = input_dim\n",
    "        self.output_dim = output_dim\n",
    "        self.hidden = hidden\n",
    "        self.seq = torch.nn.Sequential(\n",
    "            nn.Linear(input_dim, hidden),\n",
    "            nn.ReLU(),\n",
    "            nn.Linear(hidden, output_dim)\n",
    "                                   )\n",
    "    def forward(self, x):\n",
    "        return self.seq(x)"
   ]
  },
  {
   "cell_type": "code",
   "execution_count": 0,
   "metadata": {
    "colab": {},
    "colab_type": "code",
    "id": "7U0-YVgwLQy3"
   },
   "outputs": [],
   "source": [
    "    \n",
    "def train(model, trainset, lr=0.001, momentum=0.9, batch_size=32, epochs=2):\n",
    "    \n",
    "    # create trainloader and testloader\n",
    "    trainloader = torch.utils.data.DataLoader(trainset, batch_size=batch_size,\n",
    "                                      shuffle=True, num_workers=2)\n",
    "\n",
    "    # create optimizer\n",
    "    optimizer = optim.SGD(model.parameters(), lr=lr, momentum=momentum)\n",
    "    \n",
    "    # define loss function\n",
    "    criterion = nn.CrossEntropyLoss()\n",
    "    \n",
    "    num_iters = 0\n",
    "    losses = []\n",
    "    for epoch in range(epochs):\n",
    "        running_loss = 0.0\n",
    "        for i, data in enumerate(trainloader, 0):\n",
    "            images, labels = data\n",
    "            \n",
    "            # send to device\n",
    "            images, labels = images.to(device), labels.to(device)\n",
    "\n",
    "            # reshape images\n",
    "            inputs = images.view(-1, model.input_dim)\n",
    "\n",
    "            # zero gradients\n",
    "            optimizer.zero_grad()\n",
    "\n",
    "            # forward, backward and optimize\n",
    "            outputs = model(inputs)\n",
    "            loss = criterion(outputs, labels)\n",
    "            loss.backward()\n",
    "            optimizer.step()\n",
    "            \n",
    "            num_iters += 1\n",
    "            losses.append(loss.item())\n",
    "            \n",
    "            # print statistics every 1000th iteration\n",
    "            if num_iters % 1000 == 0:\n",
    "                print('Iteration: {0}, Epoch: {1}, loss: {2:.3f}'.format(num_iters, epoch, loss.item()))\n",
    "    \n",
    "    # losses per iteration\n",
    "    return losses\n",
    "    \n",
    "def test(model, dataset, batch_size=32):\n",
    "    dataloader = torch.utils.data.DataLoader(dataset, batch_size=batch_size,\n",
    "                                             shuffle=False, num_workers=2)\n",
    "    total = len(dataset)\n",
    "    correct = 0\n",
    "    with torch.no_grad():\n",
    "        for data in dataloader:\n",
    "            images, labels = data\n",
    "            \n",
    "            # send to device\n",
    "            images, labels = images.to(device), labels.to(device)\n",
    "            \n",
    "            inputs = images.view(-1, model.input_dim)\n",
    "            outputs = model(inputs)\n",
    "            _, predicted = torch.max(outputs.data, 1)\n",
    "            correct += (predicted == labels).sum().item()\n",
    "    \n",
    "    return 100 * correct / total;\n",
    "\n",
    "def k_fold_cross_validate(trainset, lrs, hiddens, num_folds=5, batch_size=32, epochs=2):\n",
    "    \n",
    "    indices_fold = np.array_split(np.arange(len(trainset)), num_folds)\n",
    "    best_acc = 0.0\n",
    "    best_params = {}\n",
    "    \n",
    "    for lr in lrs:\n",
    "        for hidden in hiddens:\n",
    "            print(\"[learning_rate: {0}, hidden_layer: {1}]\".format(lr, hidden))\n",
    "            acc_sum = 0.0\n",
    "            for k in range(num_folds):\n",
    "                model = LRModel(input_dim, output_dim, hidden)\n",
    "                model.to(device)\n",
    "                \n",
    "                valid_indices = indices_fold[k]\n",
    "                train_indices = np.hstack(indices_fold[:k] + indices_fold[k+1:])\n",
    "\n",
    "                train_fold = torch.utils.data.Subset(trainset, train_indices)\n",
    "                valid_fold = torch.utils.data.Subset(trainset, valid_indices)\n",
    "\n",
    "                train(model, train_fold, batch_size=batch_size, epochs=epochs)\n",
    "                acc = test(model, valid_fold)\n",
    "                acc_sum += acc\n",
    "                print(\"Accuracy on validation set: {0:.3f}\\n\".format(acc))\n",
    "            \n",
    "            avg_acc = acc_sum / num_folds\n",
    "            \n",
    "            if avg_acc > best_acc:\n",
    "                best_acc = avg_acc\n",
    "                best_params['lr'] = lr\n",
    "                best_params['hidden'] = hidden\n",
    "                \n",
    "            print(\"[Average accuracy across {0} folds for lr={1} and hidden={2} is {3:.3f}%]\\n\".format(\n",
    "                  num_folds, lr, hidden, avg_acc))\n",
    "    return best_params\n",
    "\n",
    "def plot_losses(losses):\n",
    "    x = list(range(len(losses)))\n",
    "    y = losses\n",
    "    plt.title(\"Loss per Iteration\")\n",
    "    plt.xlabel(\"Iterations\")\n",
    "    plt.ylabel(\"Loss\")\n",
    "    plt.plot(x, losses)\n",
    "    plt.show()"
   ]
  },
  {
   "cell_type": "markdown",
   "metadata": {
    "colab_type": "text",
    "id": "p0C4wS93LQy6"
   },
   "source": [
    "### K-Fold Cross Validation"
   ]
  },
  {
   "cell_type": "code",
   "execution_count": 0,
   "metadata": {
    "colab": {},
    "colab_type": "code",
    "id": "lwIbono_LQy7",
    "outputId": "5b0897bf-5f06-4880-cc5d-61aba38a6eb0"
   },
   "outputs": [
    {
     "name": "stdout",
     "output_type": "stream",
     "text": [
      "[learning_rate: 0.001, hidden_layer: 300]\n",
      "Iteration: 1000, Epoch: 1, loss: 1.559\n",
      "Accuracy on validation set: 44.100\n",
      "\n",
      "Iteration: 1000, Epoch: 1, loss: 1.537\n",
      "Accuracy on validation set: 42.840\n",
      "\n",
      "Iteration: 1000, Epoch: 1, loss: 1.870\n",
      "Accuracy on validation set: 43.860\n",
      "\n",
      "Iteration: 1000, Epoch: 1, loss: 1.633\n",
      "Accuracy on validation set: 43.330\n",
      "\n",
      "Iteration: 1000, Epoch: 1, loss: 1.476\n",
      "Accuracy on validation set: 42.830\n",
      "\n",
      "[Average accuracy across 5 folds for lr=0.001 and hidden=300 is 43.392%]\n",
      "\n",
      "[learning_rate: 0.001, hidden_layer: 500]\n",
      "Iteration: 1000, Epoch: 1, loss: 1.652\n",
      "Accuracy on validation set: 43.710\n",
      "\n",
      "Iteration: 1000, Epoch: 1, loss: 1.667\n",
      "Accuracy on validation set: 43.180\n",
      "\n",
      "Iteration: 1000, Epoch: 1, loss: 1.792\n",
      "Accuracy on validation set: 43.830\n",
      "\n",
      "Iteration: 1000, Epoch: 1, loss: 1.852\n",
      "Accuracy on validation set: 43.790\n",
      "\n",
      "Iteration: 1000, Epoch: 1, loss: 1.701\n",
      "Accuracy on validation set: 43.390\n",
      "\n",
      "[Average accuracy across 5 folds for lr=0.001 and hidden=500 is 43.580%]\n",
      "\n",
      "[learning_rate: 0.0001, hidden_layer: 300]\n",
      "Iteration: 1000, Epoch: 1, loss: 1.652\n",
      "Accuracy on validation set: 43.520\n",
      "\n",
      "Iteration: 1000, Epoch: 1, loss: 1.364\n",
      "Accuracy on validation set: 43.040\n",
      "\n",
      "Iteration: 1000, Epoch: 1, loss: 1.628\n",
      "Accuracy on validation set: 44.100\n",
      "\n",
      "Iteration: 1000, Epoch: 1, loss: 1.954\n",
      "Accuracy on validation set: 43.490\n",
      "\n",
      "Iteration: 1000, Epoch: 1, loss: 1.957\n",
      "Accuracy on validation set: 42.900\n",
      "\n",
      "[Average accuracy across 5 folds for lr=0.0001 and hidden=300 is 43.410%]\n",
      "\n",
      "[learning_rate: 0.0001, hidden_layer: 500]\n",
      "Iteration: 1000, Epoch: 1, loss: 1.557\n",
      "Accuracy on validation set: 43.930\n",
      "\n",
      "Iteration: 1000, Epoch: 1, loss: 1.755\n",
      "Accuracy on validation set: 43.140\n",
      "\n",
      "Iteration: 1000, Epoch: 1, loss: 1.675\n",
      "Accuracy on validation set: 43.930\n",
      "\n",
      "Iteration: 1000, Epoch: 1, loss: 1.668\n",
      "Accuracy on validation set: 43.630\n",
      "\n",
      "Iteration: 1000, Epoch: 1, loss: 1.475\n",
      "Accuracy on validation set: 42.690\n",
      "\n",
      "[Average accuracy across 5 folds for lr=0.0001 and hidden=500 is 43.464%]\n",
      "\n",
      "Best parameters:  {'lr': 0.001, 'hidden': 500}\n"
     ]
    }
   ],
   "source": [
    "lrs = [0.001, 0.0001]\n",
    "hiddens = [300, 500]\n",
    "best_params = k_fold_cross_validate(trainset, lrs, hiddens, batch_size=50)\n",
    "print(\"Best parameters: \", best_params)"
   ]
  },
  {
   "cell_type": "markdown",
   "metadata": {
    "colab_type": "text",
    "id": "K5HghwT1LQzD"
   },
   "source": [
    "### Train with best hyperparameters"
   ]
  },
  {
   "cell_type": "code",
   "execution_count": 0,
   "metadata": {
    "colab": {},
    "colab_type": "code",
    "id": "a4Y0IZuQLQzG",
    "outputId": "3a44254b-23b7-4e03-ed07-c03e5ab482d1"
   },
   "outputs": [
    {
     "name": "stdout",
     "output_type": "stream",
     "text": [
      "Iteration: 1000, Epoch: 0, loss: 1.953\n",
      "Iteration: 2000, Epoch: 1, loss: 1.759\n",
      "Iteration: 3000, Epoch: 2, loss: 1.613\n",
      "Iteration: 4000, Epoch: 3, loss: 1.724\n",
      "Iteration: 5000, Epoch: 4, loss: 1.554\n",
      "Iteration: 6000, Epoch: 5, loss: 1.269\n",
      "Iteration: 7000, Epoch: 6, loss: 1.325\n",
      "Iteration: 8000, Epoch: 7, loss: 1.392\n",
      "Iteration: 9000, Epoch: 8, loss: 1.360\n",
      "Iteration: 10000, Epoch: 9, loss: 1.427\n"
     ]
    }
   ],
   "source": [
    "model = LRModel(input_dim, output_dim, hidden=best_params['hidden'])\n",
    "model.to(device)\n",
    "losses = train(model, trainset, lr=best_params['lr'], batch_size=batch_size, epochs=2)"
   ]
  },
  {
   "cell_type": "code",
   "execution_count": 0,
   "metadata": {
    "colab": {},
    "colab_type": "code",
    "id": "0bHuYpGLLQzN",
    "outputId": "f4e580d1-e0b9-41c6-c600-c42f0786c009"
   },
   "outputs": [
    {
     "name": "stdout",
     "output_type": "stream",
     "text": [
      "Train accuracy:  51.486\n",
      "Test accuracy: 48.79\n"
     ]
    }
   ],
   "source": [
    "train_acc = test(model, trainset, batch_size=batch_size)\n",
    "test_acc = test(model, testset, batch_size=batch_size)\n",
    "print(\"Train accuracy: \", train_acc)\n",
    "print(\"Test accuracy:\", test_acc)"
   ]
  },
  {
   "cell_type": "code",
   "execution_count": 0,
   "metadata": {
    "colab": {},
    "colab_type": "code",
    "id": "-082zHjULQzS",
    "outputId": "8a231f75-9184-4764-9ca4-41998c72b750"
   },
   "outputs": [
    {
     "data": {
      "image/png": "[encoded data removed]",
      "text/plain": [
       "<Figure size 432x288 with 1 Axes>"
      ]
     },
     "metadata": {
      "needs_background": "light",
      "tags": []
     },
     "output_type": "display_data"
    }
   ],
   "source": [
    "plot_losses(losses)"
   ]
  },
  {
   "cell_type": "code",
   "execution_count": 0,
   "metadata": {
    "colab": {},
    "colab_type": "code",
    "id": "sLqECCk0LQzX"
   },
   "outputs": [],
   "source": []
  }
 ],
 "metadata": {
  "colab": {
   "name": "assignment_2.ipynb",
   "provenance": [],
   "version": "0.3.2"
  },
  "kernelspec": {
   "display_name": "Python 3",
   "language": "python",
   "name": "python3"
  },
  "language_info": {
   "codemirror_mode": {
    "name": "ipython",
    "version": 3
   },
   "file_extension": ".py",
   "mimetype": "text/x-python",
   "name": "python",
   "nbconvert_exporter": "python",
   "pygments_lexer": "ipython3",
   "version": "3.6.8"
  }
 },
 "nbformat": 4,
 "nbformat_minor": 1
}
