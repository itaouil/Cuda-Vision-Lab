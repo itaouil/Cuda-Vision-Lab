{
 "cells": [
  {
   "cell_type": "markdown",
   "metadata": {},
   "source": [
    "# Course contents\n",
    "## http://www.ais.uni-bonn.de/WS2021/LabVision/\n",
    "## username: labvision\n",
    "## password: visionlabws2021\n",
    "\n",
    "# My email: farazi@ais.uni-bonn.de"
   ]
  },
  {
   "cell_type": "markdown",
   "metadata": {},
   "source": [
    "# PyTorch basics, PyTorch Vs TF, MNIST/custom dataset"
   ]
  },
  {
   "cell_type": "markdown",
   "metadata": {},
   "source": [
    "### Install course prerequisite\n",
    "- https://www.anaconda.com/distribution/ Recommend Python 3.7 version\n",
    "- Install cuda and Nvidia (nvidia-driver-390, nvidia-cuda-dev, nvidia-cuda-toolkit)\n",
    "    - apt list --installed|grep nvidia\n",
    "    - nvidia-smi\n",
    "    - #sudo -S nvidia-smi -g 2 -c 0 #Compute mode is already set to DEFAULT\n",
    "    - #fuser -k /dev/nvidia3 #kill\n",
    "    - #sudo nvidia-smi -i 3 -r #Trigger reset of the GPU\n",
    "    - #sudo fuser -v /dev/nvidia* #Show PID\n",
    "- https://pytorch.org/\n",
    "- Ipython and Jupyter notebook\n",
    "- PyCharm\n",
    "- PyQT"
   ]
  },
  {
   "cell_type": "code",
   "execution_count": 1,
   "metadata": {},
   "outputs": [
    {
     "name": "stdout",
     "output_type": "stream",
     "text": [
      "CPU times: user 2 µs, sys: 1 µs, total: 3 µs\n",
      "Wall time: 6.91 µs\n",
      "hello\n"
     ]
    }
   ],
   "source": [
    "#Note magics! https://ipython.readthedocs.io/en/stable/interactive/magics.html\n",
    "%time\n",
    "print(\"hello\")"
   ]
  },
  {
   "cell_type": "code",
   "execution_count": 17,
   "metadata": {},
   "outputs": [
    {
     "name": "stdout",
     "output_type": "stream",
     "text": [
      "> <ipython-input-17-e79796212f42>(5)add_to_life_universe_everything()\n",
      "-> answer += x\n",
      "(Pdb) x\n",
      "12\n",
      "(Pdb) x=11\n",
      "(Pdb) quit\n"
     ]
    },
    {
     "ename": "BdbQuit",
     "evalue": "",
     "output_type": "error",
     "traceback": [
      "\u001b[0;31m---------------------------------------------------------------------------\u001b[0m",
      "\u001b[0;31mBdbQuit\u001b[0m                                   Traceback (most recent call last)",
      "\u001b[0;32m<ipython-input-17-e79796212f42>\u001b[0m in \u001b[0;36m<module>\u001b[0;34m\u001b[0m\n\u001b[1;32m      7\u001b[0m     \u001b[0;32mreturn\u001b[0m \u001b[0manswer\u001b[0m\u001b[0;34m\u001b[0m\u001b[0;34m\u001b[0m\u001b[0m\n\u001b[1;32m      8\u001b[0m \u001b[0;34m\u001b[0m\u001b[0m\n\u001b[0;32m----> 9\u001b[0;31m \u001b[0madd_to_life_universe_everything\u001b[0m\u001b[0;34m(\u001b[0m\u001b[0;36m12\u001b[0m\u001b[0;34m)\u001b[0m\u001b[0;34m\u001b[0m\u001b[0;34m\u001b[0m\u001b[0m\n\u001b[0m",
      "\u001b[0;32m<ipython-input-17-e79796212f42>\u001b[0m in \u001b[0;36madd_to_life_universe_everything\u001b[0;34m(x)\u001b[0m\n\u001b[1;32m      3\u001b[0m     \u001b[0manswer\u001b[0m \u001b[0;34m=\u001b[0m \u001b[0;36m42\u001b[0m\u001b[0;34m\u001b[0m\u001b[0;34m\u001b[0m\u001b[0m\n\u001b[1;32m      4\u001b[0m     \u001b[0;32mimport\u001b[0m \u001b[0mpdb\u001b[0m\u001b[0;34m;\u001b[0m \u001b[0mpdb\u001b[0m\u001b[0;34m.\u001b[0m\u001b[0mset_trace\u001b[0m\u001b[0;34m(\u001b[0m\u001b[0;34m)\u001b[0m\u001b[0;34m\u001b[0m\u001b[0;34m\u001b[0m\u001b[0m\n\u001b[0;32m----> 5\u001b[0;31m     \u001b[0manswer\u001b[0m \u001b[0;34m+=\u001b[0m \u001b[0mx\u001b[0m\u001b[0;34m\u001b[0m\u001b[0;34m\u001b[0m\u001b[0m\n\u001b[0m\u001b[1;32m      6\u001b[0m \u001b[0;34m\u001b[0m\u001b[0m\n\u001b[1;32m      7\u001b[0m     \u001b[0;32mreturn\u001b[0m \u001b[0manswer\u001b[0m\u001b[0;34m\u001b[0m\u001b[0;34m\u001b[0m\u001b[0m\n",
      "\u001b[0;32m<ipython-input-17-e79796212f42>\u001b[0m in \u001b[0;36madd_to_life_universe_everything\u001b[0;34m(x)\u001b[0m\n\u001b[1;32m      3\u001b[0m     \u001b[0manswer\u001b[0m \u001b[0;34m=\u001b[0m \u001b[0;36m42\u001b[0m\u001b[0;34m\u001b[0m\u001b[0;34m\u001b[0m\u001b[0m\n\u001b[1;32m      4\u001b[0m     \u001b[0;32mimport\u001b[0m \u001b[0mpdb\u001b[0m\u001b[0;34m;\u001b[0m \u001b[0mpdb\u001b[0m\u001b[0;34m.\u001b[0m\u001b[0mset_trace\u001b[0m\u001b[0;34m(\u001b[0m\u001b[0;34m)\u001b[0m\u001b[0;34m\u001b[0m\u001b[0;34m\u001b[0m\u001b[0m\n\u001b[0;32m----> 5\u001b[0;31m     \u001b[0manswer\u001b[0m \u001b[0;34m+=\u001b[0m \u001b[0mx\u001b[0m\u001b[0;34m\u001b[0m\u001b[0;34m\u001b[0m\u001b[0m\n\u001b[0m\u001b[1;32m      6\u001b[0m \u001b[0;34m\u001b[0m\u001b[0m\n\u001b[1;32m      7\u001b[0m     \u001b[0;32mreturn\u001b[0m \u001b[0manswer\u001b[0m\u001b[0;34m\u001b[0m\u001b[0;34m\u001b[0m\u001b[0m\n",
      "\u001b[0;32m~/opt/anaconda3/lib/python3.7/bdb.py\u001b[0m in \u001b[0;36mtrace_dispatch\u001b[0;34m(self, frame, event, arg)\u001b[0m\n\u001b[1;32m     86\u001b[0m             \u001b[0;32mreturn\u001b[0m \u001b[0;31m# None\u001b[0m\u001b[0;34m\u001b[0m\u001b[0;34m\u001b[0m\u001b[0m\n\u001b[1;32m     87\u001b[0m         \u001b[0;32mif\u001b[0m \u001b[0mevent\u001b[0m \u001b[0;34m==\u001b[0m \u001b[0;34m'line'\u001b[0m\u001b[0;34m:\u001b[0m\u001b[0;34m\u001b[0m\u001b[0;34m\u001b[0m\u001b[0m\n\u001b[0;32m---> 88\u001b[0;31m             \u001b[0;32mreturn\u001b[0m \u001b[0mself\u001b[0m\u001b[0;34m.\u001b[0m\u001b[0mdispatch_line\u001b[0m\u001b[0;34m(\u001b[0m\u001b[0mframe\u001b[0m\u001b[0;34m)\u001b[0m\u001b[0;34m\u001b[0m\u001b[0;34m\u001b[0m\u001b[0m\n\u001b[0m\u001b[1;32m     89\u001b[0m         \u001b[0;32mif\u001b[0m \u001b[0mevent\u001b[0m \u001b[0;34m==\u001b[0m \u001b[0;34m'call'\u001b[0m\u001b[0;34m:\u001b[0m\u001b[0;34m\u001b[0m\u001b[0;34m\u001b[0m\u001b[0m\n\u001b[1;32m     90\u001b[0m             \u001b[0;32mreturn\u001b[0m \u001b[0mself\u001b[0m\u001b[0;34m.\u001b[0m\u001b[0mdispatch_call\u001b[0m\u001b[0;34m(\u001b[0m\u001b[0mframe\u001b[0m\u001b[0;34m,\u001b[0m \u001b[0marg\u001b[0m\u001b[0;34m)\u001b[0m\u001b[0;34m\u001b[0m\u001b[0;34m\u001b[0m\u001b[0m\n",
      "\u001b[0;32m~/opt/anaconda3/lib/python3.7/bdb.py\u001b[0m in \u001b[0;36mdispatch_line\u001b[0;34m(self, frame)\u001b[0m\n\u001b[1;32m    111\u001b[0m         \u001b[0;32mif\u001b[0m \u001b[0mself\u001b[0m\u001b[0;34m.\u001b[0m\u001b[0mstop_here\u001b[0m\u001b[0;34m(\u001b[0m\u001b[0mframe\u001b[0m\u001b[0;34m)\u001b[0m \u001b[0;32mor\u001b[0m \u001b[0mself\u001b[0m\u001b[0;34m.\u001b[0m\u001b[0mbreak_here\u001b[0m\u001b[0;34m(\u001b[0m\u001b[0mframe\u001b[0m\u001b[0;34m)\u001b[0m\u001b[0;34m:\u001b[0m\u001b[0;34m\u001b[0m\u001b[0;34m\u001b[0m\u001b[0m\n\u001b[1;32m    112\u001b[0m             \u001b[0mself\u001b[0m\u001b[0;34m.\u001b[0m\u001b[0muser_line\u001b[0m\u001b[0;34m(\u001b[0m\u001b[0mframe\u001b[0m\u001b[0;34m)\u001b[0m\u001b[0;34m\u001b[0m\u001b[0;34m\u001b[0m\u001b[0m\n\u001b[0;32m--> 113\u001b[0;31m             \u001b[0;32mif\u001b[0m \u001b[0mself\u001b[0m\u001b[0;34m.\u001b[0m\u001b[0mquitting\u001b[0m\u001b[0;34m:\u001b[0m \u001b[0;32mraise\u001b[0m \u001b[0mBdbQuit\u001b[0m\u001b[0;34m\u001b[0m\u001b[0;34m\u001b[0m\u001b[0m\n\u001b[0m\u001b[1;32m    114\u001b[0m         \u001b[0;32mreturn\u001b[0m \u001b[0mself\u001b[0m\u001b[0;34m.\u001b[0m\u001b[0mtrace_dispatch\u001b[0m\u001b[0;34m\u001b[0m\u001b[0;34m\u001b[0m\u001b[0m\n\u001b[1;32m    115\u001b[0m \u001b[0;34m\u001b[0m\u001b[0m\n",
      "\u001b[0;31mBdbQuit\u001b[0m: "
     ]
    }
   ],
   "source": [
    "#Dont forget debugging\n",
    "def add_to_life_universe_everything(x):\n",
    "    answer = 42\n",
    "    import pdb; pdb.set_trace()\n",
    "    answer += x\n",
    "    \n",
    "    return answer\n",
    "\n",
    "add_to_life_universe_everything(12)"
   ]
  },
  {
   "cell_type": "code",
   "execution_count": 3,
   "metadata": {},
   "outputs": [
    {
     "name": "stdout",
     "output_type": "stream",
     "text": [
      "3.7.6 (default, Jan  8 2020, 13:42:34) \n",
      "[Clang 4.0.1 (tags/RELEASE_401/final)]\n"
     ]
    }
   ],
   "source": [
    "import sys\n",
    "print(sys.version)"
   ]
  },
  {
   "cell_type": "code",
   "execution_count": 4,
   "metadata": {},
   "outputs": [
    {
     "data": {
      "text/plain": [
       "<matplotlib.colorbar.Colorbar at 0x7f90743d2bd0>"
      ]
     },
     "execution_count": 4,
     "metadata": {},
     "output_type": "execute_result"
    },
    {
     "data": {
      "image/png": "[encoded data removed]",
      "text/plain": [
       "<Figure size 432x288 with 2 Axes>"
      ]
     },
     "metadata": {
      "needs_background": "light"
     },
     "output_type": "display_data"
    }
   ],
   "source": [
    "%matplotlib inline\n",
    "import matplotlib.pyplot as plt\n",
    "import numpy as np\n",
    "import scipy.misc\n",
    "\n",
    "a = scipy.misc.face()\n",
    "plt.imshow(a[:,:,0],cmap=plt.cm.gray)\n",
    "plt.colorbar()"
   ]
  },
  {
   "cell_type": "code",
   "execution_count": 5,
   "metadata": {},
   "outputs": [
    {
     "data": {
      "image/png": "[encoded data removed]",
      "text/plain": [
       "<Figure size 432x288 with 1 Axes>"
      ]
     },
     "metadata": {
      "needs_background": "light"
     },
     "output_type": "display_data"
    }
   ],
   "source": [
    "#OPENCV\n",
    "import numpy as np\n",
    "import cv2\n",
    "\n",
    "cap = cv2.VideoCapture(0)\n",
    "\n",
    "# Capture frame-by-frame\n",
    "ret, frame = cap.read()\n",
    "\n",
    "# Our operations on the frame come here\n",
    "gray = cv2.cvtColor(frame, cv2.COLOR_BGR2GRAY)\n",
    "plt.imshow(gray,cmap=plt.cm.gray)\n",
    "\n",
    "# When everything done, release the capture\n",
    "cap.release()\n",
    "cv2.destroyAllWindows()"
   ]
  },
  {
   "cell_type": "markdown",
   "metadata": {},
   "source": [
    "## Basic Python code and plotting"
   ]
  },
  {
   "cell_type": "markdown",
   "metadata": {},
   "source": [
    "The box below (known as a code cell) contains the Python code to plot $y=x^2$ over the range $[0,5]$. The blue comments preceded by `#` explain what the code does.\n",
    "\n",
    "To run the code:\n",
    "\n",
    "1. Click on the cell to select it.\n",
    "2. Press `SHIFT+ENTER` on your keyboard or press the play button (<button class='fa fa-play icon-play btn btn-xs btn-default'></button>) in the toolbar above.\n",
    "\n",
    "A full tutorial for using the notebook interface is available [here](http://nbviewer.ipython.org/github/ipython/ipython/blob/2.x/examples/Notebook/Index.ipynb)."
   ]
  },
  {
   "cell_type": "code",
   "execution_count": 6,
   "metadata": {},
   "outputs": [
    {
     "data": {
      "image/png": "[encoded data removed]",
      "text/plain": [
       "<Figure size 432x288 with 1 Axes>"
      ]
     },
     "metadata": {
      "needs_background": "light"
     },
     "output_type": "display_data"
    }
   ],
   "source": [
    "# Import matplotlib (plotting) and numpy (numerical arrays).\n",
    "# This enables their use in the Notebook.\n",
    "%matplotlib inline\n",
    "import matplotlib.pyplot as plt \n",
    "import numpy as np\n",
    "# Create an array of 30 values for x equally spaced from 0 to 5. \n",
    "x = np.linspace(0, 5, 30)\n",
    "y = x**2\n",
    "\n",
    "# Plot y versus x\n",
    "fig, ax = plt.subplots(nrows=1, ncols=1)\n",
    "ax.plot(x, y, color='red')\n",
    "ax.set_xlabel('x')\n",
    "ax.set_ylabel('y')\n",
    "ax.set_title('A simple graph of $y=x^2$');"
   ]
  },
  {
   "cell_type": "markdown",
   "metadata": {},
   "source": [
    "Above, you should see a plot of $y=x^2$.\n",
    "\n",
    "You can edit this code and re-run it. For example, try replacing `y = x**2` with `y=np.sin(x)`. For a list of valid functions, see the [NumPy Reference Manual](http://docs.scipy.org/doc/numpy/reference/routines.math.html). You can also update the plot title and axis labels.\n",
    "\n",
    "Text in the plot as well as narrative text in the notebook can contain equations that are formatted using $\\LaTeX$. To edit text written in $\\LaTeX$, double click on the text or press `ENTER` when the text is selected."
   ]
  },
  {
   "cell_type": "markdown",
   "metadata": {},
   "source": [
    "### What are widgets?\n",
    "Widgets are eventful python objects that have a representation in the browser, often as a control like a slider, textbox, etc.\n",
    "\n",
    "### What can they be used for?\n",
    "You can use widgets to build interactive GUIs for your notebooks.\n",
    "You can also use widgets to synchronize stateful and stateless information between Python and JavaScript.\n",
    "### Using widgets\n",
    "To use the widget framework, you need to import ipywidgets."
   ]
  },
  {
   "cell_type": "code",
   "execution_count": 18,
   "metadata": {},
   "outputs": [
    {
     "data": {
      "application/vnd.jupyter.widget-view+json": {
       "model_id": "a85596e130cc46efa0b4cb66da5bc85d",
       "version_major": 2,
       "version_minor": 0
      },
      "text/plain": [
       "IntSlider(value=0)"
      ]
     },
     "metadata": {},
     "output_type": "display_data"
    }
   ],
   "source": [
    "import ipywidgets as widgets\n",
    "from IPython.display import display\n",
    "w = widgets.IntSlider()\n",
    "display(w)"
   ]
  },
  {
   "cell_type": "code",
   "execution_count": 19,
   "metadata": {},
   "outputs": [
    {
     "data": {
      "application/vnd.jupyter.widget-view+json": {
       "model_id": "0a623e4eff7a4a8cb0a9e5c6f8393192",
       "version_major": 2,
       "version_minor": 0
      },
      "text/plain": [
       "Checkbox(value=False, description='Check me')"
      ]
     },
     "metadata": {},
     "output_type": "display_data"
    }
   ],
   "source": [
    "w=widgets.Checkbox(\n",
    "    value=False,\n",
    "    description='Check me',\n",
    "    disabled=False\n",
    ")\n",
    "display(w)"
   ]
  },
  {
   "cell_type": "code",
   "execution_count": 20,
   "metadata": {},
   "outputs": [
    {
     "name": "stdout",
     "output_type": "stream",
     "text": [
      "False\n"
     ]
    }
   ],
   "source": [
    "print(w.value)"
   ]
  },
  {
   "cell_type": "code",
   "execution_count": 21,
   "metadata": {},
   "outputs": [
    {
     "data": {
      "application/vnd.jupyter.widget-view+json": {
       "model_id": "72007351d65a4f468a0d0f11f9317549",
       "version_major": 2,
       "version_minor": 0
      },
      "text/plain": [
       "Dropdown(description='Number:', index=1, options=('1', '2', '3'), value='2')"
      ]
     },
     "metadata": {},
     "output_type": "display_data"
    }
   ],
   "source": [
    "widgets.Dropdown(\n",
    "    options=['1', '2', '3'],\n",
    "    value='2',\n",
    "    description='Number:',\n",
    "    disabled=False,\n",
    ")"
   ]
  },
  {
   "cell_type": "code",
   "execution_count": 22,
   "metadata": {},
   "outputs": [
    {
     "data": {
      "application/vnd.jupyter.widget-view+json": {
       "model_id": "86f3f214cbfc4dad9598c90697cb1ffa",
       "version_major": 2,
       "version_minor": 0
      },
      "text/plain": [
       "IntSlider(value=0)"
      ]
     },
     "metadata": {},
     "output_type": "display_data"
    },
    {
     "name": "stdout",
     "output_type": "stream",
     "text": [
      "3\n",
      "9\n",
      "21\n",
      "31\n",
      "34\n",
      "39\n"
     ]
    }
   ],
   "source": [
    "int_range = widgets.IntSlider()\n",
    "display(int_range)\n",
    "    \n",
    "from IPython.display import clear_output    \n",
    "\n",
    "def on_value_change(change):\n",
    "    print(change['new'])\n",
    "    \n",
    "\n",
    "int_range.observe(on_value_change, names='value')"
   ]
  },
  {
   "cell_type": "code",
   "execution_count": 23,
   "metadata": {},
   "outputs": [
    {
     "data": {
      "application/vnd.jupyter.widget-view+json": {
       "model_id": "987eecabc430467296cb5d75675719fa",
       "version_major": 2,
       "version_minor": 0
      },
      "text/plain": [
       "IntSlider(value=1, continuous_update=False, description='Test:', max=5, min=1)"
      ]
     },
     "metadata": {},
     "output_type": "display_data"
    },
    {
     "data": {
      "image/png": "[encoded data removed]",
      "text/plain": [
       "<Figure size 432x288 with 1 Axes>"
      ]
     },
     "metadata": {
      "needs_background": "light"
     },
     "output_type": "display_data"
    }
   ],
   "source": [
    "# Import matplotlib (plotting) and numpy (numerical arrays).\n",
    "# This enables their use in the Notebook.\n",
    "%matplotlib inline\n",
    "import matplotlib.pyplot as plt \n",
    "import numpy as np\n",
    "int_range = widgets.IntSlider(\n",
    "    value=7,\n",
    "    min=1,\n",
    "    max=5,\n",
    "    step=1,\n",
    "    description='Test:',\n",
    "    disabled=False,\n",
    "    continuous_update=False,\n",
    "    orientation='horizontal',\n",
    "    readout=True,\n",
    "    readout_format='d'\n",
    ")\n",
    "display(int_range)\n",
    "\n",
    "def on_value_change(change):\n",
    "    clear_output()\n",
    "    display(int_range)\n",
    "    # Create an array of 30 values for x equally spaced from 0 to 5. \n",
    "    x = np.linspace(0, 5, 30)\n",
    "    y = x**int(change['new'])\n",
    "\n",
    "    # Plot y versus x\n",
    "    fig, ax = plt.subplots(nrows=1, ncols=1)\n",
    "    ax.plot(x, y, color='red')\n",
    "    ax.set_xlabel('x')\n",
    "    ax.set_ylabel('y')\n",
    "    ax.set_title('A simple graph of $y=x^'+str(change['new'])+'$');\n",
    "\n",
    "int_range.observe(on_value_change, names='value')\n"
   ]
  },
  {
   "cell_type": "markdown",
   "metadata": {},
   "source": [
    "# IpyVolume\n",
    "\n",
    "IPyvolume is a Python library to visualize 3d volumes and glyphs (e.g. 3d scatter plots), in the Jupyter notebook, with minimal configuration and effort. It is currently pre-1.0, so use at own risk. IPyvolume’s volshow is to 3d arrays what matplotlib’s imshow is to 2d arrays.\n",
    "\n",
    "For quick resuls, use ipyvolume.widgets.quickvolshow. From a numpy array, we create two boxes, using slicing, and visualize it."
   ]
  },
  {
   "cell_type": "code",
   "execution_count": 24,
   "metadata": {},
   "outputs": [
    {
     "name": "stderr",
     "output_type": "stream",
     "text": [
      "/Users/hafez/opt/anaconda3/lib/python3.7/site-packages/ipyvolume/serialize.py:92: RuntimeWarning: invalid value encountered in true_divide\n",
      "  gradient = gradient / np.sqrt(gradient[0] ** 2 + gradient[1] ** 2 + gradient[2] ** 2)\n"
     ]
    },
    {
     "data": {
      "application/vnd.jupyter.widget-view+json": {
       "model_id": "210d069fd1d34b8cbf9328fc2ec9ce56",
       "version_major": 2,
       "version_minor": 0
      },
      "text/plain": [
       "VBox(children=(VBox(children=(HBox(children=(Label(value='levels:'), FloatSlider(value=0.25, max=1.0, step=0.0…"
      ]
     },
     "metadata": {},
     "output_type": "display_data"
    }
   ],
   "source": [
    "import numpy as np\n",
    "import ipyvolume as ipv\n",
    "V = np.zeros((128,128,128)) # our 3d array\n",
    "# outer box\n",
    "V[30:-30,30:-30,30:-30] = 0.75\n",
    "V[35:-35,35:-35,35:-35] = 0.0\n",
    "# inner box\n",
    "V[50:-50,50:-50,50:-50] = 0.25\n",
    "V[55:-55,55:-55,55:-55] = 0.0\n",
    "ipv.quickvolshow(V, level=[0.25, 0.75], opacity=0.03, level_width=0.1, data_min=0, data_max=1)"
   ]
  },
  {
   "cell_type": "markdown",
   "metadata": {},
   "source": [
    "Simple scatter plots are also supported."
   ]
  },
  {
   "cell_type": "code",
   "execution_count": 25,
   "metadata": {},
   "outputs": [
    {
     "data": {
      "application/vnd.jupyter.widget-view+json": {
       "model_id": "b351ba8b9d674e2aa1323617b4ec7517",
       "version_major": 2,
       "version_minor": 0
      },
      "text/plain": [
       "VBox(children=(Figure(camera=PerspectiveCamera(fov=45.0, position=(0.0, 0.0, 2.0), projectionMatrix=(1.0, 0.0,…"
      ]
     },
     "metadata": {},
     "output_type": "display_data"
    }
   ],
   "source": [
    "import ipyvolume as ipv\n",
    "import numpy as np\n",
    "x, y, z = np.random.random((3, 10000))\n",
    "ipv.quickscatter(x, y, z, size=1, marker=\"sphere\")"
   ]
  },
  {
   "cell_type": "markdown",
   "metadata": {},
   "source": [
    "Quiver plots are also supported, showing a vector at each point."
   ]
  },
  {
   "cell_type": "code",
   "execution_count": 26,
   "metadata": {},
   "outputs": [
    {
     "data": {
      "application/vnd.jupyter.widget-view+json": {
       "model_id": "1c487846009a418fbdd6323e395b9563",
       "version_major": 2,
       "version_minor": 0
      },
      "text/plain": [
       "VBox(children=(Figure(camera=PerspectiveCamera(fov=45.0, position=(0.0, 0.0, 2.0), projectionMatrix=(1.0, 0.0,…"
      ]
     },
     "metadata": {},
     "output_type": "display_data"
    }
   ],
   "source": [
    "import ipyvolume as ipv\n",
    "import numpy as np\n",
    "x, y, z, u, v, w = np.random.random((6, 1000))*2-1\n",
    "ipv.quickquiver(x, y, z, u, v, w, size=5)"
   ]
  },
  {
   "cell_type": "markdown",
   "metadata": {},
   "source": [
    "And surface/mesh plots, showing surfaces or wireframes."
   ]
  },
  {
   "cell_type": "code",
   "execution_count": 27,
   "metadata": {},
   "outputs": [
    {
     "data": {
      "application/vnd.jupyter.widget-view+json": {
       "model_id": "428beb4183984ea19638591b51250096",
       "version_major": 2,
       "version_minor": 0
      },
      "text/plain": [
       "VBox(children=(Figure(camera=PerspectiveCamera(fov=45.0, position=(0.0, 0.0, 2.0), projectionMatrix=(1.0, 0.0,…"
      ]
     },
     "metadata": {},
     "output_type": "display_data"
    }
   ],
   "source": [
    "import ipyvolume as ipv\n",
    "x, y, z, u, v = ipv.examples.klein_bottle(draw=False)\n",
    "ipv.figure()\n",
    "m = ipv.plot_mesh(x, y, z, wireframe=False)\n",
    "ipv.squarelim()\n",
    "ipv.show()"
   ]
  },
  {
   "cell_type": "markdown",
   "metadata": {},
   "source": [
    "For anything more sophisticed, use ipyvolume.pylab, ipyvolume’s copy of matplotlib’s 3d plotting (+ volume rendering).\n",
    "\n",
    "Since ipyvolume is built on ipywidgets, we can link widget’s properties."
   ]
  },
  {
   "cell_type": "code",
   "execution_count": 28,
   "metadata": {},
   "outputs": [
    {
     "data": {
      "application/vnd.jupyter.widget-view+json": {
       "model_id": "e46138d8f51f402186944ede4b0edaf1",
       "version_major": 2,
       "version_minor": 0
      },
      "text/plain": [
       "VBox(children=(VBox(children=(Figure(camera=PerspectiveCamera(fov=45.0, position=(0.0, 0.0, 2.0), projectionMa…"
      ]
     },
     "metadata": {},
     "output_type": "display_data"
    }
   ],
   "source": [
    "import ipyvolume as ipv\n",
    "import numpy as np\n",
    "x, y, z, u, v, w = np.random.random((6, 1000))*2-1\n",
    "selected = np.random.randint(0, 1000, 100)\n",
    "ipv.figure()\n",
    "quiver = ipv.quiver(x, y, z, u, v, w, size=5, size_selected=8, selected=selected)\n",
    "\n",
    "from ipywidgets import FloatSlider, ColorPicker, VBox, jslink\n",
    "size = FloatSlider(min=0, max=30, step=0.1)\n",
    "size_selected = FloatSlider(min=0, max=30, step=0.1)\n",
    "color = ColorPicker()\n",
    "color_selected = ColorPicker()\n",
    "jslink((quiver, 'size'), (size, 'value'))\n",
    "jslink((quiver, 'size_selected'), (size_selected, 'value'))\n",
    "jslink((quiver, 'color'), (color, 'value'))\n",
    "jslink((quiver, 'color_selected'), (color_selected, 'value'))\n",
    "VBox([ipv.gcc(), size, size_selected, color, color_selected])"
   ]
  },
  {
   "cell_type": "markdown",
   "metadata": {},
   "source": [
    "# ------------------------------------------------------------------------------------------------------------"
   ]
  },
  {
   "cell_type": "markdown",
   "metadata": {},
   "source": [
    "# http://pytorch.org/"
   ]
  },
  {
   "cell_type": "markdown",
   "metadata": {},
   "source": [
    "\n",
    "What is PyTorch?\n",
    "================\n",
    "\n",
    "It’s a Python based scientific computing package targeted at two sets of\n",
    "audiences:\n",
    "\n",
    "-  A replacement for numpy to use the power of GPUs\n",
    "-  a deep learning research platform that provides maximum flexibility\n",
    "   and speed\n",
    "\n",
    "Getting Started\n",
    "---------------\n",
    "### Tensor\n",
    "\n",
    "Tensors are similar to numpy’s ndarrays, with the addition being that\n",
    "Tensors can also be used on a GPU to accelerate computing.\n",
    "\n"
   ]
  },
  {
   "cell_type": "code",
   "execution_count": 18,
   "metadata": {},
   "outputs": [
    {
     "name": "stdout",
     "output_type": "stream",
     "text": [
      "1.3.1\n"
     ]
    }
   ],
   "source": [
    "import torch\n",
    "print(torch.__version__)"
   ]
  },
  {
   "cell_type": "markdown",
   "metadata": {},
   "source": [
    "Construct a 5x3 matrix, uninitialized:\n",
    "\n"
   ]
  },
  {
   "cell_type": "code",
   "execution_count": 19,
   "metadata": {},
   "outputs": [
    {
     "name": "stdout",
     "output_type": "stream",
     "text": [
      "tensor([[4.6243e-44, 0.0000e+00, 3.9236e-44],\n",
      "        [0.0000e+00, 8.0149e+18, 4.5761e-41],\n",
      "        [4.6534e+33, 1.7743e+28, 2.0535e-19],\n",
      "        [6.8609e+22, 1.4868e-41, 0.0000e+00],\n",
      "        [6.8664e-44, 0.0000e+00, 6.3058e-44]])\n"
     ]
    }
   ],
   "source": [
    "x = torch.Tensor(5, 3)\n",
    "print(x)"
   ]
  },
  {
   "cell_type": "code",
   "execution_count": 20,
   "metadata": {},
   "outputs": [
    {
     "name": "stdout",
     "output_type": "stream",
     "text": [
      "tensor([[1.1210e-44, 0.0000e+00, 0.0000e+00],\n",
      "        [0.0000e+00, 0.0000e+00, 0.0000e+00],\n",
      "        [0.0000e+00, 0.0000e+00, 0.0000e+00],\n",
      "        [0.0000e+00, 0.0000e+00, 0.0000e+00],\n",
      "        [0.0000e+00, 0.0000e+00, 0.0000e+00]])\n"
     ]
    }
   ],
   "source": [
    "x = torch.empty(5, 3)\n",
    "print(x)"
   ]
  },
  {
   "cell_type": "code",
   "execution_count": 21,
   "metadata": {},
   "outputs": [
    {
     "name": "stdout",
     "output_type": "stream",
     "text": [
      "tensor([[0, 0, 0],\n",
      "        [0, 0, 0],\n",
      "        [0, 0, 0],\n",
      "        [0, 0, 0],\n",
      "        [0, 0, 0]])\n"
     ]
    }
   ],
   "source": [
    "#Construct a matrix filled zeros and of dtype long:\n",
    "x = torch.zeros(5, 3, dtype=torch.long)\n",
    "print(x)"
   ]
  },
  {
   "cell_type": "code",
   "execution_count": 22,
   "metadata": {},
   "outputs": [
    {
     "name": "stdout",
     "output_type": "stream",
     "text": [
      "tensor([[5.5000, 3.0000],\n",
      "        [1.0000, 2.0000]])\n"
     ]
    }
   ],
   "source": [
    "#Construct a tensor directly from data:\n",
    "x = torch.tensor([[5.5, 3],[1,2]])\n",
    "print(x)"
   ]
  },
  {
   "cell_type": "code",
   "execution_count": 23,
   "metadata": {},
   "outputs": [
    {
     "name": "stdout",
     "output_type": "stream",
     "text": [
      "tensor([[9., 3.],\n",
      "        [1., 2.]])\n",
      "tensor([[9., 3.],\n",
      "        [1., 2.]])\n"
     ]
    }
   ],
   "source": [
    "#copy by refrence\n",
    "xtmp=x\n",
    "xtmp[0,0]=9\n",
    "print(xtmp)\n",
    "print(x)"
   ]
  },
  {
   "cell_type": "code",
   "execution_count": 24,
   "metadata": {},
   "outputs": [
    {
     "name": "stdout",
     "output_type": "stream",
     "text": [
      "tensor([[7., 7.],\n",
      "        [1., 2.]])\n",
      "tensor([[9., 3.],\n",
      "        [1., 2.]])\n"
     ]
    }
   ],
   "source": [
    "xtmp=x.clone()\n",
    "xtmp[0]=7\n",
    "print(xtmp)\n",
    "print(x)"
   ]
  },
  {
   "cell_type": "markdown",
   "metadata": {},
   "source": [
    "Construct a randomly initialized matrix\n",
    "\n"
   ]
  },
  {
   "cell_type": "markdown",
   "metadata": {},
   "source": [
    "#### Get the current default floating point torch.dtype"
   ]
  },
  {
   "cell_type": "code",
   "execution_count": 25,
   "metadata": {},
   "outputs": [
    {
     "data": {
      "text/plain": [
       "torch.float32"
      ]
     },
     "execution_count": 25,
     "metadata": {},
     "output_type": "execute_result"
    }
   ],
   "source": [
    "torch.get_default_dtype()"
   ]
  },
  {
   "cell_type": "markdown",
   "metadata": {},
   "source": [
    "#### default dtype for a tensor can only be a float type"
   ]
  },
  {
   "cell_type": "code",
   "execution_count": 26,
   "metadata": {},
   "outputs": [
    {
     "ename": "TypeError",
     "evalue": "only floating-point types are supported as the default type",
     "output_type": "error",
     "traceback": [
      "\u001b[0;31m---------------------------------------------------------------------------\u001b[0m",
      "\u001b[0;31mTypeError\u001b[0m                                 Traceback (most recent call last)",
      "\u001b[0;32m<ipython-input-26-52038df6b50f>\u001b[0m in \u001b[0;36m<module>\u001b[0;34m\u001b[0m\n\u001b[0;32m----> 1\u001b[0;31m \u001b[0mtorch\u001b[0m\u001b[0;34m.\u001b[0m\u001b[0mset_default_dtype\u001b[0m\u001b[0;34m(\u001b[0m\u001b[0mtorch\u001b[0m\u001b[0;34m.\u001b[0m\u001b[0mint\u001b[0m\u001b[0;34m)\u001b[0m\u001b[0;34m\u001b[0m\u001b[0;34m\u001b[0m\u001b[0m\n\u001b[0m",
      "\u001b[0;32m~/opt/anaconda3/lib/python3.7/site-packages/torch/__init__.py\u001b[0m in \u001b[0;36mset_default_dtype\u001b[0;34m(d)\u001b[0m\n\u001b[1;32m    175\u001b[0m \u001b[0;34m\u001b[0m\u001b[0m\n\u001b[1;32m    176\u001b[0m     \"\"\"\n\u001b[0;32m--> 177\u001b[0;31m     \u001b[0m_C\u001b[0m\u001b[0;34m.\u001b[0m\u001b[0m_set_default_dtype\u001b[0m\u001b[0;34m(\u001b[0m\u001b[0md\u001b[0m\u001b[0;34m)\u001b[0m\u001b[0;34m\u001b[0m\u001b[0;34m\u001b[0m\u001b[0m\n\u001b[0m\u001b[1;32m    178\u001b[0m \u001b[0;34m\u001b[0m\u001b[0m\n\u001b[1;32m    179\u001b[0m \u001b[0;31m# If you edit these imports, please update torch/__init__.py.in as well\u001b[0m\u001b[0;34m\u001b[0m\u001b[0;34m\u001b[0m\u001b[0;34m\u001b[0m\u001b[0m\n",
      "\u001b[0;31mTypeError\u001b[0m: only floating-point types are supported as the default type"
     ]
    }
   ],
   "source": [
    "torch.set_default_dtype(torch.int)"
   ]
  },
  {
   "cell_type": "markdown",
   "metadata": {},
   "source": [
    "#### The default floating point dtype is initially torch.float32\n",
    "#### Set the default floating point to torch.float64"
   ]
  },
  {
   "cell_type": "code",
   "execution_count": 27,
   "metadata": {},
   "outputs": [],
   "source": [
    "torch.set_default_dtype(torch.float64)"
   ]
  },
  {
   "cell_type": "code",
   "execution_count": 28,
   "metadata": {},
   "outputs": [
    {
     "data": {
      "text/plain": [
       "torch.float64"
      ]
     },
     "execution_count": 28,
     "metadata": {},
     "output_type": "execute_result"
    }
   ],
   "source": [
    "torch.get_default_dtype()"
   ]
  },
  {
   "cell_type": "markdown",
   "metadata": {},
   "source": [
    "#### Creating Tensors"
   ]
  },
  {
   "cell_type": "code",
   "execution_count": 29,
   "metadata": {},
   "outputs": [
    {
     "data": {
      "text/plain": [
       "tensor([[1., 2., 3.],\n",
       "        [4., 5., 6.]])"
      ]
     },
     "execution_count": 29,
     "metadata": {},
     "output_type": "execute_result"
    }
   ],
   "source": [
    "tensor_arr = torch.Tensor([[1,2,3], [4,5,6]])\n",
    "tensor_arr"
   ]
  },
  {
   "cell_type": "code",
   "execution_count": 30,
   "metadata": {},
   "outputs": [
    {
     "data": {
      "text/plain": [
       "True"
      ]
     },
     "execution_count": 30,
     "metadata": {},
     "output_type": "execute_result"
    }
   ],
   "source": [
    "torch.is_tensor(tensor_arr)"
   ]
  },
  {
   "cell_type": "markdown",
   "metadata": {},
   "source": [
    "#### numel() returns the number of elements in a tensor"
   ]
  },
  {
   "cell_type": "code",
   "execution_count": 31,
   "metadata": {},
   "outputs": [
    {
     "data": {
      "text/plain": [
       "6"
      ]
     },
     "execution_count": 31,
     "metadata": {},
     "output_type": "execute_result"
    }
   ],
   "source": [
    "torch.numel(tensor_arr)"
   ]
  },
  {
   "cell_type": "markdown",
   "metadata": {},
   "source": [
    "#### An un-initialized Tensor of shape 2X2 allocated space in memory"
   ]
  },
  {
   "cell_type": "code",
   "execution_count": 32,
   "metadata": {},
   "outputs": [],
   "source": [
    "tensor_uninitialized = torch.Tensor(2, 2) #un allocated"
   ]
  },
  {
   "cell_type": "code",
   "execution_count": 33,
   "metadata": {},
   "outputs": [
    {
     "data": {
      "text/plain": [
       "tensor([[5.5567e-313,  3.0000e+00],\n",
       "        [2.9644e-323,  2.0000e+00]])"
      ]
     },
     "execution_count": 33,
     "metadata": {},
     "output_type": "execute_result"
    }
   ],
   "source": [
    "tensor_uninitialized"
   ]
  },
  {
   "cell_type": "markdown",
   "metadata": {},
   "source": [
    "#### A tensor of size 2x2 initialized with random values"
   ]
  },
  {
   "cell_type": "code",
   "execution_count": 34,
   "metadata": {},
   "outputs": [],
   "source": [
    "tensor_initialized = torch.rand(2, 2)"
   ]
  },
  {
   "cell_type": "code",
   "execution_count": 35,
   "metadata": {},
   "outputs": [
    {
     "data": {
      "text/plain": [
       "tensor([[0.3132, 0.9862],\n",
       "        [0.8031, 0.8322]])"
      ]
     },
     "execution_count": 35,
     "metadata": {},
     "output_type": "execute_result"
    }
   ],
   "source": [
    "tensor_initialized"
   ]
  },
  {
   "cell_type": "code",
   "execution_count": 36,
   "metadata": {},
   "outputs": [
    {
     "data": {
      "text/plain": [
       "'torch.DoubleTensor'"
      ]
     },
     "execution_count": 36,
     "metadata": {},
     "output_type": "execute_result"
    }
   ],
   "source": [
    "torch.typename(tensor_initialized)"
   ]
  },
  {
   "cell_type": "markdown",
   "metadata": {},
   "source": [
    "#### Tensors can be set to have specific data types"
   ]
  },
  {
   "cell_type": "code",
   "execution_count": 37,
   "metadata": {},
   "outputs": [
    {
     "data": {
      "text/plain": [
       "tensor([5, 3], dtype=torch.int32)"
      ]
     },
     "execution_count": 37,
     "metadata": {},
     "output_type": "execute_result"
    }
   ],
   "source": [
    "tensor_int = torch.tensor([5, 3]).type(torch.IntTensor) #This is on CPU if you want it on GPU you can use torch.cuda.IntTensor\n",
    "tensor_int"
   ]
  },
  {
   "cell_type": "markdown",
   "metadata": {},
   "source": [
    "#### A Tensor of type short"
   ]
  },
  {
   "cell_type": "code",
   "execution_count": 38,
   "metadata": {},
   "outputs": [
    {
     "data": {
      "text/plain": [
       "tensor([1, 2, 3], dtype=torch.int16)"
      ]
     },
     "execution_count": 38,
     "metadata": {},
     "output_type": "execute_result"
    }
   ],
   "source": [
    "tensor_short = torch.ShortTensor([1.0, 2.0, 3.0])   \n",
    "tensor_short"
   ]
  },
  {
   "cell_type": "markdown",
   "metadata": {},
   "source": [
    "#### A Tensor of type float half (float16)"
   ]
  },
  {
   "cell_type": "code",
   "execution_count": 39,
   "metadata": {},
   "outputs": [
    {
     "data": {
      "text/plain": [
       "tensor([1., 2., 3.], dtype=torch.float16)"
      ]
     },
     "execution_count": 39,
     "metadata": {},
     "output_type": "execute_result"
    }
   ],
   "source": [
    "tensor_float = torch.tensor([1.0, 2.0, 3.0]).type(torch.half)\n",
    "tensor_float"
   ]
  },
  {
   "cell_type": "markdown",
   "metadata": {},
   "source": [
    "#### A tensor filled with a specific values\n"
   ]
  },
  {
   "cell_type": "code",
   "execution_count": 40,
   "metadata": {},
   "outputs": [
    {
     "data": {
      "text/plain": [
       "tensor([[10., 10., 10., 10., 10., 10.],\n",
       "        [10., 10., 10., 10., 10., 10.]])"
      ]
     },
     "execution_count": 40,
     "metadata": {},
     "output_type": "execute_result"
    }
   ],
   "source": [
    "tensor_fill = torch.full((2, 6), fill_value=10)\n",
    "tensor_fill"
   ]
  },
  {
   "cell_type": "markdown",
   "metadata": {},
   "source": [
    "#### A tensor of size (2,4) containing all ones"
   ]
  },
  {
   "cell_type": "code",
   "execution_count": 41,
   "metadata": {},
   "outputs": [
    {
     "data": {
      "text/plain": [
       "tensor([[1, 1, 1, 1],\n",
       "        [1, 1, 1, 1]], dtype=torch.int32)"
      ]
     },
     "execution_count": 41,
     "metadata": {},
     "output_type": "execute_result"
    }
   ],
   "source": [
    "tensor_of_ones = torch.ones([2, 4], dtype=torch.int32)\n",
    "tensor_of_ones"
   ]
  },
  {
   "cell_type": "markdown",
   "metadata": {},
   "source": [
    "#### A tensor of size (2,4) like tensor_of_ones containing all zeroes"
   ]
  },
  {
   "cell_type": "code",
   "execution_count": 42,
   "metadata": {},
   "outputs": [
    {
     "data": {
      "text/plain": [
       "tensor([[0, 0, 0, 0],\n",
       "        [0, 0, 0, 0]], dtype=torch.int32)"
      ]
     },
     "execution_count": 42,
     "metadata": {},
     "output_type": "execute_result"
    }
   ],
   "source": [
    "tensor_of_zeroes = torch.zeros_like(tensor_of_ones)\n",
    "tensor_of_zeroes"
   ]
  },
  {
   "cell_type": "markdown",
   "metadata": {},
   "source": [
    "#### Create an identity 5X5 tensor"
   ]
  },
  {
   "cell_type": "code",
   "execution_count": 43,
   "metadata": {},
   "outputs": [
    {
     "data": {
      "text/plain": [
       "tensor([[1., 0., 0., 0., 0.],\n",
       "        [0., 1., 0., 0., 0.],\n",
       "        [0., 0., 1., 0., 0.],\n",
       "        [0., 0., 0., 1., 0.],\n",
       "        [0., 0., 0., 0., 1.]])"
      ]
     },
     "execution_count": 43,
     "metadata": {},
     "output_type": "execute_result"
    }
   ],
   "source": [
    "tensor_eye = torch.eye(5)\n",
    "tensor_eye"
   ]
  },
  {
   "cell_type": "markdown",
   "metadata": {},
   "source": [
    "#### Get the list of indices of non-zero elements in a tensor\n",
    "[ i, j ] index for non-zero elements"
   ]
  },
  {
   "cell_type": "code",
   "execution_count": 44,
   "metadata": {},
   "outputs": [
    {
     "data": {
      "text/plain": [
       "tensor([[0, 0],\n",
       "        [1, 1],\n",
       "        [2, 2],\n",
       "        [3, 3],\n",
       "        [4, 4]])"
      ]
     },
     "execution_count": 44,
     "metadata": {},
     "output_type": "execute_result"
    }
   ],
   "source": [
    "non_zero = torch.nonzero(tensor_eye)\n",
    "non_zero"
   ]
  },
  {
   "cell_type": "markdown",
   "metadata": {},
   "source": [
    "#### Create a sparse tensor using coordinates specified by indices and values"
   ]
  },
  {
   "cell_type": "code",
   "execution_count": 45,
   "metadata": {},
   "outputs": [],
   "source": [
    "i = torch.tensor([[0, 1, 1],\n",
    "                  [2, 2, 0]])"
   ]
  },
  {
   "cell_type": "code",
   "execution_count": 46,
   "metadata": {},
   "outputs": [],
   "source": [
    "v = torch.tensor([3, 4, 5], dtype=torch.float32)"
   ]
  },
  {
   "cell_type": "code",
   "execution_count": 47,
   "metadata": {},
   "outputs": [],
   "source": [
    "sparse_tensor = torch.sparse_coo_tensor(i, v, [2, 5])"
   ]
  },
  {
   "cell_type": "code",
   "execution_count": 48,
   "metadata": {},
   "outputs": [
    {
     "data": {
      "text/plain": [
       "tensor(indices=tensor([[0, 1, 1],\n",
       "                       [2, 2, 0]]),\n",
       "       values=tensor([3., 4., 5.]),\n",
       "       size=(2, 5), nnz=3, dtype=torch.float32, layout=torch.sparse_coo)"
      ]
     },
     "execution_count": 48,
     "metadata": {},
     "output_type": "execute_result"
    }
   ],
   "source": [
    "sparse_tensor.data"
   ]
  },
  {
   "cell_type": "code",
   "execution_count": 49,
   "metadata": {},
   "outputs": [
    {
     "data": {
      "text/plain": [
       "tensor([[0., 0., 3., 0., 0.],\n",
       "        [5., 0., 4., 0., 0.]], dtype=torch.float32)"
      ]
     },
     "execution_count": 49,
     "metadata": {},
     "output_type": "execute_result"
    }
   ],
   "source": [
    "sparse_tensor.to_dense()"
   ]
  },
  {
   "cell_type": "markdown",
   "metadata": {},
   "source": [
    "## Inplace / Out-of-place\n",
    "The first difference is that ALL operations on the tensor that operate in-place on it will have an \"\\_\" postfix. For example, add is the out-of-place version, and add\\_ is the in-place version."
   ]
  },
  {
   "cell_type": "markdown",
   "metadata": {},
   "source": [
    "#### .fill_ is in-place operation and it doesnt have any out-place equivalent"
   ]
  },
  {
   "cell_type": "code",
   "execution_count": 50,
   "metadata": {},
   "outputs": [
    {
     "data": {
      "text/plain": [
       "tensor([[0.0788, 0.1076, 0.1997],\n",
       "        [0.9526, 0.4909, 0.8707]])"
      ]
     },
     "execution_count": 50,
     "metadata": {},
     "output_type": "execute_result"
    }
   ],
   "source": [
    "initial_tensor = torch.rand(2, 3) \n",
    "\n",
    "initial_tensor"
   ]
  },
  {
   "cell_type": "code",
   "execution_count": 51,
   "metadata": {},
   "outputs": [
    {
     "data": {
      "text/plain": [
       "tensor([[10., 10., 10.],\n",
       "        [10., 10., 10.]])"
      ]
     },
     "execution_count": 51,
     "metadata": {},
     "output_type": "execute_result"
    }
   ],
   "source": [
    "initial_tensor.fill_(10) "
   ]
  },
  {
   "cell_type": "code",
   "execution_count": 52,
   "metadata": {},
   "outputs": [
    {
     "data": {
      "text/plain": [
       "tensor([[10., 10., 10.],\n",
       "        [10., 10., 10.]])"
      ]
     },
     "execution_count": 52,
     "metadata": {},
     "output_type": "execute_result"
    }
   ],
   "source": [
    "# initial_tensor.fill(10) \n",
    "newT=torch.ones_like(initial_tensor)*10\n",
    "newT"
   ]
  },
  {
   "cell_type": "markdown",
   "metadata": {},
   "source": [
    "#### The add() method does an out-of-place add operation and returns a new tensor\n",
    "This is assigned to the new_tensor variable"
   ]
  },
  {
   "cell_type": "code",
   "execution_count": 53,
   "metadata": {},
   "outputs": [
    {
     "data": {
      "text/plain": [
       "tensor([[15., 15., 15.],\n",
       "        [15., 15., 15.]])"
      ]
     },
     "execution_count": 53,
     "metadata": {},
     "output_type": "execute_result"
    }
   ],
   "source": [
    "new_tensor = initial_tensor.add(5)\n",
    "new_tensor"
   ]
  },
  {
   "cell_type": "markdown",
   "metadata": {},
   "source": [
    "#### The original tensor is unchanged"
   ]
  },
  {
   "cell_type": "code",
   "execution_count": 54,
   "metadata": {},
   "outputs": [
    {
     "data": {
      "text/plain": [
       "tensor([[10., 10., 10.],\n",
       "        [10., 10., 10.]])"
      ]
     },
     "execution_count": 54,
     "metadata": {},
     "output_type": "execute_result"
    }
   ],
   "source": [
    "initial_tensor"
   ]
  },
  {
   "cell_type": "markdown",
   "metadata": {},
   "source": [
    "#### The add\\_ method does an in-place add, changing the calling tensor"
   ]
  },
  {
   "cell_type": "code",
   "execution_count": 55,
   "metadata": {},
   "outputs": [
    {
     "data": {
      "text/plain": [
       "tensor([[18., 18., 18.],\n",
       "        [18., 18., 18.]])"
      ]
     },
     "execution_count": 55,
     "metadata": {},
     "output_type": "execute_result"
    }
   ],
   "source": [
    "initial_tensor.add_(8)\n",
    "initial_tensor"
   ]
  },
  {
   "cell_type": "markdown",
   "metadata": {},
   "source": [
    "#### The new_tensor was a separate copy and is unaffected"
   ]
  },
  {
   "cell_type": "code",
   "execution_count": 56,
   "metadata": {},
   "outputs": [
    {
     "data": {
      "text/plain": [
       "tensor([[15., 15., 15.],\n",
       "        [15., 15., 15.]])"
      ]
     },
     "execution_count": 56,
     "metadata": {},
     "output_type": "execute_result"
    }
   ],
   "source": [
    "new_tensor"
   ]
  },
  {
   "cell_type": "markdown",
   "metadata": {},
   "source": [
    "#### In-place version of sqrt()"
   ]
  },
  {
   "cell_type": "code",
   "execution_count": 57,
   "metadata": {},
   "outputs": [
    {
     "data": {
      "text/plain": [
       "tensor([[3.8730, 3.8730, 3.8730],\n",
       "        [3.8730, 3.8730, 3.8730]])"
      ]
     },
     "execution_count": 57,
     "metadata": {},
     "output_type": "execute_result"
    }
   ],
   "source": [
    "new_tensor.sqrt_()\n",
    "new_tensor"
   ]
  },
  {
   "cell_type": "markdown",
   "metadata": {},
   "source": [
    "### Indexing, Slicing, Joining, Mutating Ops"
   ]
  },
  {
   "cell_type": "markdown",
   "metadata": {},
   "source": [
    "#### Slicing"
   ]
  },
  {
   "cell_type": "code",
   "execution_count": 58,
   "metadata": {},
   "outputs": [
    {
     "data": {
      "text/plain": [
       "tensor([ 0.1000,  0.8071,  1.5143,  2.2214,  2.9286,  3.6357,  4.3429,  5.0500,\n",
       "         5.7571,  6.4643,  7.1714,  7.8786,  8.5857,  9.2929, 10.0000])"
      ]
     },
     "execution_count": 58,
     "metadata": {},
     "output_type": "execute_result"
    }
   ],
   "source": [
    "x = torch.linspace(start=0.1, end=10.0, steps=15)\n",
    "x"
   ]
  },
  {
   "cell_type": "markdown",
   "metadata": {},
   "source": [
    "#### Splits a tensor into a specific number of chunks.\n",
    "- tensor (Tensor) – the tensor to split\n",
    "- chunks (int) – number of chunks to return\n",
    "- dim (int) – dimension along which to split the tensor\n"
   ]
  },
  {
   "cell_type": "code",
   "execution_count": 59,
   "metadata": {},
   "outputs": [
    {
     "data": {
      "text/plain": [
       "(tensor([0.1000, 0.8071, 1.5143, 2.2214, 2.9286]),\n",
       " tensor([3.6357, 4.3429, 5.0500, 5.7571, 6.4643]),\n",
       " tensor([ 7.1714,  7.8786,  8.5857,  9.2929, 10.0000]))"
      ]
     },
     "execution_count": 59,
     "metadata": {},
     "output_type": "execute_result"
    }
   ],
   "source": [
    "tensor_chunk = torch.chunk(x, 3, 0)\n",
    "tensor_chunk"
   ]
  },
  {
   "cell_type": "markdown",
   "metadata": {},
   "source": [
    "#### Concatenates the  sequence of tensors along the given dimension\n",
    "\n",
    "All tensors must either have the same shape (except in the concatenating dimension) or be empty."
   ]
  },
  {
   "cell_type": "code",
   "execution_count": 60,
   "metadata": {},
   "outputs": [
    {
     "data": {
      "text/plain": [
       "tensor([0.1000, 0.8071, 1.5143, 2.2214, 2.9286, 3.6357, 4.3429, 5.0500, 5.7571,\n",
       "        6.4643, 3.0000, 4.0000, 5.0000])"
      ]
     },
     "execution_count": 60,
     "metadata": {},
     "output_type": "execute_result"
    }
   ],
   "source": [
    "tensor1 = tensor_chunk[0]\n",
    "tensor2 = tensor_chunk[1]\n",
    "tensor3 = torch.tensor([3.0, 4.0, 5.0])\n",
    "\n",
    "torch.cat((tensor1, tensor2, tensor3), 0)"
   ]
  },
  {
   "cell_type": "code",
   "execution_count": 61,
   "metadata": {},
   "outputs": [
    {
     "data": {
      "text/plain": [
       "tensor([[10.,  8., 30.],\n",
       "        [40.,  5.,  6.],\n",
       "        [12.,  2., 21.]])"
      ]
     },
     "execution_count": 61,
     "metadata": {},
     "output_type": "execute_result"
    }
   ],
   "source": [
    "random_tensor = torch.Tensor([[10, 8, 30], [40, 5, 6], [12, 2, 21]])\n",
    "random_tensor"
   ]
  },
  {
   "cell_type": "code",
   "execution_count": 62,
   "metadata": {},
   "outputs": [
    {
     "data": {
      "text/plain": [
       "tensor(8.)"
      ]
     },
     "execution_count": 62,
     "metadata": {},
     "output_type": "execute_result"
    }
   ],
   "source": [
    "random_tensor[0, 1]"
   ]
  },
  {
   "cell_type": "code",
   "execution_count": 63,
   "metadata": {},
   "outputs": [
    {
     "data": {
      "text/plain": [
       "tensor([[ 5.,  6.],\n",
       "        [ 2., 21.]])"
      ]
     },
     "execution_count": 63,
     "metadata": {},
     "output_type": "execute_result"
    }
   ],
   "source": [
    "random_tensor[1:, 1:]"
   ]
  },
  {
   "cell_type": "markdown",
   "metadata": {},
   "source": [
    "#### Splits the tensor into chunks"
   ]
  },
  {
   "cell_type": "code",
   "execution_count": 64,
   "metadata": {},
   "outputs": [
    {
     "data": {
      "text/plain": [
       "(tensor([[10.,  8., 30.],\n",
       "         [40.,  5.,  6.]]),\n",
       " tensor([[12.,  2., 21.]]))"
      ]
     },
     "execution_count": 64,
     "metadata": {},
     "output_type": "execute_result"
    }
   ],
   "source": [
    "random_tensor_split = torch.split(random_tensor, 2)\n",
    "random_tensor_split"
   ]
  },
  {
   "cell_type": "markdown",
   "metadata": {},
   "source": [
    "#### View"
   ]
  },
  {
   "cell_type": "code",
   "execution_count": 65,
   "metadata": {},
   "outputs": [
    {
     "data": {
      "text/plain": [
       "tensor([[10.,  8., 30.],\n",
       "        [40.,  5.,  6.],\n",
       "        [12.,  2., 21.]])"
      ]
     },
     "execution_count": 65,
     "metadata": {},
     "output_type": "execute_result"
    }
   ],
   "source": [
    "random_tensor"
   ]
  },
  {
   "cell_type": "code",
   "execution_count": 66,
   "metadata": {},
   "outputs": [
    {
     "data": {
      "text/plain": [
       "torch.Size([3, 3])"
      ]
     },
     "execution_count": 66,
     "metadata": {},
     "output_type": "execute_result"
    }
   ],
   "source": [
    "random_tensor.size()"
   ]
  },
  {
   "cell_type": "code",
   "execution_count": 67,
   "metadata": {},
   "outputs": [
    {
     "data": {
      "text/plain": [
       "tensor([10.,  8., 30., 40.,  5.,  6., 12.,  2., 21.])"
      ]
     },
     "execution_count": 67,
     "metadata": {},
     "output_type": "execute_result"
    }
   ],
   "source": [
    "resized_tensor = random_tensor.view(9)  \n",
    "resized_tensor"
   ]
  },
  {
   "cell_type": "code",
   "execution_count": 68,
   "metadata": {},
   "outputs": [
    {
     "data": {
      "text/plain": [
       "tensor([[10.,  8., 30.],\n",
       "        [40.,  5.,  6.],\n",
       "        [12.,  2., 21.]])"
      ]
     },
     "execution_count": 68,
     "metadata": {},
     "output_type": "execute_result"
    }
   ],
   "source": [
    "resized_tensor = random_tensor.view(-1, 3)  \n",
    "resized_tensor"
   ]
  },
  {
   "cell_type": "code",
   "execution_count": 69,
   "metadata": {},
   "outputs": [
    {
     "data": {
      "text/plain": [
       "torch.Size([3, 3])"
      ]
     },
     "execution_count": 69,
     "metadata": {},
     "output_type": "execute_result"
    }
   ],
   "source": [
    "resized_tensor.size()"
   ]
  },
  {
   "cell_type": "markdown",
   "metadata": {},
   "source": [
    "#### view() does not create a deep copy - just a view as the name suggests\n",
    "Modifying the original tensor affects the resized_tensor as they both point to the same space in memory"
   ]
  },
  {
   "cell_type": "code",
   "execution_count": 70,
   "metadata": {},
   "outputs": [
    {
     "data": {
      "text/plain": [
       "tensor([[ 10.,   8.,  30.],\n",
       "        [ 40.,   5.,   6.],\n",
       "        [ 12.,   2., 100.]])"
      ]
     },
     "execution_count": 70,
     "metadata": {},
     "output_type": "execute_result"
    }
   ],
   "source": [
    "random_tensor[2, 2] = 100.0\n",
    "resized_tensor"
   ]
  },
  {
   "cell_type": "markdown",
   "metadata": {},
   "source": [
    "#### Unsqueeze\n",
    "Returns a new tensor with a dimension of size one inserted at the specified position."
   ]
  },
  {
   "cell_type": "code",
   "execution_count": 71,
   "metadata": {},
   "outputs": [
    {
     "data": {
      "text/plain": [
       "tensor([[ 10.,   8.,  30.],\n",
       "        [ 40.,   5.,   6.],\n",
       "        [ 12.,   2., 100.]])"
      ]
     },
     "execution_count": 71,
     "metadata": {},
     "output_type": "execute_result"
    }
   ],
   "source": [
    "random_tensor"
   ]
  },
  {
   "cell_type": "code",
   "execution_count": 72,
   "metadata": {},
   "outputs": [
    {
     "data": {
      "text/plain": [
       "torch.Size([3, 3])"
      ]
     },
     "execution_count": 72,
     "metadata": {},
     "output_type": "execute_result"
    }
   ],
   "source": [
    "random_tensor.shape"
   ]
  },
  {
   "cell_type": "code",
   "execution_count": 73,
   "metadata": {},
   "outputs": [
    {
     "data": {
      "text/plain": [
       "torch.Size([3, 3, 1])"
      ]
     },
     "execution_count": 73,
     "metadata": {},
     "output_type": "execute_result"
    }
   ],
   "source": [
    "tensor_unsqueeze = torch.unsqueeze(random_tensor, 2)\n",
    "tensor_unsqueeze.shape"
   ]
  },
  {
   "cell_type": "code",
   "execution_count": 74,
   "metadata": {},
   "outputs": [
    {
     "data": {
      "text/plain": [
       "torch.Size([3, 3])"
      ]
     },
     "execution_count": 74,
     "metadata": {},
     "output_type": "execute_result"
    }
   ],
   "source": [
    "tensor_unsqueeze.squeeze(2).shape"
   ]
  },
  {
   "cell_type": "markdown",
   "metadata": {},
   "source": [
    "#### Transpose\n",
    "\n",
    "#### Returns a tensor that is a transposed version of input. The given dimensions dim0 and dim1 are swapped."
   ]
  },
  {
   "cell_type": "code",
   "execution_count": 75,
   "metadata": {},
   "outputs": [
    {
     "data": {
      "text/plain": [
       "tensor([[18., 18., 18.],\n",
       "        [18., 18., 18.]])"
      ]
     },
     "execution_count": 75,
     "metadata": {},
     "output_type": "execute_result"
    }
   ],
   "source": [
    "initial_tensor"
   ]
  },
  {
   "cell_type": "code",
   "execution_count": 76,
   "metadata": {},
   "outputs": [
    {
     "data": {
      "text/plain": [
       "tensor([[18., 18.],\n",
       "        [18., 18.],\n",
       "        [18., 18.]])"
      ]
     },
     "execution_count": 76,
     "metadata": {},
     "output_type": "execute_result"
    }
   ],
   "source": [
    "tensor_transpose = torch.transpose(initial_tensor, 0, 1)\n",
    "tensor_transpose"
   ]
  },
  {
   "cell_type": "markdown",
   "metadata": {},
   "source": [
    "#### Sorting tensors\n",
    "Tensors can be sorted along a specified dimension. If no dimension is specified, the last dimension is picked by default"
   ]
  },
  {
   "cell_type": "code",
   "execution_count": 77,
   "metadata": {},
   "outputs": [
    {
     "data": {
      "text/plain": [
       "tensor([[ 10.,   8.,  30.],\n",
       "        [ 40.,   5.,   6.],\n",
       "        [ 12.,   2., 100.]])"
      ]
     },
     "execution_count": 77,
     "metadata": {},
     "output_type": "execute_result"
    }
   ],
   "source": [
    "random_tensor"
   ]
  },
  {
   "cell_type": "code",
   "execution_count": 78,
   "metadata": {},
   "outputs": [],
   "source": [
    "sorted_tensor, sorted_indices = torch.sort(random_tensor)#Default last dim of the Tensor"
   ]
  },
  {
   "cell_type": "code",
   "execution_count": 79,
   "metadata": {},
   "outputs": [
    {
     "data": {
      "text/plain": [
       "tensor([[  8.,  10.,  30.],\n",
       "        [  5.,   6.,  40.],\n",
       "        [  2.,  12., 100.]])"
      ]
     },
     "execution_count": 79,
     "metadata": {},
     "output_type": "execute_result"
    }
   ],
   "source": [
    "sorted_tensor"
   ]
  },
  {
   "cell_type": "code",
   "execution_count": 80,
   "metadata": {},
   "outputs": [
    {
     "data": {
      "text/plain": [
       "tensor([[1, 0, 2],\n",
       "        [1, 2, 0],\n",
       "        [1, 0, 2]])"
      ]
     },
     "execution_count": 80,
     "metadata": {},
     "output_type": "execute_result"
    }
   ],
   "source": [
    "sorted_indices"
   ]
  },
  {
   "cell_type": "markdown",
   "metadata": {},
   "source": [
    "# Math Operations\n",
    "Pytorch supports a number of mathematical operations which can be performed on tensors. We take a look at a few of them here"
   ]
  },
  {
   "cell_type": "code",
   "execution_count": 81,
   "metadata": {},
   "outputs": [
    {
     "data": {
      "text/plain": [
       "tensor([-1.1000, -2.2000,  3.3000], dtype=torch.float32)"
      ]
     },
     "execution_count": 81,
     "metadata": {},
     "output_type": "execute_result"
    }
   ],
   "source": [
    "tensor_float = torch.FloatTensor([-1.1, -2.2, 3.3])\n",
    "tensor_float"
   ]
  },
  {
   "cell_type": "markdown",
   "metadata": {},
   "source": [
    "#### Absolute values"
   ]
  },
  {
   "cell_type": "code",
   "execution_count": 82,
   "metadata": {},
   "outputs": [
    {
     "data": {
      "text/plain": [
       "tensor([1.1000, 2.2000, 3.3000], dtype=torch.float32)"
      ]
     },
     "execution_count": 82,
     "metadata": {},
     "output_type": "execute_result"
    }
   ],
   "source": [
    "tensor_abs = torch.abs(tensor_float)      \n",
    "tensor_abs"
   ]
  },
  {
   "cell_type": "code",
   "execution_count": 83,
   "metadata": {},
   "outputs": [
    {
     "data": {
      "text/plain": [
       "tensor([[18., 18., 18.],\n",
       "        [18., 18., 18.]])"
      ]
     },
     "execution_count": 83,
     "metadata": {},
     "output_type": "execute_result"
    }
   ],
   "source": [
    "initial_tensor"
   ]
  },
  {
   "cell_type": "code",
   "execution_count": 84,
   "metadata": {},
   "outputs": [
    {
     "data": {
      "text/plain": [
       "tensor([[20., 20., 20.],\n",
       "        [20., 20., 20.]])"
      ]
     },
     "execution_count": 84,
     "metadata": {},
     "output_type": "execute_result"
    }
   ],
   "source": [
    "new_tensor = torch.add(initial_tensor, 2)\n",
    "new_tensor"
   ]
  },
  {
   "cell_type": "code",
   "execution_count": 85,
   "metadata": {},
   "outputs": [
    {
     "data": {
      "text/plain": [
       "tensor([[218., 218., 218.],\n",
       "        [218., 218., 218.]])"
      ]
     },
     "execution_count": 85,
     "metadata": {},
     "output_type": "execute_result"
    }
   ],
   "source": [
    "torch.add(initial_tensor, 10, new_tensor)"
   ]
  },
  {
   "cell_type": "code",
   "execution_count": 86,
   "metadata": {},
   "outputs": [],
   "source": [
    "rand1 = torch.abs(torch.randn(2, 3))\n",
    "rand2 = torch.abs(torch.randn(2, 3))"
   ]
  },
  {
   "cell_type": "code",
   "execution_count": 87,
   "metadata": {},
   "outputs": [
    {
     "data": {
      "text/plain": [
       "tensor([[2.5810, 2.2199, 0.6933],\n",
       "        [2.5864, 1.4994, 1.1331]])"
      ]
     },
     "execution_count": 87,
     "metadata": {},
     "output_type": "execute_result"
    }
   ],
   "source": [
    "add1 = rand1 + rand2\n",
    "add1"
   ]
  },
  {
   "cell_type": "markdown",
   "metadata": {},
   "source": [
    "#### The add() method does an out-of-place add operation and returns a new tensor\n",
    "This is assigned to the new_tensor variable"
   ]
  },
  {
   "cell_type": "code",
   "execution_count": 88,
   "metadata": {},
   "outputs": [
    {
     "data": {
      "text/plain": [
       "tensor([[2.5810, 2.2199, 0.6933],\n",
       "        [2.5864, 1.4994, 1.1331]])"
      ]
     },
     "execution_count": 88,
     "metadata": {},
     "output_type": "execute_result"
    }
   ],
   "source": [
    "add2 = torch.add(rand1, rand2)\n",
    "add2"
   ]
  },
  {
   "cell_type": "code",
   "execution_count": 89,
   "metadata": {},
   "outputs": [],
   "source": [
    "tensor = torch.Tensor([[-1, -2, -3],\n",
    "                       [ 1,  2,  3]])"
   ]
  },
  {
   "cell_type": "markdown",
   "metadata": {},
   "source": [
    "#### Element-wise division\n",
    "The div() and mul() functions can be used to divide and multiply the values in a tensor. Here, we do an element-wise division between two tensors"
   ]
  },
  {
   "cell_type": "code",
   "execution_count": 90,
   "metadata": {},
   "outputs": [
    {
     "data": {
      "text/plain": [
       "tensor([[1.4286, 1.1765, 1.1111],\n",
       "        [0.7692, 0.8696, 0.9091]])"
      ]
     },
     "execution_count": 90,
     "metadata": {},
     "output_type": "execute_result"
    }
   ],
   "source": [
    "tensor_div = torch.div(tensor, tensor + 0.3)\n",
    "tensor_div"
   ]
  },
  {
   "cell_type": "markdown",
   "metadata": {},
   "source": [
    "#### Element-wise multiplicaton"
   ]
  },
  {
   "cell_type": "code",
   "execution_count": 91,
   "metadata": {},
   "outputs": [
    {
     "data": {
      "text/plain": [
       "tensor([[1., 4., 9.],\n",
       "        [1., 4., 9.]])"
      ]
     },
     "execution_count": 91,
     "metadata": {},
     "output_type": "execute_result"
    }
   ],
   "source": [
    "tensor_mul = torch.mul(tensor, tensor)\n",
    "tensor_mul"
   ]
  },
  {
   "cell_type": "markdown",
   "metadata": {},
   "source": [
    "#### Clamp the value of a Tensor\n",
    "There will be occasions where you would like to set upper and lower limits for the values in a tensor. This is where the clamp function is used. The value of an element is set to:\n",
    "* min if if x<sub>i</sub> < min\n",
    "* x<sub>i</sub> if min < x<sub>i</sub> < max\n",
    "* max if x<sub>i</sub> > max"
   ]
  },
  {
   "cell_type": "code",
   "execution_count": 92,
   "metadata": {},
   "outputs": [
    {
     "data": {
      "text/plain": [
       "tensor([[-0.2000, -0.2000, -0.2000],\n",
       "        [ 1.0000,  2.0000,  2.0000]])"
      ]
     },
     "execution_count": 92,
     "metadata": {},
     "output_type": "execute_result"
    }
   ],
   "source": [
    "tensor_clamp = torch.clamp(tensor, min= -0.2, max=2)\n",
    "tensor_clamp"
   ]
  },
  {
   "cell_type": "markdown",
   "metadata": {},
   "source": [
    "## Vector Multiplication "
   ]
  },
  {
   "cell_type": "markdown",
   "metadata": {},
   "source": [
    "#### Dot product"
   ]
  },
  {
   "cell_type": "code",
   "execution_count": 93,
   "metadata": {},
   "outputs": [],
   "source": [
    "t1 = torch.Tensor([1, 2])\n",
    "t2 = torch.Tensor([10, 20])"
   ]
  },
  {
   "cell_type": "code",
   "execution_count": 94,
   "metadata": {},
   "outputs": [
    {
     "data": {
      "text/plain": [
       "tensor(50.)"
      ]
     },
     "execution_count": 94,
     "metadata": {},
     "output_type": "execute_result"
    }
   ],
   "source": [
    "dot_product = torch.dot(t1, t2) \n",
    "dot_product"
   ]
  },
  {
   "cell_type": "markdown",
   "metadata": {},
   "source": [
    "#### Matrix Vector product\n",
    "If mat is a (n×m) tensor, vec is a 1-D tensor of size m, out will be 1-D of size n."
   ]
  },
  {
   "cell_type": "code",
   "execution_count": 95,
   "metadata": {},
   "outputs": [],
   "source": [
    "matrix = torch.Tensor([[1, 2, 3],\n",
    "                       [4, 5, 6]])\n",
    "\n",
    "vector = torch.Tensor([0, 1, 2])"
   ]
  },
  {
   "cell_type": "code",
   "execution_count": 96,
   "metadata": {},
   "outputs": [
    {
     "data": {
      "text/plain": [
       "tensor([ 8., 17.])"
      ]
     },
     "execution_count": 96,
     "metadata": {},
     "output_type": "execute_result"
    }
   ],
   "source": [
    "matrix_vector = torch.mv(matrix, vector)\n",
    "matrix_vector"
   ]
  },
  {
   "cell_type": "markdown",
   "metadata": {},
   "source": [
    "#### Matrix multiplication"
   ]
  },
  {
   "cell_type": "code",
   "execution_count": 97,
   "metadata": {},
   "outputs": [],
   "source": [
    "another_matrix = torch.Tensor([[10, 30],\n",
    "                               [20, 0],\n",
    "                               [0 , 50]])"
   ]
  },
  {
   "cell_type": "code",
   "execution_count": 98,
   "metadata": {},
   "outputs": [
    {
     "data": {
      "text/plain": [
       "tensor([[ 50., 180.],\n",
       "        [140., 420.]])"
      ]
     },
     "execution_count": 98,
     "metadata": {},
     "output_type": "execute_result"
    }
   ],
   "source": [
    "matrix_mul = torch.mm(matrix, another_matrix)\n",
    "matrix_mul"
   ]
  },
  {
   "cell_type": "markdown",
   "metadata": {},
   "source": [
    "#### Returns the indices of the maximum values of a tensor across a dimension."
   ]
  },
  {
   "cell_type": "code",
   "execution_count": 99,
   "metadata": {},
   "outputs": [
    {
     "data": {
      "text/plain": [
       "tensor([1, 1])"
      ]
     },
     "execution_count": 99,
     "metadata": {},
     "output_type": "execute_result"
    }
   ],
   "source": [
    "torch.argmax(matrix_mul, dim=1)"
   ]
  },
  {
   "cell_type": "code",
   "execution_count": 100,
   "metadata": {},
   "outputs": [
    {
     "data": {
      "text/plain": [
       "tensor([0, 0])"
      ]
     },
     "execution_count": 100,
     "metadata": {},
     "output_type": "execute_result"
    }
   ],
   "source": [
    "torch.argmin(matrix_mul, dim=1)"
   ]
  },
  {
   "cell_type": "markdown",
   "metadata": {},
   "source": [
    "# Seeds for Reporducibility"
   ]
  },
  {
   "cell_type": "code",
   "execution_count": 31,
   "metadata": {},
   "outputs": [
    {
     "name": "stdout",
     "output_type": "stream",
     "text": [
      "tensor([[0.7576, 0.2793, 0.4031],\n",
      "        [0.7347, 0.0293, 0.7999],\n",
      "        [0.3971, 0.7544, 0.5695],\n",
      "        [0.4388, 0.6387, 0.5247],\n",
      "        [0.6826, 0.3051, 0.4635]])\n"
     ]
    }
   ],
   "source": [
    "torch.manual_seed(1)\n",
    "x = torch.rand(5, 3)\n",
    "print(x)"
   ]
  },
  {
   "cell_type": "code",
   "execution_count": 102,
   "metadata": {},
   "outputs": [
    {
     "data": {
      "text/plain": [
       "array([[4.17022005e-01, 7.20324493e-01],\n",
       "       [1.14374817e-04, 3.02332573e-01]])"
      ]
     },
     "execution_count": 102,
     "metadata": {},
     "output_type": "execute_result"
    }
   ],
   "source": [
    "np.random.seed(1)\n",
    "np.random.rand(2,2)"
   ]
  },
  {
   "cell_type": "code",
   "execution_count": 103,
   "metadata": {},
   "outputs": [],
   "source": [
    "if torch.cuda.is_available():\n",
    "    torch.cuda.manual_seed_all(1)"
   ]
  },
  {
   "cell_type": "markdown",
   "metadata": {},
   "source": [
    "Get its size\n",
    "\n"
   ]
  },
  {
   "cell_type": "code",
   "execution_count": 104,
   "metadata": {},
   "outputs": [
    {
     "name": "stdout",
     "output_type": "stream",
     "text": [
      "torch.Size([5, 3])\n",
      "torch.Size([5, 3])\n"
     ]
    }
   ],
   "source": [
    "print(x.size())\n",
    "print(x.shape)"
   ]
  },
  {
   "cell_type": "markdown",
   "metadata": {},
   "source": [
    "<div class=\"alert alert-info\"><h4>Note</h4><p>``torch.Size`` is in fact a tuple, so it supports the same operations</p></div>\n",
    "\n",
    "### Operations\n",
    "\n",
    "There are multiple syntaxes for operations. Let's see addition as an example\n",
    "\n",
    "Addition: syntax 1\n",
    "\n"
   ]
  },
  {
   "cell_type": "code",
   "execution_count": 105,
   "metadata": {},
   "outputs": [
    {
     "name": "stdout",
     "output_type": "stream",
     "text": [
      "tensor([[0.1175, 0.6402, 0.1968],\n",
      "        [0.5124, 0.7118, 0.9249],\n",
      "        [0.9997, 0.8927, 0.8767],\n",
      "        [0.8450, 0.1544, 0.1705],\n",
      "        [0.9842, 0.8127, 0.4358]])\n",
      "tensor([[0.4143, 0.4284, 0.7578],\n",
      "        [0.9225, 0.9643, 0.1760],\n",
      "        [0.9539, 0.3134, 0.4544],\n",
      "        [0.2956, 0.1875, 0.2433],\n",
      "        [0.3493, 0.4441, 0.4069]])\n"
     ]
    }
   ],
   "source": [
    "x = torch.rand(5, 3)\n",
    "y = torch.rand(5, 3)\n",
    "print(x)\n",
    "print(y)"
   ]
  },
  {
   "cell_type": "code",
   "execution_count": 106,
   "metadata": {},
   "outputs": [
    {
     "name": "stdout",
     "output_type": "stream",
     "text": [
      "tensor([[0.5318, 1.0686, 0.9545],\n",
      "        [1.4350, 1.6762, 1.1009],\n",
      "        [1.9536, 1.2061, 1.3311],\n",
      "        [1.1405, 0.3420, 0.4138],\n",
      "        [1.3335, 1.2568, 0.8427]])\n"
     ]
    }
   ],
   "source": [
    "print(x + y)"
   ]
  },
  {
   "cell_type": "markdown",
   "metadata": {},
   "source": [
    "Addition: syntax 2\n",
    "\n"
   ]
  },
  {
   "cell_type": "code",
   "execution_count": 107,
   "metadata": {},
   "outputs": [
    {
     "name": "stdout",
     "output_type": "stream",
     "text": [
      "tensor([[0.5318, 1.0686, 0.9545],\n",
      "        [1.4350, 1.6762, 1.1009],\n",
      "        [1.9536, 1.2061, 1.3311],\n",
      "        [1.1405, 0.3420, 0.4138],\n",
      "        [1.3335, 1.2568, 0.8427]])\n"
     ]
    }
   ],
   "source": [
    "print(torch.add(x, y))"
   ]
  },
  {
   "cell_type": "markdown",
   "metadata": {},
   "source": [
    "Addition: giving an output tensor\n",
    "\n"
   ]
  },
  {
   "cell_type": "code",
   "execution_count": 108,
   "metadata": {},
   "outputs": [
    {
     "name": "stdout",
     "output_type": "stream",
     "text": [
      "tensor([[0.5318, 1.0686, 0.9545],\n",
      "        [1.4350, 1.6762, 1.1009],\n",
      "        [1.9536, 1.2061, 1.3311],\n",
      "        [1.1405, 0.3420, 0.4138],\n",
      "        [1.3335, 1.2568, 0.8427]])\n"
     ]
    }
   ],
   "source": [
    "result = torch.Tensor(5, 3)\n",
    "torch.add(x, y, out=result)\n",
    "print(result)"
   ]
  },
  {
   "cell_type": "markdown",
   "metadata": {},
   "source": [
    "Addition: in-place\n",
    "\n"
   ]
  },
  {
   "cell_type": "code",
   "execution_count": 109,
   "metadata": {},
   "outputs": [
    {
     "name": "stdout",
     "output_type": "stream",
     "text": [
      "tensor([[0.5318, 1.0686, 0.9545],\n",
      "        [1.4350, 1.6762, 1.1009],\n",
      "        [1.9536, 1.2061, 1.3311],\n",
      "        [1.1405, 0.3420, 0.4138],\n",
      "        [1.3335, 1.2568, 0.8427]])\n"
     ]
    }
   ],
   "source": [
    "# adds x to y\n",
    "y.add_(x)\n",
    "print(y)"
   ]
  },
  {
   "cell_type": "markdown",
   "metadata": {},
   "source": [
    "<div class=\"alert alert-info\"><h4>Note</h4><p>Any operation that mutates a tensor in-place is post-fixed with an ``_``\n",
    "    For example: ``x.copy_(y)``, ``x.t_()``, will change ``x``.</p></div>\n",
    "\n",
    "You can use standard numpy-like indexing with all bells and whistles!\n",
    "\n"
   ]
  },
  {
   "cell_type": "code",
   "execution_count": 110,
   "metadata": {},
   "outputs": [
    {
     "name": "stdout",
     "output_type": "stream",
     "text": [
      "tensor([[0.1175, 0.6402, 0.1968],\n",
      "        [0.5124, 0.7118, 0.9249],\n",
      "        [0.9997, 0.8927, 0.8767],\n",
      "        [0.8450, 0.1544, 0.1705],\n",
      "        [0.9842, 0.8127, 0.4358]])\n",
      "tensor([0.5124, 0.7118, 0.9249])\n"
     ]
    }
   ],
   "source": [
    "print(x)\n",
    "print(x[1, :])"
   ]
  },
  {
   "cell_type": "code",
   "execution_count": 111,
   "metadata": {},
   "outputs": [
    {
     "name": "stdout",
     "output_type": "stream",
     "text": [
      "tensor([-0.4039])\n",
      "-0.4039495265960795\n"
     ]
    }
   ],
   "source": [
    "# If you have a one element tensor, use .item() to get the value as a Python number\n",
    "x = torch.randn(1)\n",
    "\n",
    "print(x)\n",
    "print(x.item())"
   ]
  },
  {
   "cell_type": "markdown",
   "metadata": {},
   "source": [
    "**Read later:**\n",
    "\n",
    "\n",
    "  100+ Tensor operations, including transposing, indexing, slicing,\n",
    "  mathematical operations, linear algebra, random numbers, etc are described\n",
    "  here: <http://pytorch.org/docs/torch>\n",
    "\n",
    "Numpy Bridge\n",
    "------------\n",
    "\n",
    "Converting a torch Tensor to a numpy array and vice versa is a breeze.\n",
    "\n",
    "The torch Tensor and numpy array will share their underlying memory\n",
    "locations, and changing one will change the other.\n",
    "\n",
    "### Converting torch Tensor to numpy Array\n",
    "\n",
    "\n"
   ]
  },
  {
   "cell_type": "code",
   "execution_count": 112,
   "metadata": {},
   "outputs": [
    {
     "name": "stdout",
     "output_type": "stream",
     "text": [
      "tensor([0., 0., 0., 0., 0.])\n"
     ]
    }
   ],
   "source": [
    "a = torch.zeros(5)\n",
    "print(a)"
   ]
  },
  {
   "cell_type": "code",
   "execution_count": 113,
   "metadata": {},
   "outputs": [
    {
     "name": "stdout",
     "output_type": "stream",
     "text": [
      "[0. 0. 0. 0. 0.]\n",
      "<class 'numpy.ndarray'>\n"
     ]
    }
   ],
   "source": [
    "b = a.numpy()\n",
    "print(b)\n",
    "print(type(b))"
   ]
  },
  {
   "cell_type": "markdown",
   "metadata": {},
   "source": [
    "See how the numpy array changed in value.\n",
    "\n"
   ]
  },
  {
   "cell_type": "code",
   "execution_count": 114,
   "metadata": {},
   "outputs": [
    {
     "name": "stdout",
     "output_type": "stream",
     "text": [
      "tensor([1., 1., 1., 1., 1.])\n",
      "[1. 1. 1. 1. 1.]\n"
     ]
    }
   ],
   "source": [
    "a.add_(1)\n",
    "print(a)\n",
    "print(b)"
   ]
  },
  {
   "cell_type": "markdown",
   "metadata": {},
   "source": [
    "### Converting numpy Array to torch Tensor\n",
    "\n",
    "See how changing the np array changed the torch Tensor automatically\n",
    "\n"
   ]
  },
  {
   "cell_type": "code",
   "execution_count": 8,
   "metadata": {},
   "outputs": [
    {
     "name": "stdout",
     "output_type": "stream",
     "text": [
      "[2. 2. 2. 2. 2.]\n",
      "tensor([2., 2., 2., 2., 2.], dtype=torch.float64)\n"
     ]
    }
   ],
   "source": [
    "import numpy as np\n",
    "a = np.ones(5)\n",
    "b = torch.from_numpy(a)\n",
    "np.add(a, 1, out=a)\n",
    "print(a)\n",
    "print(b)"
   ]
  },
  {
   "cell_type": "code",
   "execution_count": 14,
   "metadata": {},
   "outputs": [
    {
     "data": {
      "text/plain": [
       "tensor([[1, 1],\n",
       "        [1, 1]], dtype=torch.int32)"
      ]
     },
     "execution_count": 14,
     "metadata": {},
     "output_type": "execute_result"
    }
   ],
   "source": [
    "np_array_new = np.ones((2,2),dtype=np.int32)\n",
    "torch_from_np = torch.from_numpy(np_array_new) # The only supported types are: double, float32 , float64, int64, int32, and uint8\n",
    "torch_from_np"
   ]
  },
  {
   "cell_type": "code",
   "execution_count": 10,
   "metadata": {},
   "outputs": [],
   "source": [
    "arr = [[1,2,3],[3,4,5]]"
   ]
  },
  {
   "cell_type": "code",
   "execution_count": 11,
   "metadata": {},
   "outputs": [
    {
     "data": {
      "text/plain": [
       "array([[1., 2., 3.],\n",
       "       [3., 4., 5.]])"
      ]
     },
     "execution_count": 11,
     "metadata": {},
     "output_type": "execute_result"
    }
   ],
   "source": [
    "np.array(arr,dtype=np.float)"
   ]
  },
  {
   "cell_type": "code",
   "execution_count": 12,
   "metadata": {},
   "outputs": [
    {
     "data": {
      "text/plain": [
       "tensor([[1., 2., 3.],\n",
       "        [3., 4., 5.]])"
      ]
     },
     "execution_count": 12,
     "metadata": {},
     "output_type": "execute_result"
    }
   ],
   "source": [
    "torch.Tensor([[1,2,3],[3,4,5]])"
   ]
  },
  {
   "cell_type": "markdown",
   "metadata": {},
   "source": [
    "## Interoperablity between Numpy arrays and Pytorch Tensors"
   ]
  },
  {
   "cell_type": "code",
   "execution_count": 13,
   "metadata": {},
   "outputs": [],
   "source": [
    "import numpy as np\n",
    "import torch"
   ]
  },
  {
   "cell_type": "markdown",
   "metadata": {},
   "source": [
    "#### Converting tensor to numpy arrays"
   ]
  },
  {
   "cell_type": "code",
   "execution_count": 15,
   "metadata": {},
   "outputs": [
    {
     "data": {
      "text/plain": [
       "140646257676032"
      ]
     },
     "execution_count": 15,
     "metadata": {},
     "output_type": "execute_result"
    }
   ],
   "source": [
    "tensor2 = torch.rand(4, 3)\n",
    "id(tensor2)"
   ]
  },
  {
   "cell_type": "code",
   "execution_count": 16,
   "metadata": {},
   "outputs": [
    {
     "data": {
      "text/plain": [
       "140646257675440"
      ]
     },
     "execution_count": 16,
     "metadata": {},
     "output_type": "execute_result"
    }
   ],
   "source": [
    "id(tensor)"
   ]
  },
  {
   "cell_type": "markdown",
   "metadata": {},
   "source": [
    "### The numpy arrays use the same memory as the PyTorch tensor"
   ]
  },
  {
   "cell_type": "code",
   "execution_count": 123,
   "metadata": {},
   "outputs": [
    {
     "data": {
      "text/plain": [
       "array([[-1., -2., -3.],\n",
       "       [ 1.,  2.,  3.]])"
      ]
     },
     "execution_count": 123,
     "metadata": {},
     "output_type": "execute_result"
    }
   ],
   "source": [
    "numpy_from_tensor = tensor.numpy()                   \n",
    "numpy_from_tensor"
   ]
  },
  {
   "cell_type": "code",
   "execution_count": 124,
   "metadata": {},
   "outputs": [
    {
     "data": {
      "text/plain": [
       "numpy.ndarray"
      ]
     },
     "execution_count": 124,
     "metadata": {},
     "output_type": "execute_result"
    }
   ],
   "source": [
    "type(numpy_from_tensor)"
   ]
  },
  {
   "cell_type": "code",
   "execution_count": 125,
   "metadata": {},
   "outputs": [
    {
     "data": {
      "text/plain": [
       "True"
      ]
     },
     "execution_count": 125,
     "metadata": {},
     "output_type": "execute_result"
    }
   ],
   "source": [
    "torch.is_tensor(tensor)"
   ]
  },
  {
   "cell_type": "code",
   "execution_count": 126,
   "metadata": {},
   "outputs": [
    {
     "data": {
      "text/plain": [
       "False"
      ]
     },
     "execution_count": 126,
     "metadata": {},
     "output_type": "execute_result"
    }
   ],
   "source": [
    "torch.is_tensor(numpy_from_tensor)"
   ]
  },
  {
   "cell_type": "markdown",
   "metadata": {},
   "source": [
    "#### The NumPy array and the Torch tensor share memory"
   ]
  },
  {
   "cell_type": "code",
   "execution_count": 127,
   "metadata": {},
   "outputs": [
    {
     "data": {
      "text/plain": [
       "array([[100.,  -2.,  -3.],\n",
       "       [  1.,   2.,   3.]])"
      ]
     },
     "execution_count": 127,
     "metadata": {},
     "output_type": "execute_result"
    }
   ],
   "source": [
    "numpy_from_tensor[0, 0] = 100.0\n",
    "\n",
    "numpy_from_tensor"
   ]
  },
  {
   "cell_type": "code",
   "execution_count": 128,
   "metadata": {},
   "outputs": [
    {
     "data": {
      "text/plain": [
       "tensor([[100.,  -2.,  -3.],\n",
       "        [  1.,   2.,   3.]])"
      ]
     },
     "execution_count": 128,
     "metadata": {},
     "output_type": "execute_result"
    }
   ],
   "source": [
    "tensor"
   ]
  },
  {
   "cell_type": "markdown",
   "metadata": {},
   "source": [
    "#### Converting a numpy array to a Tensor"
   ]
  },
  {
   "cell_type": "code",
   "execution_count": 129,
   "metadata": {},
   "outputs": [
    {
     "data": {
      "text/plain": [
       "array([[  1.,   2.,   3.],\n",
       "       [ 10.,  20.,  30.],\n",
       "       [100., 200., 300.]])"
      ]
     },
     "execution_count": 129,
     "metadata": {},
     "output_type": "execute_result"
    }
   ],
   "source": [
    "numpy_arr = np.array([[1.0, 2.0, 3.0], \n",
    "                      [10.0, 20.0, 30.0],\n",
    "                      [100.0, 200.0, 300.0]])\n",
    "\n",
    "numpy_arr"
   ]
  },
  {
   "cell_type": "code",
   "execution_count": 130,
   "metadata": {},
   "outputs": [
    {
     "data": {
      "text/plain": [
       "tensor([[  1.,   2.,   3.],\n",
       "        [ 10.,  20.,  30.],\n",
       "        [100., 200., 300.]])"
      ]
     },
     "execution_count": 130,
     "metadata": {},
     "output_type": "execute_result"
    }
   ],
   "source": [
    "tensor_from_numpy = torch.from_numpy(numpy_arr)\n",
    "tensor_from_numpy"
   ]
  },
  {
   "cell_type": "code",
   "execution_count": 131,
   "metadata": {},
   "outputs": [
    {
     "data": {
      "text/plain": [
       "torch.Tensor"
      ]
     },
     "execution_count": 131,
     "metadata": {},
     "output_type": "execute_result"
    }
   ],
   "source": [
    "type(tensor_from_numpy)"
   ]
  },
  {
   "cell_type": "code",
   "execution_count": 132,
   "metadata": {},
   "outputs": [
    {
     "data": {
      "text/plain": [
       "True"
      ]
     },
     "execution_count": 132,
     "metadata": {},
     "output_type": "execute_result"
    }
   ],
   "source": [
    "torch.is_tensor(tensor_from_numpy)"
   ]
  },
  {
   "cell_type": "markdown",
   "metadata": {},
   "source": [
    "#### The Numpy arrays and Tensor share the same memory\n",
    "The tensor and numpy_from_tensor are shallow copies and share the same memory as the original numpy array. Modifying the original array affects the values of both tensor and numpy_from_tensor"
   ]
  },
  {
   "cell_type": "code",
   "execution_count": 133,
   "metadata": {},
   "outputs": [
    {
     "data": {
      "text/plain": [
       "tensor([[  1.,   1.,   1.],\n",
       "        [ 10.,  20.,  30.],\n",
       "        [100., 200., 300.]])"
      ]
     },
     "execution_count": 133,
     "metadata": {},
     "output_type": "execute_result"
    }
   ],
   "source": [
    "tensor_from_numpy[0] = 1\n",
    "tensor_from_numpy"
   ]
  },
  {
   "cell_type": "code",
   "execution_count": 134,
   "metadata": {},
   "outputs": [
    {
     "data": {
      "text/plain": [
       "array([[  1.,   1.,   1.],\n",
       "       [ 10.,  20.,  30.],\n",
       "       [100., 200., 300.]])"
      ]
     },
     "execution_count": 134,
     "metadata": {},
     "output_type": "execute_result"
    }
   ],
   "source": [
    "numpy_arr"
   ]
  },
  {
   "cell_type": "markdown",
   "metadata": {},
   "source": [
    "#### Convert the data into a torch.Tensor. \n",
    "\n",
    "If the data is already a Tensor with the same dtype and device, no copy will be performed, otherwise a new Tensor will be returned"
   ]
  },
  {
   "cell_type": "code",
   "execution_count": 135,
   "metadata": {},
   "outputs": [
    {
     "data": {
      "text/plain": [
       "array([4, 8])"
      ]
     },
     "execution_count": 135,
     "metadata": {},
     "output_type": "execute_result"
    }
   ],
   "source": [
    "np_array_one = np.array([4, 8])\n",
    "np_array_one"
   ]
  },
  {
   "cell_type": "code",
   "execution_count": 136,
   "metadata": {},
   "outputs": [
    {
     "data": {
      "text/plain": [
       "tensor([4, 8])"
      ]
     },
     "execution_count": 136,
     "metadata": {},
     "output_type": "execute_result"
    }
   ],
   "source": [
    "tensor_from_array_one = torch.as_tensor(np_array_one) #Performs copy if the data is not already a tensor\n",
    "tensor_from_array_one"
   ]
  },
  {
   "cell_type": "code",
   "execution_count": 137,
   "metadata": {},
   "outputs": [
    {
     "data": {
      "text/plain": [
       "array([4, 5])"
      ]
     },
     "execution_count": 137,
     "metadata": {},
     "output_type": "execute_result"
    }
   ],
   "source": [
    "np_array_one[1] = 5\n",
    "np_array_one"
   ]
  },
  {
   "cell_type": "code",
   "execution_count": 138,
   "metadata": {},
   "outputs": [
    {
     "data": {
      "text/plain": [
       "tensor([4, 5])"
      ]
     },
     "execution_count": 138,
     "metadata": {},
     "output_type": "execute_result"
    }
   ],
   "source": [
    "tensor_from_array_one"
   ]
  },
  {
   "cell_type": "markdown",
   "metadata": {},
   "source": [
    "#### torch.tensor() reads out the data from whatever it is passed, and constructs a leaf variable"
   ]
  },
  {
   "cell_type": "code",
   "execution_count": 139,
   "metadata": {},
   "outputs": [
    {
     "data": {
      "text/plain": [
       "array([2, 2])"
      ]
     },
     "execution_count": 139,
     "metadata": {},
     "output_type": "execute_result"
    }
   ],
   "source": [
    "np_array_two = np.array([2, 2])\n",
    "np_array_two"
   ]
  },
  {
   "cell_type": "code",
   "execution_count": 140,
   "metadata": {},
   "outputs": [
    {
     "data": {
      "text/plain": [
       "tensor([2, 2])"
      ]
     },
     "execution_count": 140,
     "metadata": {},
     "output_type": "execute_result"
    }
   ],
   "source": [
    "tensor_from_array_two = torch.tensor(np_array_two)#Always copy\n",
    "\n",
    "tensor_from_array_two"
   ]
  },
  {
   "cell_type": "markdown",
   "metadata": {},
   "source": [
    "#### in this method the tensor and array do not share memory"
   ]
  },
  {
   "cell_type": "code",
   "execution_count": 141,
   "metadata": {},
   "outputs": [
    {
     "data": {
      "text/plain": [
       "array([2, 4])"
      ]
     },
     "execution_count": 141,
     "metadata": {},
     "output_type": "execute_result"
    }
   ],
   "source": [
    "np_array_two[1] = 4\n",
    "np_array_two"
   ]
  },
  {
   "cell_type": "code",
   "execution_count": 142,
   "metadata": {},
   "outputs": [
    {
     "data": {
      "text/plain": [
       "tensor([2, 2])"
      ]
     },
     "execution_count": 142,
     "metadata": {},
     "output_type": "execute_result"
    }
   ],
   "source": [
    "tensor_from_array_two"
   ]
  },
  {
   "cell_type": "markdown",
   "metadata": {},
   "source": [
    "All the Tensors on the CPU except a CharTensor support converting to\n",
    "NumPy and back.\n",
    "\n",
    "CUDA Tensors\n",
    "------------\n",
    "\n",
    "Tensors can be moved onto GPU using the ``.cuda`` function.\n",
    "\n"
   ]
  },
  {
   "cell_type": "code",
   "execution_count": 143,
   "metadata": {},
   "outputs": [
    {
     "data": {
      "text/plain": [
       "False"
      ]
     },
     "execution_count": 143,
     "metadata": {},
     "output_type": "execute_result"
    }
   ],
   "source": [
    "torch.cuda.is_available()"
   ]
  },
  {
   "cell_type": "code",
   "execution_count": 144,
   "metadata": {},
   "outputs": [],
   "source": [
    "# let us run this cell only if CUDA is available\n",
    "if torch.cuda.is_available():\n",
    "    x = x.cuda()\n",
    "    y = y.cuda()\n",
    "    print(type(y))\n",
    "    print(x + y)\n",
    "    print(type(x+y))\n",
    "    ycpu=y.cpu()\n",
    "    print(type(ycpu))"
   ]
  },
  {
   "cell_type": "code",
   "execution_count": 145,
   "metadata": {},
   "outputs": [],
   "source": [
    "# let us run this cell only if CUDA is available\n",
    "# We will use ``torch.device`` objects to move tensors in and out of GPU\n",
    "if torch.cuda.is_available():\n",
    "    device = torch.device(\"cuda\")          # a CUDA device object\n",
    "    y = torch.ones_like(x, device=device)  # directly create a tensor on GPU\n",
    "    x = x.to(device)                       # or just use strings ``.to(\"cuda\")``\n",
    "    z = x + y\n",
    "    print(z)\n",
    "    print(z.to(\"cpu\", torch.double))       # ``.to`` can also change dtype together!"
   ]
  },
  {
   "cell_type": "markdown",
   "metadata": {},
   "source": [
    "## Cuda"
   ]
  },
  {
   "cell_type": "code",
   "execution_count": 146,
   "metadata": {},
   "outputs": [
    {
     "data": {
      "text/plain": [
       "False"
      ]
     },
     "execution_count": 146,
     "metadata": {},
     "output_type": "execute_result"
    }
   ],
   "source": [
    "torch.cuda.is_available()"
   ]
  },
  {
   "cell_type": "code",
   "execution_count": 147,
   "metadata": {},
   "outputs": [
    {
     "ename": "AssertionError",
     "evalue": "Torch not compiled with CUDA enabled",
     "output_type": "error",
     "traceback": [
      "\u001b[0;31m---------------------------------------------------------------------------\u001b[0m",
      "\u001b[0;31mAssertionError\u001b[0m                            Traceback (most recent call last)",
      "\u001b[0;32m<ipython-input-147-722f12185cd8>\u001b[0m in \u001b[0;36m<module>\u001b[0;34m\u001b[0m\n\u001b[1;32m      2\u001b[0m \u001b[0;31m# with PyTorch via its C API\u001b[0m\u001b[0;34m\u001b[0m\u001b[0;34m\u001b[0m\u001b[0;34m\u001b[0m\u001b[0m\n\u001b[1;32m      3\u001b[0m \u001b[0;34m\u001b[0m\u001b[0m\n\u001b[0;32m----> 4\u001b[0;31m \u001b[0mtorch\u001b[0m\u001b[0;34m.\u001b[0m\u001b[0mcuda\u001b[0m\u001b[0;34m.\u001b[0m\u001b[0minit\u001b[0m\u001b[0;34m(\u001b[0m\u001b[0;34m)\u001b[0m\u001b[0;34m\u001b[0m\u001b[0;34m\u001b[0m\u001b[0m\n\u001b[0m",
      "\u001b[0;32m~/opt/anaconda3/lib/python3.7/site-packages/torch/cuda/__init__.py\u001b[0m in \u001b[0;36minit\u001b[0;34m()\u001b[0m\n\u001b[1;32m    162\u001b[0m     \u001b[0mDoes\u001b[0m \u001b[0mnothing\u001b[0m \u001b[0;32mif\u001b[0m \u001b[0mthe\u001b[0m \u001b[0mCUDA\u001b[0m \u001b[0mstate\u001b[0m \u001b[0;32mis\u001b[0m \u001b[0malready\u001b[0m \u001b[0minitialized\u001b[0m\u001b[0;34m.\u001b[0m\u001b[0;34m\u001b[0m\u001b[0;34m\u001b[0m\u001b[0m\n\u001b[1;32m    163\u001b[0m     \"\"\"\n\u001b[0;32m--> 164\u001b[0;31m     \u001b[0m_lazy_init\u001b[0m\u001b[0;34m(\u001b[0m\u001b[0;34m)\u001b[0m\u001b[0;34m\u001b[0m\u001b[0;34m\u001b[0m\u001b[0m\n\u001b[0m\u001b[1;32m    165\u001b[0m \u001b[0;34m\u001b[0m\u001b[0m\n\u001b[1;32m    166\u001b[0m \u001b[0;34m\u001b[0m\u001b[0m\n",
      "\u001b[0;32m~/opt/anaconda3/lib/python3.7/site-packages/torch/cuda/__init__.py\u001b[0m in \u001b[0;36m_lazy_init\u001b[0;34m()\u001b[0m\n\u001b[1;32m    190\u001b[0m             raise RuntimeError(\n\u001b[1;32m    191\u001b[0m                 \"Cannot re-initialize CUDA in forked subprocess. \" + msg)\n\u001b[0;32m--> 192\u001b[0;31m         \u001b[0m_check_driver\u001b[0m\u001b[0;34m(\u001b[0m\u001b[0;34m)\u001b[0m\u001b[0;34m\u001b[0m\u001b[0;34m\u001b[0m\u001b[0m\n\u001b[0m\u001b[1;32m    193\u001b[0m         \u001b[0mtorch\u001b[0m\u001b[0;34m.\u001b[0m\u001b[0m_C\u001b[0m\u001b[0;34m.\u001b[0m\u001b[0m_cuda_init\u001b[0m\u001b[0;34m(\u001b[0m\u001b[0;34m)\u001b[0m\u001b[0;34m\u001b[0m\u001b[0;34m\u001b[0m\u001b[0m\n\u001b[1;32m    194\u001b[0m         \u001b[0m_cudart\u001b[0m \u001b[0;34m=\u001b[0m \u001b[0m_load_cudart\u001b[0m\u001b[0;34m(\u001b[0m\u001b[0;34m)\u001b[0m\u001b[0;34m\u001b[0m\u001b[0;34m\u001b[0m\u001b[0m\n",
      "\u001b[0;32m~/opt/anaconda3/lib/python3.7/site-packages/torch/cuda/__init__.py\u001b[0m in \u001b[0;36m_check_driver\u001b[0;34m()\u001b[0m\n\u001b[1;32m     93\u001b[0m \u001b[0;32mdef\u001b[0m \u001b[0m_check_driver\u001b[0m\u001b[0;34m(\u001b[0m\u001b[0;34m)\u001b[0m\u001b[0;34m:\u001b[0m\u001b[0;34m\u001b[0m\u001b[0;34m\u001b[0m\u001b[0m\n\u001b[1;32m     94\u001b[0m     \u001b[0;32mif\u001b[0m \u001b[0;32mnot\u001b[0m \u001b[0mhasattr\u001b[0m\u001b[0;34m(\u001b[0m\u001b[0mtorch\u001b[0m\u001b[0;34m.\u001b[0m\u001b[0m_C\u001b[0m\u001b[0;34m,\u001b[0m \u001b[0;34m'_cuda_isDriverSufficient'\u001b[0m\u001b[0;34m)\u001b[0m\u001b[0;34m:\u001b[0m\u001b[0;34m\u001b[0m\u001b[0;34m\u001b[0m\u001b[0m\n\u001b[0;32m---> 95\u001b[0;31m         \u001b[0;32mraise\u001b[0m \u001b[0mAssertionError\u001b[0m\u001b[0;34m(\u001b[0m\u001b[0;34m\"Torch not compiled with CUDA enabled\"\u001b[0m\u001b[0;34m)\u001b[0m\u001b[0;34m\u001b[0m\u001b[0;34m\u001b[0m\u001b[0m\n\u001b[0m\u001b[1;32m     96\u001b[0m     \u001b[0;32mif\u001b[0m \u001b[0;32mnot\u001b[0m \u001b[0mtorch\u001b[0m\u001b[0;34m.\u001b[0m\u001b[0m_C\u001b[0m\u001b[0;34m.\u001b[0m\u001b[0m_cuda_isDriverSufficient\u001b[0m\u001b[0;34m(\u001b[0m\u001b[0;34m)\u001b[0m\u001b[0;34m:\u001b[0m\u001b[0;34m\u001b[0m\u001b[0;34m\u001b[0m\u001b[0m\n\u001b[1;32m     97\u001b[0m         \u001b[0;32mif\u001b[0m \u001b[0mtorch\u001b[0m\u001b[0;34m.\u001b[0m\u001b[0m_C\u001b[0m\u001b[0;34m.\u001b[0m\u001b[0m_cuda_getDriverVersion\u001b[0m\u001b[0;34m(\u001b[0m\u001b[0;34m)\u001b[0m \u001b[0;34m==\u001b[0m \u001b[0;36m0\u001b[0m\u001b[0;34m:\u001b[0m\u001b[0;34m\u001b[0m\u001b[0;34m\u001b[0m\u001b[0m\n",
      "\u001b[0;31mAssertionError\u001b[0m: Torch not compiled with CUDA enabled"
     ]
    }
   ],
   "source": [
    "# Initialize PyTorch’s CUDA state. You may need to call this explicitly if you are interacting \n",
    "# with PyTorch via its C API\n",
    "\n",
    "torch.cuda.init()"
   ]
  },
  {
   "cell_type": "code",
   "execution_count": 61,
   "metadata": {},
   "outputs": [
    {
     "data": {
      "text/plain": [
       "0"
      ]
     },
     "execution_count": 61,
     "metadata": {},
     "output_type": "execute_result"
    }
   ],
   "source": [
    "torch.cuda.current_device()"
   ]
  },
  {
   "cell_type": "code",
   "execution_count": 62,
   "metadata": {},
   "outputs": [
    {
     "data": {
      "text/plain": [
       "2"
      ]
     },
     "execution_count": 62,
     "metadata": {},
     "output_type": "execute_result"
    }
   ],
   "source": [
    "torch.cuda.device_count()"
   ]
  },
  {
   "cell_type": "code",
   "execution_count": 63,
   "metadata": {},
   "outputs": [
    {
     "data": {
      "text/plain": [
       "7168"
      ]
     },
     "execution_count": 63,
     "metadata": {},
     "output_type": "execute_result"
    }
   ],
   "source": [
    "torch.cuda.memory_allocated()"
   ]
  },
  {
   "cell_type": "code",
   "execution_count": 64,
   "metadata": {},
   "outputs": [
    {
     "data": {
      "text/plain": [
       "1048576"
      ]
     },
     "execution_count": 64,
     "metadata": {},
     "output_type": "execute_result"
    }
   ],
   "source": [
    "torch.cuda.memory_cached() #Behind the scenes Pytorch uses a caching memory allocator to speed up memory allocations \n",
    "#this allows fast memory deallocation withput device synchronizations"
   ]
  },
  {
   "cell_type": "code",
   "execution_count": 156,
   "metadata": {},
   "outputs": [
    {
     "data": {
      "text/plain": [
       "device(type='cuda')"
      ]
     },
     "execution_count": 156,
     "metadata": {},
     "output_type": "execute_result"
    }
   ],
   "source": [
    "cuda = torch.device('cuda') #device context manager\n",
    "\n",
    "cuda"
   ]
  },
  {
   "cell_type": "code",
   "execution_count": 158,
   "metadata": {},
   "outputs": [],
   "source": [
    "cuda0 = torch.device('cuda:0')\n",
    "cuda1 = torch.device('cuda:1')\n",
    "cuda2 = torch.device('cuda:2')"
   ]
  },
  {
   "cell_type": "code",
   "execution_count": 67,
   "metadata": {},
   "outputs": [
    {
     "data": {
      "text/plain": [
       "(device(type='cuda', index=0),\n",
       " device(type='cuda', index=1),\n",
       " device(type='cuda', index=2))"
      ]
     },
     "execution_count": 67,
     "metadata": {},
     "output_type": "execute_result"
    }
   ],
   "source": [
    "cuda0, cuda1, cuda2"
   ]
  },
  {
   "cell_type": "code",
   "execution_count": 91,
   "metadata": {},
   "outputs": [
    {
     "data": {
      "text/plain": [
       "tensor([10., 20.])"
      ]
     },
     "execution_count": 91,
     "metadata": {},
     "output_type": "execute_result"
    }
   ],
   "source": [
    "x = torch.tensor([10., 20.])\n",
    "\n",
    "x"
   ]
  },
  {
   "cell_type": "code",
   "execution_count": 69,
   "metadata": {},
   "outputs": [
    {
     "data": {
      "text/plain": [
       "tensor([10., 20.], device='cuda:0')"
      ]
     },
     "execution_count": 69,
     "metadata": {},
     "output_type": "execute_result"
    }
   ],
   "source": [
    "x_default = torch.tensor([10., 20.], device=cuda)\n",
    "\n",
    "x_default"
   ]
  },
  {
   "cell_type": "code",
   "execution_count": 159,
   "metadata": {},
   "outputs": [
    {
     "data": {
      "text/plain": [
       "tensor([10., 20.], device='cuda:0')"
      ]
     },
     "execution_count": 159,
     "metadata": {},
     "output_type": "execute_result"
    }
   ],
   "source": [
    "x0 = torch.tensor([10., 20.], device=cuda0)\n",
    "\n",
    "x0"
   ]
  },
  {
   "cell_type": "code",
   "execution_count": 71,
   "metadata": {},
   "outputs": [
    {
     "data": {
      "text/plain": [
       "tensor([10., 20.], device='cuda:1')"
      ]
     },
     "execution_count": 71,
     "metadata": {},
     "output_type": "execute_result"
    }
   ],
   "source": [
    "x1 = torch.tensor([10., 20.], device=cuda1)\n",
    "\n",
    "x1"
   ]
  },
  {
   "cell_type": "code",
   "execution_count": 72,
   "metadata": {},
   "outputs": [
    {
     "ename": "RuntimeError",
     "evalue": "CUDA error: invalid device ordinal",
     "output_type": "error",
     "traceback": [
      "\u001b[0;31m---------------------------------------------------------------------------\u001b[0m",
      "\u001b[0;31mRuntimeError\u001b[0m                              Traceback (most recent call last)",
      "\u001b[0;32m<ipython-input-72-66f6bd885e23>\u001b[0m in \u001b[0;36m<module>\u001b[0;34m\u001b[0m\n\u001b[0;32m----> 1\u001b[0;31m \u001b[0mx2\u001b[0m \u001b[0;34m=\u001b[0m \u001b[0mtorch\u001b[0m\u001b[0;34m.\u001b[0m\u001b[0mtensor\u001b[0m\u001b[0;34m(\u001b[0m\u001b[0;34m[\u001b[0m\u001b[0;36m10.\u001b[0m\u001b[0;34m,\u001b[0m \u001b[0;36m20.\u001b[0m\u001b[0;34m]\u001b[0m\u001b[0;34m,\u001b[0m \u001b[0mdevice\u001b[0m\u001b[0;34m=\u001b[0m\u001b[0mcuda2\u001b[0m\u001b[0;34m)\u001b[0m\u001b[0;34m\u001b[0m\u001b[0;34m\u001b[0m\u001b[0m\n\u001b[0m\u001b[1;32m      2\u001b[0m \u001b[0;34m\u001b[0m\u001b[0m\n\u001b[1;32m      3\u001b[0m \u001b[0mx2\u001b[0m\u001b[0;34m\u001b[0m\u001b[0;34m\u001b[0m\u001b[0m\n",
      "\u001b[0;31mRuntimeError\u001b[0m: CUDA error: invalid device ordinal"
     ]
    }
   ],
   "source": [
    "x2 = torch.tensor([10., 20.], device=cuda2)\n",
    "\n",
    "x2"
   ]
  },
  {
   "cell_type": "markdown",
   "metadata": {},
   "source": [
    "### Returns a copy of this object in CUDA memory.\n",
    "\n",
    "If this object is already in CUDA memory and on the correct device, then no copy is performed and the original object is returned."
   ]
  },
  {
   "cell_type": "code",
   "execution_count": 92,
   "metadata": {},
   "outputs": [
    {
     "data": {
      "text/plain": [
       "tensor([10., 20.], device='cuda:0')"
      ]
     },
     "execution_count": 92,
     "metadata": {},
     "output_type": "execute_result"
    }
   ],
   "source": [
    "# Transferring a tensor from CPU to GPU 0\n",
    "y = x.cuda()\n",
    "\n",
    "y"
   ]
  },
  {
   "cell_type": "code",
   "execution_count": 74,
   "metadata": {},
   "outputs": [
    {
     "data": {
      "text/plain": [
       "tensor([10., 20.], device='cuda:0')"
      ]
     },
     "execution_count": 74,
     "metadata": {},
     "output_type": "execute_result"
    }
   ],
   "source": [
    "# Transferring a tensor from GPU 1 to GPU 0\n",
    "y0 = x1.cuda()\n",
    "\n",
    "y0"
   ]
  },
  {
   "cell_type": "code",
   "execution_count": 75,
   "metadata": {},
   "outputs": [
    {
     "name": "stdout",
     "output_type": "stream",
     "text": [
      "Outside with context:  0\n",
      "Inside with context:  1\n",
      "Outside with context again:  0\n"
     ]
    }
   ],
   "source": [
    "print('Outside with context: ', torch.cuda.current_device())\n",
    "\n",
    "with torch.cuda.device(1):\n",
    "    \n",
    "    print('Inside with context: ', torch.cuda.current_device())\n",
    "\n",
    "print('Outside with context again: ', torch.cuda.current_device())"
   ]
  },
  {
   "cell_type": "code",
   "execution_count": 76,
   "metadata": {},
   "outputs": [],
   "source": [
    "with torch.cuda.device(1):\n",
    "    \n",
    "    a = torch.tensor([10., 20.])\n",
    "    \n",
    "    a0 = torch.tensor([10., 20.], device=cuda0)\n",
    "    \n",
    "    a1 = torch.tensor([10., 20.], device=cuda)"
   ]
  },
  {
   "cell_type": "code",
   "execution_count": 77,
   "metadata": {},
   "outputs": [
    {
     "data": {
      "text/plain": [
       "tensor([10., 20.])"
      ]
     },
     "execution_count": 77,
     "metadata": {},
     "output_type": "execute_result"
    }
   ],
   "source": [
    "a"
   ]
  },
  {
   "cell_type": "code",
   "execution_count": 78,
   "metadata": {},
   "outputs": [
    {
     "data": {
      "text/plain": [
       "tensor([10., 20.], device='cuda:0')"
      ]
     },
     "execution_count": 78,
     "metadata": {},
     "output_type": "execute_result"
    }
   ],
   "source": [
    "a0"
   ]
  },
  {
   "cell_type": "code",
   "execution_count": 79,
   "metadata": {},
   "outputs": [
    {
     "data": {
      "text/plain": [
       "tensor([10., 20.], device='cuda:1')"
      ]
     },
     "execution_count": 79,
     "metadata": {},
     "output_type": "execute_result"
    }
   ],
   "source": [
    "a1"
   ]
  },
  {
   "cell_type": "code",
   "execution_count": 80,
   "metadata": {},
   "outputs": [
    {
     "data": {
      "text/plain": [
       "tensor([10., 20.], device='cuda:1')"
      ]
     },
     "execution_count": 80,
     "metadata": {},
     "output_type": "execute_result"
    }
   ],
   "source": [
    "b1 = a0.to(device=cuda1)\n",
    "\n",
    "b1"
   ]
  },
  {
   "cell_type": "code",
   "execution_count": 81,
   "metadata": {},
   "outputs": [
    {
     "ename": "RuntimeError",
     "evalue": "expected type torch.FloatTensor but got torch.cuda.FloatTensor",
     "output_type": "error",
     "traceback": [
      "\u001b[0;31m---------------------------------------------------------------------------\u001b[0m",
      "\u001b[0;31mRuntimeError\u001b[0m                              Traceback (most recent call last)",
      "\u001b[0;32m<ipython-input-81-e4ab1d679b82>\u001b[0m in \u001b[0;36m<module>\u001b[0;34m\u001b[0m\n\u001b[0;32m----> 1\u001b[0;31m \u001b[0msum_a\u001b[0m \u001b[0;34m=\u001b[0m \u001b[0ma\u001b[0m \u001b[0;34m+\u001b[0m \u001b[0ma0\u001b[0m\u001b[0;34m\u001b[0m\u001b[0;34m\u001b[0m\u001b[0m\n\u001b[0m",
      "\u001b[0;31mRuntimeError\u001b[0m: expected type torch.FloatTensor but got torch.cuda.FloatTensor"
     ]
    }
   ],
   "source": [
    "sum_a = a + a0"
   ]
  },
  {
   "cell_type": "code",
   "execution_count": 82,
   "metadata": {},
   "outputs": [
    {
     "ename": "RuntimeError",
     "evalue": "binary_op(): expected both inputs to be on same device, but input a is on cuda:1 and input b is on cuda:0",
     "output_type": "error",
     "traceback": [
      "\u001b[0;31m---------------------------------------------------------------------------\u001b[0m",
      "\u001b[0;31mRuntimeError\u001b[0m                              Traceback (most recent call last)",
      "\u001b[0;32m<ipython-input-82-5bcfa3ec1c09>\u001b[0m in \u001b[0;36m<module>\u001b[0;34m\u001b[0m\n\u001b[0;32m----> 1\u001b[0;31m \u001b[0msum_a\u001b[0m \u001b[0;34m=\u001b[0m \u001b[0ma1\u001b[0m \u001b[0;34m+\u001b[0m \u001b[0ma0\u001b[0m\u001b[0;34m\u001b[0m\u001b[0;34m\u001b[0m\u001b[0m\n\u001b[0m",
      "\u001b[0;31mRuntimeError\u001b[0m: binary_op(): expected both inputs to be on same device, but input a is on cuda:1 and input b is on cuda:0"
     ]
    }
   ],
   "source": [
    "sum_a = a1 + a0"
   ]
  },
  {
   "cell_type": "code",
   "execution_count": 83,
   "metadata": {},
   "outputs": [
    {
     "data": {
      "text/plain": [
       "tensor([20., 40.], device='cuda:1')"
      ]
     },
     "execution_count": 83,
     "metadata": {},
     "output_type": "execute_result"
    }
   ],
   "source": [
    "sum_ax = a1 + x1\n",
    "\n",
    "sum_ax"
   ]
  },
  {
   "cell_type": "code",
   "execution_count": 1,
   "metadata": {},
   "outputs": [
    {
     "ename": "NameError",
     "evalue": "name 'torch' is not defined",
     "output_type": "error",
     "traceback": [
      "\u001b[0;31m---------------------------------------------------------------------------\u001b[0m",
      "\u001b[0;31mNameError\u001b[0m                                 Traceback (most recent call last)",
      "\u001b[0;32m<ipython-input-1-bc076a8448bf>\u001b[0m in \u001b[0;36m<module>\u001b[0;34m\u001b[0m\n\u001b[0;32m----> 1\u001b[0;31m \u001b[0mtorch\u001b[0m\u001b[0;34m.\u001b[0m\u001b[0mcuda\u001b[0m\u001b[0;34m.\u001b[0m\u001b[0mmemory_allocated\u001b[0m\u001b[0;34m(\u001b[0m\u001b[0;34m)\u001b[0m\u001b[0;34m\u001b[0m\u001b[0;34m\u001b[0m\u001b[0m\n\u001b[0m",
      "\u001b[0;31mNameError\u001b[0m: name 'torch' is not defined"
     ]
    }
   ],
   "source": [
    "torch.cuda.memory_allocated()"
   ]
  },
  {
   "cell_type": "code",
   "execution_count": 85,
   "metadata": {},
   "outputs": [
    {
     "data": {
      "text/plain": [
       "1048576"
      ]
     },
     "execution_count": 85,
     "metadata": {},
     "output_type": "execute_result"
    }
   ],
   "source": [
    "torch.cuda.memory_reserved()"
   ]
  },
  {
   "cell_type": "code",
   "execution_count": null,
   "metadata": {},
   "outputs": [],
   "source": [
    "hugeTensor = torch.rand(100,100,100,100).cuda()\n",
    "torch.cuda.memory_allocated()"
   ]
  },
  {
   "cell_type": "code",
   "execution_count": null,
   "metadata": {},
   "outputs": [],
   "source": [
    "torch.cuda.memory_reserved()"
   ]
  },
  {
   "cell_type": "code",
   "execution_count": null,
   "metadata": {},
   "outputs": [],
   "source": [
    "del hugeTensor\n",
    "torch.cuda.memory_allocated()"
   ]
  },
  {
   "cell_type": "code",
   "execution_count": null,
   "metadata": {},
   "outputs": [],
   "source": [
    "torch.cuda.memory_reserved()"
   ]
  },
  {
   "cell_type": "code",
   "execution_count": null,
   "metadata": {},
   "outputs": [],
   "source": [
    "import gc\n",
    "gc.collect()\n",
    "torch.cuda.empty_cache()"
   ]
  },
  {
   "cell_type": "code",
   "execution_count": null,
   "metadata": {},
   "outputs": [],
   "source": [
    "torch.cuda.memory_reserved()"
   ]
  },
  {
   "cell_type": "markdown",
   "metadata": {},
   "source": [
    "### torch.Tensor.new_* functions preserve the type and the device of the original tensor"
   ]
  },
  {
   "cell_type": "code",
   "execution_count": 160,
   "metadata": {},
   "outputs": [
    {
     "data": {
      "text/plain": [
       "tensor([[1.1000, 1.1000],\n",
       "        [1.1000, 1.1000]], device='cuda:0')"
      ]
     },
     "execution_count": 160,
     "metadata": {},
     "output_type": "execute_result"
    }
   ],
   "source": [
    "preserve_context = x.new_full([2, 2], fill_value=1.1)\n",
    "\n",
    "preserve_context"
   ]
  },
  {
   "cell_type": "code",
   "execution_count": 161,
   "metadata": {},
   "outputs": [
    {
     "data": {
      "text/plain": [
       "tensor([[1.1000, 1.1000],\n",
       "        [1.1000, 1.1000]], device='cuda:0')"
      ]
     },
     "execution_count": 161,
     "metadata": {},
     "output_type": "execute_result"
    }
   ],
   "source": [
    "preserve_context0 = x0.new_full([2, 2], fill_value=1.1)\n",
    "\n",
    "preserve_context0"
   ]
  },
  {
   "cell_type": "code",
   "execution_count": 162,
   "metadata": {
    "jupyter": {
     "outputs_hidden": true
    }
   },
   "outputs": [
    {
     "ename": "NameError",
     "evalue": "name 'x1' is not defined",
     "output_type": "error",
     "traceback": [
      "\u001b[0;31m---------------------------------------------------------------------------\u001b[0m",
      "\u001b[0;31mNameError\u001b[0m                                 Traceback (most recent call last)",
      "\u001b[0;32m<ipython-input-162-db21e8e1a364>\u001b[0m in \u001b[0;36m<module>\u001b[0;34m\u001b[0m\n\u001b[0;32m----> 1\u001b[0;31m \u001b[0mpreserve_context1\u001b[0m \u001b[0;34m=\u001b[0m \u001b[0mx1\u001b[0m\u001b[0;34m.\u001b[0m\u001b[0mnew_full\u001b[0m\u001b[0;34m(\u001b[0m\u001b[0;34m[\u001b[0m\u001b[0;36m2\u001b[0m\u001b[0;34m,\u001b[0m \u001b[0;36m2\u001b[0m\u001b[0;34m]\u001b[0m\u001b[0;34m,\u001b[0m \u001b[0mfill_value\u001b[0m\u001b[0;34m=\u001b[0m\u001b[0;36m1.1\u001b[0m\u001b[0;34m)\u001b[0m\u001b[0;34m\u001b[0m\u001b[0;34m\u001b[0m\u001b[0m\n\u001b[0m\u001b[1;32m      2\u001b[0m \u001b[0;34m\u001b[0m\u001b[0m\n\u001b[1;32m      3\u001b[0m \u001b[0mpreserve_context1\u001b[0m\u001b[0;34m\u001b[0m\u001b[0;34m\u001b[0m\u001b[0m\n",
      "\u001b[0;31mNameError\u001b[0m: name 'x1' is not defined"
     ]
    }
   ],
   "source": [
    "preserve_context1 = x1.new_full([2, 2], fill_value=1.1)\n",
    "\n",
    "preserve_context1"
   ]
  },
  {
   "cell_type": "markdown",
   "metadata": {},
   "source": [
    "# PyTorch Vs. Tensorflow\n",
    "<img src=\"1.png\">\n",
    "<img src=\"3.png\">\n",
    "<img src=\"4.png\">\n",
    "<img src=\"5.png\">"
   ]
  },
  {
   "cell_type": "markdown",
   "metadata": {},
   "source": [
    "## Install and setup"
   ]
  },
  {
   "cell_type": "code",
   "execution_count": 163,
   "metadata": {},
   "outputs": [
    {
     "name": "stdout",
     "output_type": "stream",
     "text": [
      "Collecting tensorflow\n",
      "  Downloading tensorflow-2.2.0-cp37-cp37m-manylinux2010_x86_64.whl (516.2 MB)\n",
      "\u001b[K     |████████████████████████████████| 516.2 MB 8.7 kB/s eta 0:00:016   |██                              | 33.7 MB 3.9 MB/s eta 0:02:06     |████████                        | 127.9 MB 6.9 MB/s eta 0:00:57     |██████████████▌                 | 233.5 MB 3.3 MB/s eta 0:01:27     |████████████████████████▏       | 390.6 MB 2.9 MB/s eta 0:00:44     |█████████████████████████▍      | 409.1 MB 3.4 MB/s eta 0:00:32\n",
      "\u001b[?25hCollecting gast==0.3.3\n",
      "  Downloading gast-0.3.3-py2.py3-none-any.whl (9.7 kB)\n",
      "Requirement already satisfied: wrapt>=1.11.1 in /home/hafez/anaconda3/lib/python3.7/site-packages (from tensorflow) (1.11.2)\n",
      "Requirement already satisfied: h5py<2.11.0,>=2.10.0 in /home/hafez/anaconda3/lib/python3.7/site-packages (from tensorflow) (2.10.0)\n",
      "Collecting protobuf>=3.8.0\n",
      "  Downloading protobuf-3.12.0-cp37-cp37m-manylinux1_x86_64.whl (1.3 MB)\n",
      "\u001b[K     |████████████████████████████████| 1.3 MB 3.2 MB/s eta 0:00:01\n",
      "\u001b[?25hRequirement already satisfied: wheel>=0.26; python_version >= \"3\" in /home/hafez/anaconda3/lib/python3.7/site-packages (from tensorflow) (0.34.2)\n",
      "Collecting tensorboard<2.3.0,>=2.2.0\n",
      "  Downloading tensorboard-2.2.1-py3-none-any.whl (3.0 MB)\n",
      "\u001b[K     |████████████████████████████████| 3.0 MB 3.5 MB/s eta 0:00:01\n",
      "\u001b[?25hCollecting grpcio>=1.8.6\n",
      "  Downloading grpcio-1.29.0-cp37-cp37m-manylinux2010_x86_64.whl (3.0 MB)\n",
      "\u001b[K     |████████████████████████████████| 3.0 MB 2.8 MB/s eta 0:00:01\n",
      "\u001b[?25hRequirement already satisfied: six>=1.12.0 in /home/hafez/anaconda3/lib/python3.7/site-packages (from tensorflow) (1.14.0)\n",
      "Collecting absl-py>=0.7.0\n",
      "  Downloading absl-py-0.9.0.tar.gz (104 kB)\n",
      "\u001b[K     |████████████████████████████████| 104 kB 5.0 MB/s eta 0:00:01\n",
      "\u001b[?25hCollecting tensorflow-estimator<2.3.0,>=2.2.0\n",
      "  Downloading tensorflow_estimator-2.2.0-py2.py3-none-any.whl (454 kB)\n",
      "\u001b[K     |████████████████████████████████| 454 kB 5.0 MB/s eta 0:00:01\n",
      "\u001b[?25hCollecting astunparse==1.6.3\n",
      "  Downloading astunparse-1.6.3-py2.py3-none-any.whl (12 kB)\n",
      "Requirement already satisfied: scipy==1.4.1; python_version >= \"3\" in /home/hafez/anaconda3/lib/python3.7/site-packages (from tensorflow) (1.4.1)\n",
      "Collecting google-pasta>=0.1.8\n",
      "  Downloading google_pasta-0.2.0-py3-none-any.whl (57 kB)\n",
      "\u001b[K     |████████████████████████████████| 57 kB 522 kB/s eta 0:00:01\n",
      "\u001b[?25hCollecting opt-einsum>=2.3.2\n",
      "  Downloading opt_einsum-3.2.1-py3-none-any.whl (63 kB)\n",
      "\u001b[K     |████████████████████████████████| 63 kB 299 kB/s eta 0:00:01\n",
      "\u001b[?25hCollecting keras-preprocessing>=1.1.0\n",
      "  Downloading Keras_Preprocessing-1.1.2-py2.py3-none-any.whl (42 kB)\n",
      "\u001b[K     |████████████████████████████████| 42 kB 179 kB/s eta 0:00:01\n",
      "\u001b[?25hRequirement already satisfied: numpy<2.0,>=1.16.0 in /home/hafez/anaconda3/lib/python3.7/site-packages (from tensorflow) (1.18.1)\n",
      "Collecting termcolor>=1.1.0\n",
      "  Downloading termcolor-1.1.0.tar.gz (3.9 kB)\n",
      "Requirement already satisfied: setuptools in /home/hafez/anaconda3/lib/python3.7/site-packages (from protobuf>=3.8.0->tensorflow) (45.2.0.post20200210)\n",
      "Collecting google-auth<2,>=1.6.3\n",
      "  Downloading google_auth-1.14.3-py2.py3-none-any.whl (89 kB)\n",
      "\u001b[K     |████████████████████████████████| 89 kB 3.8 MB/s eta 0:00:01\n",
      "\u001b[?25hRequirement already satisfied: werkzeug>=0.11.15 in /home/hafez/anaconda3/lib/python3.7/site-packages (from tensorboard<2.3.0,>=2.2.0->tensorflow) (1.0.0)\n",
      "Requirement already satisfied: requests<3,>=2.21.0 in /home/hafez/anaconda3/lib/python3.7/site-packages (from tensorboard<2.3.0,>=2.2.0->tensorflow) (2.22.0)\n",
      "Collecting google-auth-oauthlib<0.5,>=0.4.1\n",
      "  Downloading google_auth_oauthlib-0.4.1-py2.py3-none-any.whl (18 kB)\n",
      "Collecting markdown>=2.6.8\n",
      "  Downloading Markdown-3.2.2-py3-none-any.whl (88 kB)\n",
      "\u001b[K     |████████████████████████████████| 88 kB 3.5 MB/s eta 0:00:01\n",
      "\u001b[?25hCollecting tensorboard-plugin-wit>=1.6.0\n",
      "  Downloading tensorboard_plugin_wit-1.6.0.post3-py3-none-any.whl (777 kB)\n",
      "\u001b[K     |████████████████████████████████| 777 kB 4.2 MB/s eta 0:00:01\n",
      "\u001b[?25hCollecting rsa<4.1,>=3.1.4\n",
      "  Downloading rsa-4.0-py2.py3-none-any.whl (38 kB)\n",
      "Collecting cachetools<5.0,>=2.0.0\n",
      "  Downloading cachetools-4.1.0-py3-none-any.whl (10 kB)\n",
      "Collecting pyasn1-modules>=0.2.1\n",
      "  Downloading pyasn1_modules-0.2.8-py2.py3-none-any.whl (155 kB)\n",
      "\u001b[K     |████████████████████████████████| 155 kB 8.3 MB/s eta 0:00:01\n",
      "\u001b[?25hRequirement already satisfied: idna<2.9,>=2.5 in /home/hafez/anaconda3/lib/python3.7/site-packages (from requests<3,>=2.21.0->tensorboard<2.3.0,>=2.2.0->tensorflow) (2.8)\n",
      "Requirement already satisfied: certifi>=2017.4.17 in /home/hafez/anaconda3/lib/python3.7/site-packages (from requests<3,>=2.21.0->tensorboard<2.3.0,>=2.2.0->tensorflow) (2019.11.28)\n",
      "Requirement already satisfied: urllib3!=1.25.0,!=1.25.1,<1.26,>=1.21.1 in /home/hafez/anaconda3/lib/python3.7/site-packages (from requests<3,>=2.21.0->tensorboard<2.3.0,>=2.2.0->tensorflow) (1.25.8)\n",
      "Requirement already satisfied: chardet<3.1.0,>=3.0.2 in /home/hafez/anaconda3/lib/python3.7/site-packages (from requests<3,>=2.21.0->tensorboard<2.3.0,>=2.2.0->tensorflow) (3.0.4)\n",
      "Collecting requests-oauthlib>=0.7.0\n",
      "  Downloading requests_oauthlib-1.3.0-py2.py3-none-any.whl (23 kB)\n",
      "Requirement already satisfied: importlib-metadata; python_version < \"3.8\" in /home/hafez/anaconda3/lib/python3.7/site-packages (from markdown>=2.6.8->tensorboard<2.3.0,>=2.2.0->tensorflow) (1.5.0)\n",
      "Collecting pyasn1>=0.1.3\n",
      "  Downloading pyasn1-0.4.8-py2.py3-none-any.whl (77 kB)\n",
      "\u001b[K     |████████████████████████████████| 77 kB 4.4 MB/s eta 0:00:01\n",
      "\u001b[?25hCollecting oauthlib>=3.0.0\n",
      "  Downloading oauthlib-3.1.0-py2.py3-none-any.whl (147 kB)\n",
      "\u001b[K     |████████████████████████████████| 147 kB 4.9 MB/s eta 0:00:01\n",
      "\u001b[?25hRequirement already satisfied: zipp>=0.5 in /home/hafez/anaconda3/lib/python3.7/site-packages (from importlib-metadata; python_version < \"3.8\"->markdown>=2.6.8->tensorboard<2.3.0,>=2.2.0->tensorflow) (2.2.0)\n",
      "Building wheels for collected packages: absl-py, termcolor\n",
      "  Building wheel for absl-py (setup.py) ... \u001b[?25ldone\n",
      "\u001b[?25h  Created wheel for absl-py: filename=absl_py-0.9.0-py3-none-any.whl size=121931 sha256=9acdf529785cd29a86eeb230c3b49267f6c22c392a2cad678bba5ade0f626aae\n",
      "  Stored in directory: /home/hafez/.cache/pip/wheels/cc/af/1a/498a24d0730ef484019e007bb9e8cef3ac00311a672c049a3e\n",
      "  Building wheel for termcolor (setup.py) ... \u001b[?25ldone\n",
      "\u001b[?25h  Created wheel for termcolor: filename=termcolor-1.1.0-py3-none-any.whl size=4830 sha256=9111d194b3f498c4794ce9deaa83dffc5d3cd8714311fab0e841f7f1c7a78c1f\n",
      "  Stored in directory: /home/hafez/.cache/pip/wheels/3f/e3/ec/8a8336ff196023622fbcb36de0c5a5c218cbb24111d1d4c7f2\n",
      "Successfully built absl-py termcolor\n",
      "Installing collected packages: gast, protobuf, pyasn1, rsa, cachetools, pyasn1-modules, google-auth, absl-py, oauthlib, requests-oauthlib, google-auth-oauthlib, grpcio, markdown, tensorboard-plugin-wit, tensorboard, tensorflow-estimator, astunparse, google-pasta, opt-einsum, keras-preprocessing, termcolor, tensorflow\n",
      "Successfully installed absl-py-0.9.0 astunparse-1.6.3 cachetools-4.1.0 gast-0.3.3 google-auth-1.14.3 google-auth-oauthlib-0.4.1 google-pasta-0.2.0 grpcio-1.29.0 keras-preprocessing-1.1.2 markdown-3.2.2 oauthlib-3.1.0 opt-einsum-3.2.1 protobuf-3.12.0 pyasn1-0.4.8 pyasn1-modules-0.2.8 requests-oauthlib-1.3.0 rsa-4.0 tensorboard-2.2.1 tensorboard-plugin-wit-1.6.0.post3 tensorflow-2.2.0 tensorflow-estimator-2.2.0 termcolor-1.1.0\n"
     ]
    }
   ],
   "source": [
    "!pip install tensorflow"
   ]
  },
  {
   "cell_type": "code",
   "execution_count": 164,
   "metadata": {},
   "outputs": [
    {
     "name": "stdout",
     "output_type": "stream",
     "text": [
      "Collecting graphviz\n",
      "  Downloading graphviz-0.14-py2.py3-none-any.whl (18 kB)\n",
      "Installing collected packages: graphviz\n",
      "Successfully installed graphviz-0.14\n"
     ]
    }
   ],
   "source": [
    "!pip install graphviz"
   ]
  },
  {
   "cell_type": "code",
   "execution_count": 165,
   "metadata": {
    "jupyter": {
     "outputs_hidden": true
    }
   },
   "outputs": [
    {
     "name": "stdout",
     "output_type": "stream",
     "text": [
      "Collecting hiddenlayer\n",
      "  Downloading hiddenlayer-0.3-py3-none-any.whl (19 kB)\n",
      "Installing collected packages: hiddenlayer\n",
      "Successfully installed hiddenlayer-0.3\n"
     ]
    }
   ],
   "source": [
    "!pip install hiddenlayer"
   ]
  },
  {
   "cell_type": "markdown",
   "metadata": {},
   "source": [
    "## Pytorch (Dynamic Computation Graph)"
   ]
  },
  {
   "cell_type": "code",
   "execution_count": 166,
   "metadata": {},
   "outputs": [],
   "source": [
    "W = torch.randn(6)\n",
    "\n",
    "x = torch.tensor([10.0, 10.0, 10.0, 10.0, 10.0, 10.0])\n",
    "\n",
    "b = torch.tensor(3)"
   ]
  },
  {
   "cell_type": "code",
   "execution_count": 167,
   "metadata": {},
   "outputs": [
    {
     "data": {
      "text/plain": [
       "tensor([ 1.7584,  1.0415,  0.8091,  0.5292, -0.0445,  0.0581])"
      ]
     },
     "execution_count": 167,
     "metadata": {},
     "output_type": "execute_result"
    }
   ],
   "source": [
    "W"
   ]
  },
  {
   "cell_type": "code",
   "execution_count": 168,
   "metadata": {},
   "outputs": [],
   "source": [
    "y = W*x + b"
   ]
  },
  {
   "cell_type": "code",
   "execution_count": 169,
   "metadata": {},
   "outputs": [
    {
     "data": {
      "text/plain": [
       "tensor([20.5840, 13.4146, 11.0915,  8.2920,  2.5554,  3.5814])"
      ]
     },
     "execution_count": 169,
     "metadata": {},
     "output_type": "execute_result"
    }
   ],
   "source": [
    "y"
   ]
  },
  {
   "cell_type": "code",
   "execution_count": 170,
   "metadata": {},
   "outputs": [
    {
     "data": {
      "text/plain": [
       "tensor([17.5840, 10.4146,  8.0915,  5.2920, -0.4446,  0.5814])"
      ]
     },
     "execution_count": 170,
     "metadata": {},
     "output_type": "execute_result"
    }
   ],
   "source": [
    "W*x"
   ]
  },
  {
   "cell_type": "code",
   "execution_count": 173,
   "metadata": {},
   "outputs": [
    {
     "data": {
      "text/plain": [
       "tensor(3)"
      ]
     },
     "execution_count": 173,
     "metadata": {},
     "output_type": "execute_result"
    }
   ],
   "source": [
    "b"
   ]
  },
  {
   "cell_type": "code",
   "execution_count": 174,
   "metadata": {},
   "outputs": [],
   "source": [
    "W1 = torch.tensor(6)\n",
    "W2 = torch.tensor(6)\n",
    "W3 = torch.tensor(6)\n",
    "\n",
    "x1 = torch.tensor([2, 2, 2])\n",
    "x2 = torch.tensor([3, 3, 3])\n",
    "x3 = torch.tensor([4, 4, 4])\n",
    "\n",
    "b = torch.tensor(10)"
   ]
  },
  {
   "cell_type": "code",
   "execution_count": 175,
   "metadata": {},
   "outputs": [
    {
     "data": {
      "text/plain": [
       "(tensor(6), tensor(6), tensor(6))"
      ]
     },
     "execution_count": 175,
     "metadata": {},
     "output_type": "execute_result"
    }
   ],
   "source": [
    "W1, W2, W3"
   ]
  },
  {
   "cell_type": "code",
   "execution_count": 176,
   "metadata": {},
   "outputs": [
    {
     "data": {
      "text/plain": [
       "tensor([30, 30, 30])"
      ]
     },
     "execution_count": 176,
     "metadata": {},
     "output_type": "execute_result"
    }
   ],
   "source": [
    "intermediate_value = W1 * x1 + W2 * x2\n",
    "\n",
    "intermediate_value"
   ]
  },
  {
   "cell_type": "code",
   "execution_count": 177,
   "metadata": {},
   "outputs": [
    {
     "data": {
      "text/plain": [
       "tensor([64, 64, 64])"
      ]
     },
     "execution_count": 177,
     "metadata": {},
     "output_type": "execute_result"
    }
   ],
   "source": [
    "final_value = W1 * x1 + W2 * x2 + W3 * x3 + b\n",
    "\n",
    "final_value"
   ]
  },
  {
   "cell_type": "markdown",
   "metadata": {},
   "source": [
    "### Viewing PyTorch computation graphs\n",
    "\n",
    "https://github.com/waleedka/hiddenlayer"
   ]
  },
  {
   "cell_type": "markdown",
   "metadata": {},
   "source": [
    "#### Computation Graph"
   ]
  },
  {
   "cell_type": "code",
   "execution_count": 178,
   "metadata": {},
   "outputs": [],
   "source": [
    "import hiddenlayer as hl"
   ]
  },
  {
   "cell_type": "code",
   "execution_count": 179,
   "metadata": {},
   "outputs": [],
   "source": [
    "x_train = np.array ([[1.7], [2.5], [5.5], [7.9], [8.8],\n",
    "                     [2.4],[2.4], [8.89], [5], [4.4]],\n",
    "                    dtype = np.float32)\n",
    "\n",
    "y_train = np.array ([[1.9], [2.68], [4.22], [8.19], [9.69],\n",
    "                     [3.4],[2.6], [8.8], [5.6], [4.7]],\n",
    "                    dtype = np.float32)"
   ]
  },
  {
   "cell_type": "code",
   "execution_count": 180,
   "metadata": {},
   "outputs": [
    {
     "data": {
      "text/plain": [
       "torch.Size([10, 1])"
      ]
     },
     "execution_count": 180,
     "metadata": {},
     "output_type": "execute_result"
    }
   ],
   "source": [
    "X_train = torch.tensor(x_train)\n",
    "Y_train = torch.tensor(y_train)\n",
    "\n",
    "X_train.shape"
   ]
  },
  {
   "cell_type": "code",
   "execution_count": 181,
   "metadata": {},
   "outputs": [],
   "source": [
    "inp = 1\n",
    "out = 1\n",
    "\n",
    "hid = 100"
   ]
  },
  {
   "cell_type": "code",
   "execution_count": 184,
   "metadata": {},
   "outputs": [],
   "source": [
    "model1 = torch.nn.Sequential(torch.nn.Linear(inp, hid),\n",
    "                             torch.nn.Linear(hid, out))"
   ]
  },
  {
   "cell_type": "code",
   "execution_count": 185,
   "metadata": {},
   "outputs": [
    {
     "data": {
      "image/svg+xml": [
       "<?xml version=\"1.0\" encoding=\"UTF-8\" standalone=\"no\"?>\n",
       "<!DOCTYPE svg PUBLIC \"-//W3C//DTD SVG 1.1//EN\"\n",
       " \"http://www.w3.org/Graphics/SVG/1.1/DTD/svg11.dtd\">\n",
       "<!-- Generated by graphviz version 2.43.0 (0)\n",
       " -->\n",
       "<!-- Title: %3 Pages: 1 -->\n",
       "<svg width=\"198pt\" height=\"116pt\"\n",
       " viewBox=\"0.00 0.00 198.00 116.00\" xmlns=\"http://www.w3.org/2000/svg\" xmlns:xlink=\"http://www.w3.org/1999/xlink\">\n",
       "<g id=\"graph0\" class=\"graph\" transform=\"scale(1 1) rotate(0) translate(72 80)\">\n",
       "<title>%3</title>\n",
       "<polygon fill=\"#ffffff\" stroke=\"transparent\" points=\"-72,36 -72,-80 126,-80 126,36 -72,36\"/>\n",
       "<!-- 18437547486172636806 -->\n",
       "<g id=\"node1\" class=\"node\">\n",
       "<title>18437547486172636806</title>\n",
       "<polygon fill=\"#e8e8e8\" stroke=\"#000000\" points=\"54,-44 0,-44 0,0 54,0 54,-44\"/>\n",
       "<text text-anchor=\"start\" x=\"14\" y=\"-28\" font-family=\"Times\" font-size=\"10.00\" fill=\"#000000\">Linear</text>\n",
       "<text text-anchor=\"start\" x=\"34\" y=\"-7\" font-family=\"Times\" font-size=\"10.00\" fill=\"#000000\">x2</text>\n",
       "</g>\n",
       "</g>\n",
       "</svg>\n"
      ],
      "text/plain": [
       "<hiddenlayer.graph.Graph at 0x7f32084bbb10>"
      ]
     },
     "execution_count": 185,
     "metadata": {},
     "output_type": "execute_result"
    }
   ],
   "source": [
    "hl.build_graph(model1, torch.zeros([10, 1]))"
   ]
  },
  {
   "cell_type": "code",
   "execution_count": 186,
   "metadata": {},
   "outputs": [
    {
     "data": {
      "image/svg+xml": [
       "<?xml version=\"1.0\" encoding=\"UTF-8\" standalone=\"no\"?>\n",
       "<!DOCTYPE svg PUBLIC \"-//W3C//DTD SVG 1.1//EN\"\n",
       " \"http://www.w3.org/Graphics/SVG/1.1/DTD/svg11.dtd\">\n",
       "<!-- Generated by graphviz version 2.43.0 (0)\n",
       " -->\n",
       "<!-- Title: %3 Pages: 1 -->\n",
       "<svg width=\"564pt\" height=\"162pt\"\n",
       " viewBox=\"0.00 0.00 564.00 162.00\" xmlns=\"http://www.w3.org/2000/svg\" xmlns:xlink=\"http://www.w3.org/1999/xlink\">\n",
       "<g id=\"graph0\" class=\"graph\" transform=\"scale(1 1) rotate(0) translate(72 126)\">\n",
       "<title>%3</title>\n",
       "<polygon fill=\"#ffffff\" stroke=\"transparent\" points=\"-72,36 -72,-126 492,-126 492,36 -72,36\"/>\n",
       "<!-- /outputs/5 -->\n",
       "<g id=\"node1\" class=\"node\">\n",
       "<title>/outputs/5</title>\n",
       "<polygon fill=\"#e8e8e8\" stroke=\"#000000\" points=\"57,-90 0,-90 0,-54 57,-54 57,-90\"/>\n",
       "<text text-anchor=\"start\" x=\"8.5\" y=\"-69\" font-family=\"Times\" font-size=\"10.00\" fill=\"#000000\">Transpose</text>\n",
       "</g>\n",
       "<!-- /outputs/6 -->\n",
       "<g id=\"node2\" class=\"node\">\n",
       "<title>/outputs/6</title>\n",
       "<polygon fill=\"#e8e8e8\" stroke=\"#000000\" points=\"147,-90 93,-90 93,-54 147,-54 147,-90\"/>\n",
       "<text text-anchor=\"start\" x=\"103\" y=\"-69\" font-family=\"Times\" font-size=\"10.00\" fill=\"#000000\">MatMul</text>\n",
       "</g>\n",
       "<!-- /outputs/5&#45;&gt;/outputs/6 -->\n",
       "<g id=\"edge1\" class=\"edge\">\n",
       "<title>/outputs/5&#45;&gt;/outputs/6</title>\n",
       "<path fill=\"none\" stroke=\"#000000\" d=\"M57.33,-72C65.35,-72 74.23,-72 82.69,-72\"/>\n",
       "<polygon fill=\"#000000\" stroke=\"#000000\" points=\"82.72,-75.5 92.72,-72 82.72,-68.5 82.72,-75.5\"/>\n",
       "</g>\n",
       "<!-- /outputs/7 -->\n",
       "<g id=\"node3\" class=\"node\">\n",
       "<title>/outputs/7</title>\n",
       "<polygon fill=\"#e8e8e8\" stroke=\"#000000\" points=\"238.5,-90 184.5,-90 184.5,-54 238.5,-54 238.5,-90\"/>\n",
       "<text text-anchor=\"start\" x=\"202.5\" y=\"-69\" font-family=\"Times\" font-size=\"10.00\" fill=\"#000000\">Add</text>\n",
       "</g>\n",
       "<!-- /outputs/6&#45;&gt;/outputs/7 -->\n",
       "<g id=\"edge2\" class=\"edge\">\n",
       "<title>/outputs/6&#45;&gt;/outputs/7</title>\n",
       "<path fill=\"none\" stroke=\"#000000\" d=\"M147.37,-72C155.74,-72 165.16,-72 174.11,-72\"/>\n",
       "<polygon fill=\"#000000\" stroke=\"#000000\" points=\"174.32,-75.5 184.32,-72 174.32,-68.5 174.32,-75.5\"/>\n",
       "</g>\n",
       "<!-- /outputs/9 -->\n",
       "<g id=\"node5\" class=\"node\">\n",
       "<title>/outputs/9</title>\n",
       "<polygon fill=\"#e8e8e8\" stroke=\"#000000\" points=\"330,-63 276,-63 276,-27 330,-27 330,-63\"/>\n",
       "<text text-anchor=\"start\" x=\"286\" y=\"-42\" font-family=\"Times\" font-size=\"10.00\" fill=\"#000000\">MatMul</text>\n",
       "</g>\n",
       "<!-- /outputs/7&#45;&gt;/outputs/9 -->\n",
       "<g id=\"edge3\" class=\"edge\">\n",
       "<title>/outputs/7&#45;&gt;/outputs/9</title>\n",
       "<path fill=\"none\" stroke=\"#000000\" d=\"M238.87,-64.05C247.43,-61.46 257.07,-58.55 266.2,-55.8\"/>\n",
       "<polygon fill=\"#000000\" stroke=\"#000000\" points=\"267.26,-59.14 275.82,-52.9 265.23,-52.44 267.26,-59.14\"/>\n",
       "</g>\n",
       "<!-- /outputs/8 -->\n",
       "<g id=\"node4\" class=\"node\">\n",
       "<title>/outputs/8</title>\n",
       "<polygon fill=\"#e8e8e8\" stroke=\"#000000\" points=\"240,-36 183,-36 183,0 240,0 240,-36\"/>\n",
       "<text text-anchor=\"start\" x=\"191.5\" y=\"-15\" font-family=\"Times\" font-size=\"10.00\" fill=\"#000000\">Transpose</text>\n",
       "</g>\n",
       "<!-- /outputs/8&#45;&gt;/outputs/9 -->\n",
       "<g id=\"edge4\" class=\"edge\">\n",
       "<title>/outputs/8&#45;&gt;/outputs/9</title>\n",
       "<path fill=\"none\" stroke=\"#000000\" d=\"M240.33,-26.39C248.44,-28.84 257.43,-31.55 265.97,-34.13\"/>\n",
       "<polygon fill=\"#000000\" stroke=\"#000000\" points=\"265.13,-37.53 275.72,-37.07 267.15,-30.83 265.13,-37.53\"/>\n",
       "</g>\n",
       "<!-- /outputs/10 -->\n",
       "<g id=\"node6\" class=\"node\">\n",
       "<title>/outputs/10</title>\n",
       "<polygon fill=\"#e8e8e8\" stroke=\"#000000\" points=\"420,-63 366,-63 366,-27 420,-27 420,-63\"/>\n",
       "<text text-anchor=\"start\" x=\"384\" y=\"-42\" font-family=\"Times\" font-size=\"10.00\" fill=\"#000000\">Add</text>\n",
       "</g>\n",
       "<!-- /outputs/9&#45;&gt;/outputs/10 -->\n",
       "<g id=\"edge5\" class=\"edge\">\n",
       "<title>/outputs/9&#45;&gt;/outputs/10</title>\n",
       "<path fill=\"none\" stroke=\"#000000\" d=\"M330.4,-45C338.39,-45 347.31,-45 355.82,-45\"/>\n",
       "<polygon fill=\"#000000\" stroke=\"#000000\" points=\"355.92,-48.5 365.92,-45 355.92,-41.5 355.92,-48.5\"/>\n",
       "</g>\n",
       "</g>\n",
       "</svg>\n"
      ],
      "text/plain": [
       "<hiddenlayer.graph.Graph at 0x7f32084c6f50>"
      ]
     },
     "execution_count": 186,
     "metadata": {},
     "output_type": "execute_result"
    }
   ],
   "source": [
    "hl.build_graph(model1, torch.zeros([1]))"
   ]
  },
  {
   "cell_type": "code",
   "execution_count": 187,
   "metadata": {},
   "outputs": [],
   "source": [
    "model2 = torch.nn.Sequential(torch.nn.Linear(inp, hid),\n",
    "                             torch.nn.Linear(hid, hid),\n",
    "                             torch.nn.Sigmoid(),\n",
    "                             torch.nn.Linear(hid, out))"
   ]
  },
  {
   "cell_type": "code",
   "execution_count": 188,
   "metadata": {},
   "outputs": [
    {
     "data": {
      "image/svg+xml": [
       "<?xml version=\"1.0\" encoding=\"UTF-8\" standalone=\"no\"?>\n",
       "<!DOCTYPE svg PUBLIC \"-//W3C//DTD SVG 1.1//EN\"\n",
       " \"http://www.w3.org/Graphics/SVG/1.1/DTD/svg11.dtd\">\n",
       "<!-- Generated by graphviz version 2.43.0 (0)\n",
       " -->\n",
       "<!-- Title: %3 Pages: 1 -->\n",
       "<svg width=\"378pt\" height=\"116pt\"\n",
       " viewBox=\"0.00 0.00 378.00 116.00\" xmlns=\"http://www.w3.org/2000/svg\" xmlns:xlink=\"http://www.w3.org/1999/xlink\">\n",
       "<g id=\"graph0\" class=\"graph\" transform=\"scale(1 1) rotate(0) translate(72 80)\">\n",
       "<title>%3</title>\n",
       "<polygon fill=\"#ffffff\" stroke=\"transparent\" points=\"-72,36 -72,-80 306,-80 306,36 -72,36\"/>\n",
       "<!-- /outputs/9 -->\n",
       "<g id=\"node1\" class=\"node\">\n",
       "<title>/outputs/9</title>\n",
       "<polygon fill=\"#e8e8e8\" stroke=\"#000000\" points=\"144,-40 90,-40 90,-4 144,-4 144,-40\"/>\n",
       "<text text-anchor=\"start\" x=\"100\" y=\"-19\" font-family=\"Times\" font-size=\"10.00\" fill=\"#000000\">Sigmoid</text>\n",
       "</g>\n",
       "<!-- /outputs/10 -->\n",
       "<g id=\"node2\" class=\"node\">\n",
       "<title>/outputs/10</title>\n",
       "<polygon fill=\"#e8e8e8\" stroke=\"#000000\" points=\"234,-40 180,-40 180,-4 234,-4 234,-40\"/>\n",
       "<text text-anchor=\"start\" x=\"194\" y=\"-19\" font-family=\"Times\" font-size=\"10.00\" fill=\"#000000\">Linear</text>\n",
       "</g>\n",
       "<!-- /outputs/9&#45;&gt;/outputs/10 -->\n",
       "<g id=\"edge1\" class=\"edge\">\n",
       "<title>/outputs/9&#45;&gt;/outputs/10</title>\n",
       "<path fill=\"none\" stroke=\"#000000\" d=\"M144.4,-22C152.39,-22 161.31,-22 169.82,-22\"/>\n",
       "<polygon fill=\"#000000\" stroke=\"#000000\" points=\"169.92,-25.5 179.92,-22 169.92,-18.5 169.92,-25.5\"/>\n",
       "</g>\n",
       "<!-- 423541179996935953 -->\n",
       "<g id=\"node3\" class=\"node\">\n",
       "<title>423541179996935953</title>\n",
       "<polygon fill=\"#e8e8e8\" stroke=\"#000000\" points=\"54,-44 0,-44 0,0 54,0 54,-44\"/>\n",
       "<text text-anchor=\"start\" x=\"14\" y=\"-28\" font-family=\"Times\" font-size=\"10.00\" fill=\"#000000\">Linear</text>\n",
       "<text text-anchor=\"start\" x=\"34\" y=\"-7\" font-family=\"Times\" font-size=\"10.00\" fill=\"#000000\">x2</text>\n",
       "</g>\n",
       "<!-- 423541179996935953&#45;&gt;/outputs/9 -->\n",
       "<g id=\"edge2\" class=\"edge\">\n",
       "<title>423541179996935953&#45;&gt;/outputs/9</title>\n",
       "<path fill=\"none\" stroke=\"#000000\" d=\"M54.4,-22C62.39,-22 71.31,-22 79.82,-22\"/>\n",
       "<polygon fill=\"#000000\" stroke=\"#000000\" points=\"79.92,-25.5 89.92,-22 79.92,-18.5 79.92,-25.5\"/>\n",
       "</g>\n",
       "</g>\n",
       "</svg>\n"
      ],
      "text/plain": [
       "<hiddenlayer.graph.Graph at 0x7f32084d58d0>"
      ]
     },
     "execution_count": 188,
     "metadata": {},
     "output_type": "execute_result"
    }
   ],
   "source": [
    "hl.build_graph(model2, torch.zeros([10, 1]))"
   ]
  },
  {
   "cell_type": "code",
   "execution_count": 189,
   "metadata": {},
   "outputs": [
    {
     "data": {
      "image/svg+xml": [
       "<?xml version=\"1.0\" encoding=\"UTF-8\" standalone=\"no\"?>\n",
       "<!DOCTYPE svg PUBLIC \"-//W3C//DTD SVG 1.1//EN\"\n",
       " \"http://www.w3.org/Graphics/SVG/1.1/DTD/svg11.dtd\">\n",
       "<!-- Generated by graphviz version 2.43.0 (0)\n",
       " -->\n",
       "<!-- Title: %3 Pages: 1 -->\n",
       "<svg width=\"837pt\" height=\"189pt\"\n",
       " viewBox=\"0.00 0.00 837.00 189.00\" xmlns=\"http://www.w3.org/2000/svg\" xmlns:xlink=\"http://www.w3.org/1999/xlink\">\n",
       "<g id=\"graph0\" class=\"graph\" transform=\"scale(1 1) rotate(0) translate(72 153)\">\n",
       "<title>%3</title>\n",
       "<polygon fill=\"#ffffff\" stroke=\"transparent\" points=\"-72,36 -72,-153 765,-153 765,36 -72,36\"/>\n",
       "<!-- /outputs/7 -->\n",
       "<g id=\"node1\" class=\"node\">\n",
       "<title>/outputs/7</title>\n",
       "<polygon fill=\"#e8e8e8\" stroke=\"#000000\" points=\"57,-117 0,-117 0,-81 57,-81 57,-117\"/>\n",
       "<text text-anchor=\"start\" x=\"8.5\" y=\"-96\" font-family=\"Times\" font-size=\"10.00\" fill=\"#000000\">Transpose</text>\n",
       "</g>\n",
       "<!-- /outputs/8 -->\n",
       "<g id=\"node2\" class=\"node\">\n",
       "<title>/outputs/8</title>\n",
       "<polygon fill=\"#e8e8e8\" stroke=\"#000000\" points=\"147,-117 93,-117 93,-81 147,-81 147,-117\"/>\n",
       "<text text-anchor=\"start\" x=\"103\" y=\"-96\" font-family=\"Times\" font-size=\"10.00\" fill=\"#000000\">MatMul</text>\n",
       "</g>\n",
       "<!-- /outputs/7&#45;&gt;/outputs/8 -->\n",
       "<g id=\"edge1\" class=\"edge\">\n",
       "<title>/outputs/7&#45;&gt;/outputs/8</title>\n",
       "<path fill=\"none\" stroke=\"#000000\" d=\"M57.33,-99C65.35,-99 74.23,-99 82.69,-99\"/>\n",
       "<polygon fill=\"#000000\" stroke=\"#000000\" points=\"82.72,-102.5 92.72,-99 82.72,-95.5 82.72,-102.5\"/>\n",
       "</g>\n",
       "<!-- /outputs/9 -->\n",
       "<g id=\"node3\" class=\"node\">\n",
       "<title>/outputs/9</title>\n",
       "<polygon fill=\"#e8e8e8\" stroke=\"#000000\" points=\"238.5,-117 184.5,-117 184.5,-81 238.5,-81 238.5,-117\"/>\n",
       "<text text-anchor=\"start\" x=\"202.5\" y=\"-96\" font-family=\"Times\" font-size=\"10.00\" fill=\"#000000\">Add</text>\n",
       "</g>\n",
       "<!-- /outputs/8&#45;&gt;/outputs/9 -->\n",
       "<g id=\"edge2\" class=\"edge\">\n",
       "<title>/outputs/8&#45;&gt;/outputs/9</title>\n",
       "<path fill=\"none\" stroke=\"#000000\" d=\"M147.37,-99C155.74,-99 165.16,-99 174.11,-99\"/>\n",
       "<polygon fill=\"#000000\" stroke=\"#000000\" points=\"174.32,-102.5 184.32,-99 174.32,-95.5 174.32,-102.5\"/>\n",
       "</g>\n",
       "<!-- /outputs/11 -->\n",
       "<g id=\"node5\" class=\"node\">\n",
       "<title>/outputs/11</title>\n",
       "<polygon fill=\"#e8e8e8\" stroke=\"#000000\" points=\"330,-90 276,-90 276,-54 330,-54 330,-90\"/>\n",
       "<text text-anchor=\"start\" x=\"286\" y=\"-69\" font-family=\"Times\" font-size=\"10.00\" fill=\"#000000\">MatMul</text>\n",
       "</g>\n",
       "<!-- /outputs/9&#45;&gt;/outputs/11 -->\n",
       "<g id=\"edge3\" class=\"edge\">\n",
       "<title>/outputs/9&#45;&gt;/outputs/11</title>\n",
       "<path fill=\"none\" stroke=\"#000000\" d=\"M238.87,-91.05C247.43,-88.46 257.07,-85.55 266.2,-82.8\"/>\n",
       "<polygon fill=\"#000000\" stroke=\"#000000\" points=\"267.26,-86.14 275.82,-79.9 265.23,-79.44 267.26,-86.14\"/>\n",
       "</g>\n",
       "<!-- /outputs/10 -->\n",
       "<g id=\"node4\" class=\"node\">\n",
       "<title>/outputs/10</title>\n",
       "<polygon fill=\"#e8e8e8\" stroke=\"#000000\" points=\"240,-63 183,-63 183,-27 240,-27 240,-63\"/>\n",
       "<text text-anchor=\"start\" x=\"191.5\" y=\"-42\" font-family=\"Times\" font-size=\"10.00\" fill=\"#000000\">Transpose</text>\n",
       "</g>\n",
       "<!-- /outputs/10&#45;&gt;/outputs/11 -->\n",
       "<g id=\"edge4\" class=\"edge\">\n",
       "<title>/outputs/10&#45;&gt;/outputs/11</title>\n",
       "<path fill=\"none\" stroke=\"#000000\" d=\"M240.33,-53.39C248.44,-55.84 257.43,-58.55 265.97,-61.13\"/>\n",
       "<polygon fill=\"#000000\" stroke=\"#000000\" points=\"265.13,-64.53 275.72,-64.07 267.15,-57.83 265.13,-64.53\"/>\n",
       "</g>\n",
       "<!-- /outputs/12 -->\n",
       "<g id=\"node6\" class=\"node\">\n",
       "<title>/outputs/12</title>\n",
       "<polygon fill=\"#e8e8e8\" stroke=\"#000000\" points=\"420,-90 366,-90 366,-54 420,-54 420,-90\"/>\n",
       "<text text-anchor=\"start\" x=\"384\" y=\"-69\" font-family=\"Times\" font-size=\"10.00\" fill=\"#000000\">Add</text>\n",
       "</g>\n",
       "<!-- /outputs/11&#45;&gt;/outputs/12 -->\n",
       "<g id=\"edge5\" class=\"edge\">\n",
       "<title>/outputs/11&#45;&gt;/outputs/12</title>\n",
       "<path fill=\"none\" stroke=\"#000000\" d=\"M330.4,-72C338.39,-72 347.31,-72 355.82,-72\"/>\n",
       "<polygon fill=\"#000000\" stroke=\"#000000\" points=\"355.92,-75.5 365.92,-72 355.92,-68.5 355.92,-75.5\"/>\n",
       "</g>\n",
       "<!-- /outputs/13 -->\n",
       "<g id=\"node7\" class=\"node\">\n",
       "<title>/outputs/13</title>\n",
       "<polygon fill=\"#e8e8e8\" stroke=\"#000000\" points=\"511.5,-90 457.5,-90 457.5,-54 511.5,-54 511.5,-90\"/>\n",
       "<text text-anchor=\"start\" x=\"467.5\" y=\"-69\" font-family=\"Times\" font-size=\"10.00\" fill=\"#000000\">Sigmoid</text>\n",
       "</g>\n",
       "<!-- /outputs/12&#45;&gt;/outputs/13 -->\n",
       "<g id=\"edge6\" class=\"edge\">\n",
       "<title>/outputs/12&#45;&gt;/outputs/13</title>\n",
       "<path fill=\"none\" stroke=\"#000000\" d=\"M420.37,-72C428.74,-72 438.16,-72 447.11,-72\"/>\n",
       "<polygon fill=\"#000000\" stroke=\"#000000\" points=\"447.32,-75.5 457.32,-72 447.32,-68.5 447.32,-75.5\"/>\n",
       "</g>\n",
       "<!-- /outputs/15 -->\n",
       "<g id=\"node9\" class=\"node\">\n",
       "<title>/outputs/15</title>\n",
       "<polygon fill=\"#e8e8e8\" stroke=\"#000000\" points=\"603,-63 549,-63 549,-27 603,-27 603,-63\"/>\n",
       "<text text-anchor=\"start\" x=\"559\" y=\"-42\" font-family=\"Times\" font-size=\"10.00\" fill=\"#000000\">MatMul</text>\n",
       "</g>\n",
       "<!-- /outputs/13&#45;&gt;/outputs/15 -->\n",
       "<g id=\"edge7\" class=\"edge\">\n",
       "<title>/outputs/13&#45;&gt;/outputs/15</title>\n",
       "<path fill=\"none\" stroke=\"#000000\" d=\"M511.87,-64.05C520.43,-61.46 530.07,-58.55 539.2,-55.8\"/>\n",
       "<polygon fill=\"#000000\" stroke=\"#000000\" points=\"540.26,-59.14 548.82,-52.9 538.23,-52.44 540.26,-59.14\"/>\n",
       "</g>\n",
       "<!-- /outputs/14 -->\n",
       "<g id=\"node8\" class=\"node\">\n",
       "<title>/outputs/14</title>\n",
       "<polygon fill=\"#e8e8e8\" stroke=\"#000000\" points=\"513,-36 456,-36 456,0 513,0 513,-36\"/>\n",
       "<text text-anchor=\"start\" x=\"464.5\" y=\"-15\" font-family=\"Times\" font-size=\"10.00\" fill=\"#000000\">Transpose</text>\n",
       "</g>\n",
       "<!-- /outputs/14&#45;&gt;/outputs/15 -->\n",
       "<g id=\"edge8\" class=\"edge\">\n",
       "<title>/outputs/14&#45;&gt;/outputs/15</title>\n",
       "<path fill=\"none\" stroke=\"#000000\" d=\"M513.33,-26.39C521.44,-28.84 530.43,-31.55 538.97,-34.13\"/>\n",
       "<polygon fill=\"#000000\" stroke=\"#000000\" points=\"538.13,-37.53 548.72,-37.07 540.15,-30.83 538.13,-37.53\"/>\n",
       "</g>\n",
       "<!-- /outputs/16 -->\n",
       "<g id=\"node10\" class=\"node\">\n",
       "<title>/outputs/16</title>\n",
       "<polygon fill=\"#e8e8e8\" stroke=\"#000000\" points=\"693,-63 639,-63 639,-27 693,-27 693,-63\"/>\n",
       "<text text-anchor=\"start\" x=\"657\" y=\"-42\" font-family=\"Times\" font-size=\"10.00\" fill=\"#000000\">Add</text>\n",
       "</g>\n",
       "<!-- /outputs/15&#45;&gt;/outputs/16 -->\n",
       "<g id=\"edge9\" class=\"edge\">\n",
       "<title>/outputs/15&#45;&gt;/outputs/16</title>\n",
       "<path fill=\"none\" stroke=\"#000000\" d=\"M603.4,-45C611.39,-45 620.31,-45 628.82,-45\"/>\n",
       "<polygon fill=\"#000000\" stroke=\"#000000\" points=\"628.92,-48.5 638.92,-45 628.92,-41.5 628.92,-48.5\"/>\n",
       "</g>\n",
       "</g>\n",
       "</svg>\n"
      ],
      "text/plain": [
       "<hiddenlayer.graph.Graph at 0x7f32084dae90>"
      ]
     },
     "execution_count": 189,
     "metadata": {},
     "output_type": "execute_result"
    }
   ],
   "source": [
    "hl.build_graph(model2, torch.zeros([1]))"
   ]
  },
  {
   "cell_type": "code",
   "execution_count": 190,
   "metadata": {},
   "outputs": [],
   "source": [
    "inp = 2\n",
    "out = 1\n",
    "\n",
    "hid = 100"
   ]
  },
  {
   "cell_type": "code",
   "execution_count": 191,
   "metadata": {},
   "outputs": [],
   "source": [
    "model3 = torch.nn.Sequential(torch.nn.Linear(inp, hid),\n",
    "                             torch.nn.Linear(hid, hid),\n",
    "                             torch.nn.Sigmoid(),\n",
    "                             torch.nn.Linear(hid, out))"
   ]
  },
  {
   "cell_type": "code",
   "execution_count": 192,
   "metadata": {},
   "outputs": [
    {
     "data": {
      "image/svg+xml": [
       "<?xml version=\"1.0\" encoding=\"UTF-8\" standalone=\"no\"?>\n",
       "<!DOCTYPE svg PUBLIC \"-//W3C//DTD SVG 1.1//EN\"\n",
       " \"http://www.w3.org/Graphics/SVG/1.1/DTD/svg11.dtd\">\n",
       "<!-- Generated by graphviz version 2.43.0 (0)\n",
       " -->\n",
       "<!-- Title: %3 Pages: 1 -->\n",
       "<svg width=\"378pt\" height=\"116pt\"\n",
       " viewBox=\"0.00 0.00 378.00 116.00\" xmlns=\"http://www.w3.org/2000/svg\" xmlns:xlink=\"http://www.w3.org/1999/xlink\">\n",
       "<g id=\"graph0\" class=\"graph\" transform=\"scale(1 1) rotate(0) translate(72 80)\">\n",
       "<title>%3</title>\n",
       "<polygon fill=\"#ffffff\" stroke=\"transparent\" points=\"-72,36 -72,-80 306,-80 306,36 -72,36\"/>\n",
       "<!-- /outputs/9 -->\n",
       "<g id=\"node1\" class=\"node\">\n",
       "<title>/outputs/9</title>\n",
       "<polygon fill=\"#e8e8e8\" stroke=\"#000000\" points=\"144,-40 90,-40 90,-4 144,-4 144,-40\"/>\n",
       "<text text-anchor=\"start\" x=\"100\" y=\"-19\" font-family=\"Times\" font-size=\"10.00\" fill=\"#000000\">Sigmoid</text>\n",
       "</g>\n",
       "<!-- /outputs/10 -->\n",
       "<g id=\"node2\" class=\"node\">\n",
       "<title>/outputs/10</title>\n",
       "<polygon fill=\"#e8e8e8\" stroke=\"#000000\" points=\"234,-40 180,-40 180,-4 234,-4 234,-40\"/>\n",
       "<text text-anchor=\"start\" x=\"194\" y=\"-19\" font-family=\"Times\" font-size=\"10.00\" fill=\"#000000\">Linear</text>\n",
       "</g>\n",
       "<!-- /outputs/9&#45;&gt;/outputs/10 -->\n",
       "<g id=\"edge1\" class=\"edge\">\n",
       "<title>/outputs/9&#45;&gt;/outputs/10</title>\n",
       "<path fill=\"none\" stroke=\"#000000\" d=\"M144.4,-22C152.39,-22 161.31,-22 169.82,-22\"/>\n",
       "<polygon fill=\"#000000\" stroke=\"#000000\" points=\"169.92,-25.5 179.92,-22 169.92,-18.5 169.92,-25.5\"/>\n",
       "</g>\n",
       "<!-- 5887268583927955734 -->\n",
       "<g id=\"node3\" class=\"node\">\n",
       "<title>5887268583927955734</title>\n",
       "<polygon fill=\"#e8e8e8\" stroke=\"#000000\" points=\"54,-44 0,-44 0,0 54,0 54,-44\"/>\n",
       "<text text-anchor=\"start\" x=\"14\" y=\"-28\" font-family=\"Times\" font-size=\"10.00\" fill=\"#000000\">Linear</text>\n",
       "<text text-anchor=\"start\" x=\"34\" y=\"-7\" font-family=\"Times\" font-size=\"10.00\" fill=\"#000000\">x2</text>\n",
       "</g>\n",
       "<!-- 5887268583927955734&#45;&gt;/outputs/9 -->\n",
       "<g id=\"edge2\" class=\"edge\">\n",
       "<title>5887268583927955734&#45;&gt;/outputs/9</title>\n",
       "<path fill=\"none\" stroke=\"#000000\" d=\"M54.4,-22C62.39,-22 71.31,-22 79.82,-22\"/>\n",
       "<polygon fill=\"#000000\" stroke=\"#000000\" points=\"79.92,-25.5 89.92,-22 79.92,-18.5 79.92,-25.5\"/>\n",
       "</g>\n",
       "</g>\n",
       "</svg>\n"
      ],
      "text/plain": [
       "<hiddenlayer.graph.Graph at 0x7f32084db710>"
      ]
     },
     "execution_count": 192,
     "metadata": {},
     "output_type": "execute_result"
    }
   ],
   "source": [
    "hl.build_graph(model3, torch.zeros([10, 2]))"
   ]
  },
  {
   "cell_type": "code",
   "execution_count": 193,
   "metadata": {},
   "outputs": [
    {
     "data": {
      "image/svg+xml": [
       "<?xml version=\"1.0\" encoding=\"UTF-8\" standalone=\"no\"?>\n",
       "<!DOCTYPE svg PUBLIC \"-//W3C//DTD SVG 1.1//EN\"\n",
       " \"http://www.w3.org/Graphics/SVG/1.1/DTD/svg11.dtd\">\n",
       "<!-- Generated by graphviz version 2.43.0 (0)\n",
       " -->\n",
       "<!-- Title: %3 Pages: 1 -->\n",
       "<svg width=\"837pt\" height=\"189pt\"\n",
       " viewBox=\"0.00 0.00 837.00 189.00\" xmlns=\"http://www.w3.org/2000/svg\" xmlns:xlink=\"http://www.w3.org/1999/xlink\">\n",
       "<g id=\"graph0\" class=\"graph\" transform=\"scale(1 1) rotate(0) translate(72 153)\">\n",
       "<title>%3</title>\n",
       "<polygon fill=\"#ffffff\" stroke=\"transparent\" points=\"-72,36 -72,-153 765,-153 765,36 -72,36\"/>\n",
       "<!-- /outputs/7 -->\n",
       "<g id=\"node1\" class=\"node\">\n",
       "<title>/outputs/7</title>\n",
       "<polygon fill=\"#e8e8e8\" stroke=\"#000000\" points=\"57,-117 0,-117 0,-81 57,-81 57,-117\"/>\n",
       "<text text-anchor=\"start\" x=\"8.5\" y=\"-96\" font-family=\"Times\" font-size=\"10.00\" fill=\"#000000\">Transpose</text>\n",
       "</g>\n",
       "<!-- /outputs/8 -->\n",
       "<g id=\"node2\" class=\"node\">\n",
       "<title>/outputs/8</title>\n",
       "<polygon fill=\"#e8e8e8\" stroke=\"#000000\" points=\"147,-117 93,-117 93,-81 147,-81 147,-117\"/>\n",
       "<text text-anchor=\"start\" x=\"103\" y=\"-96\" font-family=\"Times\" font-size=\"10.00\" fill=\"#000000\">MatMul</text>\n",
       "</g>\n",
       "<!-- /outputs/7&#45;&gt;/outputs/8 -->\n",
       "<g id=\"edge1\" class=\"edge\">\n",
       "<title>/outputs/7&#45;&gt;/outputs/8</title>\n",
       "<path fill=\"none\" stroke=\"#000000\" d=\"M57.33,-99C65.35,-99 74.23,-99 82.69,-99\"/>\n",
       "<polygon fill=\"#000000\" stroke=\"#000000\" points=\"82.72,-102.5 92.72,-99 82.72,-95.5 82.72,-102.5\"/>\n",
       "</g>\n",
       "<!-- /outputs/9 -->\n",
       "<g id=\"node3\" class=\"node\">\n",
       "<title>/outputs/9</title>\n",
       "<polygon fill=\"#e8e8e8\" stroke=\"#000000\" points=\"238.5,-117 184.5,-117 184.5,-81 238.5,-81 238.5,-117\"/>\n",
       "<text text-anchor=\"start\" x=\"202.5\" y=\"-96\" font-family=\"Times\" font-size=\"10.00\" fill=\"#000000\">Add</text>\n",
       "</g>\n",
       "<!-- /outputs/8&#45;&gt;/outputs/9 -->\n",
       "<g id=\"edge2\" class=\"edge\">\n",
       "<title>/outputs/8&#45;&gt;/outputs/9</title>\n",
       "<path fill=\"none\" stroke=\"#000000\" d=\"M147.37,-99C155.74,-99 165.16,-99 174.11,-99\"/>\n",
       "<polygon fill=\"#000000\" stroke=\"#000000\" points=\"174.32,-102.5 184.32,-99 174.32,-95.5 174.32,-102.5\"/>\n",
       "</g>\n",
       "<!-- /outputs/11 -->\n",
       "<g id=\"node5\" class=\"node\">\n",
       "<title>/outputs/11</title>\n",
       "<polygon fill=\"#e8e8e8\" stroke=\"#000000\" points=\"330,-90 276,-90 276,-54 330,-54 330,-90\"/>\n",
       "<text text-anchor=\"start\" x=\"286\" y=\"-69\" font-family=\"Times\" font-size=\"10.00\" fill=\"#000000\">MatMul</text>\n",
       "</g>\n",
       "<!-- /outputs/9&#45;&gt;/outputs/11 -->\n",
       "<g id=\"edge3\" class=\"edge\">\n",
       "<title>/outputs/9&#45;&gt;/outputs/11</title>\n",
       "<path fill=\"none\" stroke=\"#000000\" d=\"M238.87,-91.05C247.43,-88.46 257.07,-85.55 266.2,-82.8\"/>\n",
       "<polygon fill=\"#000000\" stroke=\"#000000\" points=\"267.26,-86.14 275.82,-79.9 265.23,-79.44 267.26,-86.14\"/>\n",
       "</g>\n",
       "<!-- /outputs/10 -->\n",
       "<g id=\"node4\" class=\"node\">\n",
       "<title>/outputs/10</title>\n",
       "<polygon fill=\"#e8e8e8\" stroke=\"#000000\" points=\"240,-63 183,-63 183,-27 240,-27 240,-63\"/>\n",
       "<text text-anchor=\"start\" x=\"191.5\" y=\"-42\" font-family=\"Times\" font-size=\"10.00\" fill=\"#000000\">Transpose</text>\n",
       "</g>\n",
       "<!-- /outputs/10&#45;&gt;/outputs/11 -->\n",
       "<g id=\"edge4\" class=\"edge\">\n",
       "<title>/outputs/10&#45;&gt;/outputs/11</title>\n",
       "<path fill=\"none\" stroke=\"#000000\" d=\"M240.33,-53.39C248.44,-55.84 257.43,-58.55 265.97,-61.13\"/>\n",
       "<polygon fill=\"#000000\" stroke=\"#000000\" points=\"265.13,-64.53 275.72,-64.07 267.15,-57.83 265.13,-64.53\"/>\n",
       "</g>\n",
       "<!-- /outputs/12 -->\n",
       "<g id=\"node6\" class=\"node\">\n",
       "<title>/outputs/12</title>\n",
       "<polygon fill=\"#e8e8e8\" stroke=\"#000000\" points=\"420,-90 366,-90 366,-54 420,-54 420,-90\"/>\n",
       "<text text-anchor=\"start\" x=\"384\" y=\"-69\" font-family=\"Times\" font-size=\"10.00\" fill=\"#000000\">Add</text>\n",
       "</g>\n",
       "<!-- /outputs/11&#45;&gt;/outputs/12 -->\n",
       "<g id=\"edge5\" class=\"edge\">\n",
       "<title>/outputs/11&#45;&gt;/outputs/12</title>\n",
       "<path fill=\"none\" stroke=\"#000000\" d=\"M330.4,-72C338.39,-72 347.31,-72 355.82,-72\"/>\n",
       "<polygon fill=\"#000000\" stroke=\"#000000\" points=\"355.92,-75.5 365.92,-72 355.92,-68.5 355.92,-75.5\"/>\n",
       "</g>\n",
       "<!-- /outputs/13 -->\n",
       "<g id=\"node7\" class=\"node\">\n",
       "<title>/outputs/13</title>\n",
       "<polygon fill=\"#e8e8e8\" stroke=\"#000000\" points=\"511.5,-90 457.5,-90 457.5,-54 511.5,-54 511.5,-90\"/>\n",
       "<text text-anchor=\"start\" x=\"467.5\" y=\"-69\" font-family=\"Times\" font-size=\"10.00\" fill=\"#000000\">Sigmoid</text>\n",
       "</g>\n",
       "<!-- /outputs/12&#45;&gt;/outputs/13 -->\n",
       "<g id=\"edge6\" class=\"edge\">\n",
       "<title>/outputs/12&#45;&gt;/outputs/13</title>\n",
       "<path fill=\"none\" stroke=\"#000000\" d=\"M420.37,-72C428.74,-72 438.16,-72 447.11,-72\"/>\n",
       "<polygon fill=\"#000000\" stroke=\"#000000\" points=\"447.32,-75.5 457.32,-72 447.32,-68.5 447.32,-75.5\"/>\n",
       "</g>\n",
       "<!-- /outputs/15 -->\n",
       "<g id=\"node9\" class=\"node\">\n",
       "<title>/outputs/15</title>\n",
       "<polygon fill=\"#e8e8e8\" stroke=\"#000000\" points=\"603,-63 549,-63 549,-27 603,-27 603,-63\"/>\n",
       "<text text-anchor=\"start\" x=\"559\" y=\"-42\" font-family=\"Times\" font-size=\"10.00\" fill=\"#000000\">MatMul</text>\n",
       "</g>\n",
       "<!-- /outputs/13&#45;&gt;/outputs/15 -->\n",
       "<g id=\"edge7\" class=\"edge\">\n",
       "<title>/outputs/13&#45;&gt;/outputs/15</title>\n",
       "<path fill=\"none\" stroke=\"#000000\" d=\"M511.87,-64.05C520.43,-61.46 530.07,-58.55 539.2,-55.8\"/>\n",
       "<polygon fill=\"#000000\" stroke=\"#000000\" points=\"540.26,-59.14 548.82,-52.9 538.23,-52.44 540.26,-59.14\"/>\n",
       "</g>\n",
       "<!-- /outputs/14 -->\n",
       "<g id=\"node8\" class=\"node\">\n",
       "<title>/outputs/14</title>\n",
       "<polygon fill=\"#e8e8e8\" stroke=\"#000000\" points=\"513,-36 456,-36 456,0 513,0 513,-36\"/>\n",
       "<text text-anchor=\"start\" x=\"464.5\" y=\"-15\" font-family=\"Times\" font-size=\"10.00\" fill=\"#000000\">Transpose</text>\n",
       "</g>\n",
       "<!-- /outputs/14&#45;&gt;/outputs/15 -->\n",
       "<g id=\"edge8\" class=\"edge\">\n",
       "<title>/outputs/14&#45;&gt;/outputs/15</title>\n",
       "<path fill=\"none\" stroke=\"#000000\" d=\"M513.33,-26.39C521.44,-28.84 530.43,-31.55 538.97,-34.13\"/>\n",
       "<polygon fill=\"#000000\" stroke=\"#000000\" points=\"538.13,-37.53 548.72,-37.07 540.15,-30.83 538.13,-37.53\"/>\n",
       "</g>\n",
       "<!-- /outputs/16 -->\n",
       "<g id=\"node10\" class=\"node\">\n",
       "<title>/outputs/16</title>\n",
       "<polygon fill=\"#e8e8e8\" stroke=\"#000000\" points=\"693,-63 639,-63 639,-27 693,-27 693,-63\"/>\n",
       "<text text-anchor=\"start\" x=\"657\" y=\"-42\" font-family=\"Times\" font-size=\"10.00\" fill=\"#000000\">Add</text>\n",
       "</g>\n",
       "<!-- /outputs/15&#45;&gt;/outputs/16 -->\n",
       "<g id=\"edge9\" class=\"edge\">\n",
       "<title>/outputs/15&#45;&gt;/outputs/16</title>\n",
       "<path fill=\"none\" stroke=\"#000000\" d=\"M603.4,-45C611.39,-45 620.31,-45 628.82,-45\"/>\n",
       "<polygon fill=\"#000000\" stroke=\"#000000\" points=\"628.92,-48.5 638.92,-45 628.92,-41.5 628.92,-48.5\"/>\n",
       "</g>\n",
       "</g>\n",
       "</svg>\n"
      ],
      "text/plain": [
       "<hiddenlayer.graph.Graph at 0x7f32084e3b10>"
      ]
     },
     "execution_count": 193,
     "metadata": {},
     "output_type": "execute_result"
    }
   ],
   "source": [
    "hl.build_graph(model3, torch.zeros([2]))"
   ]
  },
  {
   "cell_type": "markdown",
   "metadata": {},
   "source": [
    "## Tensorflow (Static Computation Graph)"
   ]
  },
  {
   "cell_type": "code",
   "execution_count": 89,
   "metadata": {},
   "outputs": [
    {
     "name": "stdout",
     "output_type": "stream",
     "text": [
      "WARNING:tensorflow:From /home/hafez/anaconda3/lib/python3.7/site-packages/tensorflow/python/compat/v2_compat.py:96: disable_resource_variables (from tensorflow.python.ops.variable_scope) is deprecated and will be removed in a future version.\n",
      "Instructions for updating:\n",
      "non-resource variables are not supported in the long term\n"
     ]
    }
   ],
   "source": [
    "import tensorflow.compat.v1 as tf\n",
    "tf.disable_v2_behavior() "
   ]
  },
  {
   "cell_type": "markdown",
   "metadata": {},
   "source": [
    "- w is a tensorflow variable\n",
    "- x is a placeholder\n",
    "- b is a constant"
   ]
  },
  {
   "cell_type": "code",
   "execution_count": 92,
   "metadata": {},
   "outputs": [],
   "source": [
    "W = tf.Variable(6, name = 'var_W') #trainable \n",
    "\n",
    "x = tf.placeholder(tf.int32, shape = [3] ,name = 'x') #No initial value, the value will be fed in when we execute the computation graph\n",
    "\n",
    "b = tf.constant(3, name = 'constant_b')#cannot change"
   ]
  },
  {
   "cell_type": "code",
   "execution_count": 93,
   "metadata": {},
   "outputs": [
    {
     "data": {
      "text/plain": [
       "<tf.Variable 'var_W_1:0' shape=() dtype=int32_ref>"
      ]
     },
     "execution_count": 93,
     "metadata": {},
     "output_type": "execute_result"
    }
   ],
   "source": [
    "W #you cannot see the detail of actual content"
   ]
  },
  {
   "cell_type": "code",
   "execution_count": 94,
   "metadata": {},
   "outputs": [
    {
     "data": {
      "text/plain": [
       "<tf.Tensor 'x_1:0' shape=(3,) dtype=int32>"
      ]
     },
     "execution_count": 94,
     "metadata": {},
     "output_type": "execute_result"
    }
   ],
   "source": [
    "x"
   ]
  },
  {
   "cell_type": "code",
   "execution_count": 95,
   "metadata": {},
   "outputs": [
    {
     "data": {
      "text/plain": [
       "<tf.Tensor 'constant_b_1:0' shape=() dtype=int32>"
      ]
     },
     "execution_count": 95,
     "metadata": {},
     "output_type": "execute_result"
    }
   ],
   "source": [
    "b"
   ]
  },
  {
   "cell_type": "code",
   "execution_count": 96,
   "metadata": {},
   "outputs": [],
   "source": [
    "y = W*x + b # we define the computational graph but we have not execute it yet"
   ]
  },
  {
   "cell_type": "markdown",
   "metadata": {},
   "source": [
    "#### We can't see any values that these variables hold because the graph hasnt been executed yet"
   ]
  },
  {
   "cell_type": "code",
   "execution_count": 97,
   "metadata": {},
   "outputs": [
    {
     "data": {
      "text/plain": [
       "<tf.Tensor 'add:0' shape=(3,) dtype=int32>"
      ]
     },
     "execution_count": 97,
     "metadata": {},
     "output_type": "execute_result"
    }
   ],
   "source": [
    "y"
   ]
  },
  {
   "cell_type": "markdown",
   "metadata": {},
   "source": [
    "#### Initialize global variables"
   ]
  },
  {
   "cell_type": "code",
   "execution_count": 98,
   "metadata": {},
   "outputs": [],
   "source": [
    "init = tf.global_variables_initializer()"
   ]
  },
  {
   "cell_type": "markdown",
   "metadata": {},
   "source": [
    "#### A Session object encapsulates the environment in which Operation objects are executed, and Tensor objects are evaluated."
   ]
  },
  {
   "cell_type": "code",
   "execution_count": 99,
   "metadata": {},
   "outputs": [
    {
     "name": "stdout",
     "output_type": "stream",
     "text": [
      "Wx+b =  [ 63 123 183]\n"
     ]
    }
   ],
   "source": [
    "with tf.Session( )as sess: # a bridge between client program (python) and the c++ runtime used to exec TF\n",
    "    sess.run(init)\n",
    "    \n",
    "    y_result = sess.run(y, feed_dict = {x:[10, 20, 30]}) #batch wise!\n",
    "    \n",
    "    print(\"Wx+b = \", y_result)"
   ]
  },
  {
   "cell_type": "markdown",
   "metadata": {},
   "source": [
    "#### The FileWriter class provides a mechanism to create an event file in a given directory and add summaries and events to it\n",
    "graphs directory is created in the current working directory "
   ]
  },
  {
   "cell_type": "code",
   "execution_count": 101,
   "metadata": {},
   "outputs": [],
   "source": [
    "writer = tf.summary.FileWriter('./graphs', sess.graph)"
   ]
  },
  {
   "cell_type": "markdown",
   "metadata": {},
   "source": [
    "To go to the tensorboard run the following command in your Terminal\n",
    "\n",
    "#### tensorboard --logdir=graphs"
   ]
  },
  {
   "cell_type": "markdown",
   "metadata": {},
   "source": [
    "#### its a good practice to close the session and writer"
   ]
  },
  {
   "cell_type": "code",
   "execution_count": 102,
   "metadata": {},
   "outputs": [],
   "source": [
    "writer.close()"
   ]
  },
  {
   "cell_type": "markdown",
   "metadata": {},
   "source": [
    "#### Returns the default graph for the current thread."
   ]
  },
  {
   "cell_type": "code",
   "execution_count": 103,
   "metadata": {},
   "outputs": [],
   "source": [
    "graph = tf.get_default_graph()"
   ]
  },
  {
   "cell_type": "code",
   "execution_count": 104,
   "metadata": {},
   "outputs": [
    {
     "name": "stdout",
     "output_type": "stream",
     "text": [
      "[<tf.Operation 'var_W/initial_value' type=Const>, <tf.Operation 'var_W' type=VariableV2>, <tf.Operation 'var_W/Assign' type=Assign>, <tf.Operation 'var_W/read' type=Identity>, <tf.Operation 'x' type=Placeholder>, <tf.Operation 'constant_b' type=Const>, <tf.Operation 'var_W_1/initial_value' type=Const>, <tf.Operation 'var_W_1' type=VariableV2>, <tf.Operation 'var_W_1/Assign' type=Assign>, <tf.Operation 'var_W_1/read' type=Identity>, <tf.Operation 'x_1' type=Placeholder>, <tf.Operation 'constant_b_1' type=Const>, <tf.Operation 'mul' type=Mul>, <tf.Operation 'add' type=AddV2>, <tf.Operation 'init' type=NoOp>]\n"
     ]
    }
   ],
   "source": [
    "print(graph.get_operations())"
   ]
  },
  {
   "cell_type": "markdown",
   "metadata": {},
   "source": [
    "## Tensorflow (Eager Mode)"
   ]
  },
  {
   "cell_type": "code",
   "execution_count": 1,
   "metadata": {},
   "outputs": [],
   "source": [
    "import numpy as np\n",
    "\n",
    "import tensorflow as tf"
   ]
  },
  {
   "cell_type": "code",
   "execution_count": 2,
   "metadata": {},
   "outputs": [],
   "source": [
    "# tf.enable_eager_execution()"
   ]
  },
  {
   "cell_type": "code",
   "execution_count": 3,
   "metadata": {},
   "outputs": [
    {
     "data": {
      "text/plain": [
       "True"
      ]
     },
     "execution_count": 3,
     "metadata": {},
     "output_type": "execute_result"
    }
   ],
   "source": [
    "tf.executing_eagerly() "
   ]
  },
  {
   "cell_type": "markdown",
   "metadata": {},
   "source": [
    "#### Only variable and constants are compatible with eager execution (No placeholder) "
   ]
  },
  {
   "cell_type": "code",
   "execution_count": 4,
   "metadata": {},
   "outputs": [],
   "source": [
    "W = tf.Variable(6, name = 'var_W')\n",
    "\n",
    "x = tf.constant([10, 10], name = 'x')\n",
    "\n",
    "b = tf.Variable(3, name = 'constant_b')"
   ]
  },
  {
   "cell_type": "code",
   "execution_count": 5,
   "metadata": {},
   "outputs": [
    {
     "data": {
      "text/plain": [
       "<tf.Variable 'var_W:0' shape=() dtype=int32, numpy=6>"
      ]
     },
     "execution_count": 5,
     "metadata": {},
     "output_type": "execute_result"
    }
   ],
   "source": [
    "W"
   ]
  },
  {
   "cell_type": "code",
   "execution_count": 6,
   "metadata": {},
   "outputs": [
    {
     "data": {
      "text/plain": [
       "<tf.Tensor: shape=(2,), dtype=int32, numpy=array([10, 10], dtype=int32)>"
      ]
     },
     "execution_count": 6,
     "metadata": {},
     "output_type": "execute_result"
    }
   ],
   "source": [
    "x"
   ]
  },
  {
   "cell_type": "code",
   "execution_count": 7,
   "metadata": {},
   "outputs": [
    {
     "data": {
      "text/plain": [
       "<tf.Variable 'constant_b:0' shape=() dtype=int32, numpy=3>"
      ]
     },
     "execution_count": 7,
     "metadata": {},
     "output_type": "execute_result"
    }
   ],
   "source": [
    "b"
   ]
  },
  {
   "cell_type": "code",
   "execution_count": 8,
   "metadata": {},
   "outputs": [],
   "source": [
    "y = W * x + b"
   ]
  },
  {
   "cell_type": "code",
   "execution_count": 9,
   "metadata": {},
   "outputs": [
    {
     "data": {
      "text/plain": [
       "<tf.Tensor: shape=(2,), dtype=int32, numpy=array([63, 63], dtype=int32)>"
      ]
     },
     "execution_count": 9,
     "metadata": {},
     "output_type": "execute_result"
    }
   ],
   "source": [
    "y"
   ]
  },
  {
   "cell_type": "code",
   "execution_count": 10,
   "metadata": {},
   "outputs": [
    {
     "name": "stdout",
     "output_type": "stream",
     "text": [
      "tf.Tensor([63 63], shape=(2,), dtype=int32)\n"
     ]
    }
   ],
   "source": [
    "print(y)"
   ]
  },
  {
   "cell_type": "code",
   "execution_count": 11,
   "metadata": {},
   "outputs": [
    {
     "name": "stdout",
     "output_type": "stream",
     "text": [
      "tf.Tensor([60 60], shape=(2,), dtype=int32)\n"
     ]
    }
   ],
   "source": [
    "print(W*x)"
   ]
  },
  {
   "cell_type": "markdown",
   "metadata": {},
   "source": [
    "https://www.tensorflow.org/guide/eager#work_with_graphs"
   ]
  },
  {
   "cell_type": "code",
   "execution_count": 12,
   "metadata": {},
   "outputs": [
    {
     "data": {
      "text/plain": [
       "array([<tf.Tensor: shape=(), dtype=int32, numpy=60>,\n",
       "       <tf.Tensor: shape=(), dtype=int32, numpy=60>], dtype=object)"
      ]
     },
     "execution_count": 12,
     "metadata": {},
     "output_type": "execute_result"
    }
   ],
   "source": [
    "np_result = np.multiply(W, x)\n",
    "\n",
    "np_result"
   ]
  },
  {
   "cell_type": "code",
   "execution_count": 13,
   "metadata": {},
   "outputs": [
    {
     "data": {
      "text/plain": [
       "6"
      ]
     },
     "execution_count": 13,
     "metadata": {},
     "output_type": "execute_result"
    }
   ],
   "source": [
    "W.numpy()"
   ]
  },
  {
   "cell_type": "code",
   "execution_count": 14,
   "metadata": {},
   "outputs": [
    {
     "data": {
      "text/plain": [
       "array([63, 63], dtype=int32)"
      ]
     },
     "execution_count": 14,
     "metadata": {},
     "output_type": "execute_result"
    }
   ],
   "source": [
    "y.numpy()"
   ]
  },
  {
   "cell_type": "markdown",
   "metadata": {},
   "source": [
    "<img src=\"remoteJupyter.jpg\">"
   ]
  },
  {
   "cell_type": "code",
   "execution_count": null,
   "metadata": {},
   "outputs": [],
   "source": [
    "#c.NotebookApp.allow_remote_access = True"
   ]
  },
  {
   "cell_type": "markdown",
   "metadata": {},
   "source": [
    "# THE MNIST DATABASE\n",
    "\n",
    "Official webpage: http://yann.lecun.com/exdb/mnist/\n",
    "\n",
    "The MNIST database contains 60,000 training images and 10,000 testing images. We can flatten this array into a vector of 28x28 = 784 numbers.\n",
    "\n",
    "MNIST is a simple computer vision dataset. It consists of images of handwritten digits like these:\n",
    "\n",
    "<img src=\"MNIST.png\">\n",
    "\n",
    "It also includes labels for each image, telling us which digit it is. For example, the labels for the above images are 5, 0, 4, and 1."
   ]
  },
  {
   "cell_type": "code",
   "execution_count": 15,
   "metadata": {},
   "outputs": [],
   "source": [
    "import torch\n",
    "import torch.nn as nn\n",
    "import torchvision.transforms as transforms\n",
    "import torchvision.datasets as dsets\n",
    "\n",
    "train_dataset= dsets.MNIST(root='./data',train=True,transform=transforms.ToTensor(),download=True)\n",
    "test_dataset= dsets.MNIST(root='./data',train=False,transform=transforms.ToTensor(),download=True)"
   ]
  },
  {
   "cell_type": "code",
   "execution_count": 16,
   "metadata": {},
   "outputs": [
    {
     "data": {
      "text/plain": [
       "60000"
      ]
     },
     "execution_count": 16,
     "metadata": {},
     "output_type": "execute_result"
    }
   ],
   "source": [
    "len(train_dataset)"
   ]
  },
  {
   "cell_type": "code",
   "execution_count": 17,
   "metadata": {},
   "outputs": [
    {
     "data": {
      "text/plain": [
       "10000"
      ]
     },
     "execution_count": 17,
     "metadata": {},
     "output_type": "execute_result"
    }
   ],
   "source": [
    "len(test_dataset)"
   ]
  },
  {
   "cell_type": "code",
   "execution_count": 18,
   "metadata": {},
   "outputs": [
    {
     "data": {
      "text/plain": [
       "torch.Size([1, 28, 28])"
      ]
     },
     "execution_count": 18,
     "metadata": {},
     "output_type": "execute_result"
    }
   ],
   "source": [
    "train_dataset[0][0].size()"
   ]
  },
  {
   "cell_type": "code",
   "execution_count": 19,
   "metadata": {},
   "outputs": [
    {
     "data": {
      "text/plain": [
       "5"
      ]
     },
     "execution_count": 19,
     "metadata": {},
     "output_type": "execute_result"
    }
   ],
   "source": [
    "train_dataset[0][1]"
   ]
  },
  {
   "cell_type": "code",
   "execution_count": 20,
   "metadata": {},
   "outputs": [
    {
     "data": {
      "text/plain": [
       "(1, 28, 28)"
      ]
     },
     "execution_count": 20,
     "metadata": {},
     "output_type": "execute_result"
    }
   ],
   "source": [
    "import matplotlib.pyplot as plt\n",
    "%matplotlib inline\n",
    "train_dataset[0][0].numpy().shape"
   ]
  },
  {
   "cell_type": "code",
   "execution_count": 21,
   "metadata": {},
   "outputs": [
    {
     "data": {
      "text/plain": [
       "<matplotlib.image.AxesImage at 0x7f50c430af10>"
      ]
     },
     "execution_count": 21,
     "metadata": {},
     "output_type": "execute_result"
    },
    {
     "data": {
      "image/png": "[encoded data removed]",
      "text/plain": [
       "<Figure size 432x288 with 1 Axes>"
      ]
     },
     "metadata": {
      "needs_background": "light"
     },
     "output_type": "display_data"
    }
   ],
   "source": [
    "img = train_dataset[0][0].numpy().reshape(28,28)\n",
    "plt.imshow(img,cmap='gray')"
   ]
  },
  {
   "cell_type": "code",
   "execution_count": null,
   "metadata": {},
   "outputs": [],
   "source": []
  },
  {
   "cell_type": "markdown",
   "metadata": {},
   "source": [
    "# Assignment 1\n",
    "\n"
   ]
  },
  {
   "cell_type": "markdown",
   "metadata": {},
   "source": [
    "- Set Jupyter server in your home account so that you can use it remotely (Optional due to Covid-19!)\n",
    "- Build 2 layer network for Logistic Regression Classifier using pure python/numpy \n",
    "    - Input data x : 20 x 784 (20 is the batch size)\n",
    "    - label y : 20 x 10\n",
    "    - Weight Variable W with random_normal initialization\n",
    "    - Bias variable b with zeros\n",
    "    - Use softmax activation => softmax(x.W+b)\n",
    "    - Use OneHot encoding and MSE loss! Not the best way for classification but just for practice \n",
    "    - Train the model on MNIST\n",
    "    - PS: If you dont know how to start see this: http://iamtrask.github.io/2015/07/12/basic-python-network/\n",
    "- Submit your ipython notebook file to farazi@ais.uni-bonn.de with subject: Assignment1"
   ]
  },
  {
   "cell_type": "markdown",
   "metadata": {},
   "source": [
    "## The subject of the mail should be Assignment1 (Otherwise, I might lose it in my inbox)"
   ]
  },
  {
   "cell_type": "code",
   "execution_count": null,
   "metadata": {},
   "outputs": [],
   "source": []
  },
  {
   "cell_type": "markdown",
   "metadata": {},
   "source": [
    "## Refrences:\n",
    "## https://www.pluralsight.com/ (Foundation to PyTorch class)\n",
    "## Pytorch Documents"
   ]
  }
 ],
 "metadata": {
  "kernelspec": {
   "display_name": "Python 3",
   "language": "python",
   "name": "python3"
  },
  "language_info": {
   "codemirror_mode": {
    "name": "ipython",
    "version": 3
   },
   "file_extension": ".py",
   "mimetype": "text/x-python",
   "name": "python",
   "nbconvert_exporter": "python",
   "pygments_lexer": "ipython3",
   "version": "3.7.6"
  }
 },
 "nbformat": 4,
 "nbformat_minor": 4
}
